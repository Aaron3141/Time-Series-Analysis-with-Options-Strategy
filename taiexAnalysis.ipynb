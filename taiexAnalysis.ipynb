{
 "cells": [
  {
   "cell_type": "code",
   "execution_count": 2,
   "metadata": {},
   "outputs": [],
   "source": [
    "# %%\n",
    "import csv\n",
    "import datetime\n",
    "import io\n",
    "import pandas\n",
    "import plotly.graph_objects\n",
    "import seaborn as sns\n",
    "import matplotlib.pyplot as plt\n",
    "from scipy import stats\n",
    "# from pandas.tseries.offsets import *\n",
    "\n",
    "import loguru\n",
    "import requests\n",
    "\n"
   ]
  },
  {
   "cell_type": "code",
   "execution_count": 3,
   "metadata": {},
   "outputs": [
    {
     "output_type": "execute_result",
     "data": {
      "text/plain": "                 Date  OpenPrice  HighestPrice  LowestPrice  ClosePrice  \\\nDate                                                                      \n2018-06-01 2018-06-01   10882.68      10954.67     10876.97    10949.08   \n2018-06-04 2018-06-04   11002.15      11109.50     11002.15    11109.50   \n2018-06-05 2018-06-05   11130.03      11131.08     11054.62    11100.11   \n2018-06-06 2018-06-06   11111.14      11207.15     11111.14    11201.83   \n2018-06-07 2018-06-07   11228.64      11261.68     11188.99    11251.75   \n...               ...        ...           ...          ...         ...   \n2020-06-18 2020-06-18   11534.20      11567.42     11485.39    11548.33   \n2020-06-19 2020-06-19   11557.27      11584.88     11542.37    11549.86   \n2020-06-22 2020-06-22   11553.91      11632.88     11553.91    11572.93   \n2020-06-23 2020-06-23   11618.42      11679.40     11530.85    11612.36   \n2020-06-24 2020-06-24   11647.86      11701.23     11637.79    11660.67   \n\n           day_of_week WEEK ENDING  \nDate                                \n2018-06-01      Friday  2018-06-06  \n2018-06-04      Monday  2018-06-06  \n2018-06-05     Tuesday  2018-06-06  \n2018-06-06   Wednesday  2018-06-06  \n2018-06-07    Thursday  2018-06-13  \n...                ...         ...  \n2020-06-18    Thursday  2020-06-24  \n2020-06-19      Friday  2020-06-24  \n2020-06-22      Monday  2020-06-24  \n2020-06-23     Tuesday  2020-06-24  \n2020-06-24   Wednesday  2020-06-24  \n\n[505 rows x 7 columns]",
      "text/html": "<div>\n<style scoped>\n    .dataframe tbody tr th:only-of-type {\n        vertical-align: middle;\n    }\n\n    .dataframe tbody tr th {\n        vertical-align: top;\n    }\n\n    .dataframe thead th {\n        text-align: right;\n    }\n</style>\n<table border=\"1\" class=\"dataframe\">\n  <thead>\n    <tr style=\"text-align: right;\">\n      <th></th>\n      <th>Date</th>\n      <th>OpenPrice</th>\n      <th>HighestPrice</th>\n      <th>LowestPrice</th>\n      <th>ClosePrice</th>\n      <th>day_of_week</th>\n      <th>WEEK ENDING</th>\n    </tr>\n    <tr>\n      <th>Date</th>\n      <th></th>\n      <th></th>\n      <th></th>\n      <th></th>\n      <th></th>\n      <th></th>\n      <th></th>\n    </tr>\n  </thead>\n  <tbody>\n    <tr>\n      <th>2018-06-01</th>\n      <td>2018-06-01</td>\n      <td>10882.68</td>\n      <td>10954.67</td>\n      <td>10876.97</td>\n      <td>10949.08</td>\n      <td>Friday</td>\n      <td>2018-06-06</td>\n    </tr>\n    <tr>\n      <th>2018-06-04</th>\n      <td>2018-06-04</td>\n      <td>11002.15</td>\n      <td>11109.50</td>\n      <td>11002.15</td>\n      <td>11109.50</td>\n      <td>Monday</td>\n      <td>2018-06-06</td>\n    </tr>\n    <tr>\n      <th>2018-06-05</th>\n      <td>2018-06-05</td>\n      <td>11130.03</td>\n      <td>11131.08</td>\n      <td>11054.62</td>\n      <td>11100.11</td>\n      <td>Tuesday</td>\n      <td>2018-06-06</td>\n    </tr>\n    <tr>\n      <th>2018-06-06</th>\n      <td>2018-06-06</td>\n      <td>11111.14</td>\n      <td>11207.15</td>\n      <td>11111.14</td>\n      <td>11201.83</td>\n      <td>Wednesday</td>\n      <td>2018-06-06</td>\n    </tr>\n    <tr>\n      <th>2018-06-07</th>\n      <td>2018-06-07</td>\n      <td>11228.64</td>\n      <td>11261.68</td>\n      <td>11188.99</td>\n      <td>11251.75</td>\n      <td>Thursday</td>\n      <td>2018-06-13</td>\n    </tr>\n    <tr>\n      <th>...</th>\n      <td>...</td>\n      <td>...</td>\n      <td>...</td>\n      <td>...</td>\n      <td>...</td>\n      <td>...</td>\n      <td>...</td>\n    </tr>\n    <tr>\n      <th>2020-06-18</th>\n      <td>2020-06-18</td>\n      <td>11534.20</td>\n      <td>11567.42</td>\n      <td>11485.39</td>\n      <td>11548.33</td>\n      <td>Thursday</td>\n      <td>2020-06-24</td>\n    </tr>\n    <tr>\n      <th>2020-06-19</th>\n      <td>2020-06-19</td>\n      <td>11557.27</td>\n      <td>11584.88</td>\n      <td>11542.37</td>\n      <td>11549.86</td>\n      <td>Friday</td>\n      <td>2020-06-24</td>\n    </tr>\n    <tr>\n      <th>2020-06-22</th>\n      <td>2020-06-22</td>\n      <td>11553.91</td>\n      <td>11632.88</td>\n      <td>11553.91</td>\n      <td>11572.93</td>\n      <td>Monday</td>\n      <td>2020-06-24</td>\n    </tr>\n    <tr>\n      <th>2020-06-23</th>\n      <td>2020-06-23</td>\n      <td>11618.42</td>\n      <td>11679.40</td>\n      <td>11530.85</td>\n      <td>11612.36</td>\n      <td>Tuesday</td>\n      <td>2020-06-24</td>\n    </tr>\n    <tr>\n      <th>2020-06-24</th>\n      <td>2020-06-24</td>\n      <td>11647.86</td>\n      <td>11701.23</td>\n      <td>11637.79</td>\n      <td>11660.67</td>\n      <td>Wednesday</td>\n      <td>2020-06-24</td>\n    </tr>\n  </tbody>\n</table>\n<p>505 rows × 7 columns</p>\n</div>"
     },
     "metadata": {},
     "execution_count": 3
    }
   ],
   "source": [
    "\n",
    "# mm = int(f'{datetime.date.today():%m}')-1\n",
    "# filepath = f'electricityInfo-{datetime.date.today():%Y}{mm:02}.csv'\n",
    "filepath = f'taiexs-2019.csv'\n",
    "filename = f'{filepath}'\n",
    "\n",
    "df = pandas.read_csv(filepath)\n",
    "df['Date'] = pandas.to_datetime(df['Date'], format='%Y%m%d')\n",
    "df.index = df['Date']\n",
    "# df = df.set_index('Date')\n",
    "# df = df.index >\n",
    "# df.resample('1W').mean()\n",
    "df['day_of_week'] = df['Date'].dt.day_name()\n",
    "# df = df[df['day_of_week']== 'Wednesday']\n",
    "# df['WEEK ENDING'] = (df['Date'] + pandas.tseries.offsets.Week(weekday=2)).apply(lambda x: x.weekday())\n",
    "df['WEEK ENDING'] = df['Date'].where( df['Date'] == (( df['Date'] + pandas.tseries.offsets.Week(weekday=2) ) - pandas.tseries.offsets.Week()), df['Date'] + pandas.tseries.offsets.Week(weekday=2))\n",
    "df"
   ]
  },
  {
   "cell_type": "code",
   "execution_count": 4,
   "metadata": {},
   "outputs": [
    {
     "output_type": "execute_result",
     "data": {
      "text/plain": "                 Date  OpenPrice  HighestPrice  LowestPrice  ClosePrice  \\\nDate                                                                      \n2018-06-04 2018-06-04   11002.15      11109.50     11002.15    11109.50   \n2018-06-06 2018-06-06   11111.14      11207.15     11111.14    11201.83   \n2018-06-11 2018-06-11   11168.99      11186.67     11118.81    11149.23   \n2018-06-13 2018-06-13   11153.20      11188.01     11119.24    11173.21   \n2018-06-20 2018-06-20   10904.80      10969.20     10842.56    10927.44   \n...               ...        ...           ...          ...         ...   \n2020-06-10 2020-06-10   11635.99      11740.90     11621.02    11720.16   \n2020-06-15 2020-06-15   11436.28      11469.84     11299.45    11306.26   \n2020-06-17 2020-06-17   11525.50      11550.32     11482.32    11534.59   \n2020-06-22 2020-06-22   11553.91      11632.88     11553.91    11572.93   \n2020-06-24 2020-06-24   11647.86      11701.23     11637.79    11660.67   \n\n           day_of_week WEEK ENDING  \nDate                                \n2018-06-04      Monday  2018-06-06  \n2018-06-06   Wednesday  2018-06-06  \n2018-06-11      Monday  2018-06-13  \n2018-06-13   Wednesday  2018-06-13  \n2018-06-20   Wednesday  2018-06-20  \n...                ...         ...  \n2020-06-10   Wednesday  2020-06-10  \n2020-06-15      Monday  2020-06-17  \n2020-06-17   Wednesday  2020-06-17  \n2020-06-22      Monday  2020-06-24  \n2020-06-24   Wednesday  2020-06-24  \n\n[204 rows x 7 columns]",
      "text/html": "<div>\n<style scoped>\n    .dataframe tbody tr th:only-of-type {\n        vertical-align: middle;\n    }\n\n    .dataframe tbody tr th {\n        vertical-align: top;\n    }\n\n    .dataframe thead th {\n        text-align: right;\n    }\n</style>\n<table border=\"1\" class=\"dataframe\">\n  <thead>\n    <tr style=\"text-align: right;\">\n      <th></th>\n      <th>Date</th>\n      <th>OpenPrice</th>\n      <th>HighestPrice</th>\n      <th>LowestPrice</th>\n      <th>ClosePrice</th>\n      <th>day_of_week</th>\n      <th>WEEK ENDING</th>\n    </tr>\n    <tr>\n      <th>Date</th>\n      <th></th>\n      <th></th>\n      <th></th>\n      <th></th>\n      <th></th>\n      <th></th>\n      <th></th>\n    </tr>\n  </thead>\n  <tbody>\n    <tr>\n      <th>2018-06-04</th>\n      <td>2018-06-04</td>\n      <td>11002.15</td>\n      <td>11109.50</td>\n      <td>11002.15</td>\n      <td>11109.50</td>\n      <td>Monday</td>\n      <td>2018-06-06</td>\n    </tr>\n    <tr>\n      <th>2018-06-06</th>\n      <td>2018-06-06</td>\n      <td>11111.14</td>\n      <td>11207.15</td>\n      <td>11111.14</td>\n      <td>11201.83</td>\n      <td>Wednesday</td>\n      <td>2018-06-06</td>\n    </tr>\n    <tr>\n      <th>2018-06-11</th>\n      <td>2018-06-11</td>\n      <td>11168.99</td>\n      <td>11186.67</td>\n      <td>11118.81</td>\n      <td>11149.23</td>\n      <td>Monday</td>\n      <td>2018-06-13</td>\n    </tr>\n    <tr>\n      <th>2018-06-13</th>\n      <td>2018-06-13</td>\n      <td>11153.20</td>\n      <td>11188.01</td>\n      <td>11119.24</td>\n      <td>11173.21</td>\n      <td>Wednesday</td>\n      <td>2018-06-13</td>\n    </tr>\n    <tr>\n      <th>2018-06-20</th>\n      <td>2018-06-20</td>\n      <td>10904.80</td>\n      <td>10969.20</td>\n      <td>10842.56</td>\n      <td>10927.44</td>\n      <td>Wednesday</td>\n      <td>2018-06-20</td>\n    </tr>\n    <tr>\n      <th>...</th>\n      <td>...</td>\n      <td>...</td>\n      <td>...</td>\n      <td>...</td>\n      <td>...</td>\n      <td>...</td>\n      <td>...</td>\n    </tr>\n    <tr>\n      <th>2020-06-10</th>\n      <td>2020-06-10</td>\n      <td>11635.99</td>\n      <td>11740.90</td>\n      <td>11621.02</td>\n      <td>11720.16</td>\n      <td>Wednesday</td>\n      <td>2020-06-10</td>\n    </tr>\n    <tr>\n      <th>2020-06-15</th>\n      <td>2020-06-15</td>\n      <td>11436.28</td>\n      <td>11469.84</td>\n      <td>11299.45</td>\n      <td>11306.26</td>\n      <td>Monday</td>\n      <td>2020-06-17</td>\n    </tr>\n    <tr>\n      <th>2020-06-17</th>\n      <td>2020-06-17</td>\n      <td>11525.50</td>\n      <td>11550.32</td>\n      <td>11482.32</td>\n      <td>11534.59</td>\n      <td>Wednesday</td>\n      <td>2020-06-17</td>\n    </tr>\n    <tr>\n      <th>2020-06-22</th>\n      <td>2020-06-22</td>\n      <td>11553.91</td>\n      <td>11632.88</td>\n      <td>11553.91</td>\n      <td>11572.93</td>\n      <td>Monday</td>\n      <td>2020-06-24</td>\n    </tr>\n    <tr>\n      <th>2020-06-24</th>\n      <td>2020-06-24</td>\n      <td>11647.86</td>\n      <td>11701.23</td>\n      <td>11637.79</td>\n      <td>11660.67</td>\n      <td>Wednesday</td>\n      <td>2020-06-24</td>\n    </tr>\n  </tbody>\n</table>\n<p>204 rows × 7 columns</p>\n</div>"
     },
     "metadata": {},
     "execution_count": 4
    }
   ],
   "source": [
    "dfMaT = df[(df['day_of_week']=='Monday') | (df['day_of_week']=='Wednesday')]\n",
    "dfMaT"
   ]
  },
  {
   "cell_type": "code",
   "execution_count": 5,
   "metadata": {
    "tags": []
   },
   "outputs": [],
   "source": [
    "# dfMaT[\"diff\"] = dfMaT.apply(lambda x: df[df[\"Date\"] == x['WEEK ENDING']][\"ClosePrice\"], axis=1)\n",
    "# dfMaT[\"diff\"] = dfMaT.apply(lambda x: df.loc[df[\"Date\"] == x['WEEK ENDING']][\"ClosePrice\"], axis=1)\n",
    "# dfMaT['WEEK ENDING'].map(lambda x: (df[df[\"Date\"] == x][\"ClosePrice\"]))\n",
    "diff = []\n",
    "for i in range(len(dfMaT)):\n",
    "    try:\n",
    "        if dfMaT.iloc[i][\"day_of_week\"] == \"Monday\":\n",
    "            diff.append(abs(dfMaT.iloc[i+1][\"ClosePrice\"] - dfMaT.iloc[i][\"ClosePrice\"]))\n",
    "        else:\n",
    "            diff.append(0)\n",
    "    except:\n",
    "        diff.append(0)\n",
    "dfMaT[\"diff\"] = diff\n",
    "dfMaT\n",
    "dfMaT = dfMaT[(dfMaT['day_of_week']=='Monday')]"
   ]
  },
  {
   "cell_type": "code",
   "execution_count": 6,
   "metadata": {},
   "outputs": [
    {
     "output_type": "execute_result",
     "data": {
      "text/plain": "Date\n2018-06-04       NaN\n2018-06-11     39.73\n2018-06-25   -362.77\n2018-07-02     -8.52\n2018-07-09    -57.66\n               ...  \n2020-05-25    130.63\n2020-06-01    207.84\n2020-06-08    531.30\n2020-06-15   -304.06\n2020-06-22    266.67\nName: ClosePrice, Length: 102, dtype: float64"
     },
     "metadata": {},
     "execution_count": 6
    }
   ],
   "source": [
    "dfMaT[\"ClosePrice\"].diff(periods=1)"
   ]
  },
  {
   "cell_type": "code",
   "execution_count": 5,
   "metadata": {},
   "outputs": [
    {
     "output_type": "execute_result",
     "data": {
      "text/plain": "110.24367346938762"
     },
     "metadata": {},
     "execution_count": 5
    }
   ],
   "source": [
    "dfMaT[\"diff\"].mean()"
   ]
  },
  {
   "cell_type": "code",
   "execution_count": 6,
   "metadata": {},
   "outputs": [
    {
     "output_type": "execute_result",
     "data": {
      "text/plain": "count     98.000000\nmean     110.243673\nstd      135.844657\nmin        1.760000\n25%       37.095000\n50%       62.570000\n75%      133.990000\nmax      763.790000\nName: diff, dtype: float64"
     },
     "metadata": {},
     "execution_count": 6
    }
   ],
   "source": [
    "dfMaT[\"diff\"].describe()"
   ]
  },
  {
   "cell_type": "code",
   "execution_count": 11,
   "metadata": {},
   "outputs": [
    {
     "output_type": "display_data",
     "data": {
      "text/html": "        <script type=\"text/javascript\">\n        window.PlotlyConfig = {MathJaxConfig: 'local'};\n        if (window.MathJax) {MathJax.Hub.Config({SVG: {font: \"STIX-Web\"}});}\n        if (typeof require !== 'undefined') {\n        require.undef(\"plotly\");\n        requirejs.config({\n            paths: {\n                'plotly': ['https://cdn.plot.ly/plotly-latest.min']\n            }\n        });\n        require(['plotly'], function(Plotly) {\n            window._Plotly = Plotly;\n        });\n        }\n        </script>\n        "
     },
     "metadata": {}
    },
    {
     "output_type": "display_data",
     "data": {
      "application/vnd.plotly.v1+json": {
       "config": {
        "plotlyServerURL": "https://plot.ly"
       },
       "data": [
        {
         "histnorm": "probability",
         "type": "histogram",
         "x": [
          92.32999999999993,
          23.979999999999563,
          85.42999999999847,
          56.06999999999971,
          43.44000000000051,
          25.0099999999984,
          18.900000000001455,
          64.58999999999833,
          51.149999999999636,
          32.17000000000007,
          105.15000000000146,
          197.36000000000058,
          30.909999999999854,
          3.2299999999995634,
          28.659999999999854,
          187.85999999999876,
          554.8099999999995,
          78.01999999999862,
          214.88000000000102,
          285.8099999999995,
          18.540000000000873,
          39.32999999999993,
          87.17000000000007,
          118.94999999999891,
          221.13000000000102,
          168.90999999999985,
          4.320000000001528,
          160.71000000000095,
          148.01000000000022,
          55.590000000000146,
          43,
          81.06999999999971,
          86.32999999999993,
          127.17999999999847,
          1.7600000000002183,
          7.270000000000437,
          123.03999999999905,
          38.85999999999876,
          63.220000000001164,
          61.75,
          67.56999999999971,
          121.65999999999985,
          39.93000000000029,
          41.93999999999869,
          26.589999999998327,
          2.4199999999982538,
          58.80999999999949,
          32.349999999998545,
          38.44999999999891,
          49.19000000000051,
          244.79999999999927,
          126.90000000000146,
          151.6899999999987,
          47.26000000000022,
          47.95000000000073,
          8.770000000000437,
          61.92000000000007,
          37.22999999999956,
          44.63000000000102,
          37.04999999999927,
          79.72000000000116,
          22.459999999999127,
          10.789999999999054,
          31.320000000001528,
          45.32999999999993,
          45.100000000000364,
          95.8799999999992,
          55.52000000000044,
          65.26000000000022,
          96.21999999999935,
          40.54999999999927,
          31.420000000000073,
          85.8799999999992,
          7.639999999999418,
          40,
          182.6800000000003,
          14.100000000000364,
          100.01000000000022,
          136.26000000000022,
          21.540000000000873,
          763.789999999999,
          218.70000000000073,
          200.1200000000008,
          4.670000000000073,
          101.25,
          221.89000000000124,
          83.88999999999942,
          499.10000000000036,
          754.7199999999993,
          34.19999999999891,
          318.72999999999956,
          347.9899999999998,
          278.96999999999935,
          204.9499999999989,
          54.5,
          74.98999999999978,
          167.25,
          143.47999999999956
         ]
        }
       ],
       "layout": {
        "template": {
         "data": {
          "bar": [
           {
            "error_x": {
             "color": "#2a3f5f"
            },
            "error_y": {
             "color": "#2a3f5f"
            },
            "marker": {
             "line": {
              "color": "#E5ECF6",
              "width": 0.5
             }
            },
            "type": "bar"
           }
          ],
          "barpolar": [
           {
            "marker": {
             "line": {
              "color": "#E5ECF6",
              "width": 0.5
             }
            },
            "type": "barpolar"
           }
          ],
          "carpet": [
           {
            "aaxis": {
             "endlinecolor": "#2a3f5f",
             "gridcolor": "white",
             "linecolor": "white",
             "minorgridcolor": "white",
             "startlinecolor": "#2a3f5f"
            },
            "baxis": {
             "endlinecolor": "#2a3f5f",
             "gridcolor": "white",
             "linecolor": "white",
             "minorgridcolor": "white",
             "startlinecolor": "#2a3f5f"
            },
            "type": "carpet"
           }
          ],
          "choropleth": [
           {
            "colorbar": {
             "outlinewidth": 0,
             "ticks": ""
            },
            "type": "choropleth"
           }
          ],
          "contour": [
           {
            "colorbar": {
             "outlinewidth": 0,
             "ticks": ""
            },
            "colorscale": [
             [
              0,
              "#0d0887"
             ],
             [
              0.1111111111111111,
              "#46039f"
             ],
             [
              0.2222222222222222,
              "#7201a8"
             ],
             [
              0.3333333333333333,
              "#9c179e"
             ],
             [
              0.4444444444444444,
              "#bd3786"
             ],
             [
              0.5555555555555556,
              "#d8576b"
             ],
             [
              0.6666666666666666,
              "#ed7953"
             ],
             [
              0.7777777777777778,
              "#fb9f3a"
             ],
             [
              0.8888888888888888,
              "#fdca26"
             ],
             [
              1,
              "#f0f921"
             ]
            ],
            "type": "contour"
           }
          ],
          "contourcarpet": [
           {
            "colorbar": {
             "outlinewidth": 0,
             "ticks": ""
            },
            "type": "contourcarpet"
           }
          ],
          "heatmap": [
           {
            "colorbar": {
             "outlinewidth": 0,
             "ticks": ""
            },
            "colorscale": [
             [
              0,
              "#0d0887"
             ],
             [
              0.1111111111111111,
              "#46039f"
             ],
             [
              0.2222222222222222,
              "#7201a8"
             ],
             [
              0.3333333333333333,
              "#9c179e"
             ],
             [
              0.4444444444444444,
              "#bd3786"
             ],
             [
              0.5555555555555556,
              "#d8576b"
             ],
             [
              0.6666666666666666,
              "#ed7953"
             ],
             [
              0.7777777777777778,
              "#fb9f3a"
             ],
             [
              0.8888888888888888,
              "#fdca26"
             ],
             [
              1,
              "#f0f921"
             ]
            ],
            "type": "heatmap"
           }
          ],
          "heatmapgl": [
           {
            "colorbar": {
             "outlinewidth": 0,
             "ticks": ""
            },
            "colorscale": [
             [
              0,
              "#0d0887"
             ],
             [
              0.1111111111111111,
              "#46039f"
             ],
             [
              0.2222222222222222,
              "#7201a8"
             ],
             [
              0.3333333333333333,
              "#9c179e"
             ],
             [
              0.4444444444444444,
              "#bd3786"
             ],
             [
              0.5555555555555556,
              "#d8576b"
             ],
             [
              0.6666666666666666,
              "#ed7953"
             ],
             [
              0.7777777777777778,
              "#fb9f3a"
             ],
             [
              0.8888888888888888,
              "#fdca26"
             ],
             [
              1,
              "#f0f921"
             ]
            ],
            "type": "heatmapgl"
           }
          ],
          "histogram": [
           {
            "marker": {
             "colorbar": {
              "outlinewidth": 0,
              "ticks": ""
             }
            },
            "type": "histogram"
           }
          ],
          "histogram2d": [
           {
            "colorbar": {
             "outlinewidth": 0,
             "ticks": ""
            },
            "colorscale": [
             [
              0,
              "#0d0887"
             ],
             [
              0.1111111111111111,
              "#46039f"
             ],
             [
              0.2222222222222222,
              "#7201a8"
             ],
             [
              0.3333333333333333,
              "#9c179e"
             ],
             [
              0.4444444444444444,
              "#bd3786"
             ],
             [
              0.5555555555555556,
              "#d8576b"
             ],
             [
              0.6666666666666666,
              "#ed7953"
             ],
             [
              0.7777777777777778,
              "#fb9f3a"
             ],
             [
              0.8888888888888888,
              "#fdca26"
             ],
             [
              1,
              "#f0f921"
             ]
            ],
            "type": "histogram2d"
           }
          ],
          "histogram2dcontour": [
           {
            "colorbar": {
             "outlinewidth": 0,
             "ticks": ""
            },
            "colorscale": [
             [
              0,
              "#0d0887"
             ],
             [
              0.1111111111111111,
              "#46039f"
             ],
             [
              0.2222222222222222,
              "#7201a8"
             ],
             [
              0.3333333333333333,
              "#9c179e"
             ],
             [
              0.4444444444444444,
              "#bd3786"
             ],
             [
              0.5555555555555556,
              "#d8576b"
             ],
             [
              0.6666666666666666,
              "#ed7953"
             ],
             [
              0.7777777777777778,
              "#fb9f3a"
             ],
             [
              0.8888888888888888,
              "#fdca26"
             ],
             [
              1,
              "#f0f921"
             ]
            ],
            "type": "histogram2dcontour"
           }
          ],
          "mesh3d": [
           {
            "colorbar": {
             "outlinewidth": 0,
             "ticks": ""
            },
            "type": "mesh3d"
           }
          ],
          "parcoords": [
           {
            "line": {
             "colorbar": {
              "outlinewidth": 0,
              "ticks": ""
             }
            },
            "type": "parcoords"
           }
          ],
          "pie": [
           {
            "automargin": true,
            "type": "pie"
           }
          ],
          "scatter": [
           {
            "marker": {
             "colorbar": {
              "outlinewidth": 0,
              "ticks": ""
             }
            },
            "type": "scatter"
           }
          ],
          "scatter3d": [
           {
            "line": {
             "colorbar": {
              "outlinewidth": 0,
              "ticks": ""
             }
            },
            "marker": {
             "colorbar": {
              "outlinewidth": 0,
              "ticks": ""
             }
            },
            "type": "scatter3d"
           }
          ],
          "scattercarpet": [
           {
            "marker": {
             "colorbar": {
              "outlinewidth": 0,
              "ticks": ""
             }
            },
            "type": "scattercarpet"
           }
          ],
          "scattergeo": [
           {
            "marker": {
             "colorbar": {
              "outlinewidth": 0,
              "ticks": ""
             }
            },
            "type": "scattergeo"
           }
          ],
          "scattergl": [
           {
            "marker": {
             "colorbar": {
              "outlinewidth": 0,
              "ticks": ""
             }
            },
            "type": "scattergl"
           }
          ],
          "scattermapbox": [
           {
            "marker": {
             "colorbar": {
              "outlinewidth": 0,
              "ticks": ""
             }
            },
            "type": "scattermapbox"
           }
          ],
          "scatterpolar": [
           {
            "marker": {
             "colorbar": {
              "outlinewidth": 0,
              "ticks": ""
             }
            },
            "type": "scatterpolar"
           }
          ],
          "scatterpolargl": [
           {
            "marker": {
             "colorbar": {
              "outlinewidth": 0,
              "ticks": ""
             }
            },
            "type": "scatterpolargl"
           }
          ],
          "scatterternary": [
           {
            "marker": {
             "colorbar": {
              "outlinewidth": 0,
              "ticks": ""
             }
            },
            "type": "scatterternary"
           }
          ],
          "surface": [
           {
            "colorbar": {
             "outlinewidth": 0,
             "ticks": ""
            },
            "colorscale": [
             [
              0,
              "#0d0887"
             ],
             [
              0.1111111111111111,
              "#46039f"
             ],
             [
              0.2222222222222222,
              "#7201a8"
             ],
             [
              0.3333333333333333,
              "#9c179e"
             ],
             [
              0.4444444444444444,
              "#bd3786"
             ],
             [
              0.5555555555555556,
              "#d8576b"
             ],
             [
              0.6666666666666666,
              "#ed7953"
             ],
             [
              0.7777777777777778,
              "#fb9f3a"
             ],
             [
              0.8888888888888888,
              "#fdca26"
             ],
             [
              1,
              "#f0f921"
             ]
            ],
            "type": "surface"
           }
          ],
          "table": [
           {
            "cells": {
             "fill": {
              "color": "#EBF0F8"
             },
             "line": {
              "color": "white"
             }
            },
            "header": {
             "fill": {
              "color": "#C8D4E3"
             },
             "line": {
              "color": "white"
             }
            },
            "type": "table"
           }
          ]
         },
         "layout": {
          "annotationdefaults": {
           "arrowcolor": "#2a3f5f",
           "arrowhead": 0,
           "arrowwidth": 1
          },
          "coloraxis": {
           "colorbar": {
            "outlinewidth": 0,
            "ticks": ""
           }
          },
          "colorscale": {
           "diverging": [
            [
             0,
             "#8e0152"
            ],
            [
             0.1,
             "#c51b7d"
            ],
            [
             0.2,
             "#de77ae"
            ],
            [
             0.3,
             "#f1b6da"
            ],
            [
             0.4,
             "#fde0ef"
            ],
            [
             0.5,
             "#f7f7f7"
            ],
            [
             0.6,
             "#e6f5d0"
            ],
            [
             0.7,
             "#b8e186"
            ],
            [
             0.8,
             "#7fbc41"
            ],
            [
             0.9,
             "#4d9221"
            ],
            [
             1,
             "#276419"
            ]
           ],
           "sequential": [
            [
             0,
             "#0d0887"
            ],
            [
             0.1111111111111111,
             "#46039f"
            ],
            [
             0.2222222222222222,
             "#7201a8"
            ],
            [
             0.3333333333333333,
             "#9c179e"
            ],
            [
             0.4444444444444444,
             "#bd3786"
            ],
            [
             0.5555555555555556,
             "#d8576b"
            ],
            [
             0.6666666666666666,
             "#ed7953"
            ],
            [
             0.7777777777777778,
             "#fb9f3a"
            ],
            [
             0.8888888888888888,
             "#fdca26"
            ],
            [
             1,
             "#f0f921"
            ]
           ],
           "sequentialminus": [
            [
             0,
             "#0d0887"
            ],
            [
             0.1111111111111111,
             "#46039f"
            ],
            [
             0.2222222222222222,
             "#7201a8"
            ],
            [
             0.3333333333333333,
             "#9c179e"
            ],
            [
             0.4444444444444444,
             "#bd3786"
            ],
            [
             0.5555555555555556,
             "#d8576b"
            ],
            [
             0.6666666666666666,
             "#ed7953"
            ],
            [
             0.7777777777777778,
             "#fb9f3a"
            ],
            [
             0.8888888888888888,
             "#fdca26"
            ],
            [
             1,
             "#f0f921"
            ]
           ]
          },
          "colorway": [
           "#636efa",
           "#EF553B",
           "#00cc96",
           "#ab63fa",
           "#FFA15A",
           "#19d3f3",
           "#FF6692",
           "#B6E880",
           "#FF97FF",
           "#FECB52"
          ],
          "font": {
           "color": "#2a3f5f"
          },
          "geo": {
           "bgcolor": "white",
           "lakecolor": "white",
           "landcolor": "#E5ECF6",
           "showlakes": true,
           "showland": true,
           "subunitcolor": "white"
          },
          "hoverlabel": {
           "align": "left"
          },
          "hovermode": "closest",
          "mapbox": {
           "style": "light"
          },
          "paper_bgcolor": "white",
          "plot_bgcolor": "#E5ECF6",
          "polar": {
           "angularaxis": {
            "gridcolor": "white",
            "linecolor": "white",
            "ticks": ""
           },
           "bgcolor": "#E5ECF6",
           "radialaxis": {
            "gridcolor": "white",
            "linecolor": "white",
            "ticks": ""
           }
          },
          "scene": {
           "xaxis": {
            "backgroundcolor": "#E5ECF6",
            "gridcolor": "white",
            "gridwidth": 2,
            "linecolor": "white",
            "showbackground": true,
            "ticks": "",
            "zerolinecolor": "white"
           },
           "yaxis": {
            "backgroundcolor": "#E5ECF6",
            "gridcolor": "white",
            "gridwidth": 2,
            "linecolor": "white",
            "showbackground": true,
            "ticks": "",
            "zerolinecolor": "white"
           },
           "zaxis": {
            "backgroundcolor": "#E5ECF6",
            "gridcolor": "white",
            "gridwidth": 2,
            "linecolor": "white",
            "showbackground": true,
            "ticks": "",
            "zerolinecolor": "white"
           }
          },
          "shapedefaults": {
           "line": {
            "color": "#2a3f5f"
           }
          },
          "ternary": {
           "aaxis": {
            "gridcolor": "white",
            "linecolor": "white",
            "ticks": ""
           },
           "baxis": {
            "gridcolor": "white",
            "linecolor": "white",
            "ticks": ""
           },
           "bgcolor": "#E5ECF6",
           "caxis": {
            "gridcolor": "white",
            "linecolor": "white",
            "ticks": ""
           }
          },
          "title": {
           "x": 0.05
          },
          "xaxis": {
           "automargin": true,
           "gridcolor": "white",
           "linecolor": "white",
           "ticks": "",
           "title": {
            "standoff": 15
           },
           "zerolinecolor": "white",
           "zerolinewidth": 2
          },
          "yaxis": {
           "automargin": true,
           "gridcolor": "white",
           "linecolor": "white",
           "ticks": "",
           "title": {
            "standoff": 15
           },
           "zerolinecolor": "white",
           "zerolinewidth": 2
          }
         }
        }
       }
      },
      "text/html": "<div>\n        \n        \n            <div id=\"c3cafc0f-5680-4ef5-8ef7-6d47002a1757\" class=\"plotly-graph-div\" style=\"height:525px; width:100%;\"></div>\n            <script type=\"text/javascript\">\n                require([\"plotly\"], function(Plotly) {\n                    window.PLOTLYENV=window.PLOTLYENV || {};\n                    \n                if (document.getElementById(\"c3cafc0f-5680-4ef5-8ef7-6d47002a1757\")) {\n                    Plotly.newPlot(\n                        'c3cafc0f-5680-4ef5-8ef7-6d47002a1757',\n                        [{\"histnorm\": \"probability\", \"type\": \"histogram\", \"x\": [92.32999999999993, 23.979999999999563, 85.42999999999847, 56.06999999999971, 43.44000000000051, 25.0099999999984, 18.900000000001455, 64.58999999999833, 51.149999999999636, 32.17000000000007, 105.15000000000146, 197.36000000000058, 30.909999999999854, 3.2299999999995634, 28.659999999999854, 187.85999999999876, 554.8099999999995, 78.01999999999862, 214.88000000000102, 285.8099999999995, 18.540000000000873, 39.32999999999993, 87.17000000000007, 118.94999999999891, 221.13000000000102, 168.90999999999985, 4.320000000001528, 160.71000000000095, 148.01000000000022, 55.590000000000146, 43.0, 81.06999999999971, 86.32999999999993, 127.17999999999847, 1.7600000000002183, 7.270000000000437, 123.03999999999905, 38.85999999999876, 63.220000000001164, 61.75, 67.56999999999971, 121.65999999999985, 39.93000000000029, 41.93999999999869, 26.589999999998327, 2.4199999999982538, 58.80999999999949, 32.349999999998545, 38.44999999999891, 49.19000000000051, 244.79999999999927, 126.90000000000146, 151.6899999999987, 47.26000000000022, 47.95000000000073, 8.770000000000437, 61.92000000000007, 37.22999999999956, 44.63000000000102, 37.04999999999927, 79.72000000000116, 22.459999999999127, 10.789999999999054, 31.320000000001528, 45.32999999999993, 45.100000000000364, 95.8799999999992, 55.52000000000044, 65.26000000000022, 96.21999999999935, 40.54999999999927, 31.420000000000073, 85.8799999999992, 7.639999999999418, 40.0, 182.6800000000003, 14.100000000000364, 100.01000000000022, 136.26000000000022, 21.540000000000873, 763.789999999999, 218.70000000000073, 200.1200000000008, 4.670000000000073, 101.25, 221.89000000000124, 83.88999999999942, 499.10000000000036, 754.7199999999993, 34.19999999999891, 318.72999999999956, 347.9899999999998, 278.96999999999935, 204.9499999999989, 54.5, 74.98999999999978, 167.25, 143.47999999999956]}],\n                        {\"template\": {\"data\": {\"bar\": [{\"error_x\": {\"color\": \"#2a3f5f\"}, \"error_y\": {\"color\": \"#2a3f5f\"}, \"marker\": {\"line\": {\"color\": \"#E5ECF6\", \"width\": 0.5}}, \"type\": \"bar\"}], \"barpolar\": [{\"marker\": {\"line\": {\"color\": \"#E5ECF6\", \"width\": 0.5}}, \"type\": \"barpolar\"}], \"carpet\": [{\"aaxis\": {\"endlinecolor\": \"#2a3f5f\", \"gridcolor\": \"white\", \"linecolor\": \"white\", \"minorgridcolor\": \"white\", \"startlinecolor\": \"#2a3f5f\"}, \"baxis\": {\"endlinecolor\": \"#2a3f5f\", \"gridcolor\": \"white\", \"linecolor\": \"white\", \"minorgridcolor\": \"white\", \"startlinecolor\": \"#2a3f5f\"}, \"type\": \"carpet\"}], \"choropleth\": [{\"colorbar\": {\"outlinewidth\": 0, \"ticks\": \"\"}, \"type\": \"choropleth\"}], \"contour\": [{\"colorbar\": {\"outlinewidth\": 0, \"ticks\": \"\"}, \"colorscale\": [[0.0, \"#0d0887\"], [0.1111111111111111, \"#46039f\"], [0.2222222222222222, \"#7201a8\"], [0.3333333333333333, \"#9c179e\"], [0.4444444444444444, \"#bd3786\"], [0.5555555555555556, \"#d8576b\"], [0.6666666666666666, \"#ed7953\"], [0.7777777777777778, \"#fb9f3a\"], [0.8888888888888888, \"#fdca26\"], [1.0, \"#f0f921\"]], \"type\": \"contour\"}], \"contourcarpet\": [{\"colorbar\": {\"outlinewidth\": 0, \"ticks\": \"\"}, \"type\": \"contourcarpet\"}], \"heatmap\": [{\"colorbar\": {\"outlinewidth\": 0, \"ticks\": \"\"}, \"colorscale\": [[0.0, \"#0d0887\"], [0.1111111111111111, \"#46039f\"], [0.2222222222222222, \"#7201a8\"], [0.3333333333333333, \"#9c179e\"], [0.4444444444444444, \"#bd3786\"], [0.5555555555555556, \"#d8576b\"], [0.6666666666666666, \"#ed7953\"], [0.7777777777777778, \"#fb9f3a\"], [0.8888888888888888, \"#fdca26\"], [1.0, \"#f0f921\"]], \"type\": \"heatmap\"}], \"heatmapgl\": [{\"colorbar\": {\"outlinewidth\": 0, \"ticks\": \"\"}, \"colorscale\": [[0.0, \"#0d0887\"], [0.1111111111111111, \"#46039f\"], [0.2222222222222222, \"#7201a8\"], [0.3333333333333333, \"#9c179e\"], [0.4444444444444444, \"#bd3786\"], [0.5555555555555556, \"#d8576b\"], [0.6666666666666666, \"#ed7953\"], [0.7777777777777778, \"#fb9f3a\"], [0.8888888888888888, \"#fdca26\"], [1.0, \"#f0f921\"]], \"type\": \"heatmapgl\"}], \"histogram\": [{\"marker\": {\"colorbar\": {\"outlinewidth\": 0, \"ticks\": \"\"}}, \"type\": \"histogram\"}], \"histogram2d\": [{\"colorbar\": {\"outlinewidth\": 0, \"ticks\": \"\"}, \"colorscale\": [[0.0, \"#0d0887\"], [0.1111111111111111, \"#46039f\"], [0.2222222222222222, \"#7201a8\"], [0.3333333333333333, \"#9c179e\"], [0.4444444444444444, \"#bd3786\"], [0.5555555555555556, \"#d8576b\"], [0.6666666666666666, \"#ed7953\"], [0.7777777777777778, \"#fb9f3a\"], [0.8888888888888888, \"#fdca26\"], [1.0, \"#f0f921\"]], \"type\": \"histogram2d\"}], \"histogram2dcontour\": [{\"colorbar\": {\"outlinewidth\": 0, \"ticks\": \"\"}, \"colorscale\": [[0.0, \"#0d0887\"], [0.1111111111111111, \"#46039f\"], [0.2222222222222222, \"#7201a8\"], [0.3333333333333333, \"#9c179e\"], [0.4444444444444444, \"#bd3786\"], [0.5555555555555556, \"#d8576b\"], [0.6666666666666666, \"#ed7953\"], [0.7777777777777778, \"#fb9f3a\"], [0.8888888888888888, \"#fdca26\"], [1.0, \"#f0f921\"]], \"type\": \"histogram2dcontour\"}], \"mesh3d\": [{\"colorbar\": {\"outlinewidth\": 0, \"ticks\": \"\"}, \"type\": \"mesh3d\"}], \"parcoords\": [{\"line\": {\"colorbar\": {\"outlinewidth\": 0, \"ticks\": \"\"}}, \"type\": \"parcoords\"}], \"pie\": [{\"automargin\": true, \"type\": \"pie\"}], \"scatter\": [{\"marker\": {\"colorbar\": {\"outlinewidth\": 0, \"ticks\": \"\"}}, \"type\": \"scatter\"}], \"scatter3d\": [{\"line\": {\"colorbar\": {\"outlinewidth\": 0, \"ticks\": \"\"}}, \"marker\": {\"colorbar\": {\"outlinewidth\": 0, \"ticks\": \"\"}}, \"type\": \"scatter3d\"}], \"scattercarpet\": [{\"marker\": {\"colorbar\": {\"outlinewidth\": 0, \"ticks\": \"\"}}, \"type\": \"scattercarpet\"}], \"scattergeo\": [{\"marker\": {\"colorbar\": {\"outlinewidth\": 0, \"ticks\": \"\"}}, \"type\": \"scattergeo\"}], \"scattergl\": [{\"marker\": {\"colorbar\": {\"outlinewidth\": 0, \"ticks\": \"\"}}, \"type\": \"scattergl\"}], \"scattermapbox\": [{\"marker\": {\"colorbar\": {\"outlinewidth\": 0, \"ticks\": \"\"}}, \"type\": \"scattermapbox\"}], \"scatterpolar\": [{\"marker\": {\"colorbar\": {\"outlinewidth\": 0, \"ticks\": \"\"}}, \"type\": \"scatterpolar\"}], \"scatterpolargl\": [{\"marker\": {\"colorbar\": {\"outlinewidth\": 0, \"ticks\": \"\"}}, \"type\": \"scatterpolargl\"}], \"scatterternary\": [{\"marker\": {\"colorbar\": {\"outlinewidth\": 0, \"ticks\": \"\"}}, \"type\": \"scatterternary\"}], \"surface\": [{\"colorbar\": {\"outlinewidth\": 0, \"ticks\": \"\"}, \"colorscale\": [[0.0, \"#0d0887\"], [0.1111111111111111, \"#46039f\"], [0.2222222222222222, \"#7201a8\"], [0.3333333333333333, \"#9c179e\"], [0.4444444444444444, \"#bd3786\"], [0.5555555555555556, \"#d8576b\"], [0.6666666666666666, \"#ed7953\"], [0.7777777777777778, \"#fb9f3a\"], [0.8888888888888888, \"#fdca26\"], [1.0, \"#f0f921\"]], \"type\": \"surface\"}], \"table\": [{\"cells\": {\"fill\": {\"color\": \"#EBF0F8\"}, \"line\": {\"color\": \"white\"}}, \"header\": {\"fill\": {\"color\": \"#C8D4E3\"}, \"line\": {\"color\": \"white\"}}, \"type\": \"table\"}]}, \"layout\": {\"annotationdefaults\": {\"arrowcolor\": \"#2a3f5f\", \"arrowhead\": 0, \"arrowwidth\": 1}, \"coloraxis\": {\"colorbar\": {\"outlinewidth\": 0, \"ticks\": \"\"}}, \"colorscale\": {\"diverging\": [[0, \"#8e0152\"], [0.1, \"#c51b7d\"], [0.2, \"#de77ae\"], [0.3, \"#f1b6da\"], [0.4, \"#fde0ef\"], [0.5, \"#f7f7f7\"], [0.6, \"#e6f5d0\"], [0.7, \"#b8e186\"], [0.8, \"#7fbc41\"], [0.9, \"#4d9221\"], [1, \"#276419\"]], \"sequential\": [[0.0, \"#0d0887\"], [0.1111111111111111, \"#46039f\"], [0.2222222222222222, \"#7201a8\"], [0.3333333333333333, \"#9c179e\"], [0.4444444444444444, \"#bd3786\"], [0.5555555555555556, \"#d8576b\"], [0.6666666666666666, \"#ed7953\"], [0.7777777777777778, \"#fb9f3a\"], [0.8888888888888888, \"#fdca26\"], [1.0, \"#f0f921\"]], \"sequentialminus\": [[0.0, \"#0d0887\"], [0.1111111111111111, \"#46039f\"], [0.2222222222222222, \"#7201a8\"], [0.3333333333333333, \"#9c179e\"], [0.4444444444444444, \"#bd3786\"], [0.5555555555555556, \"#d8576b\"], [0.6666666666666666, \"#ed7953\"], [0.7777777777777778, \"#fb9f3a\"], [0.8888888888888888, \"#fdca26\"], [1.0, \"#f0f921\"]]}, \"colorway\": [\"#636efa\", \"#EF553B\", \"#00cc96\", \"#ab63fa\", \"#FFA15A\", \"#19d3f3\", \"#FF6692\", \"#B6E880\", \"#FF97FF\", \"#FECB52\"], \"font\": {\"color\": \"#2a3f5f\"}, \"geo\": {\"bgcolor\": \"white\", \"lakecolor\": \"white\", \"landcolor\": \"#E5ECF6\", \"showlakes\": true, \"showland\": true, \"subunitcolor\": \"white\"}, \"hoverlabel\": {\"align\": \"left\"}, \"hovermode\": \"closest\", \"mapbox\": {\"style\": \"light\"}, \"paper_bgcolor\": \"white\", \"plot_bgcolor\": \"#E5ECF6\", \"polar\": {\"angularaxis\": {\"gridcolor\": \"white\", \"linecolor\": \"white\", \"ticks\": \"\"}, \"bgcolor\": \"#E5ECF6\", \"radialaxis\": {\"gridcolor\": \"white\", \"linecolor\": \"white\", \"ticks\": \"\"}}, \"scene\": {\"xaxis\": {\"backgroundcolor\": \"#E5ECF6\", \"gridcolor\": \"white\", \"gridwidth\": 2, \"linecolor\": \"white\", \"showbackground\": true, \"ticks\": \"\", \"zerolinecolor\": \"white\"}, \"yaxis\": {\"backgroundcolor\": \"#E5ECF6\", \"gridcolor\": \"white\", \"gridwidth\": 2, \"linecolor\": \"white\", \"showbackground\": true, \"ticks\": \"\", \"zerolinecolor\": \"white\"}, \"zaxis\": {\"backgroundcolor\": \"#E5ECF6\", \"gridcolor\": \"white\", \"gridwidth\": 2, \"linecolor\": \"white\", \"showbackground\": true, \"ticks\": \"\", \"zerolinecolor\": \"white\"}}, \"shapedefaults\": {\"line\": {\"color\": \"#2a3f5f\"}}, \"ternary\": {\"aaxis\": {\"gridcolor\": \"white\", \"linecolor\": \"white\", \"ticks\": \"\"}, \"baxis\": {\"gridcolor\": \"white\", \"linecolor\": \"white\", \"ticks\": \"\"}, \"bgcolor\": \"#E5ECF6\", \"caxis\": {\"gridcolor\": \"white\", \"linecolor\": \"white\", \"ticks\": \"\"}}, \"title\": {\"x\": 0.05}, \"xaxis\": {\"automargin\": true, \"gridcolor\": \"white\", \"linecolor\": \"white\", \"ticks\": \"\", \"title\": {\"standoff\": 15}, \"zerolinecolor\": \"white\", \"zerolinewidth\": 2}, \"yaxis\": {\"automargin\": true, \"gridcolor\": \"white\", \"linecolor\": \"white\", \"ticks\": \"\", \"title\": {\"standoff\": 15}, \"zerolinecolor\": \"white\", \"zerolinewidth\": 2}}}},\n                        {\"responsive\": true}\n                    ).then(function(){\n                            \nvar gd = document.getElementById('c3cafc0f-5680-4ef5-8ef7-6d47002a1757');\nvar x = new MutationObserver(function (mutations, observer) {{\n        var display = window.getComputedStyle(gd).display;\n        if (!display || display === 'none') {{\n            console.log([gd, 'removed!']);\n            Plotly.purge(gd);\n            observer.disconnect();\n        }}\n}});\n\n// Listen for the removal of the full notebook cells\nvar notebookContainer = gd.closest('#notebook-container');\nif (notebookContainer) {{\n    x.observe(notebookContainer, {childList: true});\n}}\n\n// Listen for the clearing of the current output cell\nvar outputEl = gd.closest('.output');\nif (outputEl) {{\n    x.observe(outputEl, {childList: true});\n}}\n\n                        })\n                };\n                });\n            </script>\n        </div>"
     },
     "metadata": {}
    }
   ],
   "source": [
    "from plotly.offline import init_notebook_mode, iplot\n",
    "init_notebook_mode(connected=True) \n",
    "import plotly.express as px\n",
    "import plotly.graph_objects as go\n",
    "dftip = px.data.tips()\n",
    "# fig = px.histogram(dfMaT, x = \"diff\")\n",
    "# fig.show()\n",
    "fig = go.Figure(data=[go.Histogram(x=dfMaT[\"diff\"], histnorm='probability')])\n",
    "fig.show()\n",
    "# dftip"
   ]
  },
  {
   "cell_type": "code",
   "execution_count": 81,
   "metadata": {},
   "outputs": [
    {
     "output_type": "execute_result",
     "data": {
      "text/plain": "<matplotlib.axes._subplots.AxesSubplot at 0x7f80b3aa4fd0>"
     },
     "metadata": {},
     "execution_count": 81
    },
    {
     "output_type": "display_data",
     "data": {
      "text/plain": "<Figure size 432x288 with 1 Axes>",
      "image/svg+xml": "<?xml version=\"1.0\" encoding=\"utf-8\" standalone=\"no\"?>\n<!DOCTYPE svg PUBLIC \"-//W3C//DTD SVG 1.1//EN\"\n  \"http://www.w3.org/Graphics/SVG/1.1/DTD/svg11.dtd\">\n<!-- Created with matplotlib (https://matplotlib.org/) -->\n<svg height=\"262.19625pt\" version=\"1.1\" viewBox=\"0 0 384.828125 262.19625\" width=\"384.828125pt\" xmlns=\"http://www.w3.org/2000/svg\" xmlns:xlink=\"http://www.w3.org/1999/xlink\">\n <defs>\n  <style type=\"text/css\">\n*{stroke-linecap:butt;stroke-linejoin:round;}\n  </style>\n </defs>\n <g id=\"figure_1\">\n  <g id=\"patch_1\">\n   <path d=\"M 0 262.19625 \nL 384.828125 262.19625 \nL 384.828125 0 \nL 0 0 \nz\n\" style=\"fill:none;\"/>\n  </g>\n  <g id=\"axes_1\">\n   <g id=\"patch_2\">\n    <path d=\"M 42.828125 224.64 \nL 377.628125 224.64 \nL 377.628125 7.2 \nL 42.828125 7.2 \nz\n\" style=\"fill:#ffffff;\"/>\n   </g>\n   <g id=\"patch_3\">\n    <path clip-path=\"url(#pb7c06f9f78)\" d=\"M 86.906981 224.64 \nL 100.609331 224.64 \nL 100.609331 17.554286 \nL 86.906981 17.554286 \nz\n\" style=\"fill:#1f77b4;opacity:0.4;\"/>\n   </g>\n   <g id=\"patch_4\">\n    <path clip-path=\"url(#pb7c06f9f78)\" d=\"M 100.609331 224.64 \nL 114.31168 224.64 \nL 114.31168 43.44 \nL 100.609331 43.44 \nz\n\" style=\"fill:#1f77b4;opacity:0.4;\"/>\n   </g>\n   <g id=\"patch_5\">\n    <path clip-path=\"url(#pb7c06f9f78)\" d=\"M 114.31168 224.64 \nL 128.014029 224.64 \nL 128.014029 155.611429 \nL 114.31168 155.611429 \nz\n\" style=\"fill:#1f77b4;opacity:0.4;\"/>\n   </g>\n   <g id=\"patch_6\">\n    <path clip-path=\"url(#pb7c06f9f78)\" d=\"M 128.014029 224.64 \nL 141.716378 224.64 \nL 141.716378 181.497143 \nL 128.014029 181.497143 \nz\n\" style=\"fill:#1f77b4;opacity:0.4;\"/>\n   </g>\n   <g id=\"patch_7\">\n    <path clip-path=\"url(#pb7c06f9f78)\" d=\"M 141.716378 224.64 \nL 155.418728 224.64 \nL 155.418728 198.754286 \nL 141.716378 198.754286 \nz\n\" style=\"fill:#1f77b4;opacity:0.4;\"/>\n   </g>\n   <g id=\"patch_8\">\n    <path clip-path=\"url(#pb7c06f9f78)\" d=\"M 155.418728 224.64 \nL 169.121077 224.64 \nL 169.121077 198.754286 \nL 155.418728 198.754286 \nz\n\" style=\"fill:#1f77b4;opacity:0.4;\"/>\n   </g>\n   <g id=\"patch_9\">\n    <path clip-path=\"url(#pb7c06f9f78)\" d=\"M 169.121077 224.64 \nL 182.823426 224.64 \nL 182.823426 216.011429 \nL 169.121077 216.011429 \nz\n\" style=\"fill:#1f77b4;opacity:0.4;\"/>\n   </g>\n   <g id=\"patch_10\">\n    <path clip-path=\"url(#pb7c06f9f78)\" d=\"M 182.823426 224.64 \nL 196.525776 224.64 \nL 196.525776 216.011429 \nL 182.823426 216.011429 \nz\n\" style=\"fill:#1f77b4;opacity:0.4;\"/>\n   </g>\n   <g id=\"patch_11\">\n    <path clip-path=\"url(#pb7c06f9f78)\" d=\"M 196.525776 224.64 \nL 210.228125 224.64 \nL 210.228125 216.011429 \nL 196.525776 216.011429 \nz\n\" style=\"fill:#1f77b4;opacity:0.4;\"/>\n   </g>\n   <g id=\"patch_12\">\n    <path clip-path=\"url(#pb7c06f9f78)\" d=\"M 210.228125 224.64 \nL 223.930474 224.64 \nL 223.930474 224.64 \nL 210.228125 224.64 \nz\n\" style=\"fill:#1f77b4;opacity:0.4;\"/>\n   </g>\n   <g id=\"patch_13\">\n    <path clip-path=\"url(#pb7c06f9f78)\" d=\"M 223.930474 224.64 \nL 237.632824 224.64 \nL 237.632824 224.64 \nL 223.930474 224.64 \nz\n\" style=\"fill:#1f77b4;opacity:0.4;\"/>\n   </g>\n   <g id=\"patch_14\">\n    <path clip-path=\"url(#pb7c06f9f78)\" d=\"M 237.632824 224.64 \nL 251.335173 224.64 \nL 251.335173 216.011429 \nL 237.632824 216.011429 \nz\n\" style=\"fill:#1f77b4;opacity:0.4;\"/>\n   </g>\n   <g id=\"patch_15\">\n    <path clip-path=\"url(#pb7c06f9f78)\" d=\"M 251.335173 224.64 \nL 265.037522 224.64 \nL 265.037522 224.64 \nL 251.335173 224.64 \nz\n\" style=\"fill:#1f77b4;opacity:0.4;\"/>\n   </g>\n   <g id=\"patch_16\">\n    <path clip-path=\"url(#pb7c06f9f78)\" d=\"M 265.037522 224.64 \nL 278.739872 224.64 \nL 278.739872 224.64 \nL 265.037522 224.64 \nz\n\" style=\"fill:#1f77b4;opacity:0.4;\"/>\n   </g>\n   <g id=\"patch_17\">\n    <path clip-path=\"url(#pb7c06f9f78)\" d=\"M 278.739872 224.64 \nL 292.442221 224.64 \nL 292.442221 224.64 \nL 278.739872 224.64 \nz\n\" style=\"fill:#1f77b4;opacity:0.4;\"/>\n   </g>\n   <g id=\"patch_18\">\n    <path clip-path=\"url(#pb7c06f9f78)\" d=\"M 292.442221 224.64 \nL 306.14457 224.64 \nL 306.14457 224.64 \nL 292.442221 224.64 \nz\n\" style=\"fill:#1f77b4;opacity:0.4;\"/>\n   </g>\n   <g id=\"patch_19\">\n    <path clip-path=\"url(#pb7c06f9f78)\" d=\"M 306.14457 224.64 \nL 319.846919 224.64 \nL 319.846919 224.64 \nL 306.14457 224.64 \nz\n\" style=\"fill:#1f77b4;opacity:0.4;\"/>\n   </g>\n   <g id=\"patch_20\">\n    <path clip-path=\"url(#pb7c06f9f78)\" d=\"M 319.846919 224.64 \nL 333.549269 224.64 \nL 333.549269 207.382857 \nL 319.846919 207.382857 \nz\n\" style=\"fill:#1f77b4;opacity:0.4;\"/>\n   </g>\n   <g id=\"matplotlib.axis_1\">\n    <g id=\"xtick_1\">\n     <g id=\"line2d_1\">\n      <defs>\n       <path d=\"M 0 0 \nL 0 3.5 \n\" id=\"mcffbb5b87d\" style=\"stroke:#000000;stroke-width:0.8;\"/>\n      </defs>\n      <g>\n       <use style=\"stroke:#000000;stroke-width:0.8;\" x=\"86.337331\" xlink:href=\"#mcffbb5b87d\" y=\"224.64\"/>\n      </g>\n     </g>\n     <g id=\"text_1\">\n      <!-- 0 -->\n      <defs>\n       <path d=\"M 31.78125 66.40625 \nQ 24.171875 66.40625 20.328125 58.90625 \nQ 16.5 51.421875 16.5 36.375 \nQ 16.5 21.390625 20.328125 13.890625 \nQ 24.171875 6.390625 31.78125 6.390625 \nQ 39.453125 6.390625 43.28125 13.890625 \nQ 47.125 21.390625 47.125 36.375 \nQ 47.125 51.421875 43.28125 58.90625 \nQ 39.453125 66.40625 31.78125 66.40625 \nz\nM 31.78125 74.21875 \nQ 44.046875 74.21875 50.515625 64.515625 \nQ 56.984375 54.828125 56.984375 36.375 \nQ 56.984375 17.96875 50.515625 8.265625 \nQ 44.046875 -1.421875 31.78125 -1.421875 \nQ 19.53125 -1.421875 13.0625 8.265625 \nQ 6.59375 17.96875 6.59375 36.375 \nQ 6.59375 54.828125 13.0625 64.515625 \nQ 19.53125 74.21875 31.78125 74.21875 \nz\n\" id=\"DejaVuSans-48\"/>\n      </defs>\n      <g transform=\"translate(83.156081 239.238437)scale(0.1 -0.1)\">\n       <use xlink:href=\"#DejaVuSans-48\"/>\n      </g>\n     </g>\n    </g>\n    <g id=\"xtick_2\">\n     <g id=\"line2d_2\">\n      <g>\n       <use style=\"stroke:#000000;stroke-width:0.8;\" x=\"151.070291\" xlink:href=\"#mcffbb5b87d\" y=\"224.64\"/>\n      </g>\n     </g>\n     <g id=\"text_2\">\n      <!-- 200 -->\n      <defs>\n       <path d=\"M 19.1875 8.296875 \nL 53.609375 8.296875 \nL 53.609375 0 \nL 7.328125 0 \nL 7.328125 8.296875 \nQ 12.9375 14.109375 22.625 23.890625 \nQ 32.328125 33.6875 34.8125 36.53125 \nQ 39.546875 41.84375 41.421875 45.53125 \nQ 43.3125 49.21875 43.3125 52.78125 \nQ 43.3125 58.59375 39.234375 62.25 \nQ 35.15625 65.921875 28.609375 65.921875 \nQ 23.96875 65.921875 18.8125 64.3125 \nQ 13.671875 62.703125 7.8125 59.421875 \nL 7.8125 69.390625 \nQ 13.765625 71.78125 18.9375 73 \nQ 24.125 74.21875 28.421875 74.21875 \nQ 39.75 74.21875 46.484375 68.546875 \nQ 53.21875 62.890625 53.21875 53.421875 \nQ 53.21875 48.921875 51.53125 44.890625 \nQ 49.859375 40.875 45.40625 35.40625 \nQ 44.1875 33.984375 37.640625 27.21875 \nQ 31.109375 20.453125 19.1875 8.296875 \nz\n\" id=\"DejaVuSans-50\"/>\n      </defs>\n      <g transform=\"translate(141.526541 239.238437)scale(0.1 -0.1)\">\n       <use xlink:href=\"#DejaVuSans-50\"/>\n       <use x=\"63.623047\" xlink:href=\"#DejaVuSans-48\"/>\n       <use x=\"127.246094\" xlink:href=\"#DejaVuSans-48\"/>\n      </g>\n     </g>\n    </g>\n    <g id=\"xtick_3\">\n     <g id=\"line2d_3\">\n      <g>\n       <use style=\"stroke:#000000;stroke-width:0.8;\" x=\"215.803251\" xlink:href=\"#mcffbb5b87d\" y=\"224.64\"/>\n      </g>\n     </g>\n     <g id=\"text_3\">\n      <!-- 400 -->\n      <defs>\n       <path d=\"M 37.796875 64.3125 \nL 12.890625 25.390625 \nL 37.796875 25.390625 \nz\nM 35.203125 72.90625 \nL 47.609375 72.90625 \nL 47.609375 25.390625 \nL 58.015625 25.390625 \nL 58.015625 17.1875 \nL 47.609375 17.1875 \nL 47.609375 0 \nL 37.796875 0 \nL 37.796875 17.1875 \nL 4.890625 17.1875 \nL 4.890625 26.703125 \nz\n\" id=\"DejaVuSans-52\"/>\n      </defs>\n      <g transform=\"translate(206.259501 239.238437)scale(0.1 -0.1)\">\n       <use xlink:href=\"#DejaVuSans-52\"/>\n       <use x=\"63.623047\" xlink:href=\"#DejaVuSans-48\"/>\n       <use x=\"127.246094\" xlink:href=\"#DejaVuSans-48\"/>\n      </g>\n     </g>\n    </g>\n    <g id=\"xtick_4\">\n     <g id=\"line2d_4\">\n      <g>\n       <use style=\"stroke:#000000;stroke-width:0.8;\" x=\"280.536211\" xlink:href=\"#mcffbb5b87d\" y=\"224.64\"/>\n      </g>\n     </g>\n     <g id=\"text_4\">\n      <!-- 600 -->\n      <defs>\n       <path d=\"M 33.015625 40.375 \nQ 26.375 40.375 22.484375 35.828125 \nQ 18.609375 31.296875 18.609375 23.390625 \nQ 18.609375 15.53125 22.484375 10.953125 \nQ 26.375 6.390625 33.015625 6.390625 \nQ 39.65625 6.390625 43.53125 10.953125 \nQ 47.40625 15.53125 47.40625 23.390625 \nQ 47.40625 31.296875 43.53125 35.828125 \nQ 39.65625 40.375 33.015625 40.375 \nz\nM 52.59375 71.296875 \nL 52.59375 62.3125 \nQ 48.875 64.0625 45.09375 64.984375 \nQ 41.3125 65.921875 37.59375 65.921875 \nQ 27.828125 65.921875 22.671875 59.328125 \nQ 17.53125 52.734375 16.796875 39.40625 \nQ 19.671875 43.65625 24.015625 45.921875 \nQ 28.375 48.1875 33.59375 48.1875 \nQ 44.578125 48.1875 50.953125 41.515625 \nQ 57.328125 34.859375 57.328125 23.390625 \nQ 57.328125 12.15625 50.6875 5.359375 \nQ 44.046875 -1.421875 33.015625 -1.421875 \nQ 20.359375 -1.421875 13.671875 8.265625 \nQ 6.984375 17.96875 6.984375 36.375 \nQ 6.984375 53.65625 15.1875 63.9375 \nQ 23.390625 74.21875 37.203125 74.21875 \nQ 40.921875 74.21875 44.703125 73.484375 \nQ 48.484375 72.75 52.59375 71.296875 \nz\n\" id=\"DejaVuSans-54\"/>\n      </defs>\n      <g transform=\"translate(270.992461 239.238437)scale(0.1 -0.1)\">\n       <use xlink:href=\"#DejaVuSans-54\"/>\n       <use x=\"63.623047\" xlink:href=\"#DejaVuSans-48\"/>\n       <use x=\"127.246094\" xlink:href=\"#DejaVuSans-48\"/>\n      </g>\n     </g>\n    </g>\n    <g id=\"xtick_5\">\n     <g id=\"line2d_5\">\n      <g>\n       <use style=\"stroke:#000000;stroke-width:0.8;\" x=\"345.269171\" xlink:href=\"#mcffbb5b87d\" y=\"224.64\"/>\n      </g>\n     </g>\n     <g id=\"text_5\">\n      <!-- 800 -->\n      <defs>\n       <path d=\"M 31.78125 34.625 \nQ 24.75 34.625 20.71875 30.859375 \nQ 16.703125 27.09375 16.703125 20.515625 \nQ 16.703125 13.921875 20.71875 10.15625 \nQ 24.75 6.390625 31.78125 6.390625 \nQ 38.8125 6.390625 42.859375 10.171875 \nQ 46.921875 13.96875 46.921875 20.515625 \nQ 46.921875 27.09375 42.890625 30.859375 \nQ 38.875 34.625 31.78125 34.625 \nz\nM 21.921875 38.8125 \nQ 15.578125 40.375 12.03125 44.71875 \nQ 8.5 49.078125 8.5 55.328125 \nQ 8.5 64.0625 14.71875 69.140625 \nQ 20.953125 74.21875 31.78125 74.21875 \nQ 42.671875 74.21875 48.875 69.140625 \nQ 55.078125 64.0625 55.078125 55.328125 \nQ 55.078125 49.078125 51.53125 44.71875 \nQ 48 40.375 41.703125 38.8125 \nQ 48.828125 37.15625 52.796875 32.3125 \nQ 56.78125 27.484375 56.78125 20.515625 \nQ 56.78125 9.90625 50.3125 4.234375 \nQ 43.84375 -1.421875 31.78125 -1.421875 \nQ 19.734375 -1.421875 13.25 4.234375 \nQ 6.78125 9.90625 6.78125 20.515625 \nQ 6.78125 27.484375 10.78125 32.3125 \nQ 14.796875 37.15625 21.921875 38.8125 \nz\nM 18.3125 54.390625 \nQ 18.3125 48.734375 21.84375 45.5625 \nQ 25.390625 42.390625 31.78125 42.390625 \nQ 38.140625 42.390625 41.71875 45.5625 \nQ 45.3125 48.734375 45.3125 54.390625 \nQ 45.3125 60.0625 41.71875 63.234375 \nQ 38.140625 66.40625 31.78125 66.40625 \nQ 25.390625 66.40625 21.84375 63.234375 \nQ 18.3125 60.0625 18.3125 54.390625 \nz\n\" id=\"DejaVuSans-56\"/>\n      </defs>\n      <g transform=\"translate(335.725421 239.238437)scale(0.1 -0.1)\">\n       <use xlink:href=\"#DejaVuSans-56\"/>\n       <use x=\"63.623047\" xlink:href=\"#DejaVuSans-48\"/>\n       <use x=\"127.246094\" xlink:href=\"#DejaVuSans-48\"/>\n      </g>\n     </g>\n    </g>\n    <g id=\"text_6\">\n     <!-- diff -->\n     <defs>\n      <path d=\"M 45.40625 46.390625 \nL 45.40625 75.984375 \nL 54.390625 75.984375 \nL 54.390625 0 \nL 45.40625 0 \nL 45.40625 8.203125 \nQ 42.578125 3.328125 38.25 0.953125 \nQ 33.9375 -1.421875 27.875 -1.421875 \nQ 17.96875 -1.421875 11.734375 6.484375 \nQ 5.515625 14.40625 5.515625 27.296875 \nQ 5.515625 40.1875 11.734375 48.09375 \nQ 17.96875 56 27.875 56 \nQ 33.9375 56 38.25 53.625 \nQ 42.578125 51.265625 45.40625 46.390625 \nz\nM 14.796875 27.296875 \nQ 14.796875 17.390625 18.875 11.75 \nQ 22.953125 6.109375 30.078125 6.109375 \nQ 37.203125 6.109375 41.296875 11.75 \nQ 45.40625 17.390625 45.40625 27.296875 \nQ 45.40625 37.203125 41.296875 42.84375 \nQ 37.203125 48.484375 30.078125 48.484375 \nQ 22.953125 48.484375 18.875 42.84375 \nQ 14.796875 37.203125 14.796875 27.296875 \nz\n\" id=\"DejaVuSans-100\"/>\n      <path d=\"M 9.421875 54.6875 \nL 18.40625 54.6875 \nL 18.40625 0 \nL 9.421875 0 \nz\nM 9.421875 75.984375 \nL 18.40625 75.984375 \nL 18.40625 64.59375 \nL 9.421875 64.59375 \nz\n\" id=\"DejaVuSans-105\"/>\n      <path d=\"M 37.109375 75.984375 \nL 37.109375 68.5 \nL 28.515625 68.5 \nQ 23.6875 68.5 21.796875 66.546875 \nQ 19.921875 64.59375 19.921875 59.515625 \nL 19.921875 54.6875 \nL 34.71875 54.6875 \nL 34.71875 47.703125 \nL 19.921875 47.703125 \nL 19.921875 0 \nL 10.890625 0 \nL 10.890625 47.703125 \nL 2.296875 47.703125 \nL 2.296875 54.6875 \nL 10.890625 54.6875 \nL 10.890625 58.5 \nQ 10.890625 67.625 15.140625 71.796875 \nQ 19.390625 75.984375 28.609375 75.984375 \nz\n\" id=\"DejaVuSans-102\"/>\n     </defs>\n     <g transform=\"translate(202.144531 252.916562)scale(0.1 -0.1)\">\n      <use xlink:href=\"#DejaVuSans-100\"/>\n      <use x=\"63.476562\" xlink:href=\"#DejaVuSans-105\"/>\n      <use x=\"91.259766\" xlink:href=\"#DejaVuSans-102\"/>\n      <use x=\"126.464844\" xlink:href=\"#DejaVuSans-102\"/>\n     </g>\n    </g>\n   </g>\n   <g id=\"matplotlib.axis_2\">\n    <g id=\"ytick_1\">\n     <g id=\"line2d_6\">\n      <defs>\n       <path d=\"M 0 0 \nL -3.5 0 \n\" id=\"mf31b1eaf7e\" style=\"stroke:#000000;stroke-width:0.8;\"/>\n      </defs>\n      <g>\n       <use style=\"stroke:#000000;stroke-width:0.8;\" x=\"42.828125\" xlink:href=\"#mf31b1eaf7e\" y=\"224.64\"/>\n      </g>\n     </g>\n     <g id=\"text_7\">\n      <!-- 0.000 -->\n      <defs>\n       <path d=\"M 10.6875 12.40625 \nL 21 12.40625 \nL 21 0 \nL 10.6875 0 \nz\n\" id=\"DejaVuSans-46\"/>\n      </defs>\n      <g transform=\"translate(7.2 228.439219)scale(0.1 -0.1)\">\n       <use xlink:href=\"#DejaVuSans-48\"/>\n       <use x=\"63.623047\" xlink:href=\"#DejaVuSans-46\"/>\n       <use x=\"95.410156\" xlink:href=\"#DejaVuSans-48\"/>\n       <use x=\"159.033203\" xlink:href=\"#DejaVuSans-48\"/>\n       <use x=\"222.65625\" xlink:href=\"#DejaVuSans-48\"/>\n      </g>\n     </g>\n    </g>\n    <g id=\"ytick_2\">\n     <g id=\"line2d_7\">\n      <g>\n       <use style=\"stroke:#000000;stroke-width:0.8;\" x=\"42.828125\" xlink:href=\"#mf31b1eaf7e\" y=\"199.06966\"/>\n      </g>\n     </g>\n     <g id=\"text_8\">\n      <!-- 0.001 -->\n      <defs>\n       <path d=\"M 12.40625 8.296875 \nL 28.515625 8.296875 \nL 28.515625 63.921875 \nL 10.984375 60.40625 \nL 10.984375 69.390625 \nL 28.421875 72.90625 \nL 38.28125 72.90625 \nL 38.28125 8.296875 \nL 54.390625 8.296875 \nL 54.390625 0 \nL 12.40625 0 \nz\n\" id=\"DejaVuSans-49\"/>\n      </defs>\n      <g transform=\"translate(7.2 202.868879)scale(0.1 -0.1)\">\n       <use xlink:href=\"#DejaVuSans-48\"/>\n       <use x=\"63.623047\" xlink:href=\"#DejaVuSans-46\"/>\n       <use x=\"95.410156\" xlink:href=\"#DejaVuSans-48\"/>\n       <use x=\"159.033203\" xlink:href=\"#DejaVuSans-48\"/>\n       <use x=\"222.65625\" xlink:href=\"#DejaVuSans-49\"/>\n      </g>\n     </g>\n    </g>\n    <g id=\"ytick_3\">\n     <g id=\"line2d_8\">\n      <g>\n       <use style=\"stroke:#000000;stroke-width:0.8;\" x=\"42.828125\" xlink:href=\"#mf31b1eaf7e\" y=\"173.49932\"/>\n      </g>\n     </g>\n     <g id=\"text_9\">\n      <!-- 0.002 -->\n      <g transform=\"translate(7.2 177.298539)scale(0.1 -0.1)\">\n       <use xlink:href=\"#DejaVuSans-48\"/>\n       <use x=\"63.623047\" xlink:href=\"#DejaVuSans-46\"/>\n       <use x=\"95.410156\" xlink:href=\"#DejaVuSans-48\"/>\n       <use x=\"159.033203\" xlink:href=\"#DejaVuSans-48\"/>\n       <use x=\"222.65625\" xlink:href=\"#DejaVuSans-50\"/>\n      </g>\n     </g>\n    </g>\n    <g id=\"ytick_4\">\n     <g id=\"line2d_9\">\n      <g>\n       <use style=\"stroke:#000000;stroke-width:0.8;\" x=\"42.828125\" xlink:href=\"#mf31b1eaf7e\" y=\"147.92898\"/>\n      </g>\n     </g>\n     <g id=\"text_10\">\n      <!-- 0.003 -->\n      <defs>\n       <path d=\"M 40.578125 39.3125 \nQ 47.65625 37.796875 51.625 33 \nQ 55.609375 28.21875 55.609375 21.1875 \nQ 55.609375 10.40625 48.1875 4.484375 \nQ 40.765625 -1.421875 27.09375 -1.421875 \nQ 22.515625 -1.421875 17.65625 -0.515625 \nQ 12.796875 0.390625 7.625 2.203125 \nL 7.625 11.71875 \nQ 11.71875 9.328125 16.59375 8.109375 \nQ 21.484375 6.890625 26.8125 6.890625 \nQ 36.078125 6.890625 40.9375 10.546875 \nQ 45.796875 14.203125 45.796875 21.1875 \nQ 45.796875 27.640625 41.28125 31.265625 \nQ 36.765625 34.90625 28.71875 34.90625 \nL 20.21875 34.90625 \nL 20.21875 43.015625 \nL 29.109375 43.015625 \nQ 36.375 43.015625 40.234375 45.921875 \nQ 44.09375 48.828125 44.09375 54.296875 \nQ 44.09375 59.90625 40.109375 62.90625 \nQ 36.140625 65.921875 28.71875 65.921875 \nQ 24.65625 65.921875 20.015625 65.03125 \nQ 15.375 64.15625 9.8125 62.3125 \nL 9.8125 71.09375 \nQ 15.4375 72.65625 20.34375 73.4375 \nQ 25.25 74.21875 29.59375 74.21875 \nQ 40.828125 74.21875 47.359375 69.109375 \nQ 53.90625 64.015625 53.90625 55.328125 \nQ 53.90625 49.265625 50.4375 45.09375 \nQ 46.96875 40.921875 40.578125 39.3125 \nz\n\" id=\"DejaVuSans-51\"/>\n      </defs>\n      <g transform=\"translate(7.2 151.728199)scale(0.1 -0.1)\">\n       <use xlink:href=\"#DejaVuSans-48\"/>\n       <use x=\"63.623047\" xlink:href=\"#DejaVuSans-46\"/>\n       <use x=\"95.410156\" xlink:href=\"#DejaVuSans-48\"/>\n       <use x=\"159.033203\" xlink:href=\"#DejaVuSans-48\"/>\n       <use x=\"222.65625\" xlink:href=\"#DejaVuSans-51\"/>\n      </g>\n     </g>\n    </g>\n    <g id=\"ytick_5\">\n     <g id=\"line2d_10\">\n      <g>\n       <use style=\"stroke:#000000;stroke-width:0.8;\" x=\"42.828125\" xlink:href=\"#mf31b1eaf7e\" y=\"122.35864\"/>\n      </g>\n     </g>\n     <g id=\"text_11\">\n      <!-- 0.004 -->\n      <g transform=\"translate(7.2 126.157859)scale(0.1 -0.1)\">\n       <use xlink:href=\"#DejaVuSans-48\"/>\n       <use x=\"63.623047\" xlink:href=\"#DejaVuSans-46\"/>\n       <use x=\"95.410156\" xlink:href=\"#DejaVuSans-48\"/>\n       <use x=\"159.033203\" xlink:href=\"#DejaVuSans-48\"/>\n       <use x=\"222.65625\" xlink:href=\"#DejaVuSans-52\"/>\n      </g>\n     </g>\n    </g>\n    <g id=\"ytick_6\">\n     <g id=\"line2d_11\">\n      <g>\n       <use style=\"stroke:#000000;stroke-width:0.8;\" x=\"42.828125\" xlink:href=\"#mf31b1eaf7e\" y=\"96.7883\"/>\n      </g>\n     </g>\n     <g id=\"text_12\">\n      <!-- 0.005 -->\n      <defs>\n       <path d=\"M 10.796875 72.90625 \nL 49.515625 72.90625 \nL 49.515625 64.59375 \nL 19.828125 64.59375 \nL 19.828125 46.734375 \nQ 21.96875 47.46875 24.109375 47.828125 \nQ 26.265625 48.1875 28.421875 48.1875 \nQ 40.625 48.1875 47.75 41.5 \nQ 54.890625 34.8125 54.890625 23.390625 \nQ 54.890625 11.625 47.5625 5.09375 \nQ 40.234375 -1.421875 26.90625 -1.421875 \nQ 22.3125 -1.421875 17.546875 -0.640625 \nQ 12.796875 0.140625 7.71875 1.703125 \nL 7.71875 11.625 \nQ 12.109375 9.234375 16.796875 8.0625 \nQ 21.484375 6.890625 26.703125 6.890625 \nQ 35.15625 6.890625 40.078125 11.328125 \nQ 45.015625 15.765625 45.015625 23.390625 \nQ 45.015625 31 40.078125 35.4375 \nQ 35.15625 39.890625 26.703125 39.890625 \nQ 22.75 39.890625 18.8125 39.015625 \nQ 14.890625 38.140625 10.796875 36.28125 \nz\n\" id=\"DejaVuSans-53\"/>\n      </defs>\n      <g transform=\"translate(7.2 100.587519)scale(0.1 -0.1)\">\n       <use xlink:href=\"#DejaVuSans-48\"/>\n       <use x=\"63.623047\" xlink:href=\"#DejaVuSans-46\"/>\n       <use x=\"95.410156\" xlink:href=\"#DejaVuSans-48\"/>\n       <use x=\"159.033203\" xlink:href=\"#DejaVuSans-48\"/>\n       <use x=\"222.65625\" xlink:href=\"#DejaVuSans-53\"/>\n      </g>\n     </g>\n    </g>\n    <g id=\"ytick_7\">\n     <g id=\"line2d_12\">\n      <g>\n       <use style=\"stroke:#000000;stroke-width:0.8;\" x=\"42.828125\" xlink:href=\"#mf31b1eaf7e\" y=\"71.21796\"/>\n      </g>\n     </g>\n     <g id=\"text_13\">\n      <!-- 0.006 -->\n      <g transform=\"translate(7.2 75.017179)scale(0.1 -0.1)\">\n       <use xlink:href=\"#DejaVuSans-48\"/>\n       <use x=\"63.623047\" xlink:href=\"#DejaVuSans-46\"/>\n       <use x=\"95.410156\" xlink:href=\"#DejaVuSans-48\"/>\n       <use x=\"159.033203\" xlink:href=\"#DejaVuSans-48\"/>\n       <use x=\"222.65625\" xlink:href=\"#DejaVuSans-54\"/>\n      </g>\n     </g>\n    </g>\n    <g id=\"ytick_8\">\n     <g id=\"line2d_13\">\n      <g>\n       <use style=\"stroke:#000000;stroke-width:0.8;\" x=\"42.828125\" xlink:href=\"#mf31b1eaf7e\" y=\"45.64762\"/>\n      </g>\n     </g>\n     <g id=\"text_14\">\n      <!-- 0.007 -->\n      <defs>\n       <path d=\"M 8.203125 72.90625 \nL 55.078125 72.90625 \nL 55.078125 68.703125 \nL 28.609375 0 \nL 18.3125 0 \nL 43.21875 64.59375 \nL 8.203125 64.59375 \nz\n\" id=\"DejaVuSans-55\"/>\n      </defs>\n      <g transform=\"translate(7.2 49.446839)scale(0.1 -0.1)\">\n       <use xlink:href=\"#DejaVuSans-48\"/>\n       <use x=\"63.623047\" xlink:href=\"#DejaVuSans-46\"/>\n       <use x=\"95.410156\" xlink:href=\"#DejaVuSans-48\"/>\n       <use x=\"159.033203\" xlink:href=\"#DejaVuSans-48\"/>\n       <use x=\"222.65625\" xlink:href=\"#DejaVuSans-55\"/>\n      </g>\n     </g>\n    </g>\n    <g id=\"ytick_9\">\n     <g id=\"line2d_14\">\n      <g>\n       <use style=\"stroke:#000000;stroke-width:0.8;\" x=\"42.828125\" xlink:href=\"#mf31b1eaf7e\" y=\"20.07728\"/>\n      </g>\n     </g>\n     <g id=\"text_15\">\n      <!-- 0.008 -->\n      <g transform=\"translate(7.2 23.876499)scale(0.1 -0.1)\">\n       <use xlink:href=\"#DejaVuSans-48\"/>\n       <use x=\"63.623047\" xlink:href=\"#DejaVuSans-46\"/>\n       <use x=\"95.410156\" xlink:href=\"#DejaVuSans-48\"/>\n       <use x=\"159.033203\" xlink:href=\"#DejaVuSans-48\"/>\n       <use x=\"222.65625\" xlink:href=\"#DejaVuSans-56\"/>\n      </g>\n     </g>\n    </g>\n   </g>\n   <g id=\"line2d_15\">\n    <path clip-path=\"url(#pb7c06f9f78)\" d=\"M 58.046307 224.290771 \nL 60.442871 223.954339 \nL 62.839435 223.278359 \nL 65.235999 222.043581 \nL 67.632563 219.934723 \nL 70.029127 216.543795 \nL 72.425691 211.3983 \nL 74.822255 204.019819 \nL 77.218819 194.010216 \nL 79.615383 181.153161 \nL 82.011947 165.511673 \nL 84.408512 147.500412 \nL 91.598204 88.857905 \nL 93.994768 72.290722 \nL 96.391332 59.58456 \nL 98.787896 51.787409 \nL 101.18446 49.418773 \nL 103.581024 52.37199 \nL 105.977588 59.943071 \nL 108.374152 70.982062 \nL 110.770716 84.123124 \nL 115.563844 111.582147 \nL 117.960408 124.011256 \nL 120.356973 134.910096 \nL 122.753537 144.203045 \nL 125.150101 152.057467 \nL 127.546665 158.773695 \nL 129.943229 164.673368 \nL 132.339793 170.007687 \nL 134.736357 174.904613 \nL 137.132921 179.365451 \nL 139.529485 183.307062 \nL 141.926049 186.631236 \nL 144.322613 189.294138 \nL 146.719177 191.350354 \nL 149.115741 192.957005 \nL 153.908869 195.730244 \nL 156.305434 197.312971 \nL 158.701998 199.175565 \nL 161.098562 201.30094 \nL 168.288254 208.024064 \nL 170.684818 209.900779 \nL 173.081382 211.434494 \nL 175.477946 212.601956 \nL 177.87451 213.420595 \nL 180.271074 213.936273 \nL 182.667638 214.214166 \nL 192.253895 214.674143 \nL 194.650459 215.074482 \nL 197.047023 215.711217 \nL 199.443587 216.583021 \nL 204.236715 218.822265 \nL 209.029843 221.141517 \nL 211.426407 222.121326 \nL 213.822971 222.914754 \nL 216.219535 223.508679 \nL 218.616099 223.912149 \nL 221.012663 224.144928 \nL 223.409227 224.226138 \nL 225.805791 224.166558 \nL 228.202355 223.966807 \nL 230.59892 223.621995 \nL 232.995484 223.131678 \nL 237.788612 221.806329 \nL 242.58174 220.447789 \nL 244.978304 219.986851 \nL 247.374868 219.781395 \nL 249.771432 219.867574 \nL 252.167996 220.23001 \nL 254.56456 220.806313 \nL 261.754252 222.89358 \nL 264.150816 223.450503 \nL 266.547381 223.877716 \nL 271.340509 224.379211 \nL 276.133637 224.570052 \nL 285.719893 224.637438 \nL 302.495842 224.538758 \nL 307.28897 224.247621 \nL 309.685534 223.933536 \nL 312.082098 223.441585 \nL 314.478662 222.724645 \nL 316.875226 221.755932 \nL 319.27179 220.548672 \nL 326.461482 216.475868 \nL 328.858046 215.519345 \nL 331.25461 215.042424 \nL 333.651174 215.12746 \nL 336.047738 215.76006 \nL 338.444303 216.833061 \nL 348.030559 222.08171 \nL 350.427123 222.973976 \nL 352.823687 223.616615 \nL 355.220251 224.042784 \nL 357.616815 224.297434 \nL 360.013379 224.418661 \nL 362.409943 224.422727 \nL 362.409943 224.422727 \n\" style=\"fill:none;stroke:#1f77b4;stroke-linecap:square;stroke-width:1.5;\"/>\n   </g>\n   <g id=\"patch_21\">\n    <path d=\"M 42.828125 224.64 \nL 42.828125 7.2 \n\" style=\"fill:none;stroke:#000000;stroke-linecap:square;stroke-linejoin:miter;stroke-width:0.8;\"/>\n   </g>\n   <g id=\"patch_22\">\n    <path d=\"M 377.628125 224.64 \nL 377.628125 7.2 \n\" style=\"fill:none;stroke:#000000;stroke-linecap:square;stroke-linejoin:miter;stroke-width:0.8;\"/>\n   </g>\n   <g id=\"patch_23\">\n    <path d=\"M 42.828125 224.64 \nL 377.628125 224.64 \n\" style=\"fill:none;stroke:#000000;stroke-linecap:square;stroke-linejoin:miter;stroke-width:0.8;\"/>\n   </g>\n   <g id=\"patch_24\">\n    <path d=\"M 42.828125 7.2 \nL 377.628125 7.2 \n\" style=\"fill:none;stroke:#000000;stroke-linecap:square;stroke-linejoin:miter;stroke-width:0.8;\"/>\n   </g>\n  </g>\n </g>\n <defs>\n  <clipPath id=\"pb7c06f9f78\">\n   <rect height=\"217.44\" width=\"334.8\" x=\"42.828125\" y=\"7.2\"/>\n  </clipPath>\n </defs>\n</svg>\n",
      "image/png": "[encoded data removed]"
     },
     "metadata": {
      "needs_background": "light"
     }
    }
   ],
   "source": [
    "sns.distplot(dfMaT[\"diff\"])"
   ]
  },
  {
   "cell_type": "code",
   "execution_count": 83,
   "metadata": {},
   "outputs": [
    {
     "output_type": "execute_result",
     "data": {
      "text/plain": "          OpenPrice  HighestPrice   LowestPrice    ClosePrice        diff\ncount     56.000000     56.000000     56.000000     56.000000   56.000000\nmean   10832.301071  10869.795179  10785.370000  10830.834286   58.030000\nstd      616.273193    608.048622    615.898193    606.748028   38.260438\nmin     9460.200000   9596.350000   9415.520000   9590.300000    1.760000\n25%    10454.742500  10512.325000  10409.982500  10460.122500   33.737500\n50%    10810.810000  10851.990000  10764.765000  10836.160000   47.605000\n75%    11180.120000  11196.537500  11040.520000  11096.250000   81.775000\nmax    12094.810000  12114.890000  12046.220000  12113.420000  148.010000",
      "text/html": "<div>\n<style scoped>\n    .dataframe tbody tr th:only-of-type {\n        vertical-align: middle;\n    }\n\n    .dataframe tbody tr th {\n        vertical-align: top;\n    }\n\n    .dataframe thead th {\n        text-align: right;\n    }\n</style>\n<table border=\"1\" class=\"dataframe\">\n  <thead>\n    <tr style=\"text-align: right;\">\n      <th></th>\n      <th>OpenPrice</th>\n      <th>HighestPrice</th>\n      <th>LowestPrice</th>\n      <th>ClosePrice</th>\n      <th>diff</th>\n    </tr>\n  </thead>\n  <tbody>\n    <tr>\n      <th>count</th>\n      <td>56.000000</td>\n      <td>56.000000</td>\n      <td>56.000000</td>\n      <td>56.000000</td>\n      <td>56.000000</td>\n    </tr>\n    <tr>\n      <th>mean</th>\n      <td>10832.301071</td>\n      <td>10869.795179</td>\n      <td>10785.370000</td>\n      <td>10830.834286</td>\n      <td>58.030000</td>\n    </tr>\n    <tr>\n      <th>std</th>\n      <td>616.273193</td>\n      <td>608.048622</td>\n      <td>615.898193</td>\n      <td>606.748028</td>\n      <td>38.260438</td>\n    </tr>\n    <tr>\n      <th>min</th>\n      <td>9460.200000</td>\n      <td>9596.350000</td>\n      <td>9415.520000</td>\n      <td>9590.300000</td>\n      <td>1.760000</td>\n    </tr>\n    <tr>\n      <th>25%</th>\n      <td>10454.742500</td>\n      <td>10512.325000</td>\n      <td>10409.982500</td>\n      <td>10460.122500</td>\n      <td>33.737500</td>\n    </tr>\n    <tr>\n      <th>50%</th>\n      <td>10810.810000</td>\n      <td>10851.990000</td>\n      <td>10764.765000</td>\n      <td>10836.160000</td>\n      <td>47.605000</td>\n    </tr>\n    <tr>\n      <th>75%</th>\n      <td>11180.120000</td>\n      <td>11196.537500</td>\n      <td>11040.520000</td>\n      <td>11096.250000</td>\n      <td>81.775000</td>\n    </tr>\n    <tr>\n      <th>max</th>\n      <td>12094.810000</td>\n      <td>12114.890000</td>\n      <td>12046.220000</td>\n      <td>12113.420000</td>\n      <td>148.010000</td>\n    </tr>\n  </tbody>\n</table>\n</div>"
     },
     "metadata": {},
     "execution_count": 83
    }
   ],
   "source": [
    "dfMaT[dfMaT[\"diff\"] <= 150].describe()"
   ]
  },
  {
   "cell_type": "code",
   "execution_count": 102,
   "metadata": {},
   "outputs": [
    {
     "output_type": "execute_result",
     "data": {
      "text/plain": "          履約價\n0     10300.0\n1     10300.0\n2     10300.0\n3     10300.0\n4     10400.0\n...       ...\n1057  13800.0\n1058  14000.0\n1059  14000.0\n1060  14000.0\n1061  14000.0\n\n[1062 rows x 1 columns]",
      "text/html": "<div>\n<style scoped>\n    .dataframe tbody tr th:only-of-type {\n        vertical-align: middle;\n    }\n\n    .dataframe tbody tr th {\n        vertical-align: top;\n    }\n\n    .dataframe thead th {\n        text-align: right;\n    }\n</style>\n<table border=\"1\" class=\"dataframe\">\n  <thead>\n    <tr style=\"text-align: right;\">\n      <th></th>\n      <th>履約價</th>\n    </tr>\n  </thead>\n  <tbody>\n    <tr>\n      <th>0</th>\n      <td>10300.0</td>\n    </tr>\n    <tr>\n      <th>1</th>\n      <td>10300.0</td>\n    </tr>\n    <tr>\n      <th>2</th>\n      <td>10300.0</td>\n    </tr>\n    <tr>\n      <th>3</th>\n      <td>10300.0</td>\n    </tr>\n    <tr>\n      <th>4</th>\n      <td>10400.0</td>\n    </tr>\n    <tr>\n      <th>...</th>\n      <td>...</td>\n    </tr>\n    <tr>\n      <th>1057</th>\n      <td>13800.0</td>\n    </tr>\n    <tr>\n      <th>1058</th>\n      <td>14000.0</td>\n    </tr>\n    <tr>\n      <th>1059</th>\n      <td>14000.0</td>\n    </tr>\n    <tr>\n      <th>1060</th>\n      <td>14000.0</td>\n    </tr>\n    <tr>\n      <th>1061</th>\n      <td>14000.0</td>\n    </tr>\n  </tbody>\n</table>\n<p>1062 rows × 1 columns</p>\n</div>"
     },
     "metadata": {},
     "execution_count": 102
    }
   ],
   "source": [
    "dfwed = pandas.read_csv(\"/Users/singularity/Downloads/asdfqwr.csv\", encoding= \"Big5\", usecols = [\"履約價\"], sep=\",\", index_col=False)\n",
    "dfwed"
   ]
  },
  {
   "cell_type": "code",
   "execution_count": 110,
   "metadata": {
    "tags": []
   },
   "outputs": [
    {
     "output_type": "stream",
     "name": "stdout",
     "text": "True\n"
    }
   ],
   "source": [
    "s = len(pandas.bdate_range(start='1/7/2019', end='6/24/2020', freq=\"W-MON\")) == len(pandas.date_range(start='1/7/2019', end='6/24/2020', freq=\"W-MON\"))\n",
    "# sd = pandas.date_range(start='1/7/2019', end='6/24/2020', freq=\"W-MON\")\n",
    "# for i in sd:\n",
    "#     print(i)\n",
    "print(s)"
   ]
  },
  {
   "cell_type": "code",
   "execution_count": null,
   "metadata": {},
   "outputs": [],
   "source": []
  },
  {
   "cell_type": "code",
   "execution_count": null,
   "metadata": {},
   "outputs": [],
   "source": []
  },
  {
   "cell_type": "code",
   "execution_count": null,
   "metadata": {},
   "outputs": [],
   "source": []
  }
 ],
 "metadata": {
  "language_info": {
   "codemirror_mode": {
    "name": "ipython",
    "version": 3
   },
   "file_extension": ".py",
   "mimetype": "text/x-python",
   "name": "python",
   "nbconvert_exporter": "python",
   "pygments_lexer": "ipython3",
   "version": 3
  },
  "orig_nbformat": 2,
  "kernelspec": {
   "name": "python_defaultSpec_1593437367807",
   "display_name": "Python 3.6.8 64-bit ('fintech': conda)"
  }
 },
 "nbformat": 4,
 "nbformat_minor": 2
}