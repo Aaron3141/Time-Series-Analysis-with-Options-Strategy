{
 "cells": [
  {
   "cell_type": "code",
   "execution_count": 1,
   "metadata": {},
   "outputs": [
    {
     "data": {
      "text/html": [
       "        <script type=\"text/javascript\">\n",
       "        window.PlotlyConfig = {MathJaxConfig: 'local'};\n",
       "        if (window.MathJax) {MathJax.Hub.Config({SVG: {font: \"STIX-Web\"}});}\n",
       "        if (typeof require !== 'undefined') {\n",
       "        require.undef(\"plotly\");\n",
       "        requirejs.config({\n",
       "            paths: {\n",
       "                'plotly': ['https://cdn.plot.ly/plotly-latest.min']\n",
       "            }\n",
       "        });\n",
       "        require(['plotly'], function(Plotly) {\n",
       "            window._Plotly = Plotly;\n",
       "        });\n",
       "        }\n",
       "        </script>\n",
       "        "
      ]
     },
     "metadata": {},
     "output_type": "display_data"
    }
   ],
   "source": [
    "\n",
    "import plotly.graph_objects\n",
    "import seaborn as sns\n",
    "import matplotlib.pyplot as plt\n",
    "from scipy import stats\n",
    "import numpy as np\n",
    "import pandas\n",
    "import datetime\n",
    "# from pandas.tseries.offsets import *\n",
    "\n",
    "\n",
    "from plotly.offline import init_notebook_mode, iplot\n",
    "init_notebook_mode(connected=True) \n",
    "import plotly.express as px\n",
    "import plotly.graph_objects as go\n",
    "\n",
    "import loguru\n",
    "import requests\n",
    "\n",
    "pandas.set_option('display.max_rows', 500)\n",
    "# import sys\n",
    "# sys.path.insert(1, '/Users/singularity/Aaron/coding/fintech/OptionsDailyInfoData')"
   ]
  },
  {
   "cell_type": "markdown",
   "metadata": {},
   "source": [
    "## Time Series\n",
    "---\n",
    "利用時間分析結果，建造一個模型  \n",
    "param = (2, 0, 2)\n",
    "param_seasonal = (0, 0, 2, 12)"
   ]
  },
  {
   "cell_type": "code",
   "execution_count": 2,
   "metadata": {},
   "outputs": [],
   "source": [
    "import statsmodels.api as sm\n",
    "import itertools\n",
    "import math\n",
    "import warnings\n",
    "warnings.filterwarnings(\"ignore\")"
   ]
  },
  {
   "cell_type": "code",
   "execution_count": 3,
   "metadata": {},
   "outputs": [],
   "source": [
    "filenameTaiexs = f'taiexs-2014-2020.csv'\n",
    "# filenameTaiexs = f'taiexs-2019.csv'\n",
    "filepathTaiexs = f'/Users/singularity/Aaron/coding/fintech/{filenameTaiexs}'\n",
    "\n",
    "dfTaiexs = pandas.read_csv(filepathTaiexs)\n",
    "dfTaiexs['Date'] = pandas.to_datetime(dfTaiexs['Date'], format='%Y%m%d')\n",
    "\n",
    "\n",
    "dfTaiexsTS = dfTaiexs.copy()\n",
    "dfTaiexsTS.index = dfTaiexsTS['Date']\n",
    "close = dfTaiexsTS['ClosePrice']\n",
    "taiexDiff = (close-close.shift(1)).dropna()"
   ]
  },
  {
   "cell_type": "code",
   "execution_count": 4,
   "metadata": {},
   "outputs": [],
   "source": [
    "taiexDiff_MEAN = taiexDiff.mean()\n",
    "taiexDiff_STD = taiexDiff.std()"
   ]
  },
  {
   "cell_type": "code",
   "execution_count": 5,
   "metadata": {},
   "outputs": [],
   "source": [
    "def timeSeries(date):\n",
    "    global taiexDiff\n",
    "    trainTaiexDiff = taiexDiff[:date]\n",
    "    param = (2, 0, 2)\n",
    "    param_seasonal = (0, 0, 2, 12)\n",
    "    mod = sm.tsa.statespace.SARIMAX(trainTaiexDiff,\n",
    "                                    order=param,\n",
    "                                    seasonal_order=param_seasonal,\n",
    "                                    enforce_stationarity=False,\n",
    "                                    enforce_invertibility=False)\n",
    "\n",
    "    results = mod.fit()\n",
    "    # Get forecast 2 steps ahead in future\n",
    "    steps = 2\n",
    "    pred_uc = results.get_forecast(steps=steps)\n",
    "    # pred_uc = 0\n",
    "    # pred_uc.predicted_mean\n",
    "    return pred_uc.predicted_mean"
   ]
  },
  {
   "cell_type": "markdown",
   "metadata": {},
   "source": [
    "## /\\\\ /\\\\ /\\\\ /\\\\ /\\\\ /\\\\ /\\\\ /\\\\ /\\\\ /\\\\ /\\\\ /\\\\ /\\\\ /\\\\ /\\\\ /\\\\"
   ]
  },
  {
   "cell_type": "markdown",
   "metadata": {},
   "source": [
    "## 以2019/7/29作為例子: Date\n",
    "Notes: 以下有Date出現都是以此日期作為例子"
   ]
  },
  {
   "cell_type": "code",
   "execution_count": 6,
   "metadata": {},
   "outputs": [],
   "source": [
    "YEAR = 2019\n",
    "MONTH = 7\n",
    "DAY = 29"
   ]
  },
  {
   "cell_type": "markdown",
   "metadata": {},
   "source": [
    "### 找出Date那天加權股價指數"
   ]
  },
  {
   "cell_type": "code",
   "execution_count": 7,
   "metadata": {
    "tags": []
   },
   "outputs": [
    {
     "name": "stdout",
     "output_type": "stream",
     "text": [
      "TAIEX_VALUE: 10885.73\n",
      "TAIEX_VALUE_BOTTOM: 10850\n",
      "TAIEX_VALUE_TOP: 10900\n"
     ]
    }
   ],
   "source": [
    "# filenameTaiexs = f'taiexs-2019.csv'\n",
    "# filepathTaiexs = f'/Users/singularity/Aaron/coding/fintech/{filenameTaiexs}'\n",
    "\n",
    "# dfTaiexs = pandas.read_csv(filepathTaiexs)\n",
    "# dfTaiexs['Date'] = pandas.to_datetime(dfTaiexs['Date'], format='%Y%m%d')\n",
    "\n",
    "TAIEX_VALUE = 0\n",
    "\n",
    "TAIEX_VALUE = float(dfTaiexs[dfTaiexs['Date'] == f'{YEAR}-{MONTH:02}-{DAY:02}']['ClosePrice'])\n",
    "TAIEX_VALUE_BOTTOM = int(TAIEX_VALUE - (TAIEX_VALUE % 50))\n",
    "TAIEX_VALUE_TOP = TAIEX_VALUE_BOTTOM + 50\n",
    "\n",
    "print(f'TAIEX_VALUE: {TAIEX_VALUE}')\n",
    "print(f'TAIEX_VALUE_BOTTOM: {TAIEX_VALUE_BOTTOM}')\n",
    "print(f'TAIEX_VALUE_TOP: {TAIEX_VALUE_TOP}')"
   ]
  },
  {
   "cell_type": "markdown",
   "metadata": {},
   "source": [
    "### 匯入每週結算價表"
   ]
  },
  {
   "cell_type": "code",
   "execution_count": 8,
   "metadata": {},
   "outputs": [],
   "source": [
    "fileNameSettlementPrice = f'finalSettlementPrice.csv'\n",
    "filePathSettlementPrice = f'/Users/singularity/Aaron/coding/fintech/{fileNameSettlementPrice}'\n",
    "\n",
    "dfSettlementPrice = pandas.read_csv(filePathSettlementPrice)\n",
    "dfSettlementPrice['Date'] = pandas.to_datetime(dfSettlementPrice['Date'], format='%Y/%m/%d')\n",
    "dfSettlementPrice.sort_values(by='Date', inplace=True)\n",
    "# dfSettlementPrice[\"Date\"] = dfSettlementPrice[\"Date\"].apply(lambda d:  d-datetime.timedelta(days=2))\n",
    "dfSettlementPrice[\"Date\"] = dfSettlementPrice.apply(lambda d:  d[\"Date\"]-datetime.timedelta(days=2), axis=1)\n",
    "dftt = pandas.merge(dfTaiexs, dfSettlementPrice, left_on=[\"Date\"], right_on=[\"Date\"]\\\n",
    "            , suffixes=('_Call','_Put'))[['Date', 'ClosePrice', 'TX/MTX', 'ContractMonthWeek']]\n",
    "\n",
    "# dftt['Day_of_Week'] = dftt['Date'].dt.day_name()\n",
    "# dftt"
   ]
  },
  {
   "cell_type": "markdown",
   "metadata": {},
   "source": [
    "## 前後30天的Taiex"
   ]
  },
  {
   "cell_type": "code",
   "execution_count": 9,
   "metadata": {
    "tags": []
   },
   "outputs": [
    {
     "name": "stdout",
     "output_type": "stream",
     "text": [
      "2019-07-29\n"
     ]
    },
    {
     "data": {
      "text/html": [
       "<div>\n",
       "<style scoped>\n",
       "    .dataframe tbody tr th:only-of-type {\n",
       "        vertical-align: middle;\n",
       "    }\n",
       "\n",
       "    .dataframe tbody tr th {\n",
       "        vertical-align: top;\n",
       "    }\n",
       "\n",
       "    .dataframe thead th {\n",
       "        text-align: right;\n",
       "    }\n",
       "</style>\n",
       "<table border=\"1\" class=\"dataframe\">\n",
       "  <thead>\n",
       "    <tr style=\"text-align: right;\">\n",
       "      <th></th>\n",
       "      <th>Date</th>\n",
       "      <th>OpenPrice</th>\n",
       "      <th>HighestPrice</th>\n",
       "      <th>LowestPrice</th>\n",
       "      <th>ClosePrice</th>\n",
       "    </tr>\n",
       "  </thead>\n",
       "  <tbody>\n",
       "    <tr>\n",
       "      <th>1344</th>\n",
       "      <td>2019-07-01</td>\n",
       "      <td>10821.30</td>\n",
       "      <td>10914.85</td>\n",
       "      <td>10821.30</td>\n",
       "      <td>10895.46</td>\n",
       "    </tr>\n",
       "    <tr>\n",
       "      <th>1345</th>\n",
       "      <td>2019-07-02</td>\n",
       "      <td>10878.01</td>\n",
       "      <td>10888.21</td>\n",
       "      <td>10843.64</td>\n",
       "      <td>10865.12</td>\n",
       "    </tr>\n",
       "    <tr>\n",
       "      <th>1346</th>\n",
       "      <td>2019-07-03</td>\n",
       "      <td>10793.10</td>\n",
       "      <td>10812.65</td>\n",
       "      <td>10720.66</td>\n",
       "      <td>10743.77</td>\n",
       "    </tr>\n",
       "    <tr>\n",
       "      <th>1347</th>\n",
       "      <td>2019-07-04</td>\n",
       "      <td>10755.87</td>\n",
       "      <td>10791.28</td>\n",
       "      <td>10750.90</td>\n",
       "      <td>10775.90</td>\n",
       "    </tr>\n",
       "    <tr>\n",
       "      <th>1348</th>\n",
       "      <td>2019-07-05</td>\n",
       "      <td>10785.85</td>\n",
       "      <td>10812.38</td>\n",
       "      <td>10756.67</td>\n",
       "      <td>10785.73</td>\n",
       "    </tr>\n",
       "  </tbody>\n",
       "</table>\n",
       "</div>"
      ],
      "text/plain": [
       "           Date  OpenPrice  HighestPrice  LowestPrice  ClosePrice\n",
       "1344 2019-07-01   10821.30      10914.85     10821.30    10895.46\n",
       "1345 2019-07-02   10878.01      10888.21     10843.64    10865.12\n",
       "1346 2019-07-03   10793.10      10812.65     10720.66    10743.77\n",
       "1347 2019-07-04   10755.87      10791.28     10750.90    10775.90\n",
       "1348 2019-07-05   10785.85      10812.38     10756.67    10785.73"
      ]
     },
     "execution_count": 9,
     "metadata": {},
     "output_type": "execute_result"
    }
   ],
   "source": [
    "print(f'{YEAR}-{MONTH:02}-{DAY:02}')\n",
    "dfTaiexsRecent = dfTaiexs[(dfTaiexs['Date'] >= (datetime.datetime(YEAR, MONTH, DAY)-datetime.timedelta(days=30)))& (dfTaiexs['Date'] <= datetime.datetime(YEAR, MONTH, DAY)+datetime.timedelta(days=30))]\n",
    "dfTaiexsRecent.head()\n",
    "# dfTaiexs[dfTaiexs['Date'] >= datetime(YEAR, MONTH, DAY-7)]['ClosePrice']\n"
   ]
  },
  {
   "cell_type": "markdown",
   "metadata": {},
   "source": [
    "## 前後30天的Taiex的圖表"
   ]
  },
  {
   "cell_type": "code",
   "execution_count": 10,
   "metadata": {},
   "outputs": [
    {
     "data": {
      "application/vnd.plotly.v1+json": {
       "config": {
        "plotlyServerURL": "https://plot.ly"
       },
       "data": [
        {
         "mode": "lines",
         "name": "ClosePrice",
         "type": "scatter",
         "x": [
          "2019-07-01T00:00:00",
          "2019-07-02T00:00:00",
          "2019-07-03T00:00:00",
          "2019-07-04T00:00:00",
          "2019-07-05T00:00:00",
          "2019-07-08T00:00:00",
          "2019-07-09T00:00:00",
          "2019-07-10T00:00:00",
          "2019-07-11T00:00:00",
          "2019-07-12T00:00:00",
          "2019-07-15T00:00:00",
          "2019-07-16T00:00:00",
          "2019-07-17T00:00:00",
          "2019-07-18T00:00:00",
          "2019-07-19T00:00:00",
          "2019-07-22T00:00:00",
          "2019-07-23T00:00:00",
          "2019-07-24T00:00:00",
          "2019-07-25T00:00:00",
          "2019-07-26T00:00:00",
          "2019-07-29T00:00:00",
          "2019-07-30T00:00:00",
          "2019-07-31T00:00:00",
          "2019-08-01T00:00:00",
          "2019-08-02T00:00:00",
          "2019-08-05T00:00:00",
          "2019-08-06T00:00:00",
          "2019-08-07T00:00:00",
          "2019-08-08T00:00:00",
          "2019-08-12T00:00:00",
          "2019-08-13T00:00:00",
          "2019-08-14T00:00:00",
          "2019-08-15T00:00:00",
          "2019-08-16T00:00:00",
          "2019-08-19T00:00:00",
          "2019-08-20T00:00:00",
          "2019-08-21T00:00:00",
          "2019-08-22T00:00:00",
          "2019-08-23T00:00:00",
          "2019-08-26T00:00:00",
          "2019-08-27T00:00:00",
          "2019-08-28T00:00:00"
         ],
         "y": [
          10895.46,
          10865.12,
          10743.77,
          10775.9,
          10785.73,
          10751.22,
          10702.78,
          10798.48,
          10843.42,
          10824.35,
          10876.43,
          10886.05,
          10828.48,
          10799.28,
          10873.19,
          10944.53,
          10947.26,
          10935.76,
          10941.41,
          10891.98,
          10885.73,
          10830.9,
          10823.81,
          10731.75,
          10549.04,
          10423.41,
          10394.75,
          10386.18,
          10494.49,
          10472.36,
          10362.66,
          10427.73,
          10327.13,
          10420.89,
          10488.75,
          10522.5,
          10525.8,
          10529.78,
          10538.11,
          10354.57,
          10387.23,
          10434.29
         ]
        },
        {
         "mode": "markers",
         "name": "Taiexs@2019-07-29",
         "type": "scatter",
         "x": [
          "2019-07-29T00:00:00"
         ],
         "y": [
          10885.73
         ]
        }
       ],
       "layout": {
        "font": {
         "color": "#7f7f7f",
         "family": "Courier New, monospace",
         "size": 12
        },
        "template": {
         "data": {
          "bar": [
           {
            "error_x": {
             "color": "#2a3f5f"
            },
            "error_y": {
             "color": "#2a3f5f"
            },
            "marker": {
             "line": {
              "color": "#E5ECF6",
              "width": 0.5
             }
            },
            "type": "bar"
           }
          ],
          "barpolar": [
           {
            "marker": {
             "line": {
              "color": "#E5ECF6",
              "width": 0.5
             }
            },
            "type": "barpolar"
           }
          ],
          "carpet": [
           {
            "aaxis": {
             "endlinecolor": "#2a3f5f",
             "gridcolor": "white",
             "linecolor": "white",
             "minorgridcolor": "white",
             "startlinecolor": "#2a3f5f"
            },
            "baxis": {
             "endlinecolor": "#2a3f5f",
             "gridcolor": "white",
             "linecolor": "white",
             "minorgridcolor": "white",
             "startlinecolor": "#2a3f5f"
            },
            "type": "carpet"
           }
          ],
          "choropleth": [
           {
            "colorbar": {
             "outlinewidth": 0,
             "ticks": ""
            },
            "type": "choropleth"
           }
          ],
          "contour": [
           {
            "colorbar": {
             "outlinewidth": 0,
             "ticks": ""
            },
            "colorscale": [
             [
              0,
              "#0d0887"
             ],
             [
              0.1111111111111111,
              "#46039f"
             ],
             [
              0.2222222222222222,
              "#7201a8"
             ],
             [
              0.3333333333333333,
              "#9c179e"
             ],
             [
              0.4444444444444444,
              "#bd3786"
             ],
             [
              0.5555555555555556,
              "#d8576b"
             ],
             [
              0.6666666666666666,
              "#ed7953"
             ],
             [
              0.7777777777777778,
              "#fb9f3a"
             ],
             [
              0.8888888888888888,
              "#fdca26"
             ],
             [
              1,
              "#f0f921"
             ]
            ],
            "type": "contour"
           }
          ],
          "contourcarpet": [
           {
            "colorbar": {
             "outlinewidth": 0,
             "ticks": ""
            },
            "type": "contourcarpet"
           }
          ],
          "heatmap": [
           {
            "colorbar": {
             "outlinewidth": 0,
             "ticks": ""
            },
            "colorscale": [
             [
              0,
              "#0d0887"
             ],
             [
              0.1111111111111111,
              "#46039f"
             ],
             [
              0.2222222222222222,
              "#7201a8"
             ],
             [
              0.3333333333333333,
              "#9c179e"
             ],
             [
              0.4444444444444444,
              "#bd3786"
             ],
             [
              0.5555555555555556,
              "#d8576b"
             ],
             [
              0.6666666666666666,
              "#ed7953"
             ],
             [
              0.7777777777777778,
              "#fb9f3a"
             ],
             [
              0.8888888888888888,
              "#fdca26"
             ],
             [
              1,
              "#f0f921"
             ]
            ],
            "type": "heatmap"
           }
          ],
          "heatmapgl": [
           {
            "colorbar": {
             "outlinewidth": 0,
             "ticks": ""
            },
            "colorscale": [
             [
              0,
              "#0d0887"
             ],
             [
              0.1111111111111111,
              "#46039f"
             ],
             [
              0.2222222222222222,
              "#7201a8"
             ],
             [
              0.3333333333333333,
              "#9c179e"
             ],
             [
              0.4444444444444444,
              "#bd3786"
             ],
             [
              0.5555555555555556,
              "#d8576b"
             ],
             [
              0.6666666666666666,
              "#ed7953"
             ],
             [
              0.7777777777777778,
              "#fb9f3a"
             ],
             [
              0.8888888888888888,
              "#fdca26"
             ],
             [
              1,
              "#f0f921"
             ]
            ],
            "type": "heatmapgl"
           }
          ],
          "histogram": [
           {
            "marker": {
             "colorbar": {
              "outlinewidth": 0,
              "ticks": ""
             }
            },
            "type": "histogram"
           }
          ],
          "histogram2d": [
           {
            "colorbar": {
             "outlinewidth": 0,
             "ticks": ""
            },
            "colorscale": [
             [
              0,
              "#0d0887"
             ],
             [
              0.1111111111111111,
              "#46039f"
             ],
             [
              0.2222222222222222,
              "#7201a8"
             ],
             [
              0.3333333333333333,
              "#9c179e"
             ],
             [
              0.4444444444444444,
              "#bd3786"
             ],
             [
              0.5555555555555556,
              "#d8576b"
             ],
             [
              0.6666666666666666,
              "#ed7953"
             ],
             [
              0.7777777777777778,
              "#fb9f3a"
             ],
             [
              0.8888888888888888,
              "#fdca26"
             ],
             [
              1,
              "#f0f921"
             ]
            ],
            "type": "histogram2d"
           }
          ],
          "histogram2dcontour": [
           {
            "colorbar": {
             "outlinewidth": 0,
             "ticks": ""
            },
            "colorscale": [
             [
              0,
              "#0d0887"
             ],
             [
              0.1111111111111111,
              "#46039f"
             ],
             [
              0.2222222222222222,
              "#7201a8"
             ],
             [
              0.3333333333333333,
              "#9c179e"
             ],
             [
              0.4444444444444444,
              "#bd3786"
             ],
             [
              0.5555555555555556,
              "#d8576b"
             ],
             [
              0.6666666666666666,
              "#ed7953"
             ],
             [
              0.7777777777777778,
              "#fb9f3a"
             ],
             [
              0.8888888888888888,
              "#fdca26"
             ],
             [
              1,
              "#f0f921"
             ]
            ],
            "type": "histogram2dcontour"
           }
          ],
          "mesh3d": [
           {
            "colorbar": {
             "outlinewidth": 0,
             "ticks": ""
            },
            "type": "mesh3d"
           }
          ],
          "parcoords": [
           {
            "line": {
             "colorbar": {
              "outlinewidth": 0,
              "ticks": ""
             }
            },
            "type": "parcoords"
           }
          ],
          "pie": [
           {
            "automargin": true,
            "type": "pie"
           }
          ],
          "scatter": [
           {
            "marker": {
             "colorbar": {
              "outlinewidth": 0,
              "ticks": ""
             }
            },
            "type": "scatter"
           }
          ],
          "scatter3d": [
           {
            "line": {
             "colorbar": {
              "outlinewidth": 0,
              "ticks": ""
             }
            },
            "marker": {
             "colorbar": {
              "outlinewidth": 0,
              "ticks": ""
             }
            },
            "type": "scatter3d"
           }
          ],
          "scattercarpet": [
           {
            "marker": {
             "colorbar": {
              "outlinewidth": 0,
              "ticks": ""
             }
            },
            "type": "scattercarpet"
           }
          ],
          "scattergeo": [
           {
            "marker": {
             "colorbar": {
              "outlinewidth": 0,
              "ticks": ""
             }
            },
            "type": "scattergeo"
           }
          ],
          "scattergl": [
           {
            "marker": {
             "colorbar": {
              "outlinewidth": 0,
              "ticks": ""
             }
            },
            "type": "scattergl"
           }
          ],
          "scattermapbox": [
           {
            "marker": {
             "colorbar": {
              "outlinewidth": 0,
              "ticks": ""
             }
            },
            "type": "scattermapbox"
           }
          ],
          "scatterpolar": [
           {
            "marker": {
             "colorbar": {
              "outlinewidth": 0,
              "ticks": ""
             }
            },
            "type": "scatterpolar"
           }
          ],
          "scatterpolargl": [
           {
            "marker": {
             "colorbar": {
              "outlinewidth": 0,
              "ticks": ""
             }
            },
            "type": "scatterpolargl"
           }
          ],
          "scatterternary": [
           {
            "marker": {
             "colorbar": {
              "outlinewidth": 0,
              "ticks": ""
             }
            },
            "type": "scatterternary"
           }
          ],
          "surface": [
           {
            "colorbar": {
             "outlinewidth": 0,
             "ticks": ""
            },
            "colorscale": [
             [
              0,
              "#0d0887"
             ],
             [
              0.1111111111111111,
              "#46039f"
             ],
             [
              0.2222222222222222,
              "#7201a8"
             ],
             [
              0.3333333333333333,
              "#9c179e"
             ],
             [
              0.4444444444444444,
              "#bd3786"
             ],
             [
              0.5555555555555556,
              "#d8576b"
             ],
             [
              0.6666666666666666,
              "#ed7953"
             ],
             [
              0.7777777777777778,
              "#fb9f3a"
             ],
             [
              0.8888888888888888,
              "#fdca26"
             ],
             [
              1,
              "#f0f921"
             ]
            ],
            "type": "surface"
           }
          ],
          "table": [
           {
            "cells": {
             "fill": {
              "color": "#EBF0F8"
             },
             "line": {
              "color": "white"
             }
            },
            "header": {
             "fill": {
              "color": "#C8D4E3"
             },
             "line": {
              "color": "white"
             }
            },
            "type": "table"
           }
          ]
         },
         "layout": {
          "annotationdefaults": {
           "arrowcolor": "#2a3f5f",
           "arrowhead": 0,
           "arrowwidth": 1
          },
          "coloraxis": {
           "colorbar": {
            "outlinewidth": 0,
            "ticks": ""
           }
          },
          "colorscale": {
           "diverging": [
            [
             0,
             "#8e0152"
            ],
            [
             0.1,
             "#c51b7d"
            ],
            [
             0.2,
             "#de77ae"
            ],
            [
             0.3,
             "#f1b6da"
            ],
            [
             0.4,
             "#fde0ef"
            ],
            [
             0.5,
             "#f7f7f7"
            ],
            [
             0.6,
             "#e6f5d0"
            ],
            [
             0.7,
             "#b8e186"
            ],
            [
             0.8,
             "#7fbc41"
            ],
            [
             0.9,
             "#4d9221"
            ],
            [
             1,
             "#276419"
            ]
           ],
           "sequential": [
            [
             0,
             "#0d0887"
            ],
            [
             0.1111111111111111,
             "#46039f"
            ],
            [
             0.2222222222222222,
             "#7201a8"
            ],
            [
             0.3333333333333333,
             "#9c179e"
            ],
            [
             0.4444444444444444,
             "#bd3786"
            ],
            [
             0.5555555555555556,
             "#d8576b"
            ],
            [
             0.6666666666666666,
             "#ed7953"
            ],
            [
             0.7777777777777778,
             "#fb9f3a"
            ],
            [
             0.8888888888888888,
             "#fdca26"
            ],
            [
             1,
             "#f0f921"
            ]
           ],
           "sequentialminus": [
            [
             0,
             "#0d0887"
            ],
            [
             0.1111111111111111,
             "#46039f"
            ],
            [
             0.2222222222222222,
             "#7201a8"
            ],
            [
             0.3333333333333333,
             "#9c179e"
            ],
            [
             0.4444444444444444,
             "#bd3786"
            ],
            [
             0.5555555555555556,
             "#d8576b"
            ],
            [
             0.6666666666666666,
             "#ed7953"
            ],
            [
             0.7777777777777778,
             "#fb9f3a"
            ],
            [
             0.8888888888888888,
             "#fdca26"
            ],
            [
             1,
             "#f0f921"
            ]
           ]
          },
          "colorway": [
           "#636efa",
           "#EF553B",
           "#00cc96",
           "#ab63fa",
           "#FFA15A",
           "#19d3f3",
           "#FF6692",
           "#B6E880",
           "#FF97FF",
           "#FECB52"
          ],
          "font": {
           "color": "#2a3f5f"
          },
          "geo": {
           "bgcolor": "white",
           "lakecolor": "white",
           "landcolor": "#E5ECF6",
           "showlakes": true,
           "showland": true,
           "subunitcolor": "white"
          },
          "hoverlabel": {
           "align": "left"
          },
          "hovermode": "closest",
          "mapbox": {
           "style": "light"
          },
          "paper_bgcolor": "white",
          "plot_bgcolor": "#E5ECF6",
          "polar": {
           "angularaxis": {
            "gridcolor": "white",
            "linecolor": "white",
            "ticks": ""
           },
           "bgcolor": "#E5ECF6",
           "radialaxis": {
            "gridcolor": "white",
            "linecolor": "white",
            "ticks": ""
           }
          },
          "scene": {
           "xaxis": {
            "backgroundcolor": "#E5ECF6",
            "gridcolor": "white",
            "gridwidth": 2,
            "linecolor": "white",
            "showbackground": true,
            "ticks": "",
            "zerolinecolor": "white"
           },
           "yaxis": {
            "backgroundcolor": "#E5ECF6",
            "gridcolor": "white",
            "gridwidth": 2,
            "linecolor": "white",
            "showbackground": true,
            "ticks": "",
            "zerolinecolor": "white"
           },
           "zaxis": {
            "backgroundcolor": "#E5ECF6",
            "gridcolor": "white",
            "gridwidth": 2,
            "linecolor": "white",
            "showbackground": true,
            "ticks": "",
            "zerolinecolor": "white"
           }
          },
          "shapedefaults": {
           "line": {
            "color": "#2a3f5f"
           }
          },
          "ternary": {
           "aaxis": {
            "gridcolor": "white",
            "linecolor": "white",
            "ticks": ""
           },
           "baxis": {
            "gridcolor": "white",
            "linecolor": "white",
            "ticks": ""
           },
           "bgcolor": "#E5ECF6",
           "caxis": {
            "gridcolor": "white",
            "linecolor": "white",
            "ticks": ""
           }
          },
          "title": {
           "x": 0.05
          },
          "xaxis": {
           "automargin": true,
           "gridcolor": "white",
           "linecolor": "white",
           "ticks": "",
           "title": {
            "standoff": 15
           },
           "zerolinecolor": "white",
           "zerolinewidth": 2
          },
          "yaxis": {
           "automargin": true,
           "gridcolor": "white",
           "linecolor": "white",
           "ticks": "",
           "title": {
            "standoff": 15
           },
           "zerolinecolor": "white",
           "zerolinewidth": 2
          }
         }
        },
        "title": {
         "text": "Taiexs@2019-07-29"
        },
        "xaxis": {
         "tickformat": "%Y-%m-%d"
        },
        "yaxis": {
         "tickformat": ".2f"
        }
       }
      },
      "text/html": [
       "<div>\n",
       "        \n",
       "        \n",
       "            <div id=\"3e3a53f7-75fe-4bbe-a06a-210c6e8fe90f\" class=\"plotly-graph-div\" style=\"height:525px; width:100%;\"></div>\n",
       "            <script type=\"text/javascript\">\n",
       "                require([\"plotly\"], function(Plotly) {\n",
       "                    window.PLOTLYENV=window.PLOTLYENV || {};\n",
       "                    \n",
       "                if (document.getElementById(\"3e3a53f7-75fe-4bbe-a06a-210c6e8fe90f\")) {\n",
       "                    Plotly.newPlot(\n",
       "                        '3e3a53f7-75fe-4bbe-a06a-210c6e8fe90f',\n",
       "                        [{\"mode\": \"lines\", \"name\": \"ClosePrice\", \"type\": \"scatter\", \"x\": [\"2019-07-01T00:00:00\", \"2019-07-02T00:00:00\", \"2019-07-03T00:00:00\", \"2019-07-04T00:00:00\", \"2019-07-05T00:00:00\", \"2019-07-08T00:00:00\", \"2019-07-09T00:00:00\", \"2019-07-10T00:00:00\", \"2019-07-11T00:00:00\", \"2019-07-12T00:00:00\", \"2019-07-15T00:00:00\", \"2019-07-16T00:00:00\", \"2019-07-17T00:00:00\", \"2019-07-18T00:00:00\", \"2019-07-19T00:00:00\", \"2019-07-22T00:00:00\", \"2019-07-23T00:00:00\", \"2019-07-24T00:00:00\", \"2019-07-25T00:00:00\", \"2019-07-26T00:00:00\", \"2019-07-29T00:00:00\", \"2019-07-30T00:00:00\", \"2019-07-31T00:00:00\", \"2019-08-01T00:00:00\", \"2019-08-02T00:00:00\", \"2019-08-05T00:00:00\", \"2019-08-06T00:00:00\", \"2019-08-07T00:00:00\", \"2019-08-08T00:00:00\", \"2019-08-12T00:00:00\", \"2019-08-13T00:00:00\", \"2019-08-14T00:00:00\", \"2019-08-15T00:00:00\", \"2019-08-16T00:00:00\", \"2019-08-19T00:00:00\", \"2019-08-20T00:00:00\", \"2019-08-21T00:00:00\", \"2019-08-22T00:00:00\", \"2019-08-23T00:00:00\", \"2019-08-26T00:00:00\", \"2019-08-27T00:00:00\", \"2019-08-28T00:00:00\"], \"y\": [10895.46, 10865.12, 10743.77, 10775.9, 10785.73, 10751.22, 10702.78, 10798.48, 10843.42, 10824.35, 10876.43, 10886.05, 10828.48, 10799.28, 10873.19, 10944.53, 10947.26, 10935.76, 10941.41, 10891.98, 10885.73, 10830.9, 10823.81, 10731.75, 10549.04, 10423.41, 10394.75, 10386.18, 10494.49, 10472.36, 10362.66, 10427.73, 10327.13, 10420.89, 10488.75, 10522.5, 10525.8, 10529.78, 10538.11, 10354.57, 10387.23, 10434.29]}, {\"mode\": \"markers\", \"name\": \"Taiexs@2019-07-29\", \"type\": \"scatter\", \"x\": [\"2019-07-29T00:00:00\"], \"y\": [10885.73]}],\n",
       "                        {\"font\": {\"color\": \"#7f7f7f\", \"family\": \"Courier New, monospace\", \"size\": 12}, \"template\": {\"data\": {\"bar\": [{\"error_x\": {\"color\": \"#2a3f5f\"}, \"error_y\": {\"color\": \"#2a3f5f\"}, \"marker\": {\"line\": {\"color\": \"#E5ECF6\", \"width\": 0.5}}, \"type\": \"bar\"}], \"barpolar\": [{\"marker\": {\"line\": {\"color\": \"#E5ECF6\", \"width\": 0.5}}, \"type\": \"barpolar\"}], \"carpet\": [{\"aaxis\": {\"endlinecolor\": \"#2a3f5f\", \"gridcolor\": \"white\", \"linecolor\": \"white\", \"minorgridcolor\": \"white\", \"startlinecolor\": \"#2a3f5f\"}, \"baxis\": {\"endlinecolor\": \"#2a3f5f\", \"gridcolor\": \"white\", \"linecolor\": \"white\", \"minorgridcolor\": \"white\", \"startlinecolor\": \"#2a3f5f\"}, \"type\": \"carpet\"}], \"choropleth\": [{\"colorbar\": {\"outlinewidth\": 0, \"ticks\": \"\"}, \"type\": \"choropleth\"}], \"contour\": [{\"colorbar\": {\"outlinewidth\": 0, \"ticks\": \"\"}, \"colorscale\": [[0.0, \"#0d0887\"], [0.1111111111111111, \"#46039f\"], [0.2222222222222222, \"#7201a8\"], [0.3333333333333333, \"#9c179e\"], [0.4444444444444444, \"#bd3786\"], [0.5555555555555556, \"#d8576b\"], [0.6666666666666666, \"#ed7953\"], [0.7777777777777778, \"#fb9f3a\"], [0.8888888888888888, \"#fdca26\"], [1.0, \"#f0f921\"]], \"type\": \"contour\"}], \"contourcarpet\": [{\"colorbar\": {\"outlinewidth\": 0, \"ticks\": \"\"}, \"type\": \"contourcarpet\"}], \"heatmap\": [{\"colorbar\": {\"outlinewidth\": 0, \"ticks\": \"\"}, \"colorscale\": [[0.0, \"#0d0887\"], [0.1111111111111111, \"#46039f\"], [0.2222222222222222, \"#7201a8\"], [0.3333333333333333, \"#9c179e\"], [0.4444444444444444, \"#bd3786\"], [0.5555555555555556, \"#d8576b\"], [0.6666666666666666, \"#ed7953\"], [0.7777777777777778, \"#fb9f3a\"], [0.8888888888888888, \"#fdca26\"], [1.0, \"#f0f921\"]], \"type\": \"heatmap\"}], \"heatmapgl\": [{\"colorbar\": {\"outlinewidth\": 0, \"ticks\": \"\"}, \"colorscale\": [[0.0, \"#0d0887\"], [0.1111111111111111, \"#46039f\"], [0.2222222222222222, \"#7201a8\"], [0.3333333333333333, \"#9c179e\"], [0.4444444444444444, \"#bd3786\"], [0.5555555555555556, \"#d8576b\"], [0.6666666666666666, \"#ed7953\"], [0.7777777777777778, \"#fb9f3a\"], [0.8888888888888888, \"#fdca26\"], [1.0, \"#f0f921\"]], \"type\": \"heatmapgl\"}], \"histogram\": [{\"marker\": {\"colorbar\": {\"outlinewidth\": 0, \"ticks\": \"\"}}, \"type\": \"histogram\"}], \"histogram2d\": [{\"colorbar\": {\"outlinewidth\": 0, \"ticks\": \"\"}, \"colorscale\": [[0.0, \"#0d0887\"], [0.1111111111111111, \"#46039f\"], [0.2222222222222222, \"#7201a8\"], [0.3333333333333333, \"#9c179e\"], [0.4444444444444444, \"#bd3786\"], [0.5555555555555556, \"#d8576b\"], [0.6666666666666666, \"#ed7953\"], [0.7777777777777778, \"#fb9f3a\"], [0.8888888888888888, \"#fdca26\"], [1.0, \"#f0f921\"]], \"type\": \"histogram2d\"}], \"histogram2dcontour\": [{\"colorbar\": {\"outlinewidth\": 0, \"ticks\": \"\"}, \"colorscale\": [[0.0, \"#0d0887\"], [0.1111111111111111, \"#46039f\"], [0.2222222222222222, \"#7201a8\"], [0.3333333333333333, \"#9c179e\"], [0.4444444444444444, \"#bd3786\"], [0.5555555555555556, \"#d8576b\"], [0.6666666666666666, \"#ed7953\"], [0.7777777777777778, \"#fb9f3a\"], [0.8888888888888888, \"#fdca26\"], [1.0, \"#f0f921\"]], \"type\": \"histogram2dcontour\"}], \"mesh3d\": [{\"colorbar\": {\"outlinewidth\": 0, \"ticks\": \"\"}, \"type\": \"mesh3d\"}], \"parcoords\": [{\"line\": {\"colorbar\": {\"outlinewidth\": 0, \"ticks\": \"\"}}, \"type\": \"parcoords\"}], \"pie\": [{\"automargin\": true, \"type\": \"pie\"}], \"scatter\": [{\"marker\": {\"colorbar\": {\"outlinewidth\": 0, \"ticks\": \"\"}}, \"type\": \"scatter\"}], \"scatter3d\": [{\"line\": {\"colorbar\": {\"outlinewidth\": 0, \"ticks\": \"\"}}, \"marker\": {\"colorbar\": {\"outlinewidth\": 0, \"ticks\": \"\"}}, \"type\": \"scatter3d\"}], \"scattercarpet\": [{\"marker\": {\"colorbar\": {\"outlinewidth\": 0, \"ticks\": \"\"}}, \"type\": \"scattercarpet\"}], \"scattergeo\": [{\"marker\": {\"colorbar\": {\"outlinewidth\": 0, \"ticks\": \"\"}}, \"type\": \"scattergeo\"}], \"scattergl\": [{\"marker\": {\"colorbar\": {\"outlinewidth\": 0, \"ticks\": \"\"}}, \"type\": \"scattergl\"}], \"scattermapbox\": [{\"marker\": {\"colorbar\": {\"outlinewidth\": 0, \"ticks\": \"\"}}, \"type\": \"scattermapbox\"}], \"scatterpolar\": [{\"marker\": {\"colorbar\": {\"outlinewidth\": 0, \"ticks\": \"\"}}, \"type\": \"scatterpolar\"}], \"scatterpolargl\": [{\"marker\": {\"colorbar\": {\"outlinewidth\": 0, \"ticks\": \"\"}}, \"type\": \"scatterpolargl\"}], \"scatterternary\": [{\"marker\": {\"colorbar\": {\"outlinewidth\": 0, \"ticks\": \"\"}}, \"type\": \"scatterternary\"}], \"surface\": [{\"colorbar\": {\"outlinewidth\": 0, \"ticks\": \"\"}, \"colorscale\": [[0.0, \"#0d0887\"], [0.1111111111111111, \"#46039f\"], [0.2222222222222222, \"#7201a8\"], [0.3333333333333333, \"#9c179e\"], [0.4444444444444444, \"#bd3786\"], [0.5555555555555556, \"#d8576b\"], [0.6666666666666666, \"#ed7953\"], [0.7777777777777778, \"#fb9f3a\"], [0.8888888888888888, \"#fdca26\"], [1.0, \"#f0f921\"]], \"type\": \"surface\"}], \"table\": [{\"cells\": {\"fill\": {\"color\": \"#EBF0F8\"}, \"line\": {\"color\": \"white\"}}, \"header\": {\"fill\": {\"color\": \"#C8D4E3\"}, \"line\": {\"color\": \"white\"}}, \"type\": \"table\"}]}, \"layout\": {\"annotationdefaults\": {\"arrowcolor\": \"#2a3f5f\", \"arrowhead\": 0, \"arrowwidth\": 1}, \"coloraxis\": {\"colorbar\": {\"outlinewidth\": 0, \"ticks\": \"\"}}, \"colorscale\": {\"diverging\": [[0, \"#8e0152\"], [0.1, \"#c51b7d\"], [0.2, \"#de77ae\"], [0.3, \"#f1b6da\"], [0.4, \"#fde0ef\"], [0.5, \"#f7f7f7\"], [0.6, \"#e6f5d0\"], [0.7, \"#b8e186\"], [0.8, \"#7fbc41\"], [0.9, \"#4d9221\"], [1, \"#276419\"]], \"sequential\": [[0.0, \"#0d0887\"], [0.1111111111111111, \"#46039f\"], [0.2222222222222222, \"#7201a8\"], [0.3333333333333333, \"#9c179e\"], [0.4444444444444444, \"#bd3786\"], [0.5555555555555556, \"#d8576b\"], [0.6666666666666666, \"#ed7953\"], [0.7777777777777778, \"#fb9f3a\"], [0.8888888888888888, \"#fdca26\"], [1.0, \"#f0f921\"]], \"sequentialminus\": [[0.0, \"#0d0887\"], [0.1111111111111111, \"#46039f\"], [0.2222222222222222, \"#7201a8\"], [0.3333333333333333, \"#9c179e\"], [0.4444444444444444, \"#bd3786\"], [0.5555555555555556, \"#d8576b\"], [0.6666666666666666, \"#ed7953\"], [0.7777777777777778, \"#fb9f3a\"], [0.8888888888888888, \"#fdca26\"], [1.0, \"#f0f921\"]]}, \"colorway\": [\"#636efa\", \"#EF553B\", \"#00cc96\", \"#ab63fa\", \"#FFA15A\", \"#19d3f3\", \"#FF6692\", \"#B6E880\", \"#FF97FF\", \"#FECB52\"], \"font\": {\"color\": \"#2a3f5f\"}, \"geo\": {\"bgcolor\": \"white\", \"lakecolor\": \"white\", \"landcolor\": \"#E5ECF6\", \"showlakes\": true, \"showland\": true, \"subunitcolor\": \"white\"}, \"hoverlabel\": {\"align\": \"left\"}, \"hovermode\": \"closest\", \"mapbox\": {\"style\": \"light\"}, \"paper_bgcolor\": \"white\", \"plot_bgcolor\": \"#E5ECF6\", \"polar\": {\"angularaxis\": {\"gridcolor\": \"white\", \"linecolor\": \"white\", \"ticks\": \"\"}, \"bgcolor\": \"#E5ECF6\", \"radialaxis\": {\"gridcolor\": \"white\", \"linecolor\": \"white\", \"ticks\": \"\"}}, \"scene\": {\"xaxis\": {\"backgroundcolor\": \"#E5ECF6\", \"gridcolor\": \"white\", \"gridwidth\": 2, \"linecolor\": \"white\", \"showbackground\": true, \"ticks\": \"\", \"zerolinecolor\": \"white\"}, \"yaxis\": {\"backgroundcolor\": \"#E5ECF6\", \"gridcolor\": \"white\", \"gridwidth\": 2, \"linecolor\": \"white\", \"showbackground\": true, \"ticks\": \"\", \"zerolinecolor\": \"white\"}, \"zaxis\": {\"backgroundcolor\": \"#E5ECF6\", \"gridcolor\": \"white\", \"gridwidth\": 2, \"linecolor\": \"white\", \"showbackground\": true, \"ticks\": \"\", \"zerolinecolor\": \"white\"}}, \"shapedefaults\": {\"line\": {\"color\": \"#2a3f5f\"}}, \"ternary\": {\"aaxis\": {\"gridcolor\": \"white\", \"linecolor\": \"white\", \"ticks\": \"\"}, \"baxis\": {\"gridcolor\": \"white\", \"linecolor\": \"white\", \"ticks\": \"\"}, \"bgcolor\": \"#E5ECF6\", \"caxis\": {\"gridcolor\": \"white\", \"linecolor\": \"white\", \"ticks\": \"\"}}, \"title\": {\"x\": 0.05}, \"xaxis\": {\"automargin\": true, \"gridcolor\": \"white\", \"linecolor\": \"white\", \"ticks\": \"\", \"title\": {\"standoff\": 15}, \"zerolinecolor\": \"white\", \"zerolinewidth\": 2}, \"yaxis\": {\"automargin\": true, \"gridcolor\": \"white\", \"linecolor\": \"white\", \"ticks\": \"\", \"title\": {\"standoff\": 15}, \"zerolinecolor\": \"white\", \"zerolinewidth\": 2}}}, \"title\": {\"text\": \"Taiexs@2019-07-29\"}, \"xaxis\": {\"tickformat\": \"%Y-%m-%d\"}, \"yaxis\": {\"tickformat\": \".2f\"}},\n",
       "                        {\"responsive\": true}\n",
       "                    ).then(function(){\n",
       "                            \n",
       "var gd = document.getElementById('3e3a53f7-75fe-4bbe-a06a-210c6e8fe90f');\n",
       "var x = new MutationObserver(function (mutations, observer) {{\n",
       "        var display = window.getComputedStyle(gd).display;\n",
       "        if (!display || display === 'none') {{\n",
       "            console.log([gd, 'removed!']);\n",
       "            Plotly.purge(gd);\n",
       "            observer.disconnect();\n",
       "        }}\n",
       "}});\n",
       "\n",
       "// Listen for the removal of the full notebook cells\n",
       "var notebookContainer = gd.closest('#notebook-container');\n",
       "if (notebookContainer) {{\n",
       "    x.observe(notebookContainer, {childList: true});\n",
       "}}\n",
       "\n",
       "// Listen for the clearing of the current output cell\n",
       "var outputEl = gd.closest('.output');\n",
       "if (outputEl) {{\n",
       "    x.observe(outputEl, {childList: true});\n",
       "}}\n",
       "\n",
       "                        })\n",
       "                };\n",
       "                });\n",
       "            </script>\n",
       "        </div>"
      ]
     },
     "metadata": {},
     "output_type": "display_data"
    }
   ],
   "source": [
    "figTaiexs = go.Figure()\n",
    "\n",
    "figTaiexs.add_trace(\n",
    "    go.Scatter(\n",
    "            x=dfTaiexsRecent[\"Date\"],\n",
    "            y=dfTaiexsRecent[\"ClosePrice\"],\n",
    "            name = f\"ClosePrice\",\n",
    "            mode='lines'\n",
    "        ))\n",
    "figTaiexs.add_trace(go.Scatter(\n",
    "    x=[datetime.datetime(YEAR, MONTH, DAY)],\n",
    "    y=[TAIEX_VALUE],\n",
    "    mode=\"markers\",\n",
    "    name = f\"Taiexs@{YEAR}-{MONTH:02}-{DAY:02}\"\n",
    "    # hovertext=[\"Text A\"]\n",
    "))\n",
    "figTaiexs.update_layout(\n",
    "    title=f\"Taiexs@{YEAR}-{MONTH:02}-{DAY:02}\",\n",
    "    xaxis_title=\"x Axis Title\",\n",
    "    yaxis_title=\"y Axis Title\",\n",
    "    font=dict(\n",
    "        family=\"Courier New, monospace\",\n",
    "        size=12,\n",
    "        color=\"#7f7f7f\"\n",
    "    ),\n",
    "    xaxis=plotly.graph_objects.layout.XAxis(\n",
    "        tickformat='%Y-%m-%d'\n",
    "    ),\n",
    "    yaxis=plotly.graph_objects.layout.YAxis(\n",
    "        tickformat='.2f'\n",
    "    )\n",
    ")\n",
    "figTaiexs.show()"
   ]
  },
  {
   "cell_type": "markdown",
   "metadata": {},
   "source": [
    "### 匯入Date那天選擇權交易資料"
   ]
  },
  {
   "cell_type": "code",
   "execution_count": 11,
   "metadata": {},
   "outputs": [
    {
     "data": {
      "text/html": [
       "<div>\n",
       "<style scoped>\n",
       "    .dataframe tbody tr th:only-of-type {\n",
       "        vertical-align: middle;\n",
       "    }\n",
       "\n",
       "    .dataframe tbody tr th {\n",
       "        vertical-align: top;\n",
       "    }\n",
       "\n",
       "    .dataframe thead th {\n",
       "        text-align: right;\n",
       "    }\n",
       "</style>\n",
       "<table border=\"1\" class=\"dataframe\">\n",
       "  <thead>\n",
       "    <tr style=\"text-align: right;\">\n",
       "      <th></th>\n",
       "      <th>ContractMonthWeek</th>\n",
       "      <th>StrikePrice</th>\n",
       "      <th>CallPut</th>\n",
       "      <th>Open</th>\n",
       "      <th>High</th>\n",
       "      <th>Low</th>\n",
       "      <th>Close</th>\n",
       "      <th>Volume</th>\n",
       "      <th>OpenInterest</th>\n",
       "      <th>BestBid</th>\n",
       "      <th>BestAsk</th>\n",
       "      <th>HistoricalHigh</th>\n",
       "      <th>HistoricalLow</th>\n",
       "      <th>Session</th>\n",
       "    </tr>\n",
       "  </thead>\n",
       "  <tbody>\n",
       "    <tr>\n",
       "      <th>0</th>\n",
       "      <td>201907W5</td>\n",
       "      <td>10100.0</td>\n",
       "      <td>Call</td>\n",
       "      <td>-</td>\n",
       "      <td>-</td>\n",
       "      <td>-</td>\n",
       "      <td>-</td>\n",
       "      <td>0</td>\n",
       "      <td>4</td>\n",
       "      <td>-</td>\n",
       "      <td>-</td>\n",
       "      <td>-</td>\n",
       "      <td>-</td>\n",
       "      <td>Regular</td>\n",
       "    </tr>\n",
       "    <tr>\n",
       "      <th>1</th>\n",
       "      <td>201907W5</td>\n",
       "      <td>10100.0</td>\n",
       "      <td>Call</td>\n",
       "      <td>-</td>\n",
       "      <td>-</td>\n",
       "      <td>-</td>\n",
       "      <td>-</td>\n",
       "      <td>0</td>\n",
       "      <td>-</td>\n",
       "      <td>-</td>\n",
       "      <td>-</td>\n",
       "      <td>-</td>\n",
       "      <td>-</td>\n",
       "      <td>AfterHours</td>\n",
       "    </tr>\n",
       "    <tr>\n",
       "      <th>2</th>\n",
       "      <td>201907W5</td>\n",
       "      <td>10100.0</td>\n",
       "      <td>Put</td>\n",
       "      <td>0.3</td>\n",
       "      <td>0.3</td>\n",
       "      <td>0.2</td>\n",
       "      <td>0.2</td>\n",
       "      <td>713</td>\n",
       "      <td>1002</td>\n",
       "      <td>0.1</td>\n",
       "      <td>0.3</td>\n",
       "      <td>0.9</td>\n",
       "      <td>0.2</td>\n",
       "      <td>Regular</td>\n",
       "    </tr>\n",
       "    <tr>\n",
       "      <th>3</th>\n",
       "      <td>201907W5</td>\n",
       "      <td>10100.0</td>\n",
       "      <td>Put</td>\n",
       "      <td>-</td>\n",
       "      <td>-</td>\n",
       "      <td>-</td>\n",
       "      <td>-</td>\n",
       "      <td>0</td>\n",
       "      <td>-</td>\n",
       "      <td>-</td>\n",
       "      <td>-</td>\n",
       "      <td>-</td>\n",
       "      <td>-</td>\n",
       "      <td>AfterHours</td>\n",
       "    </tr>\n",
       "    <tr>\n",
       "      <th>4</th>\n",
       "      <td>201907W5</td>\n",
       "      <td>10200.0</td>\n",
       "      <td>Call</td>\n",
       "      <td>-</td>\n",
       "      <td>-</td>\n",
       "      <td>-</td>\n",
       "      <td>-</td>\n",
       "      <td>0</td>\n",
       "      <td>3</td>\n",
       "      <td>-</td>\n",
       "      <td>-</td>\n",
       "      <td>-</td>\n",
       "      <td>-</td>\n",
       "      <td>Regular</td>\n",
       "    </tr>\n",
       "    <tr>\n",
       "      <th>...</th>\n",
       "      <td>...</td>\n",
       "      <td>...</td>\n",
       "      <td>...</td>\n",
       "      <td>...</td>\n",
       "      <td>...</td>\n",
       "      <td>...</td>\n",
       "      <td>...</td>\n",
       "      <td>...</td>\n",
       "      <td>...</td>\n",
       "      <td>...</td>\n",
       "      <td>...</td>\n",
       "      <td>...</td>\n",
       "      <td>...</td>\n",
       "      <td>...</td>\n",
       "    </tr>\n",
       "    <tr>\n",
       "      <th>803</th>\n",
       "      <td>202003</td>\n",
       "      <td>13000.0</td>\n",
       "      <td>Put</td>\n",
       "      <td>-</td>\n",
       "      <td>-</td>\n",
       "      <td>-</td>\n",
       "      <td>-</td>\n",
       "      <td>0</td>\n",
       "      <td>-</td>\n",
       "      <td>-</td>\n",
       "      <td>-</td>\n",
       "      <td>-</td>\n",
       "      <td>-</td>\n",
       "      <td>AfterHours</td>\n",
       "    </tr>\n",
       "    <tr>\n",
       "      <th>804</th>\n",
       "      <td>202003</td>\n",
       "      <td>13200.0</td>\n",
       "      <td>Call</td>\n",
       "      <td>-</td>\n",
       "      <td>-</td>\n",
       "      <td>-</td>\n",
       "      <td>-</td>\n",
       "      <td>0</td>\n",
       "      <td>52</td>\n",
       "      <td>-</td>\n",
       "      <td>-</td>\n",
       "      <td>-</td>\n",
       "      <td>-</td>\n",
       "      <td>Regular</td>\n",
       "    </tr>\n",
       "    <tr>\n",
       "      <th>805</th>\n",
       "      <td>202003</td>\n",
       "      <td>13200.0</td>\n",
       "      <td>Call</td>\n",
       "      <td>-</td>\n",
       "      <td>-</td>\n",
       "      <td>-</td>\n",
       "      <td>-</td>\n",
       "      <td>0</td>\n",
       "      <td>-</td>\n",
       "      <td>-</td>\n",
       "      <td>-</td>\n",
       "      <td>-</td>\n",
       "      <td>-</td>\n",
       "      <td>AfterHours</td>\n",
       "    </tr>\n",
       "    <tr>\n",
       "      <th>806</th>\n",
       "      <td>202003</td>\n",
       "      <td>13200.0</td>\n",
       "      <td>Put</td>\n",
       "      <td>-</td>\n",
       "      <td>-</td>\n",
       "      <td>-</td>\n",
       "      <td>-</td>\n",
       "      <td>0</td>\n",
       "      <td>0</td>\n",
       "      <td>-</td>\n",
       "      <td>-</td>\n",
       "      <td>-</td>\n",
       "      <td>-</td>\n",
       "      <td>Regular</td>\n",
       "    </tr>\n",
       "    <tr>\n",
       "      <th>807</th>\n",
       "      <td>202003</td>\n",
       "      <td>13200.0</td>\n",
       "      <td>Put</td>\n",
       "      <td>-</td>\n",
       "      <td>-</td>\n",
       "      <td>-</td>\n",
       "      <td>-</td>\n",
       "      <td>0</td>\n",
       "      <td>-</td>\n",
       "      <td>-</td>\n",
       "      <td>-</td>\n",
       "      <td>-</td>\n",
       "      <td>-</td>\n",
       "      <td>AfterHours</td>\n",
       "    </tr>\n",
       "  </tbody>\n",
       "</table>\n",
       "<p>808 rows × 14 columns</p>\n",
       "</div>"
      ],
      "text/plain": [
       "    ContractMonthWeek  StrikePrice CallPut Open High  Low Close  Volume  \\\n",
       "0            201907W5      10100.0    Call    -    -    -     -       0   \n",
       "1            201907W5      10100.0    Call    -    -    -     -       0   \n",
       "2            201907W5      10100.0     Put  0.3  0.3  0.2   0.2     713   \n",
       "3            201907W5      10100.0     Put    -    -    -     -       0   \n",
       "4            201907W5      10200.0    Call    -    -    -     -       0   \n",
       "..                ...          ...     ...  ...  ...  ...   ...     ...   \n",
       "803          202003        13000.0     Put    -    -    -     -       0   \n",
       "804          202003        13200.0    Call    -    -    -     -       0   \n",
       "805          202003        13200.0    Call    -    -    -     -       0   \n",
       "806          202003        13200.0     Put    -    -    -     -       0   \n",
       "807          202003        13200.0     Put    -    -    -     -       0   \n",
       "\n",
       "    OpenInterest BestBid BestAsk HistoricalHigh HistoricalLow     Session  \n",
       "0              4       -       -              -             -     Regular  \n",
       "1              -       -       -              -             -  AfterHours  \n",
       "2           1002     0.1     0.3            0.9           0.2     Regular  \n",
       "3              -       -       -              -             -  AfterHours  \n",
       "4              3       -       -              -             -     Regular  \n",
       "..           ...     ...     ...            ...           ...         ...  \n",
       "803            -       -       -              -             -  AfterHours  \n",
       "804           52       -       -              -             -     Regular  \n",
       "805            -       -       -              -             -  AfterHours  \n",
       "806            0       -       -              -             -     Regular  \n",
       "807            -       -       -              -             -  AfterHours  \n",
       "\n",
       "[808 rows x 14 columns]"
      ]
     },
     "execution_count": 11,
     "metadata": {},
     "output_type": "execute_result"
    }
   ],
   "source": [
    "\n",
    "filename = f'optionsDailyInfo-{YEAR}{MONTH:02}{DAY:02}.csv'\n",
    "filepath = f'/Users/singularity/Aaron/coding/fintech/OptionsDailyInfoData/{filename}'\n",
    "df = pandas.read_csv(filepath)\n",
    "df"
   ]
  },
  {
   "cell_type": "code",
   "execution_count": 12,
   "metadata": {},
   "outputs": [
    {
     "data": {
      "text/plain": [
       "ContractMonthWeek     object\n",
       "StrikePrice          float64\n",
       "CallPut               object\n",
       "Open                  object\n",
       "High                  object\n",
       "Low                   object\n",
       "Close                 object\n",
       "Volume                 int64\n",
       "OpenInterest          object\n",
       "BestBid               object\n",
       "BestAsk               object\n",
       "HistoricalHigh        object\n",
       "HistoricalLow         object\n",
       "Session               object\n",
       "dtype: object"
      ]
     },
     "execution_count": 12,
     "metadata": {},
     "output_type": "execute_result"
    }
   ],
   "source": [
    "df.astype({\n",
    "    \"ContractMonthWeek\": \"str\"}).dtypes"
   ]
  },
  {
   "cell_type": "markdown",
   "metadata": {},
   "source": [
    "### 篩選出靠近Date那天加權股價指數 $\\pm 300$"
   ]
  },
  {
   "cell_type": "code",
   "execution_count": 13,
   "metadata": {},
   "outputs": [],
   "source": [
    "\n",
    "# df.head(200)\n",
    "ContractMonthWeek = df[\"ContractMonthWeek\"][0]\n",
    "# ContractMonthWeek = \"201807\"\n",
    "\n",
    "StrikePriceLimite = df[\"StrikePrice\"].apply(lambda d: True if int(d)>=TAIEX_VALUE-300 and int(d) <=TAIEX_VALUE+300 else False)\n",
    "dfCall = df[(df[\"CallPut\"]==\"Call\") & (df[\"Session\"]==\"Regular\") & (df[\"ContractMonthWeek\"]==ContractMonthWeek) & StrikePriceLimite][['ContractMonthWeek', 'StrikePrice','CallPut', 'Close']]\n",
    "dfPut = df[(df[\"CallPut\"]==\"Put\") & (df[\"Session\"]==\"Regular\") & (df[\"ContractMonthWeek\"]==ContractMonthWeek) & StrikePriceLimite][['ContractMonthWeek', 'StrikePrice','CallPut', 'Close']]\n",
    "# df.loc[StrikePriceLimite]"
   ]
  },
  {
   "cell_type": "code",
   "execution_count": 14,
   "metadata": {},
   "outputs": [
    {
     "data": {
      "text/html": [
       "<div>\n",
       "<style scoped>\n",
       "    .dataframe tbody tr th:only-of-type {\n",
       "        vertical-align: middle;\n",
       "    }\n",
       "\n",
       "    .dataframe tbody tr th {\n",
       "        vertical-align: top;\n",
       "    }\n",
       "\n",
       "    .dataframe thead th {\n",
       "        text-align: right;\n",
       "    }\n",
       "</style>\n",
       "<table border=\"1\" class=\"dataframe\">\n",
       "  <thead>\n",
       "    <tr style=\"text-align: right;\">\n",
       "      <th></th>\n",
       "      <th>ContractMonthWeek</th>\n",
       "      <th>StrikePrice</th>\n",
       "      <th>CallPut</th>\n",
       "      <th>Close</th>\n",
       "    </tr>\n",
       "  </thead>\n",
       "  <tbody>\n",
       "    <tr>\n",
       "      <th>20</th>\n",
       "      <td>201907W5</td>\n",
       "      <td>10600.0</td>\n",
       "      <td>Call</td>\n",
       "      <td>285</td>\n",
       "    </tr>\n",
       "    <tr>\n",
       "      <th>24</th>\n",
       "      <td>201907W5</td>\n",
       "      <td>10650.0</td>\n",
       "      <td>Call</td>\n",
       "      <td>220</td>\n",
       "    </tr>\n",
       "    <tr>\n",
       "      <th>28</th>\n",
       "      <td>201907W5</td>\n",
       "      <td>10700.0</td>\n",
       "      <td>Call</td>\n",
       "      <td>174</td>\n",
       "    </tr>\n",
       "    <tr>\n",
       "      <th>32</th>\n",
       "      <td>201907W5</td>\n",
       "      <td>10750.0</td>\n",
       "      <td>Call</td>\n",
       "      <td>126</td>\n",
       "    </tr>\n",
       "    <tr>\n",
       "      <th>36</th>\n",
       "      <td>201907W5</td>\n",
       "      <td>10800.0</td>\n",
       "      <td>Call</td>\n",
       "      <td>82</td>\n",
       "    </tr>\n",
       "  </tbody>\n",
       "</table>\n",
       "</div>"
      ],
      "text/plain": [
       "   ContractMonthWeek  StrikePrice CallPut Close\n",
       "20          201907W5      10600.0    Call   285\n",
       "24          201907W5      10650.0    Call   220\n",
       "28          201907W5      10700.0    Call   174\n",
       "32          201907W5      10750.0    Call   126\n",
       "36          201907W5      10800.0    Call    82"
      ]
     },
     "execution_count": 14,
     "metadata": {},
     "output_type": "execute_result"
    }
   ],
   "source": [
    "dfCall.head()"
   ]
  },
  {
   "cell_type": "code",
   "execution_count": 15,
   "metadata": {
    "tags": []
   },
   "outputs": [
    {
     "name": "stdout",
     "output_type": "stream",
     "text": [
      "TAIEX_VALUE: 10885.73\n",
      "TAIEX_VALUE_BOTTOM: 10850\n",
      "TAIEX_VALUE_TOP: 10900\n",
      "\n"
     ]
    },
    {
     "data": {
      "text/html": [
       "<div>\n",
       "<style scoped>\n",
       "    .dataframe tbody tr th:only-of-type {\n",
       "        vertical-align: middle;\n",
       "    }\n",
       "\n",
       "    .dataframe tbody tr th {\n",
       "        vertical-align: top;\n",
       "    }\n",
       "\n",
       "    .dataframe thead th {\n",
       "        text-align: right;\n",
       "    }\n",
       "</style>\n",
       "<table border=\"1\" class=\"dataframe\">\n",
       "  <thead>\n",
       "    <tr style=\"text-align: right;\">\n",
       "      <th></th>\n",
       "      <th>Close_Call</th>\n",
       "      <th>CallPut_Call</th>\n",
       "      <th>StrikePrice</th>\n",
       "      <th>CallPut_Put</th>\n",
       "      <th>Close_Put</th>\n",
       "    </tr>\n",
       "  </thead>\n",
       "  <tbody>\n",
       "    <tr>\n",
       "      <th>0</th>\n",
       "      <td>285</td>\n",
       "      <td>Call</td>\n",
       "      <td>10600.0</td>\n",
       "      <td>Put</td>\n",
       "      <td>1.5</td>\n",
       "    </tr>\n",
       "    <tr>\n",
       "      <th>1</th>\n",
       "      <td>220</td>\n",
       "      <td>Call</td>\n",
       "      <td>10650.0</td>\n",
       "      <td>Put</td>\n",
       "      <td>2.1</td>\n",
       "    </tr>\n",
       "    <tr>\n",
       "      <th>2</th>\n",
       "      <td>174</td>\n",
       "      <td>Call</td>\n",
       "      <td>10700.0</td>\n",
       "      <td>Put</td>\n",
       "      <td>3.6</td>\n",
       "    </tr>\n",
       "    <tr>\n",
       "      <th>3</th>\n",
       "      <td>126</td>\n",
       "      <td>Call</td>\n",
       "      <td>10750.0</td>\n",
       "      <td>Put</td>\n",
       "      <td>6.6</td>\n",
       "    </tr>\n",
       "    <tr>\n",
       "      <th>4</th>\n",
       "      <td>82</td>\n",
       "      <td>Call</td>\n",
       "      <td>10800.0</td>\n",
       "      <td>Put</td>\n",
       "      <td>14</td>\n",
       "    </tr>\n",
       "    <tr>\n",
       "      <th>5</th>\n",
       "      <td>46</td>\n",
       "      <td>Call</td>\n",
       "      <td>10850.0</td>\n",
       "      <td>Put</td>\n",
       "      <td>26.5</td>\n",
       "    </tr>\n",
       "    <tr>\n",
       "      <th>6</th>\n",
       "      <td>20.5</td>\n",
       "      <td>Call</td>\n",
       "      <td>10900.0</td>\n",
       "      <td>Put</td>\n",
       "      <td>50</td>\n",
       "    </tr>\n",
       "    <tr>\n",
       "      <th>7</th>\n",
       "      <td>7</td>\n",
       "      <td>Call</td>\n",
       "      <td>10950.0</td>\n",
       "      <td>Put</td>\n",
       "      <td>87</td>\n",
       "    </tr>\n",
       "    <tr>\n",
       "      <th>8</th>\n",
       "      <td>2.5</td>\n",
       "      <td>Call</td>\n",
       "      <td>11000.0</td>\n",
       "      <td>Put</td>\n",
       "      <td>133</td>\n",
       "    </tr>\n",
       "    <tr>\n",
       "      <th>9</th>\n",
       "      <td>0.8</td>\n",
       "      <td>Call</td>\n",
       "      <td>11050.0</td>\n",
       "      <td>Put</td>\n",
       "      <td>182</td>\n",
       "    </tr>\n",
       "    <tr>\n",
       "      <th>10</th>\n",
       "      <td>0.3</td>\n",
       "      <td>Call</td>\n",
       "      <td>11100.0</td>\n",
       "      <td>Put</td>\n",
       "      <td>231</td>\n",
       "    </tr>\n",
       "    <tr>\n",
       "      <th>11</th>\n",
       "      <td>0.2</td>\n",
       "      <td>Call</td>\n",
       "      <td>11150.0</td>\n",
       "      <td>Put</td>\n",
       "      <td>269</td>\n",
       "    </tr>\n",
       "  </tbody>\n",
       "</table>\n",
       "</div>"
      ],
      "text/plain": [
       "   Close_Call CallPut_Call  StrikePrice CallPut_Put Close_Put\n",
       "0         285         Call      10600.0         Put       1.5\n",
       "1         220         Call      10650.0         Put       2.1\n",
       "2         174         Call      10700.0         Put       3.6\n",
       "3         126         Call      10750.0         Put       6.6\n",
       "4          82         Call      10800.0         Put        14\n",
       "5          46         Call      10850.0         Put      26.5\n",
       "6        20.5         Call      10900.0         Put        50\n",
       "7           7         Call      10950.0         Put        87\n",
       "8         2.5         Call      11000.0         Put       133\n",
       "9         0.8         Call      11050.0         Put       182\n",
       "10        0.3         Call      11100.0         Put       231\n",
       "11        0.2         Call      11150.0         Put       269"
      ]
     },
     "execution_count": 15,
     "metadata": {},
     "output_type": "execute_result"
    }
   ],
   "source": [
    "print(f'TAIEX_VALUE: {TAIEX_VALUE}')\n",
    "print(f'TAIEX_VALUE_BOTTOM: {TAIEX_VALUE_BOTTOM}')\n",
    "print(f'TAIEX_VALUE_TOP: {TAIEX_VALUE_TOP}\\n')\n",
    "optionsDF = pandas.merge(dfCall, dfPut, left_on=[\"StrikePrice\", 'ContractMonthWeek'], right_on=[\"StrikePrice\",      'ContractMonthWeek']\\\n",
    "            , suffixes=('_Call','_Put'))[['Close_Call', 'CallPut_Call', 'StrikePrice', 'CallPut_Put', 'Close_Put']]\n",
    "optionsDF"
   ]
  },
  {
   "cell_type": "code",
   "execution_count": 16,
   "metadata": {},
   "outputs": [
    {
     "data": {
      "text/plain": [
       "Close_Call      float64\n",
       "CallPut_Call     string\n",
       "StrikePrice       int64\n",
       "CallPut_Put      string\n",
       "Close_Put       float64\n",
       "dtype: object"
      ]
     },
     "execution_count": 16,
     "metadata": {},
     "output_type": "execute_result"
    }
   ],
   "source": [
    "optionsDF.dtypes\n",
    "optionsDF.astype({\n",
    "    \"Close_Call\": \"float64\",\n",
    "    \"CallPut_Call\": \"string\",\n",
    "    \"StrikePrice\": \"int64\",\n",
    "    \"CallPut_Put\": \"string\",\n",
    "    \"Close_Put\": \"float64\"}, errors='ignore').dtypes"
   ]
  },
  {
   "cell_type": "markdown",
   "metadata": {},
   "source": [
    "#### 建立一個選擇權買賣結構，方便後面多種選擇組合使用"
   ]
  },
  {
   "cell_type": "code",
   "execution_count": 17,
   "metadata": {},
   "outputs": [],
   "source": [
    "class options:\n",
    "    def __init__(\n",
    "        self,\n",
    "        strikePrice,\n",
    "        optionsDF,\n",
    "        PutCall,\n",
    "        BuySell\n",
    "        ):\n",
    "        self.strikePrice = strikePrice\n",
    "        self.optionsDF = optionsDF\n",
    "        self.PutCall = PutCall\n",
    "        self.BuySell = BuySell\n",
    "        # print(f'{self.BuySell}{self.PutCall}@{self.strikePrice}') ##\n",
    "    def optionsProfit(self, x):\n",
    "        Exchange_Fee = -1\n",
    "        y = [0 for _ in range(len(x))]\n",
    "        \n",
    "        t = -1 if self.BuySell == \"buy\" else 1\n",
    "        s = -50*t\n",
    "        er = False\n",
    "        if len(self.optionsDF[self.optionsDF[\"StrikePrice\"] == self.strikePrice]) == 0:\n",
    "            print(f'{self.BuySell}{self.PutCall}@{self.strikePrice} NOT EXISTS!')\n",
    "            #  if self.PutCall == \"call\" else self.strikePrice += 50\n",
    "            er = True\n",
    "        if self.PutCall == \"call\":\n",
    "            # print(f'@@@@optionsDF\\n{self.optionsDF}')\n",
    "            # print(f'@@@@{self.BuySell}{self.PutCall}@{self.strikePrice}')\n",
    "            # print(f'@@@@price\\n{self.optionsDF[self.optionsDF[\"StrikePrice\"] == self.strikePrice][\"Close_Call\"]}')\n",
    "            if er: self.strikePrice -= 50; print(f'Change to {self.BuySell}{self.PutCall}@{self.strikePrice}')\n",
    "            price = float(self.optionsDF[self.optionsDF[\"StrikePrice\"] == self.strikePrice][\"Close_Call\"])*t\n",
    "            self.price = price\n",
    "            for i in range(len(x)):\n",
    "                if x[i] <= self.strikePrice:\n",
    "                    y[i] = price\n",
    "                else:\n",
    "                    price += s\n",
    "                    y[i] = price\n",
    "        else:\n",
    "            if er: self.strikePrice += 50; print(f'Change to {self.BuySell}{self.PutCall}@{self.strikePrice}')\n",
    "            price = float(self.optionsDF[self.optionsDF[\"StrikePrice\"] == self.strikePrice][\"Close_Put\"])*t\n",
    "            self.price = price\n",
    "            for i in range(len(x)-1,-1,-1):\n",
    "                if x[i] >= self.strikePrice:\n",
    "                    y[i] = price\n",
    "                else:\n",
    "                    price += s\n",
    "                    y[i] = price\n",
    "        # return y\n",
    "        return np.add(y, np.array([Exchange_Fee for _ in range(len(x))]))\n",
    "    def optionsScatter(self, x):\n",
    "        return go.Scatter(\n",
    "            x=x,\n",
    "            y=self.optionsProfit(x),\n",
    "            name = f\"{self.BuySell}{self.PutCall}@{self.strikePrice}\",\n",
    "            visible = \"legendonly\",\n",
    "            mode='lines',\n",
    "            # line=go.scatter.Line(color='#6B99E5')\n",
    "            opacity=0.4\n",
    "        )\n",
    "    def __repr__(self):\n",
    "        return(f'{self.BuySell}{self.PutCall}@{self.strikePrice}')\n"
   ]
  },
  {
   "cell_type": "markdown",
   "metadata": {},
   "source": [
    "#### 計算某價位都收益函數"
   ]
  },
  {
   "cell_type": "code",
   "execution_count": 18,
   "metadata": {},
   "outputs": [],
   "source": [
    "def profit(price, x, y):\n",
    "    i = 0\n",
    "    while i < len(y):\n",
    "        if price < x[i]:\n",
    "            break\n",
    "        i += 1\n",
    "    j = i - 1\n",
    "    if i == 0:\n",
    "        return y[i]\n",
    "    elif i == len(y) or y[i]-y[j] == 0:\n",
    "        return y[j]\n",
    "    elif y[i]-y[j] > 0:\n",
    "        return y[j]+(price-x[j])\n",
    "    else:\n",
    "        return y[j]-(price-x[j])"
   ]
  },
  {
   "cell_type": "markdown",
   "metadata": {},
   "source": [
    "#### 依照某日期找出相關的選擇權資料函數"
   ]
  },
  {
   "cell_type": "code",
   "execution_count": 19,
   "metadata": {},
   "outputs": [],
   "source": [
    "def optionsDF_fun(date, TAIEX_VALUE):\n",
    "    filename = f'optionsDailyInfo-{date}.csv'\n",
    "    filepath = f'/Users/singularity/Aaron/coding/fintech/OptionsDailyInfoData/{filename}'\n",
    "    df = pandas.read_csv(filepath)\n",
    "    ContractMonthWeek = df['ContractMonthWeek'][0]\n",
    "    StrikePriceLimite = df[\"StrikePrice\"].apply(lambda d: True if int(d)>=TAIEX_VALUE-200 and int(d) <=TAIEX_VALUE+200 else False)\n",
    "    dfCall = df[(df[\"CallPut\"]==\"Call\") & (df[\"Session\"]==\"Regular\") & (df[\"ContractMonthWeek\"]==ContractMonthWeek) & StrikePriceLimite][['ContractMonthWeek', 'StrikePrice','CallPut', 'Close']]\n",
    "    dfPut = df[(df[\"CallPut\"]==\"Put\") & (df[\"Session\"]==\"Regular\") & (df[\"ContractMonthWeek\"]==ContractMonthWeek) & StrikePriceLimite][['ContractMonthWeek', 'StrikePrice','CallPut', 'Close']]\n",
    "    optionsDF = pandas.merge(dfCall, dfPut, left_on=[\"StrikePrice\", 'ContractMonthWeek'], right_on=[\"StrikePrice\",      'ContractMonthWeek']\\\n",
    "            , suffixes=('_Call','_Put'))[['Close_Call', 'CallPut_Call', 'StrikePrice', 'CallPut_Put', 'Close_Put']]\n",
    "    return optionsDF"
   ]
  },
  {
   "cell_type": "markdown",
   "metadata": {},
   "source": [
    "# strategy1\n",
    "> ### 策略\n",
    ">> 判斷**Bull Call Spread**最大收益是否小於4且**Buy Call @ TAIEX_VALUE_BOTTOM-50**最大損失不大於150，假如是則**Buy Call @ TAIEX_VALUE_BOTTOM-50**<br/><br/>\n",
    ">> 判斷**Bear Put Spready**最大收益是否小於4且**Buy Sell @ TAIEX_VALUE_TOP+50**最大損失不大於150，假如是則**Buy Sell @ TAIEX_VALUE_TOP+50**<br/><br/>\n",
    ">> 判斷**Bull Call Spread**最大收益和**Bear Put Spready**最大收益是否小於5，假如是則都不要買<br/><br/>\n",
    ">> 假如都不是上面的條件且最大收益不為負，則買入**Iron Condor**區間100"
   ]
  },
  {
   "cell_type": "code",
   "execution_count": 20,
   "metadata": {},
   "outputs": [],
   "source": [
    "def strategy(dftt):\n",
    "    # try:\n",
    "        TAIEX_VALUE = float(dftt['ClosePrice'])\n",
    "        TAIEX_VALUE_BOTTOM = int(TAIEX_VALUE - (TAIEX_VALUE % 50))\n",
    "        TAIEX_VALUE_TOP = TAIEX_VALUE_BOTTOM + 50\n",
    "\n",
    "        TX = float(dftt['TX/MTX'])\n",
    "        \n",
    "\n",
    "        DATE = dftt['Date']\n",
    "        year = f'{DATE:%Y}'\n",
    "        month = f'{DATE:%m}'\n",
    "        day = f'{DATE:%d}'\n",
    "        \n",
    "        print(f'{year}/{month}/{day}') ##\n",
    "\n",
    "        optionsDF = optionsDF_fun(f'{year}{month}{day}', TAIEX_VALUE)\n",
    "        \n",
    "        SPREAD = 100\n",
    "        x = np.arange(TAIEX_VALUE_BOTTOM-(150+SPREAD), TAIEX_VALUE_TOP+(150+SPREAD), 50)\n",
    "        y = [0 for _ in range(len(x))]\n",
    "        yc = [0 for _ in range(len(x))]\n",
    "        yp = [0 for _ in range(len(x))]\n",
    "\n",
    "        totalOtions = []\n",
    "        sc = options(TAIEX_VALUE_BOTTOM-(SPREAD-50), optionsDF, \"call\", \"sell\")\n",
    "        bc = options(sc.strikePrice-50, optionsDF, \"call\", \"buy\")\n",
    "    \n",
    "        sp = options(TAIEX_VALUE_TOP+(SPREAD-50), optionsDF, \"put\", \"sell\")\n",
    "        bp =options(sp.strikePrice+50, optionsDF, \"put\", \"buy\")\n",
    "\n",
    "        totalOtions.append(sc)\n",
    "        totalOtions.append(bc)\n",
    "        totalOtions.append(sp)\n",
    "        totalOtions.append(bp)\n",
    "        \n",
    "        for op in totalOtions:\n",
    "            if op.PutCall == \"call\":\n",
    "                yc = np.add(yc, op.optionsProfit(x))\n",
    "            else:\n",
    "                yp = np.add(yp, op.optionsProfit(x))\n",
    "            y = np.add(y, op.optionsProfit(x))\n",
    "\n",
    "      \n",
    "        \n",
    "        special = False\n",
    "        ySP = [0 for _ in range(len(x))]\n",
    "        specialOP = []\n",
    "        if yc.max() < 4 and abs(bc.price) < 150:\n",
    "            specialOP.append(bc)\n",
    "            special = True\n",
    "        elif yp.max() < 4 and abs(bp.price) < 150:\n",
    "            specialOP.append(bp)\n",
    "            special = True\n",
    "        elif abs(yc.max() - yp.max()) < 5:\n",
    "            return TX, x, [0 for _ in range(len(x))], []\n",
    "        if special:\n",
    "            ySP = np.sum([op.optionsProfit(x) for op in specialOP], axis=0)\n",
    "            if ySP.max() < 0:\n",
    "                return TX, x, [0 for _ in range(len(x))], []\n",
    "            print(specialOP)\n",
    "            # print(x, ySP)\n",
    "            return TX, x, ySP, specialOP\n",
    "        if y.max() < 0:\n",
    "                return TX, x, [0 for _ in range(len(x))], []\n",
    "        return TX, x, y, totalOtions\n",
    "    # except Exception as e:\n",
    "    #     print(e)\n",
    "        # return None"
   ]
  },
  {
   "cell_type": "markdown",
   "metadata": {},
   "source": [
    "# strategy2\n",
    "> ### 策略\n",
    ">> 利用購買日的前七天平均變動，和標準差判斷：<br/><br/>\n",
    ">> 如果**前七天平均變動**大於**所有資料的平均變動**且**前七天變動標準差**大於**所有資料的變動標準差**，則買入**Long Strangle @區間50**<br/><br/>\n",
    ">> 假如都不是上面的條件且最大收益不為負，則買入**Iron Condor**區間50"
   ]
  },
  {
   "cell_type": "code",
   "execution_count": 21,
   "metadata": {},
   "outputs": [],
   "source": [
    "def strategy2(dftt):# strategy\n",
    "        global taiexDiff\n",
    "    # try:\n",
    "        TAIEX_VALUE = float(dftt['ClosePrice'])\n",
    "        TAIEX_VALUE_BOTTOM = int(TAIEX_VALUE - (TAIEX_VALUE % 50))\n",
    "        TAIEX_VALUE_TOP = TAIEX_VALUE_BOTTOM + 50\n",
    "\n",
    "        TX = float(dftt['TX/MTX'])\n",
    "        \n",
    "\n",
    "        DATE = dftt['Date']\n",
    "        year = f'{DATE:%Y}'\n",
    "        month = f'{DATE:%m}'\n",
    "        day = f'{DATE:%d}'\n",
    "        \n",
    "        print(f'{year}/{month}/{day}')\n",
    "#         date = f'{year}-{month}-{day}'\n",
    "        trainTaiexDiff = taiexDiff[:DATE]\n",
    "        trainTaiexDiffPass7_mean = trainTaiexDiff[DATE-datetime.timedelta(days= 7):DATE-datetime.timedelta(days= 1):].abs().mean()\n",
    "        trainTaiexDiffPass7_std = trainTaiexDiff[DATE-datetime.timedelta(days= 7):DATE-datetime.timedelta(days= 1):].abs().std()\n",
    "        \n",
    "        # Time Series\n",
    "#         pred = timeSeries(date)\n",
    "        \n",
    "        optionsDF = optionsDF_fun(f'{year}{month}{day}', TAIEX_VALUE)\n",
    "    \n",
    "        SPREAD = 50\n",
    "        x = np.arange(TAIEX_VALUE_BOTTOM-(200+SPREAD), TAIEX_VALUE_TOP+(200+SPREAD), 50)\n",
    "        y = [0 for _ in range(len(x))]\n",
    "        yc = [0 for _ in range(len(x))]\n",
    "        yp = [0 for _ in range(len(x))]\n",
    "\n",
    "        totalOtions = []\n",
    "        sc = options(TAIEX_VALUE_BOTTOM-(SPREAD-50), optionsDF, \"call\", \"sell\")\n",
    "        bc = options(sc.strikePrice-50, optionsDF, \"call\", \"buy\")\n",
    "    \n",
    "        sp = options(TAIEX_VALUE_TOP+(SPREAD-50), optionsDF, \"put\", \"sell\")\n",
    "        bp =options(sp.strikePrice+50, optionsDF, \"put\", \"buy\")\n",
    "\n",
    "        totalOtions.append(sc)\n",
    "        totalOtions.append(bc)\n",
    "        totalOtions.append(sp)\n",
    "        totalOtions.append(bp)\n",
    "        \n",
    "        for op in totalOtions:\n",
    "            if op.PutCall == \"call\":\n",
    "                yc = np.add(yc, op.optionsProfit(x))\n",
    "            else:\n",
    "                yp = np.add(yp, op.optionsProfit(x))\n",
    "            y = np.add(y, op.optionsProfit(x))\n",
    "\n",
    "        # y = np.sum([op.optionsProfit(x) for op in totalOtions], axis=0)\n",
    "        # print(f'yc = {yc.max()}\\nyp = {yp.max()}')\n",
    "        # or abs(yc.max() - yp.max()) < 5\n",
    "        \n",
    "        special = False\n",
    "        ySP = [0 for _ in range(len(x))]\n",
    "        specialOP = []\n",
    "        \n",
    "        if trainTaiexDiffPass7_mean > taiexDiff_MEAN and trainTaiexDiffPass7_std > taiexDiff_STD:\n",
    "            specialOP.append(options(TAIEX_VALUE_BOTTOM, optionsDF, \"call\", \"buy\"))\n",
    "            specialOP.append(options(TAIEX_VALUE_TOP, optionsDF, \"put\", \"buy\"))\n",
    "            special = True\n",
    "        if special:\n",
    "            ySP = np.sum([op.optionsProfit(x) for op in specialOP], axis=0)\n",
    "            if ySP.max() < 0:\n",
    "                return TX, x, [0 for _ in range(len(x))], []\n",
    "            print(specialOP)\n",
    "            # print(x, ySP)\n",
    "            return TX, x, ySP, specialOP\n",
    "        if y.max() < 0:\n",
    "                return TX, x, [0 for _ in range(len(x))], []\n",
    "        return TX, x, y, totalOtions\n",
    "    # except Exception as e:\n",
    "    #     print(e)\n",
    "        # return None"
   ]
  },
  {
   "cell_type": "markdown",
   "metadata": {},
   "source": [
    "# strategy3\n",
    "> ### 策略\n",
    ">> 利用時間序列預測購買日兩天後的價格變動：<br/><br/>\n",
    ">> 如果**預測結果**大於**所有資料的平均變動**，則買入**Buy Call @ TAIEX_VALUE_BOTTOM**<br/><br/>\n",
    ">> 如果**預測結果**小於**負的所有資料的平均變動**，則買入**Sell Call @ TAIEX_VALUE_TOP**<br/><br/>\n",
    ">> 假如都不是上面的條件且最大收益不為負，則買入**Iron Condor**區間50"
   ]
  },
  {
   "cell_type": "code",
   "execution_count": 22,
   "metadata": {},
   "outputs": [],
   "source": [
    "def strategy3(dftt):# strategy\n",
    "    # try:\n",
    "        TAIEX_VALUE = float(dftt['ClosePrice'])\n",
    "        TAIEX_VALUE_BOTTOM = int(TAIEX_VALUE - (TAIEX_VALUE % 50))\n",
    "        TAIEX_VALUE_TOP = TAIEX_VALUE_BOTTOM + 50\n",
    "\n",
    "        TX = float(dftt['TX/MTX'])\n",
    "        \n",
    "\n",
    "        DATE = dftt['Date']\n",
    "        year = f'{DATE:%Y}'\n",
    "        month = f'{DATE:%m}'\n",
    "        day = f'{DATE:%d}'\n",
    "        \n",
    "        print(f'{year}/{month}/{day}')\n",
    "        date = f'{year}-{month}-{day}'\n",
    "        \n",
    "        trainTaiexDiff = taiexDiff[:DATE]\n",
    "        trainTaiexDiffPass7_mean = trainTaiexDiff[DATE-datetime.timedelta(days= 7):DATE-datetime.timedelta(days= 1):].abs().mean()\n",
    "        trainTaiexDiffPass7_std = trainTaiexDiff[DATE-datetime.timedelta(days= 7):DATE-datetime.timedelta(days= 1):].abs().std()\n",
    "        \n",
    "        # Time Series\n",
    "        pred = timeSeries(DATE)\n",
    "#         pred_ci = pred.conf_int(alpha=0.25)\n",
    "        \n",
    "\n",
    "        optionsDF = optionsDF_fun(f'{year}{month}{day}', TAIEX_VALUE)\n",
    "        \n",
    "        SPREAD = 50\n",
    "        x = np.arange(TAIEX_VALUE_BOTTOM-(200+SPREAD), TAIEX_VALUE_TOP+(200+SPREAD), 50)\n",
    "        y = [0 for _ in range(len(x))]\n",
    "        yc = [0 for _ in range(len(x))]\n",
    "        yp = [0 for _ in range(len(x))]\n",
    "\n",
    "        totalOtions = []\n",
    "        sc = options(TAIEX_VALUE_BOTTOM-(SPREAD-50), optionsDF, \"call\", \"sell\")\n",
    "        bc = options(sc.strikePrice-50, optionsDF, \"call\", \"buy\")\n",
    "    \n",
    "        sp = options(TAIEX_VALUE_TOP+(SPREAD-50), optionsDF, \"put\", \"sell\")\n",
    "        bp =options(sp.strikePrice+50, optionsDF, \"put\", \"buy\")\n",
    "\n",
    "        totalOtions.append(sc)\n",
    "        totalOtions.append(bc)\n",
    "        totalOtions.append(sp)\n",
    "        totalOtions.append(bp)\n",
    "        \n",
    "        for op in totalOtions:\n",
    "            if op.PutCall == \"call\":\n",
    "                yc = np.add(yc, op.optionsProfit(x))\n",
    "            else:\n",
    "                yp = np.add(yp, op.optionsProfit(x))\n",
    "            y = np.add(y, op.optionsProfit(x))\n",
    "\n",
    "        # y = np.sum([op.optionsProfit(x) for op in totalOtions], axis=0)\n",
    "        # print(f'yc = {yc.max()}\\nyp = {yp.max()}')\n",
    "        # or abs(yc.max() - yp.max()) < 5\n",
    "        \n",
    "        special = False\n",
    "        ySP = [0 for _ in range(len(x))]\n",
    "        specialOP = []\n",
    "        if  pred.iloc[1] > taiexDiff_MEAN:\n",
    "            specialOP.append(bc)\n",
    "            special = True\n",
    "        elif pred.iloc[1] < -taiexDiff_MEAN:\n",
    "            specialOP.append(bp)\n",
    "            special = True\n",
    "#         else:\n",
    "#             return TX, x, y, totalOtions\n",
    "        if special:\n",
    "            ySP = np.sum([op.optionsProfit(x) for op in specialOP], axis=0)\n",
    "            if ySP.max() < 0:\n",
    "                return TX, x, [0 for _ in range(len(x))], []\n",
    "            print(specialOP)\n",
    "            # print(x, ySP)\n",
    "            return TX, x, ySP, specialOP\n",
    "        if y.max() < 0:\n",
    "                return TX, x, [0 for _ in range(len(x))], []\n",
    "        return TX, x, y, totalOtions\n",
    "    # except Exception as e:\n",
    "    #     print(e)\n",
    "        # return None"
   ]
  },
  {
   "cell_type": "markdown",
   "metadata": {},
   "source": [
    "# strategy4\n",
    "> ### 策略\n",
    ">> 利用時間序列預測購買日兩天後的價格變動：<br/><br/>\n",
    ">> 如果**前七天平均變動**大於**1.5倍所有資料的平均變動** ***且*** **前七天變動標準差**大於**1.5倍所有資料的變動標準差**，則買入**Long Strangle @區間50**<br/><br/>\n",
    ">> 如果**預測結果**大於**0** ***且*** **Buy Call @ TAIEX_VALUE_BOTTOM**最大損失不大於150***且*** **前七天平均變動**大於**所有資料的平均變動** ***且*** **前七天變動標準差**大於**所有資料的變動標準差**，則買入**Buy Call @ TAIEX_VALUE_BOTTOM**<br/><br/>\n",
    ">> 如果**預測結果**小於**0** ***且*** **Sell Call @ TAIEX_VALUE_TOP**最大損失不大於150***且*** **前七天平均變動**大於**所有資料的平均變動** ***且*** **前七天變動標準差**大於**所有資料的變動標準差**，則買入**Sell Call @ TAIEX_VALUE_TOP**<br/><br/>\n",
    ">> 假如都不是上面的條件且最大收益不為負，則買入**Iron Condor**區間50"
   ]
  },
  {
   "cell_type": "code",
   "execution_count": 23,
   "metadata": {},
   "outputs": [],
   "source": [
    "def strategy4(dftt):# strategy\n",
    "        global taiexDiff\n",
    "    # try:\n",
    "        TAIEX_VALUE = float(dftt['ClosePrice'])\n",
    "        TAIEX_VALUE_BOTTOM = int(TAIEX_VALUE - (TAIEX_VALUE % 50))\n",
    "        TAIEX_VALUE_TOP = TAIEX_VALUE_BOTTOM + 50\n",
    "\n",
    "        TX = float(dftt['TX/MTX'])\n",
    "        \n",
    "\n",
    "        DATE = dftt['Date']\n",
    "        year = f'{DATE:%Y}'\n",
    "        month = f'{DATE:%m}'\n",
    "        day = f'{DATE:%d}'\n",
    "        \n",
    "        print(f'{year}/{month}/{day}')\n",
    "        \n",
    "        trainTaiexDiff = taiexDiff[:DATE]\n",
    "        trainTaiexDiffPass7_mean = trainTaiexDiff[DATE-datetime.timedelta(days= 7):DATE-datetime.timedelta(days= 1):].abs().mean()\n",
    "        trainTaiexDiffPass7_std = trainTaiexDiff[DATE-datetime.timedelta(days= 7):DATE-datetime.timedelta(days= 1):].abs().std()\n",
    "        \n",
    "#         Time Series\n",
    "        pred = timeSeries(DATE)\n",
    "        \n",
    "\n",
    "        optionsDF = optionsDF_fun(f'{year}{month}{day}', TAIEX_VALUE)\n",
    "        \n",
    "        SPREAD = 50\n",
    "        x = np.arange(TAIEX_VALUE_BOTTOM-(200+SPREAD), TAIEX_VALUE_TOP+(200+SPREAD), 50)\n",
    "        y = [0 for _ in range(len(x))]\n",
    "        yc = [0 for _ in range(len(x))]\n",
    "        yp = [0 for _ in range(len(x))]\n",
    "\n",
    "        totalOtions = []\n",
    "        sc = options(TAIEX_VALUE_BOTTOM-(SPREAD-50), optionsDF, \"call\", \"sell\")\n",
    "        bc = options(sc.strikePrice-50, optionsDF, \"call\", \"buy\")\n",
    "    \n",
    "        sp = options(TAIEX_VALUE_TOP+(SPREAD-50), optionsDF, \"put\", \"sell\")\n",
    "        bp =options(sp.strikePrice+50, optionsDF, \"put\", \"buy\")\n",
    "\n",
    "        totalOtions.append(sc)\n",
    "        totalOtions.append(bc)\n",
    "        totalOtions.append(sp)\n",
    "        totalOtions.append(bp)\n",
    "        \n",
    "        for op in totalOtions:\n",
    "            if op.PutCall == \"call\":\n",
    "                yc = np.add(yc, op.optionsProfit(x))\n",
    "            else:\n",
    "                yp = np.add(yp, op.optionsProfit(x))\n",
    "            y = np.add(y, op.optionsProfit(x))\n",
    "\n",
    "        # y = np.sum([op.optionsProfit(x) for op in totalOtions], axis=0)\n",
    "        # print(f'yc = {yc.max()}\\nyp = {yp.max()}')\n",
    "        # or abs(yc.max() - yp.max()) < 5\n",
    "        \n",
    "        special = False\n",
    "        ySP = [0 for _ in range(len(x))]\n",
    "        specialOP = []\n",
    "#         \n",
    "        if trainTaiexDiffPass7_mean > 1.5*taiexDiff_MEAN or trainTaiexDiffPass7_std > 1.5*taiexDiff_STD:\n",
    "            specialOP.append(options(TAIEX_VALUE_BOTTOM, optionsDF, \"call\", \"buy\"))\n",
    "            specialOP.append(options(TAIEX_VALUE_TOP, optionsDF, \"put\", \"buy\"))\n",
    "            special = True\n",
    "        elif  pred.iloc[1] > 0 and abs(bc.price) < 150 and (trainTaiexDiffPass7_mean > taiexDiff_MEAN or\\\n",
    "                                                            trainTaiexDiffPass7_std > taiexDiff_STD):\n",
    "            specialOP.append(bc)\n",
    "            special = True\n",
    "        elif pred.iloc[1] < 0 and abs(bp.price) < 150 and (trainTaiexDiffPass7_mean > taiexDiff_MEAN or\\\n",
    "                                                            trainTaiexDiffPass7_std > taiexDiff_STD):\n",
    "            specialOP.append(bp)\n",
    "            special = True\n",
    "        if special:\n",
    "            ySP = np.sum([op.optionsProfit(x) for op in specialOP], axis=0)\n",
    "            if ySP.max() < 0:\n",
    "                return TX, x, [0 for _ in range(len(x))], []\n",
    "            print(specialOP)\n",
    "            # print(x, ySP)\n",
    "            return TX, x, ySP, specialOP\n",
    "        if y.max() < 0:\n",
    "                return TX, x, [0 for _ in range(len(x))], []\n",
    "        return TX, x, y, totalOtions\n",
    "    # except Exception as e:\n",
    "    #     print(e)\n",
    "        # return None"
   ]
  },
  {
   "cell_type": "markdown",
   "metadata": {},
   "source": [
    "#### 計算利用某策略的收益函數"
   ]
  },
  {
   "cell_type": "code",
   "execution_count": 24,
   "metadata": {},
   "outputs": [],
   "source": [
    "def WinLoss(dftt, f):\n",
    "    TX, x, y, _ = f(dftt)\n",
    "    return profit(TX, x, y)"
   ]
  },
  {
   "cell_type": "markdown",
   "metadata": {},
   "source": [
    "## 計算Date那天用strategy2策略的收益"
   ]
  },
  {
   "cell_type": "code",
   "execution_count": 25,
   "metadata": {
    "tags": []
   },
   "outputs": [
    {
     "name": "stdout",
     "output_type": "stream",
     "text": [
      "Date                 2019-07-29 00:00:00\n",
      "ClosePrice                       10885.7\n",
      "TX/MTX                             10814\n",
      "ContractMonthWeek               201907W5\n",
      "Name: 56, dtype: object\n",
      "2019/07/29\n"
     ]
    }
   ],
   "source": [
    "k = dftt['Date'] == f'{YEAR}-{MONTH:02}-{DAY:02}'\n",
    "print(dftt.loc[k].iloc[0])\n",
    "# WinLoss(dftt.loc[k].iloc[0])\n",
    "TX, x, y, totalOtions = strategy2(dftt.loc[k].iloc[0])\n",
    "p = profit(TX, x, y)"
   ]
  },
  {
   "cell_type": "markdown",
   "metadata": {},
   "source": [
    "## Date那天用strategy2策略的收益圖"
   ]
  },
  {
   "cell_type": "code",
   "execution_count": 26,
   "metadata": {
    "tags": []
   },
   "outputs": [
    {
     "data": {
      "image/svg+xml": [
       "<svg class=\"main-svg\" xmlns=\"http://www.w3.org/2000/svg\" xmlns:xlink=\"http://www.w3.org/1999/xlink\" width=\"700\" height=\"450\" viewBox=\"0 0 700 450\"><rect x=\"0\" y=\"0\" width=\"700\" height=\"450\" style=\"fill: rgb(255, 255, 255); fill-opacity: 1;\"/><defs id=\"defs-345fd5\"><g class=\"clips\"><clipPath id=\"clip345fd5xyplot\" class=\"plotclip\"><rect width=\"418\" height=\"321\"/></clipPath><clipPath class=\"axesclip\" id=\"clip345fd5x\"><rect x=\"51\" y=\"0\" width=\"418\" height=\"450\"/></clipPath><clipPath class=\"axesclip\" id=\"clip345fd5y\"><rect x=\"0\" y=\"50\" width=\"700\" height=\"321\"/></clipPath><clipPath class=\"axesclip\" id=\"clip345fd5xy\"><rect x=\"51\" y=\"50\" width=\"418\" height=\"321\"/></clipPath></g><g class=\"gradients\"/></defs><g class=\"bglayer\"><rect class=\"bg\" x=\"49\" y=\"48\" width=\"422\" height=\"325\" style=\"fill: rgb(229, 236, 246); fill-opacity: 1; stroke-width: 0;\"/></g><g class=\"layer-below\"><g class=\"imagelayer\"/><g class=\"shapelayer\"/></g><g class=\"cartesianlayer\"><g class=\"subplot xy\"><g class=\"layer-subplot\"><g class=\"shapelayer\"/><g class=\"imagelayer\"/></g><g class=\"gridlayer\"><g class=\"x\"><path class=\"xgrid crisp\" transform=\"translate(92.8,0)\" d=\"M0,50v321\" style=\"stroke: rgb(255, 255, 255); stroke-opacity: 1; stroke-width: 1px;\"/><path class=\"xgrid crisp\" transform=\"translate(134.6,0)\" d=\"M0,50v321\" style=\"stroke: rgb(255, 255, 255); stroke-opacity: 1; stroke-width: 1px;\"/><path class=\"xgrid crisp\" transform=\"translate(176.4,0)\" d=\"M0,50v321\" style=\"stroke: rgb(255, 255, 255); stroke-opacity: 1; stroke-width: 1px;\"/><path class=\"xgrid crisp\" transform=\"translate(218.2,0)\" d=\"M0,50v321\" style=\"stroke: rgb(255, 255, 255); stroke-opacity: 1; stroke-width: 1px;\"/><path class=\"xgrid crisp\" transform=\"translate(260,0)\" d=\"M0,50v321\" style=\"stroke: rgb(255, 255, 255); stroke-opacity: 1; stroke-width: 1px;\"/><path class=\"xgrid crisp\" transform=\"translate(301.8,0)\" d=\"M0,50v321\" style=\"stroke: rgb(255, 255, 255); stroke-opacity: 1; stroke-width: 1px;\"/><path class=\"xgrid crisp\" transform=\"translate(343.6,0)\" d=\"M0,50v321\" style=\"stroke: rgb(255, 255, 255); stroke-opacity: 1; stroke-width: 1px;\"/><path class=\"xgrid crisp\" transform=\"translate(385.4,0)\" d=\"M0,50v321\" style=\"stroke: rgb(255, 255, 255); stroke-opacity: 1; stroke-width: 1px;\"/><path class=\"xgrid crisp\" transform=\"translate(427.2,0)\" d=\"M0,50v321\" style=\"stroke: rgb(255, 255, 255); stroke-opacity: 1; stroke-width: 1px;\"/></g><g class=\"y\"><path class=\"ygrid crisp\" transform=\"translate(0,315.03)\" d=\"M51,0h418\" style=\"stroke: rgb(255, 255, 255); stroke-opacity: 1; stroke-width: 1px;\"/><path class=\"ygrid crisp\" transform=\"translate(0,258)\" d=\"M51,0h418\" style=\"stroke: rgb(255, 255, 255); stroke-opacity: 1; stroke-width: 1px;\"/><path class=\"ygrid crisp\" transform=\"translate(0,143.94)\" d=\"M51,0h418\" style=\"stroke: rgb(255, 255, 255); stroke-opacity: 1; stroke-width: 1px;\"/><path class=\"ygrid crisp\" transform=\"translate(0,86.91)\" d=\"M51,0h418\" style=\"stroke: rgb(255, 255, 255); stroke-opacity: 1; stroke-width: 1px;\"/></g></g><g class=\"zerolinelayer\"><path class=\"yzl zl crisp\" transform=\"translate(0,200.97)\" d=\"M51,0h418\" style=\"stroke: rgb(255, 255, 255); stroke-opacity: 1; stroke-width: 2px;\"/></g><path class=\"xlines-below\"/><path class=\"ylines-below\"/><g class=\"overlines-below\"/><g class=\"xaxislayer-below\"/><g class=\"yaxislayer-below\"/><g class=\"overaxes-below\"/><g class=\"plot\" transform=\"translate(51, 50)\" clip-path=\"url('#clip345fd5xyplot')\"><g class=\"scatterlayer mlayer\"><g class=\"trace scatter tracea5e2cf\" style=\"stroke-miterlimit: 2; opacity: 1;\"><g class=\"fills\"/><g class=\"errorbars\"/><g class=\"lines\"><path class=\"js-line\" d=\"M0,304.95L167.2,304.95L209,19.8L250.8,19.8L292.6,304.95L418,304.95\" style=\"vector-effect: non-scaling-stroke; fill: none; stroke: rgb(99, 110, 250); stroke-opacity: 1; stroke-width: 2px; opacity: 1;\"/></g><g class=\"points\"/><g class=\"text\"/></g><g class=\"trace scatter tracea649f2\" style=\"stroke-miterlimit: 2; opacity: 1;\"><g class=\"fills\"/><g class=\"errorbars\"/><g class=\"lines\"/><g class=\"points\"><path class=\"point\" transform=\"translate(238.87,19.8)\" d=\"M3,0A3,3 0 1,1 0,-3A3,3 0 0,1 3,0Z\" style=\"opacity: 1; stroke-width: 0px; fill: rgb(25, 211, 243); fill-opacity: 1;\"/></g><g class=\"text\"/></g><g class=\"trace scatter tracea094d9\" style=\"stroke-miterlimit: 2; opacity: 1;\"><g class=\"fills\"/><g class=\"errorbars\"/><g class=\"lines\"/><g class=\"points\"><path class=\"point\" transform=\"translate(178.9,225.11)\" d=\"M3,0A3,3 0 1,1 0,-3A3,3 0 0,1 3,0Z\" style=\"opacity: 1; stroke-width: 0px; fill: rgb(255, 102, 146); fill-opacity: 1;\"/></g><g class=\"text\"/></g></g></g><g class=\"overplot\"/><path class=\"xlines-above crisp\" d=\"M0,0\" style=\"fill: none;\"/><path class=\"ylines-above crisp\" d=\"M0,0\" style=\"fill: none;\"/><g class=\"overlines-above\"/><g class=\"xaxislayer-above\"><g class=\"xtick\"><text text-anchor=\"start\" x=\"0\" y=\"386\" transform=\"translate(51,0) rotate(30,0,380)\" style=\"font-family: 'Courier New', monospace; font-size: 12px; fill: rgb(127, 127, 127); fill-opacity: 1; white-space: pre;\">10600.0</text></g><g class=\"xtick\"><text text-anchor=\"start\" x=\"0\" y=\"386\" transform=\"translate(92.8,0) rotate(30,0,380)\" style=\"font-family: 'Courier New', monospace; font-size: 12px; fill: rgb(127, 127, 127); fill-opacity: 1; white-space: pre;\">10650.0</text></g><g class=\"xtick\"><text text-anchor=\"start\" x=\"0\" y=\"386\" transform=\"translate(134.6,0) rotate(30,0,380)\" style=\"font-family: 'Courier New', monospace; font-size: 12px; fill: rgb(127, 127, 127); fill-opacity: 1; white-space: pre;\">10700.0</text></g><g class=\"xtick\"><text text-anchor=\"start\" x=\"0\" y=\"386\" transform=\"translate(176.4,0) rotate(30,0,380)\" style=\"font-family: 'Courier New', monospace; font-size: 12px; fill: rgb(127, 127, 127); fill-opacity: 1; white-space: pre;\">10750.0</text></g><g class=\"xtick\"><text text-anchor=\"start\" x=\"0\" y=\"386\" transform=\"translate(218.2,0) rotate(30,0,380)\" style=\"font-family: 'Courier New', monospace; font-size: 12px; fill: rgb(127, 127, 127); fill-opacity: 1; white-space: pre;\">10800.0</text></g><g class=\"xtick\"><text text-anchor=\"start\" x=\"0\" y=\"386\" transform=\"translate(260,0) rotate(30,0,380)\" style=\"font-family: 'Courier New', monospace; font-size: 12px; fill: rgb(127, 127, 127); fill-opacity: 1; white-space: pre;\">10850.0</text></g><g class=\"xtick\"><text text-anchor=\"start\" x=\"0\" y=\"386\" transform=\"translate(301.8,0) rotate(30,0,380)\" style=\"font-family: 'Courier New', monospace; font-size: 12px; fill: rgb(127, 127, 127); fill-opacity: 1; white-space: pre;\">10900.0</text></g><g class=\"xtick\"><text text-anchor=\"start\" x=\"0\" y=\"386\" transform=\"translate(343.6,0) rotate(30,0,380)\" style=\"font-family: 'Courier New', monospace; font-size: 12px; fill: rgb(127, 127, 127); fill-opacity: 1; white-space: pre;\">10950.0</text></g><g class=\"xtick\"><text text-anchor=\"start\" x=\"0\" y=\"386\" transform=\"translate(385.4,0) rotate(30,0,380)\" style=\"font-family: 'Courier New', monospace; font-size: 12px; fill: rgb(127, 127, 127); fill-opacity: 1; white-space: pre;\">11000.0</text></g><g class=\"xtick\"><text text-anchor=\"start\" x=\"0\" y=\"386\" transform=\"translate(427.2,0) rotate(30,0,380)\" style=\"font-family: 'Courier New', monospace; font-size: 12px; fill: rgb(127, 127, 127); fill-opacity: 1; white-space: pre;\">11050.0</text></g><g class=\"xtick\"><text text-anchor=\"start\" x=\"0\" y=\"386\" transform=\"translate(469,0) rotate(30,0,380)\" style=\"font-family: 'Courier New', monospace; font-size: 12px; fill: rgb(127, 127, 127); fill-opacity: 1; white-space: pre;\">11100.0</text></g></g><g class=\"yaxislayer-above\"><g class=\"ytick\"><text text-anchor=\"end\" x=\"48\" y=\"4.199999999999999\" transform=\"translate(0,315.03)\" style=\"font-family: 'Courier New', monospace; font-size: 12px; fill: rgb(127, 127, 127); fill-opacity: 1; white-space: pre;\">−20.0</text></g><g class=\"ytick\"><text text-anchor=\"end\" x=\"48\" y=\"4.199999999999999\" transform=\"translate(0,258)\" style=\"font-family: 'Courier New', monospace; font-size: 12px; fill: rgb(127, 127, 127); fill-opacity: 1; white-space: pre;\">−10.0</text></g><g class=\"ytick\"><text text-anchor=\"end\" x=\"48\" y=\"4.199999999999999\" transform=\"translate(0,200.97)\" style=\"font-family: 'Courier New', monospace; font-size: 12px; fill: rgb(127, 127, 127); fill-opacity: 1; white-space: pre;\">0.0</text></g><g class=\"ytick\"><text text-anchor=\"end\" x=\"48\" y=\"4.199999999999999\" transform=\"translate(0,143.94)\" style=\"font-family: 'Courier New', monospace; font-size: 12px; fill: rgb(127, 127, 127); fill-opacity: 1; white-space: pre;\">10.0</text></g><g class=\"ytick\"><text text-anchor=\"end\" x=\"48\" y=\"4.199999999999999\" transform=\"translate(0,86.91)\" style=\"font-family: 'Courier New', monospace; font-size: 12px; fill: rgb(127, 127, 127); fill-opacity: 1; white-space: pre;\">20.0</text></g></g><g class=\"overaxes-above\"/></g></g><g class=\"polarlayer\"/><g class=\"ternarylayer\"/><g class=\"geolayer\"/><g class=\"funnelarealayer\"/><g class=\"pielayer\"/><g class=\"treemaplayer\"/><g class=\"sunburstlayer\"/><g class=\"glimages\"/><defs id=\"topdefs-345fd5\"><g class=\"clips\"/><clipPath id=\"legend345fd5\"><rect width=\"211\" height=\"143\" x=\"0\" y=\"0\"/></clipPath></defs><g class=\"layer-above\"><g class=\"imagelayer\"/><g class=\"shapelayer\"/></g><g class=\"infolayer\"><g class=\"legend\" pointer-events=\"all\" transform=\"translate(477.36, 50)\"><rect class=\"bg\" shape-rendering=\"crispEdges\" style=\"stroke: rgb(68, 68, 68); stroke-opacity: 1; fill: rgb(255, 255, 255); fill-opacity: 1; stroke-width: 0px;\" width=\"211\" height=\"143\" x=\"0\" y=\"0\"/><g class=\"scrollbox\" transform=\"translate(0, 0)\" clip-path=\"url('#legend345fd5')\"><g class=\"groups\"><g class=\"traces\" transform=\"translate(0, 14.5)\" style=\"opacity: 1;\"><text class=\"legendtext user-select-none\" text-anchor=\"start\" x=\"40\" y=\"4.680000000000001\" style=\"font-family: 'Courier New', monospace; font-size: 12px; fill: rgb(127, 127, 127); fill-opacity: 1; white-space: pre;\">Profit</text><g class=\"layers\" style=\"opacity: 1;\"><g class=\"legendfill\"/><g class=\"legendlines\"><path class=\"js-line\" d=\"M5,0h30\" style=\"fill: none; stroke: rgb(99, 110, 250); stroke-opacity: 1; stroke-width: 2px;\"/></g><g class=\"legendsymbols\"><g class=\"legendpoints\"/></g></g><rect class=\"legendtoggle\" pointer-events=\"all\" x=\"0\" y=\"-9.5\" width=\"205.625\" height=\"19\" style=\"cursor: pointer; fill: rgb(0, 0, 0); fill-opacity: 0;\"/></g><g class=\"traces\" transform=\"translate(0, 33.5)\" style=\"opacity: 0.5;\"><text class=\"legendtext user-select-none\" text-anchor=\"start\" x=\"40\" y=\"4.680000000000001\" style=\"font-family: 'Courier New', monospace; font-size: 12px; fill: rgb(127, 127, 127); fill-opacity: 1; white-space: pre;\">sellcall@10850</text><g class=\"layers\" style=\"opacity: 0.4;\"><g class=\"legendfill\"/><g class=\"legendlines\"><path class=\"js-line\" d=\"M5,0h30\" style=\"fill: none; stroke: rgb(239, 85, 59); stroke-opacity: 1; stroke-width: 2px;\"/></g><g class=\"legendsymbols\"><g class=\"legendpoints\"/></g></g><rect class=\"legendtoggle\" pointer-events=\"all\" x=\"0\" y=\"-9.5\" width=\"205.625\" height=\"19\" style=\"cursor: pointer; fill: rgb(0, 0, 0); fill-opacity: 0;\"/></g><g class=\"traces\" transform=\"translate(0, 52.5)\" style=\"opacity: 0.5;\"><text class=\"legendtext user-select-none\" text-anchor=\"start\" x=\"40\" y=\"4.680000000000001\" style=\"font-family: 'Courier New', monospace; font-size: 12px; fill: rgb(127, 127, 127); fill-opacity: 1; white-space: pre;\">buycall@10800</text><g class=\"layers\" style=\"opacity: 0.4;\"><g class=\"legendfill\"/><g class=\"legendlines\"><path class=\"js-line\" d=\"M5,0h30\" style=\"fill: none; stroke: rgb(0, 204, 150); stroke-opacity: 1; stroke-width: 2px;\"/></g><g class=\"legendsymbols\"><g class=\"legendpoints\"/></g></g><rect class=\"legendtoggle\" pointer-events=\"all\" x=\"0\" y=\"-9.5\" width=\"205.625\" height=\"19\" style=\"cursor: pointer; fill: rgb(0, 0, 0); fill-opacity: 0;\"/></g><g class=\"traces\" transform=\"translate(0, 71.5)\" style=\"opacity: 0.5;\"><text class=\"legendtext user-select-none\" text-anchor=\"start\" x=\"40\" y=\"4.680000000000001\" style=\"font-family: 'Courier New', monospace; font-size: 12px; fill: rgb(127, 127, 127); fill-opacity: 1; white-space: pre;\">sellput@10900</text><g class=\"layers\" style=\"opacity: 0.4;\"><g class=\"legendfill\"/><g class=\"legendlines\"><path class=\"js-line\" d=\"M5,0h30\" style=\"fill: none; stroke: rgb(171, 99, 250); stroke-opacity: 1; stroke-width: 2px;\"/></g><g class=\"legendsymbols\"><g class=\"legendpoints\"/></g></g><rect class=\"legendtoggle\" pointer-events=\"all\" x=\"0\" y=\"-9.5\" width=\"205.625\" height=\"19\" style=\"cursor: pointer; fill: rgb(0, 0, 0); fill-opacity: 0;\"/></g><g class=\"traces\" transform=\"translate(0, 90.5)\" style=\"opacity: 0.5;\"><text class=\"legendtext user-select-none\" text-anchor=\"start\" x=\"40\" y=\"4.680000000000001\" style=\"font-family: 'Courier New', monospace; font-size: 12px; fill: rgb(127, 127, 127); fill-opacity: 1; white-space: pre;\">buyput@10950</text><g class=\"layers\" style=\"opacity: 0.4;\"><g class=\"legendfill\"/><g class=\"legendlines\"><path class=\"js-line\" d=\"M5,0h30\" style=\"fill: none; stroke: rgb(255, 161, 90); stroke-opacity: 1; stroke-width: 2px;\"/></g><g class=\"legendsymbols\"><g class=\"legendpoints\"/></g></g><rect class=\"legendtoggle\" pointer-events=\"all\" x=\"0\" y=\"-9.5\" width=\"205.625\" height=\"19\" style=\"cursor: pointer; fill: rgb(0, 0, 0); fill-opacity: 0;\"/></g><g class=\"traces\" transform=\"translate(0, 109.5)\" style=\"opacity: 1;\"><text class=\"legendtext user-select-none\" text-anchor=\"start\" x=\"40\" y=\"4.680000000000001\" style=\"font-family: 'Courier New', monospace; font-size: 12px; fill: rgb(127, 127, 127); fill-opacity: 1; white-space: pre;\">Profit@TAIEX_VALUE=23.0</text><g class=\"layers\" style=\"opacity: 1;\"><g class=\"legendfill\"/><g class=\"legendlines\"/><g class=\"legendsymbols\"><g class=\"legendpoints\"><path class=\"scatterpts\" transform=\"translate(20,0)\" d=\"M3,0A3,3 0 1,1 0,-3A3,3 0 0,1 3,0Z\" style=\"opacity: 1; stroke-width: 0px; fill: rgb(25, 211, 243); fill-opacity: 1;\"/></g></g></g><rect class=\"legendtoggle\" pointer-events=\"all\" x=\"0\" y=\"-9.5\" width=\"205.625\" height=\"19\" style=\"cursor: pointer; fill: rgb(0, 0, 0); fill-opacity: 0;\"/></g><g class=\"traces\" transform=\"translate(0, 128.5)\" style=\"opacity: 1;\"><text class=\"legendtext user-select-none\" text-anchor=\"start\" x=\"40\" y=\"4.680000000000001\" style=\"font-family: 'Courier New', monospace; font-size: 12px; fill: rgb(127, 127, 127); fill-opacity: 1; white-space: pre;\">Profit@TX=-13.0</text><g class=\"layers\" style=\"opacity: 1;\"><g class=\"legendfill\"/><g class=\"legendlines\"/><g class=\"legendsymbols\"><g class=\"legendpoints\"><path class=\"scatterpts\" transform=\"translate(20,0)\" d=\"M3,0A3,3 0 1,1 0,-3A3,3 0 0,1 3,0Z\" style=\"opacity: 1; stroke-width: 0px; fill: rgb(255, 102, 146); fill-opacity: 1;\"/></g></g></g><rect class=\"legendtoggle\" pointer-events=\"all\" x=\"0\" y=\"-9.5\" width=\"205.625\" height=\"19\" style=\"cursor: pointer; fill: rgb(0, 0, 0); fill-opacity: 0;\"/></g></g></g><rect class=\"scrollbar\" rx=\"20\" ry=\"3\" width=\"0\" height=\"0\" style=\"fill: rgb(128, 139, 164); fill-opacity: 1;\" x=\"0\" y=\"0\"/></g><g class=\"g-gtitle\"><text class=\"gtitle\" x=\"35\" y=\"25\" text-anchor=\"start\" dy=\"0em\" style=\"font-family: 'Courier New', monospace; font-size: 17px; fill: rgb(127, 127, 127); opacity: 1; font-weight: normal; white-space: pre;\">Profit Graph Taiexs@10885.73  #2019-07-29</text></g><g class=\"g-xtitle\"><text class=\"xtitle\" x=\"260\" y=\"438.2306640625\" text-anchor=\"middle\" style=\"font-family: 'Courier New', monospace; font-size: 14px; fill: rgb(127, 127, 127); opacity: 1; font-weight: normal; white-space: pre;\">x Axis Title</text></g><g class=\"g-ytitle\"/></g></svg>"
      ]
     },
     "metadata": {},
     "output_type": "display_data"
    }
   ],
   "source": [
    "# x = np.arange(TAIEX_VALUE_BOTTOM-300, TAIEX_VALUE_TOP+200, 50)\n",
    "# y = [0 for _ in range(len(x))]\n",
    "\n",
    "# totalOtions = []\n",
    "\n",
    "# sc = options(TAIEX_VALUE_BOTTOM-50, optionsDF, \"call\", \"sell\")\n",
    "# bc = options(sc.strikePrice-50, optionsDF, \"call\", \"buy\")\n",
    "# sp = options(TAIEX_VALUE_TOP+50, optionsDF, \"put\", \"sell\")\n",
    "# bp =options(sp.strikePrice+50, optionsDF, \"put\", \"buy\")\n",
    "\n",
    "# totalOtions.append(sc)\n",
    "# totalOtions.append(bc)\n",
    "# totalOtions.append(sp)\n",
    "# totalOtions.append(bp)\n",
    "\n",
    "# y = np.sum([op.optionsProfit(x) for op in totalOtions], axis=0)\n",
    "\n",
    "\n",
    "\n",
    "fig = go.Figure()\n",
    "fig.add_trace(\n",
    "    go.Scatter(\n",
    "            x=x,\n",
    "            y=y,\n",
    "            name = f\"Profit\",\n",
    "            mode='lines'\n",
    "))\n",
    "\n",
    "for op in totalOtions:\n",
    "    fig.add_trace(op.optionsScatter(x))\n",
    "\n",
    "fig.add_trace(go.Scatter(\n",
    "    x=[TAIEX_VALUE],\n",
    "    y=[profit(TAIEX_VALUE, x, y)],\n",
    "    mode=\"markers\",\n",
    "    name = f\"Profit@TAIEX_VALUE={profit(TAIEX_VALUE, x, y)}\"\n",
    "    # hovertext=[\"Text A\"]\n",
    "))\n",
    "fig.add_trace(go.Scatter(\n",
    "    x=[dftt.loc[k].iloc[0]['TX/MTX']],\n",
    "    y=[p],\n",
    "    mode=\"markers\",\n",
    "    name = f\"Profit@TX={profit(dftt.loc[k].iloc[0]['TX/MTX'], x, y)}\"\n",
    "    # hovertext=[\"Text A\"]\n",
    "))\n",
    "\n",
    "fig.update_layout(\n",
    "    title=f\"Profit Graph Taiexs@{TAIEX_VALUE}  #{YEAR}-{MONTH:02}-{DAY:02}\",\n",
    "    xaxis_title=\"x Axis Title\",\n",
    "    yaxis_title=\"y Axis Title\",\n",
    "    font=dict(\n",
    "        family=\"Courier New, monospace\",\n",
    "        size=12,\n",
    "        color=\"#7f7f7f\"\n",
    "    ),\n",
    "    width=900,\n",
    "    height=500,\n",
    "    margin=dict(\n",
    "        l=20,\n",
    "        r=20,\n",
    "        b=20,\n",
    "        t=50,\n",
    "        pad=2\n",
    "    ),\n",
    "    xaxis = dict(\n",
    "        tickmode = 'linear',\n",
    "        # tick0 = 0.5,\n",
    "        dtick = 50,\n",
    "        tickformat='.1f'\n",
    "    ),\n",
    "    yaxis=plotly.graph_objects.layout.YAxis(\n",
    "        tickformat='.1f'\n",
    "    )\n",
    ")\n",
    "fig.show(\"svg\")"
   ]
  },
  {
   "cell_type": "markdown",
   "metadata": {},
   "source": [
    "# strategy1"
   ]
  },
  {
   "cell_type": "code",
   "execution_count": 27,
   "metadata": {
    "tags": []
   },
   "outputs": [
    {
     "name": "stdout",
     "output_type": "stream",
     "text": [
      "2018/06/04\n",
      "2018/06/11\n",
      "2018/06/25\n",
      "2018/07/02\n",
      "2018/07/09\n",
      "2018/07/16\n",
      "2018/07/23\n",
      "[buyput@11050]\n",
      "2018/07/30\n",
      "2018/08/06\n",
      "[buyput@11150]\n",
      "2018/08/13\n",
      "sellcall@10650 NOT EXISTS!\n",
      "Change to sellcall@10600\n",
      "2018/08/20\n",
      "2018/08/27\n",
      "2018/09/03\n",
      "2018/09/10\n",
      "2018/09/17\n",
      "2018/10/01\n",
      "2018/10/09\n",
      "2018/10/15\n",
      "2018/10/22\n",
      "2018/10/29\n",
      "2018/11/05\n",
      "2018/11/12\n",
      "2018/11/19\n",
      "2018/11/26\n",
      "2018/12/03\n",
      "buyput@10250 NOT EXISTS!\n",
      "Change to buyput@10300\n",
      "2018/12/10\n",
      "2018/12/17\n",
      "2018/12/24\n",
      "2019/01/07\n",
      "2019/01/14\n",
      "2019/01/21\n",
      "2019/01/28\n",
      "2019/02/11\n",
      "[buycall@9900]\n",
      "2019/02/18\n",
      "[buycall@10000]\n",
      "2019/02/25\n",
      "[buycall@10250]\n",
      "2019/03/04\n",
      "2019/03/11\n",
      "2019/03/18\n",
      "2019/03/25\n",
      "2019/04/01\n",
      "2019/04/08\n",
      "2019/04/15\n",
      "2019/04/22\n",
      "[buycall@10850]\n",
      "2019/04/30\n",
      "[buyput@11100]\n",
      "2019/05/06\n",
      "2019/05/13\n",
      "2019/05/20\n",
      "2019/05/27\n",
      "2019/06/03\n",
      "2019/06/10\n",
      "2019/06/17\n",
      "2019/06/24\n",
      "2019/07/01\n",
      "[buyput@11000]\n",
      "2019/07/08\n",
      "2019/07/15\n",
      "2019/07/22\n",
      "2019/07/29\n",
      "[buyput@11000]\n",
      "2019/08/05\n",
      "2019/08/12\n",
      "[buyput@10600]\n",
      "2019/08/19\n",
      "2019/08/26\n",
      "2019/09/02\n",
      "2019/09/09\n",
      "2019/09/16\n",
      "2019/09/23\n",
      "[buyput@11050]\n",
      "2019/10/07\n",
      "[buycall@10800]\n",
      "2019/10/14\n",
      "[buyput@11200]\n",
      "2019/10/21\n",
      "[buycall@11050]\n",
      "2019/10/28\n",
      "2019/11/04\n",
      "2019/11/11\n",
      "[buycall@11300]\n",
      "2019/11/18\n",
      "2019/11/25\n",
      "2019/12/02\n",
      "[buyput@11650]\n",
      "2019/12/09\n",
      "[buyput@11800]\n",
      "2019/12/16\n",
      "2019/12/23\n",
      "[buyput@12150]\n",
      "2019/12/31\n",
      "[buycall@11850]\n",
      "2020/01/06\n",
      "2020/01/13\n",
      "2020/02/03\n",
      "2020/02/10\n",
      "2020/02/17\n",
      "2020/02/24\n",
      "2020/03/02\n",
      "2020/03/09\n",
      "buycall@10850 NOT EXISTS!\n",
      "Change to buycall@10800\n",
      "2020/03/16\n",
      "sellcall@9650 NOT EXISTS!\n",
      "Change to sellcall@9600\n",
      "2020/03/23\n",
      "2020/03/30\n",
      "2020/04/06\n",
      "2020/04/13\n",
      "2020/04/20\n",
      "2020/04/27\n",
      "2020/05/04\n",
      "2020/05/11\n",
      "2020/05/18\n",
      "2020/05/25\n",
      "2020/06/01\n",
      "2020/06/08\n",
      "2020/06/15\n",
      "2020/06/22\n",
      "[buycall@11450]\n"
     ]
    }
   ],
   "source": [
    "dftt[\"WinLoss1\"] = dftt.apply(lambda x: WinLoss(x, strategy), axis=1)"
   ]
  },
  {
   "cell_type": "code",
   "execution_count": 28,
   "metadata": {},
   "outputs": [
    {
     "data": {
      "text/plain": [
       "count    101.000000\n",
       "mean       4.386139\n",
       "std       30.934760\n",
       "min      -76.000000\n",
       "25%        0.000000\n",
       "50%        0.000000\n",
       "75%       11.000000\n",
       "max      136.000000\n",
       "Name: WinLoss1, dtype: float64"
      ]
     },
     "execution_count": 28,
     "metadata": {},
     "output_type": "execute_result"
    }
   ],
   "source": [
    "dftt[\"WinLoss1\"].describe()"
   ]
  },
  {
   "cell_type": "markdown",
   "metadata": {},
   "source": [
    "### 收益圖"
   ]
  },
  {
   "cell_type": "code",
   "execution_count": 29,
   "metadata": {},
   "outputs": [
    {
     "data": {
      "image/svg+xml": [
       "<svg class=\"main-svg\" xmlns=\"http://www.w3.org/2000/svg\" xmlns:xlink=\"http://www.w3.org/1999/xlink\" width=\"700\" height=\"450\" viewBox=\"0 0 700 450\"><rect x=\"0\" y=\"0\" width=\"700\" height=\"450\" style=\"fill: rgb(255, 255, 255); fill-opacity: 1;\"/><defs id=\"defs-b8d487\"><g class=\"clips\"><clipPath id=\"clipb8d487xyplot\" class=\"plotclip\"><rect width=\"540\" height=\"270\"/></clipPath><clipPath class=\"axesclip\" id=\"clipb8d487x\"><rect x=\"80\" y=\"0\" width=\"540\" height=\"450\"/></clipPath><clipPath class=\"axesclip\" id=\"clipb8d487y\"><rect x=\"0\" y=\"100\" width=\"700\" height=\"270\"/></clipPath><clipPath class=\"axesclip\" id=\"clipb8d487xy\"><rect x=\"80\" y=\"100\" width=\"540\" height=\"270\"/></clipPath></g><g class=\"gradients\"/></defs><g class=\"bglayer\"><rect class=\"bg\" x=\"80\" y=\"100\" width=\"540\" height=\"270\" style=\"fill: rgb(229, 236, 246); fill-opacity: 1; stroke-width: 0;\"/></g><g class=\"layer-below\"><g class=\"imagelayer\"/><g class=\"shapelayer\"/></g><g class=\"cartesianlayer\"><g class=\"subplot xy\"><g class=\"layer-subplot\"><g class=\"shapelayer\"/><g class=\"imagelayer\"/></g><g class=\"gridlayer\"><g class=\"x\"><path class=\"xgrid crisp\" transform=\"translate(99.47,0)\" d=\"M0,100v270\" style=\"stroke: rgb(255, 255, 255); stroke-opacity: 1; stroke-width: 1px;\"/><path class=\"xgrid crisp\" transform=\"translate(232.12,0)\" d=\"M0,100v270\" style=\"stroke: rgb(255, 255, 255); stroke-opacity: 1; stroke-width: 1px;\"/><path class=\"xgrid crisp\" transform=\"translate(362.62,0)\" d=\"M0,100v270\" style=\"stroke: rgb(255, 255, 255); stroke-opacity: 1; stroke-width: 1px;\"/><path class=\"xgrid crisp\" transform=\"translate(495.27,0)\" d=\"M0,100v270\" style=\"stroke: rgb(255, 255, 255); stroke-opacity: 1; stroke-width: 1px;\"/></g><g class=\"y\"><path class=\"ygrid crisp\" transform=\"translate(0,326.7)\" d=\"M80,0h540\" style=\"stroke: rgb(255, 255, 255); stroke-opacity: 1; stroke-width: 1px;\"/><path class=\"ygrid crisp\" transform=\"translate(0,212.07999999999998)\" d=\"M80,0h540\" style=\"stroke: rgb(255, 255, 255); stroke-opacity: 1; stroke-width: 1px;\"/><path class=\"ygrid crisp\" transform=\"translate(0,154.76)\" d=\"M80,0h540\" style=\"stroke: rgb(255, 255, 255); stroke-opacity: 1; stroke-width: 1px;\"/></g></g><g class=\"zerolinelayer\"><path class=\"yzl zl crisp\" transform=\"translate(0,269.39)\" d=\"M80,0h540\" style=\"stroke: rgb(255, 255, 255); stroke-opacity: 1; stroke-width: 2px;\"/></g><path class=\"xlines-below\"/><path class=\"ylines-below\"/><g class=\"overlines-below\"/><g class=\"xaxislayer-below\"/><g class=\"yaxislayer-below\"/><g class=\"overaxes-below\"/><g class=\"plot\" transform=\"translate(80, 100)\" clip-path=\"url('#clipb8d487xyplot')\"><g class=\"scatterlayer mlayer\"><g class=\"trace scatter trace76c427\" style=\"stroke-miterlimit: 2; opacity: 1;\"><g class=\"fills\"/><g class=\"errorbars\"/><g class=\"lines\"><path class=\"js-line\" d=\"M0,169.39L5.05,169.39L15.14,152.19L20.19,169.39L25.23,151.05L30.28,169.39L35.33,235.87L40.37,153.34L45.42,228.99L50.47,156.78L55.51,169.39L60.56,218.67L65.61,169.39L75.7,169.39L85.79,211.8L91.56,169.39L95.89,169.39L105.98,169.39L111.03,147.61L116.07,149.9L121.12,169.39L126.17,178.56L131.21,206.07L136.26,195.75L141.31,148.75L146.36,209.5L156.45,169.39L161.5,148.75L166.54,169.39L171.59,182L181.68,78.83L186.73,42.16L191.78,180.85L196.82,153.34L201.87,176.26L206.92,157.92L211.96,169.39L217.01,184.29L222.06,156.78L227.1,169.39L232.15,167.09L237.92,208.36L242.24,147.61L247.29,144.17L252.34,167.09L257.38,169.39L262.43,165.95L267.48,159.07L272.52,216.38L277.57,169.39L282.62,13.5L287.66,155.63L292.71,159.07L297.76,169.39L302.8,109.78L307.85,169.39L312.9,153.34L317.94,169.39L322.99,153.34L328.04,169.39L333.08,163.66L338.13,169.39L343.18,88L358.32,256.5L363.36,130.42L368.41,169.39L373.46,165.95L378.5,139.58L383.55,169.39L388.6,169.39L393.64,138.44L398.69,186.58L403.74,209.5L408.79,169.39L414.55,52.47L418.88,169.39L423.93,169.39L449.16,169.39L454.21,159.07L459.25,169.39L464.3,169.39L469.35,82.27L474.39,183.14L479.44,129.27L484.49,169.39L489.53,169.39L494.58,195.75L499.63,193.46L504.67,169.39L509.72,169.39L514.77,198.04L519.81,169.39L524.86,169.39L529.91,159.07L534.95,194.6L540,105.2\" style=\"vector-effect: non-scaling-stroke; fill: none; stroke: rgb(99, 110, 250); stroke-opacity: 1; stroke-width: 2px; opacity: 1;\"/></g><g class=\"points\"/><g class=\"text\"/></g></g></g><g class=\"overplot\"/><path class=\"xlines-above crisp\" d=\"M0,0\" style=\"fill: none;\"/><path class=\"ylines-above crisp\" d=\"M0,0\" style=\"fill: none;\"/><g class=\"overlines-above\"/><g class=\"xaxislayer-above\"><g class=\"xtick\"><text text-anchor=\"middle\" x=\"0\" y=\"383\" transform=\"translate(99.47,0)\" style=\"font-family: 'Courier New', monospace; font-size: 12px; fill: rgb(127, 127, 127); fill-opacity: 1; white-space: pre;\">2018-07-01</text></g><g class=\"xtick\"><text text-anchor=\"middle\" x=\"0\" y=\"383\" transform=\"translate(232.12,0)\" style=\"font-family: 'Courier New', monospace; font-size: 12px; fill: rgb(127, 127, 127); fill-opacity: 1; white-space: pre;\">2019-01-01</text></g><g class=\"xtick\"><text text-anchor=\"middle\" x=\"0\" y=\"383\" transform=\"translate(362.62,0)\" style=\"font-family: 'Courier New', monospace; font-size: 12px; fill: rgb(127, 127, 127); fill-opacity: 1; white-space: pre;\">2019-07-01</text></g><g class=\"xtick\"><text text-anchor=\"middle\" x=\"0\" y=\"383\" transform=\"translate(495.27,0)\" style=\"font-family: 'Courier New', monospace; font-size: 12px; fill: rgb(127, 127, 127); fill-opacity: 1; white-space: pre;\">2020-01-01</text></g></g><g class=\"yaxislayer-above\"><g class=\"ytick\"><text text-anchor=\"end\" x=\"79\" y=\"4.199999999999999\" transform=\"translate(0,326.7)\" style=\"font-family: 'Courier New', monospace; font-size: 12px; fill: rgb(127, 127, 127); fill-opacity: 1; white-space: pre;\">−50.00</text></g><g class=\"ytick\"><text text-anchor=\"end\" x=\"79\" y=\"4.199999999999999\" transform=\"translate(0,269.39)\" style=\"font-family: 'Courier New', monospace; font-size: 12px; fill: rgb(127, 127, 127); fill-opacity: 1; white-space: pre;\">0.00</text></g><g class=\"ytick\"><text text-anchor=\"end\" x=\"79\" y=\"4.199999999999999\" transform=\"translate(0,212.07999999999998)\" style=\"font-family: 'Courier New', monospace; font-size: 12px; fill: rgb(127, 127, 127); fill-opacity: 1; white-space: pre;\">50.00</text></g><g class=\"ytick\"><text text-anchor=\"end\" x=\"79\" y=\"4.199999999999999\" transform=\"translate(0,154.76)\" style=\"font-family: 'Courier New', monospace; font-size: 12px; fill: rgb(127, 127, 127); fill-opacity: 1; white-space: pre;\">100.00</text></g></g><g class=\"overaxes-above\"/></g></g><g class=\"polarlayer\"/><g class=\"ternarylayer\"/><g class=\"geolayer\"/><g class=\"funnelarealayer\"/><g class=\"pielayer\"/><g class=\"treemaplayer\"/><g class=\"sunburstlayer\"/><g class=\"glimages\"/><defs id=\"topdefs-b8d487\"><g class=\"clips\"/></defs><g class=\"layer-above\"><g class=\"imagelayer\"/><g class=\"shapelayer\"/></g><g class=\"infolayer\"><g class=\"g-gtitle\"><text class=\"gtitle\" x=\"35\" y=\"50\" text-anchor=\"start\" dy=\"0em\" style=\"font-family: 'Courier New', monospace; font-size: 17px; fill: rgb(127, 127, 127); opacity: 1; font-weight: normal; white-space: pre;\">Profit Plot</text></g><g class=\"g-xtitle\"/><g class=\"g-ytitle\"/></g></svg>"
      ]
     },
     "metadata": {},
     "output_type": "display_data"
    }
   ],
   "source": [
    "fig = go.Figure()\n",
    "\n",
    "fig.add_trace(\n",
    "    go.Scatter(\n",
    "            x=dftt[\"Date\"],\n",
    "            y=dftt[\"WinLoss1\"],\n",
    "            name = f\"Profit\",\n",
    "            mode='lines'\n",
    "        ))\n",
    "\n",
    "fig.update_layout(\n",
    "    title=f\"Profit Plot\",\n",
    "    xaxis_title=\"x Axis Title\",\n",
    "    yaxis_title=\"y Axis Title\",\n",
    "    font=dict(\n",
    "        family=\"Courier New, monospace\",\n",
    "        size=12,\n",
    "        color=\"#7f7f7f\"\n",
    "    ),\n",
    "    xaxis=plotly.graph_objects.layout.XAxis(\n",
    "        tickformat='%Y-%m-%d'\n",
    "    ),\n",
    "    yaxis=plotly.graph_objects.layout.YAxis(\n",
    "        tickformat='.2f'\n",
    "    )\n",
    ")\n",
    "fig.show(\"svg\")"
   ]
  },
  {
   "cell_type": "markdown",
   "metadata": {},
   "source": [
    "# strategy2"
   ]
  },
  {
   "cell_type": "code",
   "execution_count": 30,
   "metadata": {},
   "outputs": [
    {
     "name": "stdout",
     "output_type": "stream",
     "text": [
      "2018/06/04\n",
      "2018/06/11\n",
      "2018/06/25\n",
      "2018/07/02\n",
      "2018/07/09\n",
      "2018/07/16\n",
      "2018/07/23\n",
      "2018/07/30\n",
      "2018/08/06\n",
      "2018/08/13\n",
      "buycall@10650 NOT EXISTS!\n",
      "Change to buycall@10600\n",
      "2018/08/20\n",
      "[buycall@10650, buyput@10700]\n",
      "2018/08/27\n",
      "2018/09/03\n",
      "2018/09/10\n",
      "2018/09/17\n",
      "2018/10/01\n",
      "2018/10/09\n",
      "2018/10/15\n",
      "[buycall@9900, buyput@9950]\n",
      "2018/10/22\n",
      "2018/10/29\n",
      "[buycall@9500, buyput@9550]\n",
      "2018/11/05\n",
      "[buycall@9850, buyput@9900]\n",
      "2018/11/12\n",
      "2018/11/19\n",
      "2018/11/26\n",
      "2018/12/03\n",
      "2018/12/10\n",
      "[buycall@9600, buyput@9650]\n",
      "2018/12/17\n",
      "2018/12/24\n",
      "2019/01/07\n",
      "2019/01/14\n",
      "[buycall@9700, buyput@9750]\n",
      "2019/01/21\n",
      "2019/01/28\n",
      "2019/02/11\n",
      "2019/02/18\n",
      "2019/02/25\n",
      "2019/03/04\n",
      "2019/03/11\n",
      "2019/03/18\n",
      "2019/03/25\n",
      "2019/04/01\n",
      "2019/04/08\n",
      "2019/04/15\n",
      "2019/04/22\n",
      "2019/04/30\n",
      "2019/05/06\n",
      "2019/05/13\n",
      "2019/05/20\n",
      "2019/05/27\n",
      "2019/06/03\n",
      "2019/06/10\n",
      "2019/06/17\n",
      "2019/06/24\n",
      "2019/07/01\n",
      "2019/07/08\n",
      "2019/07/15\n",
      "2019/07/22\n",
      "2019/07/29\n",
      "2019/08/05\n",
      "2019/08/12\n",
      "2019/08/19\n",
      "2019/08/26\n",
      "2019/09/02\n",
      "2019/09/09\n",
      "2019/09/16\n",
      "2019/09/23\n",
      "2019/10/07\n",
      "2019/10/14\n",
      "2019/10/21\n",
      "2019/10/28\n",
      "2019/11/04\n",
      "2019/11/11\n",
      "2019/11/18\n",
      "2019/11/25\n",
      "2019/12/02\n",
      "2019/12/09\n",
      "2019/12/16\n",
      "2019/12/23\n",
      "2019/12/31\n",
      "2020/01/06\n",
      "2020/01/13\n",
      "2020/02/03\n",
      "[buycall@11350, buyput@11400]\n",
      "2020/02/10\n",
      "2020/02/17\n",
      "2020/02/24\n",
      "2020/03/02\n",
      "2020/03/09\n",
      "sellcall@10950 NOT EXISTS!\n",
      "Change to sellcall@10900\n",
      "2020/03/16\n",
      "buycall@9650 NOT EXISTS!\n",
      "Change to buycall@9600\n",
      "sellput@9750 NOT EXISTS!\n",
      "Change to sellput@9800\n",
      "buyput@9750 NOT EXISTS!\n",
      "Change to buyput@9800\n",
      "2020/03/23\n",
      "2020/03/30\n",
      "2020/04/06\n",
      "2020/04/13\n",
      "2020/04/20\n",
      "2020/04/27\n",
      "[buycall@10550, buyput@10600]\n",
      "2020/05/04\n",
      "2020/05/11\n",
      "[buycall@11000, buyput@11050]\n",
      "2020/05/18\n",
      "2020/05/25\n",
      "2020/06/01\n",
      "2020/06/08\n",
      "2020/06/15\n",
      "2020/06/22\n",
      "[buycall@11550, buyput@11600]\n"
     ]
    }
   ],
   "source": [
    "dftt[\"WinLoss2\"] = dftt.apply(lambda x: WinLoss(x, strategy2), axis=1)"
   ]
  },
  {
   "cell_type": "code",
   "execution_count": 31,
   "metadata": {},
   "outputs": [
    {
     "data": {
      "text/plain": [
       "count    101.000000\n",
       "mean      -4.168317\n",
       "std       27.070212\n",
       "min     -124.000000\n",
       "25%      -19.500000\n",
       "50%       -5.000000\n",
       "75%       18.500000\n",
       "max       44.000000\n",
       "Name: WinLoss2, dtype: float64"
      ]
     },
     "execution_count": 31,
     "metadata": {},
     "output_type": "execute_result"
    }
   ],
   "source": [
    "dftt[\"WinLoss2\"].describe()"
   ]
  },
  {
   "cell_type": "markdown",
   "metadata": {},
   "source": [
    "### 收益圖"
   ]
  },
  {
   "cell_type": "code",
   "execution_count": 32,
   "metadata": {},
   "outputs": [
    {
     "data": {
      "image/svg+xml": [
       "<svg class=\"main-svg\" xmlns=\"http://www.w3.org/2000/svg\" xmlns:xlink=\"http://www.w3.org/1999/xlink\" width=\"700\" height=\"450\" viewBox=\"0 0 700 450\"><rect x=\"0\" y=\"0\" width=\"700\" height=\"450\" style=\"fill: rgb(255, 255, 255); fill-opacity: 1;\"/><defs id=\"defs-c93e0d\"><g class=\"clips\"><clipPath id=\"clipc93e0dxyplot\" class=\"plotclip\"><rect width=\"540\" height=\"270\"/></clipPath><clipPath class=\"axesclip\" id=\"clipc93e0dx\"><rect x=\"80\" y=\"0\" width=\"540\" height=\"450\"/></clipPath><clipPath class=\"axesclip\" id=\"clipc93e0dy\"><rect x=\"0\" y=\"100\" width=\"700\" height=\"270\"/></clipPath><clipPath class=\"axesclip\" id=\"clipc93e0dxy\"><rect x=\"80\" y=\"100\" width=\"540\" height=\"270\"/></clipPath></g><g class=\"gradients\"/></defs><g class=\"bglayer\"><rect class=\"bg\" x=\"80\" y=\"100\" width=\"540\" height=\"270\" style=\"fill: rgb(229, 236, 246); fill-opacity: 1; stroke-width: 0;\"/></g><g class=\"layer-below\"><g class=\"imagelayer\"/><g class=\"shapelayer\"/></g><g class=\"cartesianlayer\"><g class=\"subplot xy\"><g class=\"layer-subplot\"><g class=\"shapelayer\"/><g class=\"imagelayer\"/></g><g class=\"gridlayer\"><g class=\"x\"><path class=\"xgrid crisp\" transform=\"translate(99.47,0)\" d=\"M0,100v270\" style=\"stroke: rgb(255, 255, 255); stroke-opacity: 1; stroke-width: 1px;\"/><path class=\"xgrid crisp\" transform=\"translate(232.12,0)\" d=\"M0,100v270\" style=\"stroke: rgb(255, 255, 255); stroke-opacity: 1; stroke-width: 1px;\"/><path class=\"xgrid crisp\" transform=\"translate(362.62,0)\" d=\"M0,100v270\" style=\"stroke: rgb(255, 255, 255); stroke-opacity: 1; stroke-width: 1px;\"/><path class=\"xgrid crisp\" transform=\"translate(495.27,0)\" d=\"M0,100v270\" style=\"stroke: rgb(255, 255, 255); stroke-opacity: 1; stroke-width: 1px;\"/></g><g class=\"y\"><path class=\"ygrid crisp\" transform=\"translate(0,321.78999999999996)\" d=\"M80,0h540\" style=\"stroke: rgb(255, 255, 255); stroke-opacity: 1; stroke-width: 1px;\"/><path class=\"ygrid crisp\" transform=\"translate(0,249.46)\" d=\"M80,0h540\" style=\"stroke: rgb(255, 255, 255); stroke-opacity: 1; stroke-width: 1px;\"/><path class=\"ygrid crisp\" transform=\"translate(0,104.82)\" d=\"M80,0h540\" style=\"stroke: rgb(255, 255, 255); stroke-opacity: 1; stroke-width: 1px;\"/></g></g><g class=\"zerolinelayer\"><path class=\"yzl zl crisp\" transform=\"translate(0,177.14)\" d=\"M80,0h540\" style=\"stroke: rgb(255, 255, 255); stroke-opacity: 1; stroke-width: 2px;\"/></g><path class=\"xlines-below\"/><path class=\"ylines-below\"/><g class=\"overlines-below\"/><g class=\"xaxislayer-below\"/><g class=\"yaxislayer-below\"/><g class=\"overaxes-below\"/><g class=\"plot\" transform=\"translate(80, 100)\" clip-path=\"url('#clipc93e0dxyplot')\"><g class=\"scatterlayer mlayer\"><g class=\"trace scatter trace672274\" style=\"stroke-miterlimit: 2; opacity: 1;\"><g class=\"fills\"/><g class=\"errorbars\"/><g class=\"lines\"><path class=\"js-line\" d=\"M0,111.13L5.05,62.68L15.14,65.57L20.19,64.85L25.23,100.29L30.28,35.2L35.33,65.57L40.37,87.27L45.42,50.38L50.47,16.39L55.51,45.32L60.56,114.75L65.61,40.26L70.65,30.86L75.7,69.91L85.79,112.58L91.56,106.07L95.89,231.91L100.93,100.29L105.98,22.18L111.03,256.5L116.07,45.32L121.12,103.18L126.17,101.73L131.21,103.18L136.26,13.5L141.31,32.3L146.36,101.73L156.45,104.62L161.5,157.42L166.54,58.34L171.59,112.58L181.68,77.14L186.73,114.03L191.78,46.04L196.82,38.09L201.87,114.03L206.92,42.43L211.96,97.39L217.01,108.96L222.06,62.68L227.1,116.92L232.15,43.87L237.92,51.11L242.24,84.37L247.29,29.41L252.34,105.35L257.38,46.77L262.43,93.78L267.48,69.91L272.52,114.75L277.57,119.09L282.62,111.86L287.66,33.75L292.71,71.36L297.76,47.49L302.8,95.95L307.85,54L312.9,49.66L317.94,72.8L322.99,67.74L328.04,60.51L333.08,117.64L338.13,114.75L343.18,119.81L353.27,43.87L358.32,114.03L363.36,69.19L368.41,74.97L373.46,115.47L378.5,76.42L383.55,55.45L388.6,103.9L393.64,82.93L398.69,47.49L403.74,113.3L408.79,43.87L414.55,121.98L418.88,112.58L423.93,90.88L439.07,74.25L444.11,103.18L449.16,39.54L454.21,100.29L459.25,91.61L464.3,45.32L469.35,77.14L479.44,77.14L484.49,98.84L489.53,100.29L494.58,97.39L499.63,27.96L504.67,30.86L509.72,120.54L514.77,95.95L519.81,104.62L524.86,104.62L534.95,95.95L540,153.8\" style=\"vector-effect: non-scaling-stroke; fill: none; stroke: rgb(99, 110, 250); stroke-opacity: 1; stroke-width: 2px; opacity: 1;\"/></g><g class=\"points\"/><g class=\"text\"/></g></g></g><g class=\"overplot\"/><path class=\"xlines-above crisp\" d=\"M0,0\" style=\"fill: none;\"/><path class=\"ylines-above crisp\" d=\"M0,0\" style=\"fill: none;\"/><g class=\"overlines-above\"/><g class=\"xaxislayer-above\"><g class=\"xtick\"><text text-anchor=\"middle\" x=\"0\" y=\"383\" transform=\"translate(99.47,0)\" style=\"font-family: 'Courier New', monospace; font-size: 12px; fill: rgb(127, 127, 127); fill-opacity: 1; white-space: pre;\">2018-07-01</text></g><g class=\"xtick\"><text text-anchor=\"middle\" x=\"0\" y=\"383\" transform=\"translate(232.12,0)\" style=\"font-family: 'Courier New', monospace; font-size: 12px; fill: rgb(127, 127, 127); fill-opacity: 1; white-space: pre;\">2019-01-01</text></g><g class=\"xtick\"><text text-anchor=\"middle\" x=\"0\" y=\"383\" transform=\"translate(362.62,0)\" style=\"font-family: 'Courier New', monospace; font-size: 12px; fill: rgb(127, 127, 127); fill-opacity: 1; white-space: pre;\">2019-07-01</text></g><g class=\"xtick\"><text text-anchor=\"middle\" x=\"0\" y=\"383\" transform=\"translate(495.27,0)\" style=\"font-family: 'Courier New', monospace; font-size: 12px; fill: rgb(127, 127, 127); fill-opacity: 1; white-space: pre;\">2020-01-01</text></g></g><g class=\"yaxislayer-above\"><g class=\"ytick\"><text text-anchor=\"end\" x=\"79\" y=\"4.199999999999999\" transform=\"translate(0,321.78999999999996)\" style=\"font-family: 'Courier New', monospace; font-size: 12px; fill: rgb(127, 127, 127); fill-opacity: 1; white-space: pre;\">−100.00</text></g><g class=\"ytick\"><text text-anchor=\"end\" x=\"79\" y=\"4.199999999999999\" transform=\"translate(0,249.46)\" style=\"font-family: 'Courier New', monospace; font-size: 12px; fill: rgb(127, 127, 127); fill-opacity: 1; white-space: pre;\">−50.00</text></g><g class=\"ytick\"><text text-anchor=\"end\" x=\"79\" y=\"4.199999999999999\" transform=\"translate(0,177.14)\" style=\"font-family: 'Courier New', monospace; font-size: 12px; fill: rgb(127, 127, 127); fill-opacity: 1; white-space: pre;\">0.00</text></g><g class=\"ytick\"><text text-anchor=\"end\" x=\"79\" y=\"4.199999999999999\" transform=\"translate(0,104.82)\" style=\"font-family: 'Courier New', monospace; font-size: 12px; fill: rgb(127, 127, 127); fill-opacity: 1; white-space: pre;\">50.00</text></g></g><g class=\"overaxes-above\"/></g></g><g class=\"polarlayer\"/><g class=\"ternarylayer\"/><g class=\"geolayer\"/><g class=\"funnelarealayer\"/><g class=\"pielayer\"/><g class=\"treemaplayer\"/><g class=\"sunburstlayer\"/><g class=\"glimages\"/><defs id=\"topdefs-c93e0d\"><g class=\"clips\"/></defs><g class=\"layer-above\"><g class=\"imagelayer\"/><g class=\"shapelayer\"/></g><g class=\"infolayer\"><g class=\"g-gtitle\"><text class=\"gtitle\" x=\"35\" y=\"50\" text-anchor=\"start\" dy=\"0em\" style=\"font-family: 'Courier New', monospace; font-size: 17px; fill: rgb(127, 127, 127); opacity: 1; font-weight: normal; white-space: pre;\">Profit Plot</text></g><g class=\"g-xtitle\"/><g class=\"g-ytitle\"/></g></svg>"
      ]
     },
     "metadata": {},
     "output_type": "display_data"
    }
   ],
   "source": [
    "fig = go.Figure()\n",
    "\n",
    "fig.add_trace(\n",
    "    go.Scatter(\n",
    "            x=dftt[\"Date\"],\n",
    "            y=dftt[\"WinLoss2\"],\n",
    "            name = f\"Profit\",\n",
    "            mode='lines'\n",
    "        ))\n",
    "\n",
    "fig.update_layout(\n",
    "    title=f\"Profit Plot\",\n",
    "    xaxis_title=\"x Axis Title\",\n",
    "    yaxis_title=\"y Axis Title\",\n",
    "    font=dict(\n",
    "        family=\"Courier New, monospace\",\n",
    "        size=12,\n",
    "        color=\"#7f7f7f\"\n",
    "    ),\n",
    "    xaxis=plotly.graph_objects.layout.XAxis(\n",
    "        tickformat='%Y-%m-%d'\n",
    "    ),\n",
    "    yaxis=plotly.graph_objects.layout.YAxis(\n",
    "        tickformat='.2f'\n",
    "    )\n",
    ")\n",
    "fig.show(\"svg\")"
   ]
  },
  {
   "cell_type": "markdown",
   "metadata": {},
   "source": [
    "# strategy3"
   ]
  },
  {
   "cell_type": "code",
   "execution_count": 33,
   "metadata": {},
   "outputs": [
    {
     "name": "stdout",
     "output_type": "stream",
     "text": [
      "2018/06/04\n",
      "[buyput@11200]\n",
      "2018/06/11\n",
      "[buyput@11200]\n",
      "2018/06/25\n",
      "[buycall@10700]\n",
      "2018/07/02\n",
      "[buycall@10700]\n",
      "2018/07/09\n",
      "[buyput@10800]\n",
      "2018/07/16\n",
      "[buycall@10750]\n",
      "2018/07/23\n",
      "[buyput@11000]\n",
      "2018/07/30\n",
      "[buycall@10950]\n",
      "2018/08/06\n",
      "2018/08/13\n",
      "buycall@10650 NOT EXISTS!\n",
      "Change to buycall@10600\n",
      "[buycall@10600]\n",
      "2018/08/20\n",
      "[buycall@10600]\n",
      "2018/08/27\n",
      "[buycall@10850]\n",
      "2018/09/03\n",
      "[buycall@10900]\n",
      "2018/09/10\n",
      "2018/09/17\n",
      "[buycall@10750]\n",
      "2018/10/01\n",
      "[buyput@11150]\n",
      "2018/10/09\n",
      "2018/10/15\n",
      "[buycall@9850]\n",
      "2018/10/22\n",
      "[buycall@9900]\n",
      "2018/10/29\n",
      "[buycall@9450]\n",
      "2018/11/05\n",
      "[buyput@9950]\n",
      "2018/11/12\n",
      "2018/11/19\n",
      "2018/11/26\n",
      "[buycall@9700]\n",
      "2018/12/03\n",
      "[buycall@10050]\n",
      "2018/12/10\n",
      "[buycall@9550]\n",
      "2018/12/17\n",
      "[buyput@9850]\n",
      "2018/12/24\n",
      "2019/01/07\n",
      "[buycall@9500]\n",
      "2019/01/14\n",
      "2019/01/21\n",
      "[buyput@9950]\n",
      "2019/01/28\n",
      "[buycall@9950]\n",
      "2019/02/11\n",
      "[buyput@10100]\n",
      "2019/02/18\n",
      "2019/02/25\n",
      "[buyput@10450]\n",
      "2019/03/04\n",
      "[buycall@10250]\n",
      "2019/03/11\n",
      "[buyput@10350]\n",
      "2019/03/18\n",
      "[buycall@10450]\n",
      "2019/03/25\n",
      "[buycall@10400]\n",
      "2019/04/01\n",
      "2019/04/08\n",
      "[buycall@10750]\n",
      "2019/04/15\n",
      "[buycall@10800]\n",
      "2019/04/22\n",
      "[buyput@11050]\n",
      "2019/04/30\n",
      "2019/05/06\n",
      "2019/05/13\n",
      "[buycall@10500]\n",
      "2019/05/20\n",
      "[buycall@10300]\n",
      "2019/05/27\n",
      "[buycall@10250]\n",
      "2019/06/03\n",
      "[buycall@10450]\n",
      "2019/06/10\n",
      "[buyput@10650]\n",
      "2019/06/17\n",
      "[buyput@10600]\n",
      "2019/06/24\n",
      "[buyput@10850]\n",
      "2019/07/01\n",
      "2019/07/08\n",
      "[buyput@10850]\n",
      "2019/07/15\n",
      "[buyput@10950]\n",
      "2019/07/22\n",
      "2019/07/29\n",
      "[buyput@10950]\n",
      "2019/08/05\n",
      "2019/08/12\n",
      "2019/08/19\n",
      "[buycall@10400]\n",
      "2019/08/26\n",
      "[buyput@10450]\n",
      "2019/09/02\n",
      "2019/09/09\n",
      "[buycall@10750]\n",
      "2019/09/16\n",
      "[buyput@10950]\n",
      "2019/09/23\n",
      "[buyput@11000]\n",
      "2019/10/07\n",
      "2019/10/14\n",
      "2019/10/21\n",
      "[buycall@11100]\n",
      "2019/10/28\n",
      "[buyput@11400]\n",
      "2019/11/04\n",
      "[buyput@11650]\n",
      "2019/11/11\n",
      "2019/11/18\n",
      "[buyput@11650]\n",
      "2019/11/25\n",
      "2019/12/02\n",
      "[buyput@11600]\n",
      "2019/12/09\n",
      "[buyput@11750]\n",
      "2019/12/16\n",
      "[buyput@12000]\n",
      "2019/12/23\n",
      "[buyput@12100]\n",
      "2019/12/31\n",
      "[buyput@12050]\n",
      "2020/01/06\n",
      "2020/01/13\n",
      "[buyput@12200]\n",
      "2020/02/03\n",
      "[buyput@11450]\n",
      "2020/02/10\n",
      "[buycall@11500]\n",
      "2020/02/17\n",
      "[buycall@11700]\n",
      "2020/02/24\n",
      "[buyput@11600]\n",
      "2020/03/02\n",
      "[buyput@11250]\n",
      "2020/03/09\n",
      "sellcall@10950 NOT EXISTS!\n",
      "Change to sellcall@10900\n",
      "[buyput@11050]\n",
      "2020/03/16\n",
      "buycall@9650 NOT EXISTS!\n",
      "Change to buycall@9600\n",
      "sellput@9750 NOT EXISTS!\n",
      "Change to sellput@9800\n",
      "[buyput@9800]\n",
      "2020/03/23\n",
      "[buycall@8800]\n",
      "2020/03/30\n",
      "2020/04/06\n",
      "[buycall@9750]\n",
      "2020/04/13\n",
      "[buyput@10150]\n",
      "2020/04/20\n",
      "[buycall@10500]\n",
      "2020/04/27\n",
      "[buycall@10500]\n",
      "2020/05/04\n",
      "[buyput@10800]\n",
      "2020/05/11\n",
      "[buycall@10950]\n",
      "2020/05/18\n",
      "[buycall@10650]\n",
      "2020/05/25\n",
      "[buyput@10950]\n",
      "2020/06/01\n",
      "[buycall@11000]\n",
      "2020/06/08\n",
      "[buycall@11550]\n",
      "2020/06/15\n",
      "[buyput@11400]\n",
      "2020/06/22\n",
      "[buyput@11650]\n"
     ]
    }
   ],
   "source": [
    "dftt[\"WinLoss3\"] = dftt.apply(lambda x: WinLoss(x, strategy3), axis=1)"
   ]
  },
  {
   "cell_type": "code",
   "execution_count": 34,
   "metadata": {},
   "outputs": [
    {
     "data": {
      "text/plain": [
       "count    101.000000\n",
       "mean      -4.004950\n",
       "std       79.203867\n",
       "min     -202.000000\n",
       "25%      -62.000000\n",
       "50%       -5.000000\n",
       "75%       40.000000\n",
       "max      187.000000\n",
       "Name: WinLoss3, dtype: float64"
      ]
     },
     "execution_count": 34,
     "metadata": {},
     "output_type": "execute_result"
    }
   ],
   "source": [
    "dftt[\"WinLoss3\"].describe()"
   ]
  },
  {
   "cell_type": "markdown",
   "metadata": {},
   "source": [
    "### 收益圖"
   ]
  },
  {
   "cell_type": "code",
   "execution_count": 35,
   "metadata": {},
   "outputs": [
    {
     "data": {
      "image/svg+xml": [
       "<svg class=\"main-svg\" xmlns=\"http://www.w3.org/2000/svg\" xmlns:xlink=\"http://www.w3.org/1999/xlink\" width=\"700\" height=\"450\" viewBox=\"0 0 700 450\"><rect x=\"0\" y=\"0\" width=\"700\" height=\"450\" style=\"fill: rgb(255, 255, 255); fill-opacity: 1;\"/><defs id=\"defs-c3a5fc\"><g class=\"clips\"><clipPath id=\"clipc3a5fcxyplot\" class=\"plotclip\"><rect width=\"540\" height=\"270\"/></clipPath><clipPath class=\"axesclip\" id=\"clipc3a5fcx\"><rect x=\"80\" y=\"0\" width=\"540\" height=\"450\"/></clipPath><clipPath class=\"axesclip\" id=\"clipc3a5fcy\"><rect x=\"0\" y=\"100\" width=\"700\" height=\"270\"/></clipPath><clipPath class=\"axesclip\" id=\"clipc3a5fcxy\"><rect x=\"80\" y=\"100\" width=\"540\" height=\"270\"/></clipPath></g><g class=\"gradients\"/></defs><g class=\"bglayer\"><rect class=\"bg\" x=\"80\" y=\"100\" width=\"540\" height=\"270\" style=\"fill: rgb(229, 236, 246); fill-opacity: 1; stroke-width: 0;\"/></g><g class=\"layer-below\"><g class=\"imagelayer\"/><g class=\"shapelayer\"/></g><g class=\"cartesianlayer\"><g class=\"subplot xy\"><g class=\"layer-subplot\"><g class=\"shapelayer\"/><g class=\"imagelayer\"/></g><g class=\"gridlayer\"><g class=\"x\"><path class=\"xgrid crisp\" transform=\"translate(99.47,0)\" d=\"M0,100v270\" style=\"stroke: rgb(255, 255, 255); stroke-opacity: 1; stroke-width: 1px;\"/><path class=\"xgrid crisp\" transform=\"translate(232.12,0)\" d=\"M0,100v270\" style=\"stroke: rgb(255, 255, 255); stroke-opacity: 1; stroke-width: 1px;\"/><path class=\"xgrid crisp\" transform=\"translate(362.62,0)\" d=\"M0,100v270\" style=\"stroke: rgb(255, 255, 255); stroke-opacity: 1; stroke-width: 1px;\"/><path class=\"xgrid crisp\" transform=\"translate(495.27,0)\" d=\"M0,100v270\" style=\"stroke: rgb(255, 255, 255); stroke-opacity: 1; stroke-width: 1px;\"/></g><g class=\"y\"><path class=\"ygrid crisp\" transform=\"translate(0,355.25)\" d=\"M80,0h540\" style=\"stroke: rgb(255, 255, 255); stroke-opacity: 1; stroke-width: 1px;\"/><path class=\"ygrid crisp\" transform=\"translate(0,292.78)\" d=\"M80,0h540\" style=\"stroke: rgb(255, 255, 255); stroke-opacity: 1; stroke-width: 1px;\"/><path class=\"ygrid crisp\" transform=\"translate(0,167.85)\" d=\"M80,0h540\" style=\"stroke: rgb(255, 255, 255); stroke-opacity: 1; stroke-width: 1px;\"/><path class=\"ygrid crisp\" transform=\"translate(0,105.38)\" d=\"M80,0h540\" style=\"stroke: rgb(255, 255, 255); stroke-opacity: 1; stroke-width: 1px;\"/></g></g><g class=\"zerolinelayer\"><path class=\"yzl zl crisp\" transform=\"translate(0,230.31)\" d=\"M80,0h540\" style=\"stroke: rgb(255, 255, 255); stroke-opacity: 1; stroke-width: 2px;\"/></g><path class=\"xlines-below\"/><path class=\"ylines-below\"/><g class=\"overlines-below\"/><g class=\"xaxislayer-below\"/><g class=\"yaxislayer-below\"/><g class=\"overaxes-below\"/><g class=\"plot\" transform=\"translate(80, 100)\" clip-path=\"url('#clipc3a5fcxyplot')\"><g class=\"scatterlayer mlayer\"><g class=\"trace scatter trace6a79d3\" style=\"stroke-miterlimit: 2; opacity: 1;\"><g class=\"fills\"/><g class=\"errorbars\"/><g class=\"lines\"><path class=\"js-line\" d=\"M0,195.91L5.05,161.55L15.14,164.67L20.19,155.93L25.23,113.45L30.28,124.07L35.33,169.67L40.37,87.21L45.42,118.76L50.47,152.18L55.51,75.34L60.56,42.24L65.61,117.82L70.65,110.33L75.7,110.33L85.79,21.62L91.56,142.81L95.89,99.08L100.93,197.16L105.98,24.12L111.03,178.42L116.07,116.57L121.12,141.56L126.17,90.34L131.21,199.03L136.26,43.48L141.31,132.81L146.36,140.93L156.45,50.36L161.5,133.13L166.54,114.7L171.59,174.67L181.68,180.29L186.73,146.24L191.78,134.06L196.82,136.56L201.87,200.9L206.92,105.33L211.96,94.71L217.01,144.06L222.06,96.58L227.1,58.48L232.15,146.56L237.92,119.07L242.24,133.44L247.29,150.93L252.34,111.57L257.38,172.17L262.43,168.42L267.48,178.42L272.52,174.04L277.57,70.97L282.62,145.31L287.66,184.04L292.71,122.82L297.76,117.51L302.8,100.33L307.85,120.32L312.9,118.45L317.94,114.07L322.99,196.53L328.04,123.13L333.08,168.42L338.13,181.54L343.18,87.84L353.27,115.95L358.32,146.24L363.36,112.2L368.41,164.05L373.46,198.4L378.5,130L383.55,148.43L388.6,141.87L393.64,115.95L398.69,142.18L403.74,169.04L408.79,132.81L414.55,169.04L418.88,145.62L423.93,103.45L439.07,224.64L444.11,26.62L449.16,154.05L454.21,98.46L459.25,209.02L469.35,81.59L474.39,62.22L479.44,125.32L484.49,47.23L489.53,214.65L494.58,198.4L499.63,51.61L504.67,209.02L509.72,192.78L514.77,79.72L519.81,199.65L524.86,13.5L529.91,83.46L534.95,256.5L540,199.65\" style=\"vector-effect: non-scaling-stroke; fill: none; stroke: rgb(99, 110, 250); stroke-opacity: 1; stroke-width: 2px; opacity: 1;\"/></g><g class=\"points\"/><g class=\"text\"/></g></g></g><g class=\"overplot\"/><path class=\"xlines-above crisp\" d=\"M0,0\" style=\"fill: none;\"/><path class=\"ylines-above crisp\" d=\"M0,0\" style=\"fill: none;\"/><g class=\"overlines-above\"/><g class=\"xaxislayer-above\"><g class=\"xtick\"><text text-anchor=\"middle\" x=\"0\" y=\"383\" transform=\"translate(99.47,0)\" style=\"font-family: 'Courier New', monospace; font-size: 12px; fill: rgb(127, 127, 127); fill-opacity: 1; white-space: pre;\">2018-07-01</text></g><g class=\"xtick\"><text text-anchor=\"middle\" x=\"0\" y=\"383\" transform=\"translate(232.12,0)\" style=\"font-family: 'Courier New', monospace; font-size: 12px; fill: rgb(127, 127, 127); fill-opacity: 1; white-space: pre;\">2019-01-01</text></g><g class=\"xtick\"><text text-anchor=\"middle\" x=\"0\" y=\"383\" transform=\"translate(362.62,0)\" style=\"font-family: 'Courier New', monospace; font-size: 12px; fill: rgb(127, 127, 127); fill-opacity: 1; white-space: pre;\">2019-07-01</text></g><g class=\"xtick\"><text text-anchor=\"middle\" x=\"0\" y=\"383\" transform=\"translate(495.27,0)\" style=\"font-family: 'Courier New', monospace; font-size: 12px; fill: rgb(127, 127, 127); fill-opacity: 1; white-space: pre;\">2020-01-01</text></g></g><g class=\"yaxislayer-above\"><g class=\"ytick\"><text text-anchor=\"end\" x=\"79\" y=\"4.199999999999999\" transform=\"translate(0,355.25)\" style=\"font-family: 'Courier New', monospace; font-size: 12px; fill: rgb(127, 127, 127); fill-opacity: 1; white-space: pre;\">−200.00</text></g><g class=\"ytick\"><text text-anchor=\"end\" x=\"79\" y=\"4.199999999999999\" transform=\"translate(0,292.78)\" style=\"font-family: 'Courier New', monospace; font-size: 12px; fill: rgb(127, 127, 127); fill-opacity: 1; white-space: pre;\">−100.00</text></g><g class=\"ytick\"><text text-anchor=\"end\" x=\"79\" y=\"4.199999999999999\" transform=\"translate(0,230.31)\" style=\"font-family: 'Courier New', monospace; font-size: 12px; fill: rgb(127, 127, 127); fill-opacity: 1; white-space: pre;\">0.00</text></g><g class=\"ytick\"><text text-anchor=\"end\" x=\"79\" y=\"4.199999999999999\" transform=\"translate(0,167.85)\" style=\"font-family: 'Courier New', monospace; font-size: 12px; fill: rgb(127, 127, 127); fill-opacity: 1; white-space: pre;\">100.00</text></g><g class=\"ytick\"><text text-anchor=\"end\" x=\"79\" y=\"4.199999999999999\" transform=\"translate(0,105.38)\" style=\"font-family: 'Courier New', monospace; font-size: 12px; fill: rgb(127, 127, 127); fill-opacity: 1; white-space: pre;\">200.00</text></g></g><g class=\"overaxes-above\"/></g></g><g class=\"polarlayer\"/><g class=\"ternarylayer\"/><g class=\"geolayer\"/><g class=\"funnelarealayer\"/><g class=\"pielayer\"/><g class=\"treemaplayer\"/><g class=\"sunburstlayer\"/><g class=\"glimages\"/><defs id=\"topdefs-c3a5fc\"><g class=\"clips\"/></defs><g class=\"layer-above\"><g class=\"imagelayer\"/><g class=\"shapelayer\"/></g><g class=\"infolayer\"><g class=\"g-gtitle\"><text class=\"gtitle\" x=\"35\" y=\"50\" text-anchor=\"start\" dy=\"0em\" style=\"font-family: 'Courier New', monospace; font-size: 17px; fill: rgb(127, 127, 127); opacity: 1; font-weight: normal; white-space: pre;\">Profit Plot</text></g><g class=\"g-xtitle\"/><g class=\"g-ytitle\"/></g></svg>"
      ]
     },
     "metadata": {},
     "output_type": "display_data"
    }
   ],
   "source": [
    "fig = go.Figure()\n",
    "\n",
    "fig.add_trace(\n",
    "    go.Scatter(\n",
    "            x=dftt[\"Date\"],\n",
    "            y=dftt[\"WinLoss3\"],\n",
    "            name = f\"Profit\",\n",
    "            mode='lines'\n",
    "        ))\n",
    "\n",
    "fig.update_layout(\n",
    "    title=f\"Profit Plot\",\n",
    "    xaxis_title=\"x Axis Title\",\n",
    "    yaxis_title=\"y Axis Title\",\n",
    "    font=dict(\n",
    "        family=\"Courier New, monospace\",\n",
    "        size=12,\n",
    "        color=\"#7f7f7f\"\n",
    "    ),\n",
    "    xaxis=plotly.graph_objects.layout.XAxis(\n",
    "        tickformat='%Y-%m-%d'\n",
    "    ),\n",
    "    yaxis=plotly.graph_objects.layout.YAxis(\n",
    "        tickformat='.2f'\n",
    "    )\n",
    ")\n",
    "fig.show(\"svg\")"
   ]
  },
  {
   "cell_type": "markdown",
   "metadata": {},
   "source": [
    "# strategy4"
   ]
  },
  {
   "cell_type": "code",
   "execution_count": 36,
   "metadata": {},
   "outputs": [
    {
     "name": "stdout",
     "output_type": "stream",
     "text": [
      "2018/06/04\n",
      "[buycall@11100, buyput@11150]\n",
      "2018/06/11\n",
      "[buycall@11100, buyput@11150]\n",
      "2018/06/25\n",
      "[buycall@10750, buyput@10800]\n",
      "2018/07/02\n",
      "[buycall@10750, buyput@10800]\n",
      "2018/07/09\n",
      "[buycall@10700, buyput@10750]\n",
      "2018/07/16\n",
      "[buycall@10800, buyput@10850]\n",
      "2018/07/23\n",
      "[buycall@10900, buyput@10950]\n",
      "2018/07/30\n",
      "[buycall@11000, buyput@11050]\n",
      "2018/08/06\n",
      "[buycall@11000, buyput@11050]\n",
      "2018/08/13\n",
      "buycall@10650 NOT EXISTS!\n",
      "Change to buycall@10600\n",
      "[buycall@10700, buyput@10750]\n",
      "2018/08/20\n",
      "[buycall@10650, buyput@10700]\n",
      "2018/08/27\n",
      "[buycall@10900, buyput@10950]\n",
      "2018/09/03\n",
      "[buycall@10950, buyput@11000]\n",
      "2018/09/10\n",
      "[buycall@10700, buyput@10750]\n",
      "2018/09/17\n",
      "[buycall@10800, buyput@10850]\n",
      "2018/10/01\n",
      "[buycall@11050, buyput@11100]\n",
      "2018/10/09\n",
      "[buycall@10450, buyput@10500]\n",
      "2018/10/15\n",
      "[buycall@9900, buyput@9950]\n",
      "2018/10/22\n",
      "[buycall@9950, buyput@10000]\n",
      "2018/10/29\n",
      "[buycall@9500, buyput@9550]\n",
      "2018/11/05\n",
      "[buycall@9850, buyput@9900]\n",
      "2018/11/12\n",
      "[buycall@9800, buyput@9850]\n",
      "2018/11/19\n",
      "[buycall@9800, buyput@9850]\n",
      "2018/11/26\n",
      "[buycall@9750, buyput@9800]\n",
      "2018/12/03\n",
      "[buycall@10100, buyput@10150]\n",
      "2018/12/10\n",
      "[buycall@9600, buyput@9650]\n",
      "2018/12/17\n",
      "[buycall@9750, buyput@9800]\n",
      "2018/12/24\n",
      "[buycall@9600, buyput@9650]\n",
      "2019/01/07\n",
      "[buycall@9550, buyput@9600]\n",
      "2019/01/14\n",
      "[buycall@9700, buyput@9750]\n",
      "2019/01/21\n",
      "[buycall@9850, buyput@9900]\n",
      "2019/01/28\n",
      "[buycall@10000, buyput@10050]\n",
      "2019/02/11\n",
      "2019/02/18\n",
      "[buycall@10100, buyput@10150]\n",
      "2019/02/25\n",
      "[buycall@10350, buyput@10400]\n",
      "2019/03/04\n",
      "[buycall@10300, buyput@10350]\n",
      "2019/03/11\n",
      "[buycall@10250, buyput@10300]\n",
      "2019/03/18\n",
      "[buycall@10500, buyput@10550]\n",
      "2019/03/25\n",
      "[buycall@10450, buyput@10500]\n",
      "2019/04/01\n",
      "[buycall@10600, buyput@10650]\n",
      "2019/04/08\n",
      "[buycall@10800, buyput@10850]\n",
      "2019/04/15\n",
      "[buycall@10850, buyput@10900]\n",
      "2019/04/22\n",
      "[buycall@10950, buyput@11000]\n",
      "2019/04/30\n",
      "[buycall@10950, buyput@11000]\n",
      "2019/05/06\n",
      "[buycall@10850, buyput@10900]\n",
      "2019/05/13\n",
      "[buycall@10550, buyput@10600]\n",
      "2019/05/20\n",
      "[buycall@10350, buyput@10400]\n",
      "2019/05/27\n",
      "[buycall@10300, buyput@10350]\n",
      "2019/06/03\n",
      "[buycall@10500, buyput@10550]\n",
      "2019/06/10\n",
      "[buycall@10550, buyput@10600]\n",
      "2019/06/17\n",
      "[buycall@10500, buyput@10550]\n",
      "2019/06/24\n",
      "[buycall@10750, buyput@10800]\n",
      "2019/07/01\n",
      "[buycall@10850, buyput@10900]\n",
      "2019/07/08\n",
      "[buycall@10750, buyput@10800]\n",
      "2019/07/15\n",
      "[buycall@10850, buyput@10900]\n",
      "2019/07/22\n",
      "[buycall@10900, buyput@10950]\n",
      "2019/07/29\n",
      "[buycall@10850, buyput@10900]\n",
      "2019/08/05\n",
      "[buycall@10400, buyput@10450]\n",
      "2019/08/12\n",
      "[buycall@10450, buyput@10500]\n",
      "2019/08/19\n",
      "[buycall@10450, buyput@10500]\n",
      "2019/08/26\n",
      "[buycall@10350, buyput@10400]\n",
      "2019/09/02\n",
      "[buycall@10600, buyput@10650]\n",
      "2019/09/09\n",
      "[buycall@10800, buyput@10850]\n",
      "2019/09/16\n",
      "[buycall@10850, buyput@10900]\n",
      "2019/09/23\n",
      "[buycall@10900, buyput@10950]\n",
      "2019/10/07\n",
      "[buycall@10900, buyput@10950]\n",
      "2019/10/14\n",
      "[buycall@11050, buyput@11100]\n",
      "2019/10/21\n",
      "[buycall@11150, buyput@11200]\n",
      "2019/10/28\n",
      "[buycall@11300, buyput@11350]\n",
      "2019/11/04\n",
      "[buycall@11550, buyput@11600]\n",
      "2019/11/11\n",
      "[buycall@11400, buyput@11450]\n",
      "2019/11/18\n",
      "[buycall@11550, buyput@11600]\n",
      "2019/11/25\n",
      "[buycall@11550, buyput@11600]\n",
      "2019/12/02\n",
      "[buycall@11500, buyput@11550]\n",
      "2019/12/09\n",
      "[buycall@11650, buyput@11700]\n",
      "2019/12/16\n",
      "[buycall@11900, buyput@11950]\n",
      "2019/12/23\n",
      "[buycall@12000, buyput@12050]\n",
      "2019/12/31\n",
      "[buycall@11950, buyput@12000]\n",
      "2020/01/06\n",
      "[buycall@11950, buyput@12000]\n",
      "2020/01/13\n",
      "[buycall@12100, buyput@12150]\n",
      "2020/02/03\n",
      "[buycall@11350, buyput@11400]\n",
      "2020/02/10\n",
      "[buycall@11550, buyput@11600]\n",
      "2020/02/17\n",
      "[buycall@11750, buyput@11800]\n",
      "2020/02/24\n",
      "[buycall@11500, buyput@11550]\n",
      "2020/03/02\n",
      "[buycall@11150, buyput@11200]\n",
      "2020/03/09\n",
      "sellcall@10950 NOT EXISTS!\n",
      "Change to sellcall@10900\n",
      "buycall@10950 NOT EXISTS!\n",
      "Change to buycall@10900\n",
      "2020/03/16\n",
      "buycall@9650 NOT EXISTS!\n",
      "Change to buycall@9600\n",
      "sellput@9750 NOT EXISTS!\n",
      "Change to sellput@9800\n",
      "buyput@9750 NOT EXISTS!\n",
      "Change to buyput@9800\n",
      "2020/03/23\n",
      "2020/03/30\n",
      "2020/04/06\n",
      "[buycall@9800, buyput@9850]\n",
      "2020/04/13\n",
      "[buycall@10050, buyput@10100]\n",
      "2020/04/20\n",
      "[buycall@10550, buyput@10600]\n",
      "2020/04/27\n",
      "[buycall@10550, buyput@10600]\n",
      "2020/05/04\n",
      "[buycall@10700, buyput@10750]\n",
      "2020/05/11\n",
      "[buycall@11000, buyput@11050]\n",
      "2020/05/18\n",
      "[buycall@10700, buyput@10750]\n",
      "2020/05/25\n",
      "[buycall@10850, buyput@10900]\n",
      "2020/06/01\n",
      "[buycall@11050, buyput@11100]\n",
      "2020/06/08\n",
      "[buycall@11600, buyput@11650]\n",
      "2020/06/15\n",
      "[buycall@11300, buyput@11350]\n",
      "2020/06/22\n",
      "[buycall@11550, buyput@11600]\n"
     ]
    }
   ],
   "source": [
    "dftt[\"WinLoss4\"] = dftt.apply(lambda x: WinLoss(x, strategy4), axis=1)"
   ]
  },
  {
   "cell_type": "code",
   "execution_count": 37,
   "metadata": {},
   "outputs": [
    {
     "data": {
      "text/plain": [
       "count    101.000000\n",
       "mean     -14.009901\n",
       "std       59.131759\n",
       "min     -168.000000\n",
       "25%      -52.000000\n",
       "50%      -28.000000\n",
       "75%       14.000000\n",
       "max      184.000000\n",
       "Name: WinLoss4, dtype: float64"
      ]
     },
     "execution_count": 37,
     "metadata": {},
     "output_type": "execute_result"
    }
   ],
   "source": [
    "dftt[\"WinLoss4\"].describe()"
   ]
  },
  {
   "cell_type": "markdown",
   "metadata": {},
   "source": [
    "### 收益圖"
   ]
  },
  {
   "cell_type": "code",
   "execution_count": 38,
   "metadata": {},
   "outputs": [
    {
     "data": {
      "image/svg+xml": [
       "<svg class=\"main-svg\" xmlns=\"http://www.w3.org/2000/svg\" xmlns:xlink=\"http://www.w3.org/1999/xlink\" width=\"700\" height=\"450\" viewBox=\"0 0 700 450\"><rect x=\"0\" y=\"0\" width=\"700\" height=\"450\" style=\"fill: rgb(255, 255, 255); fill-opacity: 1;\"/><defs id=\"defs-bb5e3f\"><g class=\"clips\"><clipPath id=\"clipbb5e3fxyplot\" class=\"plotclip\"><rect width=\"540\" height=\"270\"/></clipPath><clipPath class=\"axesclip\" id=\"clipbb5e3fx\"><rect x=\"80\" y=\"0\" width=\"540\" height=\"450\"/></clipPath><clipPath class=\"axesclip\" id=\"clipbb5e3fy\"><rect x=\"0\" y=\"100\" width=\"700\" height=\"270\"/></clipPath><clipPath class=\"axesclip\" id=\"clipbb5e3fxy\"><rect x=\"80\" y=\"100\" width=\"540\" height=\"270\"/></clipPath></g><g class=\"gradients\"/></defs><g class=\"bglayer\"><rect class=\"bg\" x=\"80\" y=\"100\" width=\"540\" height=\"270\" style=\"fill: rgb(229, 236, 246); fill-opacity: 1; stroke-width: 0;\"/></g><g class=\"layer-below\"><g class=\"imagelayer\"/><g class=\"shapelayer\"/></g><g class=\"cartesianlayer\"><g class=\"subplot xy\"><g class=\"layer-subplot\"><g class=\"shapelayer\"/><g class=\"imagelayer\"/></g><g class=\"gridlayer\"><g class=\"x\"><path class=\"xgrid crisp\" transform=\"translate(99.47,0)\" d=\"M0,100v270\" style=\"stroke: rgb(255, 255, 255); stroke-opacity: 1; stroke-width: 1px;\"/><path class=\"xgrid crisp\" transform=\"translate(232.12,0)\" d=\"M0,100v270\" style=\"stroke: rgb(255, 255, 255); stroke-opacity: 1; stroke-width: 1px;\"/><path class=\"xgrid crisp\" transform=\"translate(362.62,0)\" d=\"M0,100v270\" style=\"stroke: rgb(255, 255, 255); stroke-opacity: 1; stroke-width: 1px;\"/><path class=\"xgrid crisp\" transform=\"translate(495.27,0)\" d=\"M0,100v270\" style=\"stroke: rgb(255, 255, 255); stroke-opacity: 1; stroke-width: 1px;\"/></g><g class=\"y\"><path class=\"ygrid crisp\" transform=\"translate(0,309.56)\" d=\"M80,0h540\" style=\"stroke: rgb(255, 255, 255); stroke-opacity: 1; stroke-width: 1px;\"/><path class=\"ygrid crisp\" transform=\"translate(0,171.49)\" d=\"M80,0h540\" style=\"stroke: rgb(255, 255, 255); stroke-opacity: 1; stroke-width: 1px;\"/><path class=\"ygrid crisp\" transform=\"translate(0,102.45)\" d=\"M80,0h540\" style=\"stroke: rgb(255, 255, 255); stroke-opacity: 1; stroke-width: 1px;\"/></g></g><g class=\"zerolinelayer\"><path class=\"yzl zl crisp\" transform=\"translate(0,240.52)\" d=\"M80,0h540\" style=\"stroke: rgb(255, 255, 255); stroke-opacity: 1; stroke-width: 2px;\"/></g><path class=\"xlines-below\"/><path class=\"ylines-below\"/><g class=\"overlines-below\"/><g class=\"xaxislayer-below\"/><g class=\"yaxislayer-below\"/><g class=\"overaxes-below\"/><g class=\"plot\" transform=\"translate(80, 100)\" clip-path=\"url('#clipbb5e3fxyplot')\"><g class=\"scatterlayer mlayer\"><g class=\"trace scatter trace0bbb0f\" style=\"stroke-miterlimit: 2; opacity: 1;\"><g class=\"fills\"/><g class=\"errorbars\"/><g class=\"lines\"><path class=\"js-line\" d=\"M0,153.29L5.05,181.94L15.14,181.25L20.19,180.22L25.23,164.68L30.28,186.09L35.33,169.52L40.37,159.85L45.42,173.31L50.47,205.41L55.51,125.34L60.56,100.48L65.61,184.36L70.65,195.75L75.7,166.07L85.79,47.67L91.56,13.5L95.89,214.39L100.93,93.58L105.98,114.29L111.03,226.13L121.12,167.45L126.17,149.5L131.21,64.59L136.26,110.15L141.31,201.27L146.36,121.19L156.45,106.7L161.5,178.84L166.54,174.35L171.59,133.96L181.68,140.52L186.73,103.59L191.78,172.62L196.82,184.7L201.87,133.96L206.92,181.94L211.96,163.3L217.01,130.86L222.06,174.35L227.1,102.9L232.15,179.18L237.92,168.83L242.24,184.01L247.29,212.32L252.34,153.29L257.38,180.56L262.43,165.03L267.48,166.07L272.52,39.73L277.57,116.36L282.62,99.1L287.66,190.23L292.71,162.61L297.76,174L302.8,148.81L307.85,190.92L312.9,176.42L317.94,169.52L322.99,189.88L328.04,165.03L333.08,138.45L338.13,137.76L343.18,132.58L353.27,173.66L358.32,141.56L363.36,161.58L368.41,156.75L373.46,141.56L378.5,168.48L383.55,171.59L388.6,149.15L393.64,159.16L398.69,171.24L403.74,67.35L408.79,175.73L414.55,96.34L418.88,110.49L423.93,156.06L439.07,139.14L444.11,92.2L449.16,193.68L454.21,181.25L459.25,139.14L464.3,140.52L479.44,140.52L484.49,115.67L489.53,119.81L494.58,72.87L499.63,117.05L504.67,256.5L509.72,161.23L514.77,148.12L519.81,126.72L524.86,70.8L529.91,175.04L534.95,147.43L540,177.11\" style=\"vector-effect: non-scaling-stroke; fill: none; stroke: rgb(99, 110, 250); stroke-opacity: 1; stroke-width: 2px; opacity: 1;\"/></g><g class=\"points\"/><g class=\"text\"/></g></g></g><g class=\"overplot\"/><path class=\"xlines-above crisp\" d=\"M0,0\" style=\"fill: none;\"/><path class=\"ylines-above crisp\" d=\"M0,0\" style=\"fill: none;\"/><g class=\"overlines-above\"/><g class=\"xaxislayer-above\"><g class=\"xtick\"><text text-anchor=\"middle\" x=\"0\" y=\"383\" transform=\"translate(99.47,0)\" style=\"font-family: 'Courier New', monospace; font-size: 12px; fill: rgb(127, 127, 127); fill-opacity: 1; white-space: pre;\">2018-07-01</text></g><g class=\"xtick\"><text text-anchor=\"middle\" x=\"0\" y=\"383\" transform=\"translate(232.12,0)\" style=\"font-family: 'Courier New', monospace; font-size: 12px; fill: rgb(127, 127, 127); fill-opacity: 1; white-space: pre;\">2019-01-01</text></g><g class=\"xtick\"><text text-anchor=\"middle\" x=\"0\" y=\"383\" transform=\"translate(362.62,0)\" style=\"font-family: 'Courier New', monospace; font-size: 12px; fill: rgb(127, 127, 127); fill-opacity: 1; white-space: pre;\">2019-07-01</text></g><g class=\"xtick\"><text text-anchor=\"middle\" x=\"0\" y=\"383\" transform=\"translate(495.27,0)\" style=\"font-family: 'Courier New', monospace; font-size: 12px; fill: rgb(127, 127, 127); fill-opacity: 1; white-space: pre;\">2020-01-01</text></g></g><g class=\"yaxislayer-above\"><g class=\"ytick\"><text text-anchor=\"end\" x=\"79\" y=\"4.199999999999999\" transform=\"translate(0,309.56)\" style=\"font-family: 'Courier New', monospace; font-size: 12px; fill: rgb(127, 127, 127); fill-opacity: 1; white-space: pre;\">−100.00</text></g><g class=\"ytick\"><text text-anchor=\"end\" x=\"79\" y=\"4.199999999999999\" transform=\"translate(0,240.52)\" style=\"font-family: 'Courier New', monospace; font-size: 12px; fill: rgb(127, 127, 127); fill-opacity: 1; white-space: pre;\">0.00</text></g><g class=\"ytick\"><text text-anchor=\"end\" x=\"79\" y=\"4.199999999999999\" transform=\"translate(0,171.49)\" style=\"font-family: 'Courier New', monospace; font-size: 12px; fill: rgb(127, 127, 127); fill-opacity: 1; white-space: pre;\">100.00</text></g><g class=\"ytick\"><text text-anchor=\"end\" x=\"79\" y=\"4.199999999999999\" transform=\"translate(0,102.45)\" style=\"font-family: 'Courier New', monospace; font-size: 12px; fill: rgb(127, 127, 127); fill-opacity: 1; white-space: pre;\">200.00</text></g></g><g class=\"overaxes-above\"/></g></g><g class=\"polarlayer\"/><g class=\"ternarylayer\"/><g class=\"geolayer\"/><g class=\"funnelarealayer\"/><g class=\"pielayer\"/><g class=\"treemaplayer\"/><g class=\"sunburstlayer\"/><g class=\"glimages\"/><defs id=\"topdefs-bb5e3f\"><g class=\"clips\"/></defs><g class=\"layer-above\"><g class=\"imagelayer\"/><g class=\"shapelayer\"/></g><g class=\"infolayer\"><g class=\"g-gtitle\"><text class=\"gtitle\" x=\"35\" y=\"50\" text-anchor=\"start\" dy=\"0em\" style=\"font-family: 'Courier New', monospace; font-size: 17px; fill: rgb(127, 127, 127); opacity: 1; font-weight: normal; white-space: pre;\">Profit Plot</text></g><g class=\"g-xtitle\"/><g class=\"g-ytitle\"/></g></svg>"
      ]
     },
     "metadata": {},
     "output_type": "display_data"
    }
   ],
   "source": [
    "fig = go.Figure()\n",
    "\n",
    "fig.add_trace(\n",
    "    go.Scatter(\n",
    "            x=dftt[\"Date\"],\n",
    "            y=dftt[\"WinLoss4\"],\n",
    "            name = f\"Profit\",\n",
    "            mode='lines'\n",
    "        ))\n",
    "\n",
    "fig.update_layout(\n",
    "    title=f\"Profit Plot\",\n",
    "    xaxis_title=\"x Axis Title\",\n",
    "    yaxis_title=\"y Axis Title\",\n",
    "    font=dict(\n",
    "        family=\"Courier New, monospace\",\n",
    "        size=12,\n",
    "        color=\"#7f7f7f\"\n",
    "    ),\n",
    "    xaxis=plotly.graph_objects.layout.XAxis(\n",
    "        tickformat='%Y-%m-%d'\n",
    "    ),\n",
    "    yaxis=plotly.graph_objects.layout.YAxis(\n",
    "        tickformat='.2f'\n",
    "    )\n",
    ")\n",
    "fig.show(\"svg\")"
   ]
  },
  {
   "cell_type": "code",
   "execution_count": null,
   "metadata": {},
   "outputs": [],
   "source": []
  }
 ],
 "metadata": {
  "kernelspec": {
   "display_name": "Python 3.6.8 64-bit ('fintech': conda)",
   "language": "python",
   "name": "python36864bitfintechcondaaec198d6563148a9861a030389da6ac8"
  },
  "language_info": {
   "codemirror_mode": {
    "name": "ipython",
    "version": 3
   },
   "file_extension": ".py",
   "mimetype": "text/x-python",
   "name": "python",
   "nbconvert_exporter": "python",
   "pygments_lexer": "ipython3",
   "version": "3.6.8"
  }
 },
 "nbformat": 4,
 "nbformat_minor": 2
}
