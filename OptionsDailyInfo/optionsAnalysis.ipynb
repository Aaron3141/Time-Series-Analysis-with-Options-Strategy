{
 "cells": [
  {
   "cell_type": "code",
   "execution_count": 1,
   "metadata": {},
   "outputs": [
    {
     "output_type": "display_data",
     "data": {
      "text/html": "        <script type=\"text/javascript\">\n        window.PlotlyConfig = {MathJaxConfig: 'local'};\n        if (window.MathJax) {MathJax.Hub.Config({SVG: {font: \"STIX-Web\"}});}\n        if (typeof require !== 'undefined') {\n        require.undef(\"plotly\");\n        requirejs.config({\n            paths: {\n                'plotly': ['https://cdn.plot.ly/plotly-latest.min']\n            }\n        });\n        require(['plotly'], function(Plotly) {\n            window._Plotly = Plotly;\n        });\n        }\n        </script>\n        "
     },
     "metadata": {}
    }
   ],
   "source": [
    "\n",
    "import plotly.graph_objects\n",
    "import seaborn as sns\n",
    "import matplotlib.pyplot as plt\n",
    "from scipy import stats\n",
    "import numpy as np\n",
    "import pandas\n",
    "import datetime\n",
    "# from pandas.tseries.offsets import *\n",
    "\n",
    "\n",
    "from plotly.offline import init_notebook_mode, iplot\n",
    "init_notebook_mode(connected=True) \n",
    "import plotly.express as px\n",
    "import plotly.graph_objects as go\n",
    "\n",
    "import loguru\n",
    "import requests\n",
    "\n",
    "pandas.set_option('display.max_rows', 500)\n",
    "# import sys\n",
    "# sys.path.insert(1, '/Users/singularity/Aaron/coding/fintech/OptionsDailyInfoData')"
   ]
  },
  {
   "cell_type": "markdown",
   "metadata": {},
   "source": [
    "## Time Series\n",
    "---\n",
    "利用時間分析結果，建造一個模型  \n",
    "param = (2, 0, 2)\n",
    "param_seasonal = (0, 0, 2, 12)"
   ]
  },
  {
   "cell_type": "code",
   "execution_count": 2,
   "metadata": {},
   "outputs": [],
   "source": [
    "import statsmodels.api as sm\n",
    "import itertools\n",
    "import math\n",
    "import warnings\n",
    "warnings.filterwarnings(\"ignore\")"
   ]
  },
  {
   "cell_type": "code",
   "execution_count": 3,
   "metadata": {},
   "outputs": [],
   "source": [
    "filenameTaiexs = f'taiexs-2014-2020.csv'\n",
    "# filenameTaiexs = f'taiexs-2019.csv'\n",
    "filepathTaiexs = f'/Users/singularity/Aaron/coding/fintech/{filenameTaiexs}'\n",
    "\n",
    "dfTaiexs = pandas.read_csv(filepathTaiexs)\n",
    "dfTaiexs['Date'] = pandas.to_datetime(dfTaiexs['Date'], format='%Y%m%d')\n",
    "\n",
    "\n",
    "dfTaiexsTS = dfTaiexs.copy()\n",
    "dfTaiexsTS.index = dfTaiexsTS['Date']\n",
    "close = dfTaiexsTS['ClosePrice']\n",
    "taiexDiff = (close-close.shift(1)).dropna()"
   ]
  },
  {
   "cell_type": "code",
   "execution_count": 4,
   "metadata": {},
   "outputs": [],
   "source": [
    "taiexDiff_MEAN = taiexDiff.mean()\n",
    "taiexDiff_STD = taiexDiff.std()"
   ]
  },
  {
   "cell_type": "code",
   "execution_count": 5,
   "metadata": {},
   "outputs": [],
   "source": [
    "def timeSeries(date):\n",
    "    global taiexDiff\n",
    "    trainTaiexDiff = taiexDiff[:date]\n",
    "    param = (2, 0, 2)\n",
    "    param_seasonal = (0, 0, 2, 12)\n",
    "    mod = sm.tsa.statespace.SARIMAX(trainTaiexDiff,\n",
    "                                    order=param,\n",
    "                                    seasonal_order=param_seasonal,\n",
    "                                    enforce_stationarity=False,\n",
    "                                    enforce_invertibility=False)\n",
    "\n",
    "    results = mod.fit()\n",
    "    # Get forecast 2 steps ahead in future\n",
    "    steps = 2\n",
    "    pred_uc = results.get_forecast(steps=steps)\n",
    "    # pred_uc = 0\n",
    "    # pred_uc.predicted_mean\n",
    "    return pred_uc.predicted_mean"
   ]
  },
  {
   "cell_type": "markdown",
   "metadata": {},
   "source": [
    "## /\\\\ /\\\\ /\\\\ /\\\\ /\\\\ /\\\\ /\\\\ /\\\\ /\\\\ /\\\\ /\\\\ /\\\\ /\\\\ /\\\\ /\\\\ /\\\\"
   ]
  },
  {
   "cell_type": "markdown",
   "metadata": {},
   "source": [
    "## 以2019/7/29作為例子: Date\n",
    "Notes: 以下有Date出現都是以此日期作為例子"
   ]
  },
  {
   "cell_type": "code",
   "execution_count": 6,
   "metadata": {},
   "outputs": [],
   "source": [
    "YEAR = 2019\n",
    "MONTH = 7\n",
    "DAY = 29"
   ]
  },
  {
   "cell_type": "markdown",
   "metadata": {},
   "source": [
    "### 找出Date那天加權股價指數"
   ]
  },
  {
   "cell_type": "code",
   "execution_count": 7,
   "metadata": {
    "tags": []
   },
   "outputs": [
    {
     "output_type": "stream",
     "name": "stdout",
     "text": "TAIEX_VALUE: 10885.73\nTAIEX_VALUE_BOTTOM: 10850\nTAIEX_VALUE_TOP: 10900\n"
    }
   ],
   "source": [
    "# filenameTaiexs = f'taiexs-2019.csv'\n",
    "# filepathTaiexs = f'/Users/singularity/Aaron/coding/fintech/{filenameTaiexs}'\n",
    "\n",
    "# dfTaiexs = pandas.read_csv(filepathTaiexs)\n",
    "# dfTaiexs['Date'] = pandas.to_datetime(dfTaiexs['Date'], format='%Y%m%d')\n",
    "\n",
    "TAIEX_VALUE = 0\n",
    "\n",
    "TAIEX_VALUE = float(dfTaiexs[dfTaiexs['Date'] == f'{YEAR}-{MONTH:02}-{DAY:02}']['ClosePrice'])\n",
    "TAIEX_VALUE_BOTTOM = int(TAIEX_VALUE - (TAIEX_VALUE % 50))\n",
    "TAIEX_VALUE_TOP = TAIEX_VALUE_BOTTOM + 50\n",
    "\n",
    "print(f'TAIEX_VALUE: {TAIEX_VALUE}')\n",
    "print(f'TAIEX_VALUE_BOTTOM: {TAIEX_VALUE_BOTTOM}')\n",
    "print(f'TAIEX_VALUE_TOP: {TAIEX_VALUE_TOP}')"
   ]
  },
  {
   "cell_type": "markdown",
   "metadata": {},
   "source": [
    "### 匯入每週結算價表"
   ]
  },
  {
   "cell_type": "code",
   "execution_count": 8,
   "metadata": {},
   "outputs": [],
   "source": [
    "fileNameSettlementPrice = f'finalSettlementPrice.csv'\n",
    "filePathSettlementPrice = f'/Users/singularity/Aaron/coding/fintech/{fileNameSettlementPrice}'\n",
    "\n",
    "dfSettlementPrice = pandas.read_csv(filePathSettlementPrice)\n",
    "dfSettlementPrice['Date'] = pandas.to_datetime(dfSettlementPrice['Date'], format='%Y/%m/%d')\n",
    "dfSettlementPrice.sort_values(by='Date', inplace=True)\n",
    "# dfSettlementPrice[\"Date\"] = dfSettlementPrice[\"Date\"].apply(lambda d:  d-datetime.timedelta(days=2))\n",
    "dfSettlementPrice[\"Date\"] = dfSettlementPrice.apply(lambda d:  d[\"Date\"]-datetime.timedelta(days=2), axis=1)\n",
    "dftt = pandas.merge(dfTaiexs, dfSettlementPrice, left_on=[\"Date\"], right_on=[\"Date\"]\\\n",
    "            , suffixes=('_Call','_Put'))[['Date', 'ClosePrice', 'TX/MTX', 'ContractMonthWeek']]\n",
    "\n",
    "# dftt['Day_of_Week'] = dftt['Date'].dt.day_name()\n",
    "# dftt"
   ]
  },
  {
   "cell_type": "markdown",
   "metadata": {},
   "source": [
    "## 前後30天的Taiex"
   ]
  },
  {
   "cell_type": "code",
   "execution_count": 9,
   "metadata": {
    "tags": []
   },
   "outputs": [
    {
     "output_type": "stream",
     "name": "stdout",
     "text": "2019-07-29\n"
    },
    {
     "output_type": "execute_result",
     "data": {
      "text/plain": "           Date  OpenPrice  HighestPrice  LowestPrice  ClosePrice\n1344 2019-07-01   10821.30      10914.85     10821.30    10895.46\n1345 2019-07-02   10878.01      10888.21     10843.64    10865.12\n1346 2019-07-03   10793.10      10812.65     10720.66    10743.77\n1347 2019-07-04   10755.87      10791.28     10750.90    10775.90\n1348 2019-07-05   10785.85      10812.38     10756.67    10785.73",
      "text/html": "<div>\n<style scoped>\n    .dataframe tbody tr th:only-of-type {\n        vertical-align: middle;\n    }\n\n    .dataframe tbody tr th {\n        vertical-align: top;\n    }\n\n    .dataframe thead th {\n        text-align: right;\n    }\n</style>\n<table border=\"1\" class=\"dataframe\">\n  <thead>\n    <tr style=\"text-align: right;\">\n      <th></th>\n      <th>Date</th>\n      <th>OpenPrice</th>\n      <th>HighestPrice</th>\n      <th>LowestPrice</th>\n      <th>ClosePrice</th>\n    </tr>\n  </thead>\n  <tbody>\n    <tr>\n      <th>1344</th>\n      <td>2019-07-01</td>\n      <td>10821.30</td>\n      <td>10914.85</td>\n      <td>10821.30</td>\n      <td>10895.46</td>\n    </tr>\n    <tr>\n      <th>1345</th>\n      <td>2019-07-02</td>\n      <td>10878.01</td>\n      <td>10888.21</td>\n      <td>10843.64</td>\n      <td>10865.12</td>\n    </tr>\n    <tr>\n      <th>1346</th>\n      <td>2019-07-03</td>\n      <td>10793.10</td>\n      <td>10812.65</td>\n      <td>10720.66</td>\n      <td>10743.77</td>\n    </tr>\n    <tr>\n      <th>1347</th>\n      <td>2019-07-04</td>\n      <td>10755.87</td>\n      <td>10791.28</td>\n      <td>10750.90</td>\n      <td>10775.90</td>\n    </tr>\n    <tr>\n      <th>1348</th>\n      <td>2019-07-05</td>\n      <td>10785.85</td>\n      <td>10812.38</td>\n      <td>10756.67</td>\n      <td>10785.73</td>\n    </tr>\n  </tbody>\n</table>\n</div>"
     },
     "metadata": {},
     "execution_count": 9
    }
   ],
   "source": [
    "print(f'{YEAR}-{MONTH:02}-{DAY:02}')\n",
    "dfTaiexsRecent = dfTaiexs[(dfTaiexs['Date'] >= (datetime.datetime(YEAR, MONTH, DAY)-datetime.timedelta(days=30)))& (dfTaiexs['Date'] <= datetime.datetime(YEAR, MONTH, DAY)+datetime.timedelta(days=30))]\n",
    "dfTaiexsRecent.head()\n",
    "# dfTaiexs[dfTaiexs['Date'] >= datetime(YEAR, MONTH, DAY-7)]['ClosePrice']\n"
   ]
  },
  {
   "cell_type": "markdown",
   "metadata": {},
   "source": [
    "## 前後30天的Taiex的圖表"
   ]
  },
  {
   "cell_type": "code",
   "execution_count": 10,
   "metadata": {},
   "outputs": [
    {
     "output_type": "display_data",
     "data": {
      "application/vnd.plotly.v1+json": {
       "config": {
        "plotlyServerURL": "https://plot.ly"
       },
       "data": [
        {
         "mode": "lines",
         "name": "ClosePrice",
         "type": "scatter",
         "x": [
          "2019-07-01T00:00:00",
          "2019-07-02T00:00:00",
          "2019-07-03T00:00:00",
          "2019-07-04T00:00:00",
          "2019-07-05T00:00:00",
          "2019-07-08T00:00:00",
          "2019-07-09T00:00:00",
          "2019-07-10T00:00:00",
          "2019-07-11T00:00:00",
          "2019-07-12T00:00:00",
          "2019-07-15T00:00:00",
          "2019-07-16T00:00:00",
          "2019-07-17T00:00:00",
          "2019-07-18T00:00:00",
          "2019-07-19T00:00:00",
          "2019-07-22T00:00:00",
          "2019-07-23T00:00:00",
          "2019-07-24T00:00:00",
          "2019-07-25T00:00:00",
          "2019-07-26T00:00:00",
          "2019-07-29T00:00:00",
          "2019-07-30T00:00:00",
          "2019-07-31T00:00:00",
          "2019-08-01T00:00:00",
          "2019-08-02T00:00:00",
          "2019-08-05T00:00:00",
          "2019-08-06T00:00:00",
          "2019-08-07T00:00:00",
          "2019-08-08T00:00:00",
          "2019-08-12T00:00:00",
          "2019-08-13T00:00:00",
          "2019-08-14T00:00:00",
          "2019-08-15T00:00:00",
          "2019-08-16T00:00:00",
          "2019-08-19T00:00:00",
          "2019-08-20T00:00:00",
          "2019-08-21T00:00:00",
          "2019-08-22T00:00:00",
          "2019-08-23T00:00:00",
          "2019-08-26T00:00:00",
          "2019-08-27T00:00:00",
          "2019-08-28T00:00:00"
         ],
         "y": [
          10895.46,
          10865.12,
          10743.77,
          10775.9,
          10785.73,
          10751.22,
          10702.78,
          10798.48,
          10843.42,
          10824.35,
          10876.43,
          10886.05,
          10828.48,
          10799.28,
          10873.19,
          10944.53,
          10947.26,
          10935.76,
          10941.41,
          10891.98,
          10885.73,
          10830.9,
          10823.81,
          10731.75,
          10549.04,
          10423.41,
          10394.75,
          10386.18,
          10494.49,
          10472.36,
          10362.66,
          10427.73,
          10327.13,
          10420.89,
          10488.75,
          10522.5,
          10525.8,
          10529.78,
          10538.11,
          10354.57,
          10387.23,
          10434.29
         ]
        },
        {
         "mode": "markers",
         "name": "Taiexs@2019-07-29",
         "type": "scatter",
         "x": [
          "2019-07-29T00:00:00"
         ],
         "y": [
          10885.73
         ]
        }
       ],
       "layout": {
        "font": {
         "color": "#7f7f7f",
         "family": "Courier New, monospace",
         "size": 12
        },
        "template": {
         "data": {
          "bar": [
           {
            "error_x": {
             "color": "#2a3f5f"
            },
            "error_y": {
             "color": "#2a3f5f"
            },
            "marker": {
             "line": {
              "color": "#E5ECF6",
              "width": 0.5
             }
            },
            "type": "bar"
           }
          ],
          "barpolar": [
           {
            "marker": {
             "line": {
              "color": "#E5ECF6",
              "width": 0.5
             }
            },
            "type": "barpolar"
           }
          ],
          "carpet": [
           {
            "aaxis": {
             "endlinecolor": "#2a3f5f",
             "gridcolor": "white",
             "linecolor": "white",
             "minorgridcolor": "white",
             "startlinecolor": "#2a3f5f"
            },
            "baxis": {
             "endlinecolor": "#2a3f5f",
             "gridcolor": "white",
             "linecolor": "white",
             "minorgridcolor": "white",
             "startlinecolor": "#2a3f5f"
            },
            "type": "carpet"
           }
          ],
          "choropleth": [
           {
            "colorbar": {
             "outlinewidth": 0,
             "ticks": ""
            },
            "type": "choropleth"
           }
          ],
          "contour": [
           {
            "colorbar": {
             "outlinewidth": 0,
             "ticks": ""
            },
            "colorscale": [
             [
              0,
              "#0d0887"
             ],
             [
              0.1111111111111111,
              "#46039f"
             ],
             [
              0.2222222222222222,
              "#7201a8"
             ],
             [
              0.3333333333333333,
              "#9c179e"
             ],
             [
              0.4444444444444444,
              "#bd3786"
             ],
             [
              0.5555555555555556,
              "#d8576b"
             ],
             [
              0.6666666666666666,
              "#ed7953"
             ],
             [
              0.7777777777777778,
              "#fb9f3a"
             ],
             [
              0.8888888888888888,
              "#fdca26"
             ],
             [
              1,
              "#f0f921"
             ]
            ],
            "type": "contour"
           }
          ],
          "contourcarpet": [
           {
            "colorbar": {
             "outlinewidth": 0,
             "ticks": ""
            },
            "type": "contourcarpet"
           }
          ],
          "heatmap": [
           {
            "colorbar": {
             "outlinewidth": 0,
             "ticks": ""
            },
            "colorscale": [
             [
              0,
              "#0d0887"
             ],
             [
              0.1111111111111111,
              "#46039f"
             ],
             [
              0.2222222222222222,
              "#7201a8"
             ],
             [
              0.3333333333333333,
              "#9c179e"
             ],
             [
              0.4444444444444444,
              "#bd3786"
             ],
             [
              0.5555555555555556,
              "#d8576b"
             ],
             [
              0.6666666666666666,
              "#ed7953"
             ],
             [
              0.7777777777777778,
              "#fb9f3a"
             ],
             [
              0.8888888888888888,
              "#fdca26"
             ],
             [
              1,
              "#f0f921"
             ]
            ],
            "type": "heatmap"
           }
          ],
          "heatmapgl": [
           {
            "colorbar": {
             "outlinewidth": 0,
             "ticks": ""
            },
            "colorscale": [
             [
              0,
              "#0d0887"
             ],
             [
              0.1111111111111111,
              "#46039f"
             ],
             [
              0.2222222222222222,
              "#7201a8"
             ],
             [
              0.3333333333333333,
              "#9c179e"
             ],
             [
              0.4444444444444444,
              "#bd3786"
             ],
             [
              0.5555555555555556,
              "#d8576b"
             ],
             [
              0.6666666666666666,
              "#ed7953"
             ],
             [
              0.7777777777777778,
              "#fb9f3a"
             ],
             [
              0.8888888888888888,
              "#fdca26"
             ],
             [
              1,
              "#f0f921"
             ]
            ],
            "type": "heatmapgl"
           }
          ],
          "histogram": [
           {
            "marker": {
             "colorbar": {
              "outlinewidth": 0,
              "ticks": ""
             }
            },
            "type": "histogram"
           }
          ],
          "histogram2d": [
           {
            "colorbar": {
             "outlinewidth": 0,
             "ticks": ""
            },
            "colorscale": [
             [
              0,
              "#0d0887"
             ],
             [
              0.1111111111111111,
              "#46039f"
             ],
             [
              0.2222222222222222,
              "#7201a8"
             ],
             [
              0.3333333333333333,
              "#9c179e"
             ],
             [
              0.4444444444444444,
              "#bd3786"
             ],
             [
              0.5555555555555556,
              "#d8576b"
             ],
             [
              0.6666666666666666,
              "#ed7953"
             ],
             [
              0.7777777777777778,
              "#fb9f3a"
             ],
             [
              0.8888888888888888,
              "#fdca26"
             ],
             [
              1,
              "#f0f921"
             ]
            ],
            "type": "histogram2d"
           }
          ],
          "histogram2dcontour": [
           {
            "colorbar": {
             "outlinewidth": 0,
             "ticks": ""
            },
            "colorscale": [
             [
              0,
              "#0d0887"
             ],
             [
              0.1111111111111111,
              "#46039f"
             ],
             [
              0.2222222222222222,
              "#7201a8"
             ],
             [
              0.3333333333333333,
              "#9c179e"
             ],
             [
              0.4444444444444444,
              "#bd3786"
             ],
             [
              0.5555555555555556,
              "#d8576b"
             ],
             [
              0.6666666666666666,
              "#ed7953"
             ],
             [
              0.7777777777777778,
              "#fb9f3a"
             ],
             [
              0.8888888888888888,
              "#fdca26"
             ],
             [
              1,
              "#f0f921"
             ]
            ],
            "type": "histogram2dcontour"
           }
          ],
          "mesh3d": [
           {
            "colorbar": {
             "outlinewidth": 0,
             "ticks": ""
            },
            "type": "mesh3d"
           }
          ],
          "parcoords": [
           {
            "line": {
             "colorbar": {
              "outlinewidth": 0,
              "ticks": ""
             }
            },
            "type": "parcoords"
           }
          ],
          "pie": [
           {
            "automargin": true,
            "type": "pie"
           }
          ],
          "scatter": [
           {
            "marker": {
             "colorbar": {
              "outlinewidth": 0,
              "ticks": ""
             }
            },
            "type": "scatter"
           }
          ],
          "scatter3d": [
           {
            "line": {
             "colorbar": {
              "outlinewidth": 0,
              "ticks": ""
             }
            },
            "marker": {
             "colorbar": {
              "outlinewidth": 0,
              "ticks": ""
             }
            },
            "type": "scatter3d"
           }
          ],
          "scattercarpet": [
           {
            "marker": {
             "colorbar": {
              "outlinewidth": 0,
              "ticks": ""
             }
            },
            "type": "scattercarpet"
           }
          ],
          "scattergeo": [
           {
            "marker": {
             "colorbar": {
              "outlinewidth": 0,
              "ticks": ""
             }
            },
            "type": "scattergeo"
           }
          ],
          "scattergl": [
           {
            "marker": {
             "colorbar": {
              "outlinewidth": 0,
              "ticks": ""
             }
            },
            "type": "scattergl"
           }
          ],
          "scattermapbox": [
           {
            "marker": {
             "colorbar": {
              "outlinewidth": 0,
              "ticks": ""
             }
            },
            "type": "scattermapbox"
           }
          ],
          "scatterpolar": [
           {
            "marker": {
             "colorbar": {
              "outlinewidth": 0,
              "ticks": ""
             }
            },
            "type": "scatterpolar"
           }
          ],
          "scatterpolargl": [
           {
            "marker": {
             "colorbar": {
              "outlinewidth": 0,
              "ticks": ""
             }
            },
            "type": "scatterpolargl"
           }
          ],
          "scatterternary": [
           {
            "marker": {
             "colorbar": {
              "outlinewidth": 0,
              "ticks": ""
             }
            },
            "type": "scatterternary"
           }
          ],
          "surface": [
           {
            "colorbar": {
             "outlinewidth": 0,
             "ticks": ""
            },
            "colorscale": [
             [
              0,
              "#0d0887"
             ],
             [
              0.1111111111111111,
              "#46039f"
             ],
             [
              0.2222222222222222,
              "#7201a8"
             ],
             [
              0.3333333333333333,
              "#9c179e"
             ],
             [
              0.4444444444444444,
              "#bd3786"
             ],
             [
              0.5555555555555556,
              "#d8576b"
             ],
             [
              0.6666666666666666,
              "#ed7953"
             ],
             [
              0.7777777777777778,
              "#fb9f3a"
             ],
             [
              0.8888888888888888,
              "#fdca26"
             ],
             [
              1,
              "#f0f921"
             ]
            ],
            "type": "surface"
           }
          ],
          "table": [
           {
            "cells": {
             "fill": {
              "color": "#EBF0F8"
             },
             "line": {
              "color": "white"
             }
            },
            "header": {
             "fill": {
              "color": "#C8D4E3"
             },
             "line": {
              "color": "white"
             }
            },
            "type": "table"
           }
          ]
         },
         "layout": {
          "annotationdefaults": {
           "arrowcolor": "#2a3f5f",
           "arrowhead": 0,
           "arrowwidth": 1
          },
          "coloraxis": {
           "colorbar": {
            "outlinewidth": 0,
            "ticks": ""
           }
          },
          "colorscale": {
           "diverging": [
            [
             0,
             "#8e0152"
            ],
            [
             0.1,
             "#c51b7d"
            ],
            [
             0.2,
             "#de77ae"
            ],
            [
             0.3,
             "#f1b6da"
            ],
            [
             0.4,
             "#fde0ef"
            ],
            [
             0.5,
             "#f7f7f7"
            ],
            [
             0.6,
             "#e6f5d0"
            ],
            [
             0.7,
             "#b8e186"
            ],
            [
             0.8,
             "#7fbc41"
            ],
            [
             0.9,
             "#4d9221"
            ],
            [
             1,
             "#276419"
            ]
           ],
           "sequential": [
            [
             0,
             "#0d0887"
            ],
            [
             0.1111111111111111,
             "#46039f"
            ],
            [
             0.2222222222222222,
             "#7201a8"
            ],
            [
             0.3333333333333333,
             "#9c179e"
            ],
            [
             0.4444444444444444,
             "#bd3786"
            ],
            [
             0.5555555555555556,
             "#d8576b"
            ],
            [
             0.6666666666666666,
             "#ed7953"
            ],
            [
             0.7777777777777778,
             "#fb9f3a"
            ],
            [
             0.8888888888888888,
             "#fdca26"
            ],
            [
             1,
             "#f0f921"
            ]
           ],
           "sequentialminus": [
            [
             0,
             "#0d0887"
            ],
            [
             0.1111111111111111,
             "#46039f"
            ],
            [
             0.2222222222222222,
             "#7201a8"
            ],
            [
             0.3333333333333333,
             "#9c179e"
            ],
            [
             0.4444444444444444,
             "#bd3786"
            ],
            [
             0.5555555555555556,
             "#d8576b"
            ],
            [
             0.6666666666666666,
             "#ed7953"
            ],
            [
             0.7777777777777778,
             "#fb9f3a"
            ],
            [
             0.8888888888888888,
             "#fdca26"
            ],
            [
             1,
             "#f0f921"
            ]
           ]
          },
          "colorway": [
           "#636efa",
           "#EF553B",
           "#00cc96",
           "#ab63fa",
           "#FFA15A",
           "#19d3f3",
           "#FF6692",
           "#B6E880",
           "#FF97FF",
           "#FECB52"
          ],
          "font": {
           "color": "#2a3f5f"
          },
          "geo": {
           "bgcolor": "white",
           "lakecolor": "white",
           "landcolor": "#E5ECF6",
           "showlakes": true,
           "showland": true,
           "subunitcolor": "white"
          },
          "hoverlabel": {
           "align": "left"
          },
          "hovermode": "closest",
          "mapbox": {
           "style": "light"
          },
          "paper_bgcolor": "white",
          "plot_bgcolor": "#E5ECF6",
          "polar": {
           "angularaxis": {
            "gridcolor": "white",
            "linecolor": "white",
            "ticks": ""
           },
           "bgcolor": "#E5ECF6",
           "radialaxis": {
            "gridcolor": "white",
            "linecolor": "white",
            "ticks": ""
           }
          },
          "scene": {
           "xaxis": {
            "backgroundcolor": "#E5ECF6",
            "gridcolor": "white",
            "gridwidth": 2,
            "linecolor": "white",
            "showbackground": true,
            "ticks": "",
            "zerolinecolor": "white"
           },
           "yaxis": {
            "backgroundcolor": "#E5ECF6",
            "gridcolor": "white",
            "gridwidth": 2,
            "linecolor": "white",
            "showbackground": true,
            "ticks": "",
            "zerolinecolor": "white"
           },
           "zaxis": {
            "backgroundcolor": "#E5ECF6",
            "gridcolor": "white",
            "gridwidth": 2,
            "linecolor": "white",
            "showbackground": true,
            "ticks": "",
            "zerolinecolor": "white"
           }
          },
          "shapedefaults": {
           "line": {
            "color": "#2a3f5f"
           }
          },
          "ternary": {
           "aaxis": {
            "gridcolor": "white",
            "linecolor": "white",
            "ticks": ""
           },
           "baxis": {
            "gridcolor": "white",
            "linecolor": "white",
            "ticks": ""
           },
           "bgcolor": "#E5ECF6",
           "caxis": {
            "gridcolor": "white",
            "linecolor": "white",
            "ticks": ""
           }
          },
          "title": {
           "x": 0.05
          },
          "xaxis": {
           "automargin": true,
           "gridcolor": "white",
           "linecolor": "white",
           "ticks": "",
           "title": {
            "standoff": 15
           },
           "zerolinecolor": "white",
           "zerolinewidth": 2
          },
          "yaxis": {
           "automargin": true,
           "gridcolor": "white",
           "linecolor": "white",
           "ticks": "",
           "title": {
            "standoff": 15
           },
           "zerolinecolor": "white",
           "zerolinewidth": 2
          }
         }
        },
        "title": {
         "text": "Taiexs@2019-07-29"
        },
        "xaxis": {
         "tickformat": "%Y-%m-%d"
        },
        "yaxis": {
         "tickformat": ".2f"
        }
       }
      },
      "text/html": "<div>\n        \n        \n            <div id=\"110d1d9b-0cf2-4d1e-b3a4-01163dd2c079\" class=\"plotly-graph-div\" style=\"height:525px; width:100%;\"></div>\n            <script type=\"text/javascript\">\n                require([\"plotly\"], function(Plotly) {\n                    window.PLOTLYENV=window.PLOTLYENV || {};\n                    \n                if (document.getElementById(\"110d1d9b-0cf2-4d1e-b3a4-01163dd2c079\")) {\n                    Plotly.newPlot(\n                        '110d1d9b-0cf2-4d1e-b3a4-01163dd2c079',\n                        [{\"mode\": \"lines\", \"name\": \"ClosePrice\", \"type\": \"scatter\", \"x\": [\"2019-07-01T00:00:00\", \"2019-07-02T00:00:00\", \"2019-07-03T00:00:00\", \"2019-07-04T00:00:00\", \"2019-07-05T00:00:00\", \"2019-07-08T00:00:00\", \"2019-07-09T00:00:00\", \"2019-07-10T00:00:00\", \"2019-07-11T00:00:00\", \"2019-07-12T00:00:00\", \"2019-07-15T00:00:00\", \"2019-07-16T00:00:00\", \"2019-07-17T00:00:00\", \"2019-07-18T00:00:00\", \"2019-07-19T00:00:00\", \"2019-07-22T00:00:00\", \"2019-07-23T00:00:00\", \"2019-07-24T00:00:00\", \"2019-07-25T00:00:00\", \"2019-07-26T00:00:00\", \"2019-07-29T00:00:00\", \"2019-07-30T00:00:00\", \"2019-07-31T00:00:00\", \"2019-08-01T00:00:00\", \"2019-08-02T00:00:00\", \"2019-08-05T00:00:00\", \"2019-08-06T00:00:00\", \"2019-08-07T00:00:00\", \"2019-08-08T00:00:00\", \"2019-08-12T00:00:00\", \"2019-08-13T00:00:00\", \"2019-08-14T00:00:00\", \"2019-08-15T00:00:00\", \"2019-08-16T00:00:00\", \"2019-08-19T00:00:00\", \"2019-08-20T00:00:00\", \"2019-08-21T00:00:00\", \"2019-08-22T00:00:00\", \"2019-08-23T00:00:00\", \"2019-08-26T00:00:00\", \"2019-08-27T00:00:00\", \"2019-08-28T00:00:00\"], \"y\": [10895.46, 10865.12, 10743.77, 10775.9, 10785.73, 10751.22, 10702.78, 10798.48, 10843.42, 10824.35, 10876.43, 10886.05, 10828.48, 10799.28, 10873.19, 10944.53, 10947.26, 10935.76, 10941.41, 10891.98, 10885.73, 10830.9, 10823.81, 10731.75, 10549.04, 10423.41, 10394.75, 10386.18, 10494.49, 10472.36, 10362.66, 10427.73, 10327.13, 10420.89, 10488.75, 10522.5, 10525.8, 10529.78, 10538.11, 10354.57, 10387.23, 10434.29]}, {\"mode\": \"markers\", \"name\": \"Taiexs@2019-07-29\", \"type\": \"scatter\", \"x\": [\"2019-07-29T00:00:00\"], \"y\": [10885.73]}],\n                        {\"font\": {\"color\": \"#7f7f7f\", \"family\": \"Courier New, monospace\", \"size\": 12}, \"template\": {\"data\": {\"bar\": [{\"error_x\": {\"color\": \"#2a3f5f\"}, \"error_y\": {\"color\": \"#2a3f5f\"}, \"marker\": {\"line\": {\"color\": \"#E5ECF6\", \"width\": 0.5}}, \"type\": \"bar\"}], \"barpolar\": [{\"marker\": {\"line\": {\"color\": \"#E5ECF6\", \"width\": 0.5}}, \"type\": \"barpolar\"}], \"carpet\": [{\"aaxis\": {\"endlinecolor\": \"#2a3f5f\", \"gridcolor\": \"white\", \"linecolor\": \"white\", \"minorgridcolor\": \"white\", \"startlinecolor\": \"#2a3f5f\"}, \"baxis\": {\"endlinecolor\": \"#2a3f5f\", \"gridcolor\": \"white\", \"linecolor\": \"white\", \"minorgridcolor\": \"white\", \"startlinecolor\": \"#2a3f5f\"}, \"type\": \"carpet\"}], \"choropleth\": [{\"colorbar\": {\"outlinewidth\": 0, \"ticks\": \"\"}, \"type\": \"choropleth\"}], \"contour\": [{\"colorbar\": {\"outlinewidth\": 0, \"ticks\": \"\"}, \"colorscale\": [[0.0, \"#0d0887\"], [0.1111111111111111, \"#46039f\"], [0.2222222222222222, \"#7201a8\"], [0.3333333333333333, \"#9c179e\"], [0.4444444444444444, \"#bd3786\"], [0.5555555555555556, \"#d8576b\"], [0.6666666666666666, \"#ed7953\"], [0.7777777777777778, \"#fb9f3a\"], [0.8888888888888888, \"#fdca26\"], [1.0, \"#f0f921\"]], \"type\": \"contour\"}], \"contourcarpet\": [{\"colorbar\": {\"outlinewidth\": 0, \"ticks\": \"\"}, \"type\": \"contourcarpet\"}], \"heatmap\": [{\"colorbar\": {\"outlinewidth\": 0, \"ticks\": \"\"}, \"colorscale\": [[0.0, \"#0d0887\"], [0.1111111111111111, \"#46039f\"], [0.2222222222222222, \"#7201a8\"], [0.3333333333333333, \"#9c179e\"], [0.4444444444444444, \"#bd3786\"], [0.5555555555555556, \"#d8576b\"], [0.6666666666666666, \"#ed7953\"], [0.7777777777777778, \"#fb9f3a\"], [0.8888888888888888, \"#fdca26\"], [1.0, \"#f0f921\"]], \"type\": \"heatmap\"}], \"heatmapgl\": [{\"colorbar\": {\"outlinewidth\": 0, \"ticks\": \"\"}, \"colorscale\": [[0.0, \"#0d0887\"], [0.1111111111111111, \"#46039f\"], [0.2222222222222222, \"#7201a8\"], [0.3333333333333333, \"#9c179e\"], [0.4444444444444444, \"#bd3786\"], [0.5555555555555556, \"#d8576b\"], [0.6666666666666666, \"#ed7953\"], [0.7777777777777778, \"#fb9f3a\"], [0.8888888888888888, \"#fdca26\"], [1.0, \"#f0f921\"]], \"type\": \"heatmapgl\"}], \"histogram\": [{\"marker\": {\"colorbar\": {\"outlinewidth\": 0, \"ticks\": \"\"}}, \"type\": \"histogram\"}], \"histogram2d\": [{\"colorbar\": {\"outlinewidth\": 0, \"ticks\": \"\"}, \"colorscale\": [[0.0, \"#0d0887\"], [0.1111111111111111, \"#46039f\"], [0.2222222222222222, \"#7201a8\"], [0.3333333333333333, \"#9c179e\"], [0.4444444444444444, \"#bd3786\"], [0.5555555555555556, \"#d8576b\"], [0.6666666666666666, \"#ed7953\"], [0.7777777777777778, \"#fb9f3a\"], [0.8888888888888888, \"#fdca26\"], [1.0, \"#f0f921\"]], \"type\": \"histogram2d\"}], \"histogram2dcontour\": [{\"colorbar\": {\"outlinewidth\": 0, \"ticks\": \"\"}, \"colorscale\": [[0.0, \"#0d0887\"], [0.1111111111111111, \"#46039f\"], [0.2222222222222222, \"#7201a8\"], [0.3333333333333333, \"#9c179e\"], [0.4444444444444444, \"#bd3786\"], [0.5555555555555556, \"#d8576b\"], [0.6666666666666666, \"#ed7953\"], [0.7777777777777778, \"#fb9f3a\"], [0.8888888888888888, \"#fdca26\"], [1.0, \"#f0f921\"]], \"type\": \"histogram2dcontour\"}], \"mesh3d\": [{\"colorbar\": {\"outlinewidth\": 0, \"ticks\": \"\"}, \"type\": \"mesh3d\"}], \"parcoords\": [{\"line\": {\"colorbar\": {\"outlinewidth\": 0, \"ticks\": \"\"}}, \"type\": \"parcoords\"}], \"pie\": [{\"automargin\": true, \"type\": \"pie\"}], \"scatter\": [{\"marker\": {\"colorbar\": {\"outlinewidth\": 0, \"ticks\": \"\"}}, \"type\": \"scatter\"}], \"scatter3d\": [{\"line\": {\"colorbar\": {\"outlinewidth\": 0, \"ticks\": \"\"}}, \"marker\": {\"colorbar\": {\"outlinewidth\": 0, \"ticks\": \"\"}}, \"type\": \"scatter3d\"}], \"scattercarpet\": [{\"marker\": {\"colorbar\": {\"outlinewidth\": 0, \"ticks\": \"\"}}, \"type\": \"scattercarpet\"}], \"scattergeo\": [{\"marker\": {\"colorbar\": {\"outlinewidth\": 0, \"ticks\": \"\"}}, \"type\": \"scattergeo\"}], \"scattergl\": [{\"marker\": {\"colorbar\": {\"outlinewidth\": 0, \"ticks\": \"\"}}, \"type\": \"scattergl\"}], \"scattermapbox\": [{\"marker\": {\"colorbar\": {\"outlinewidth\": 0, \"ticks\": \"\"}}, \"type\": \"scattermapbox\"}], \"scatterpolar\": [{\"marker\": {\"colorbar\": {\"outlinewidth\": 0, \"ticks\": \"\"}}, \"type\": \"scatterpolar\"}], \"scatterpolargl\": [{\"marker\": {\"colorbar\": {\"outlinewidth\": 0, \"ticks\": \"\"}}, \"type\": \"scatterpolargl\"}], \"scatterternary\": [{\"marker\": {\"colorbar\": {\"outlinewidth\": 0, \"ticks\": \"\"}}, \"type\": \"scatterternary\"}], \"surface\": [{\"colorbar\": {\"outlinewidth\": 0, \"ticks\": \"\"}, \"colorscale\": [[0.0, \"#0d0887\"], [0.1111111111111111, \"#46039f\"], [0.2222222222222222, \"#7201a8\"], [0.3333333333333333, \"#9c179e\"], [0.4444444444444444, \"#bd3786\"], [0.5555555555555556, \"#d8576b\"], [0.6666666666666666, \"#ed7953\"], [0.7777777777777778, \"#fb9f3a\"], [0.8888888888888888, \"#fdca26\"], [1.0, \"#f0f921\"]], \"type\": \"surface\"}], \"table\": [{\"cells\": {\"fill\": {\"color\": \"#EBF0F8\"}, \"line\": {\"color\": \"white\"}}, \"header\": {\"fill\": {\"color\": \"#C8D4E3\"}, \"line\": {\"color\": \"white\"}}, \"type\": \"table\"}]}, \"layout\": {\"annotationdefaults\": {\"arrowcolor\": \"#2a3f5f\", \"arrowhead\": 0, \"arrowwidth\": 1}, \"coloraxis\": {\"colorbar\": {\"outlinewidth\": 0, \"ticks\": \"\"}}, \"colorscale\": {\"diverging\": [[0, \"#8e0152\"], [0.1, \"#c51b7d\"], [0.2, \"#de77ae\"], [0.3, \"#f1b6da\"], [0.4, \"#fde0ef\"], [0.5, \"#f7f7f7\"], [0.6, \"#e6f5d0\"], [0.7, \"#b8e186\"], [0.8, \"#7fbc41\"], [0.9, \"#4d9221\"], [1, \"#276419\"]], \"sequential\": [[0.0, \"#0d0887\"], [0.1111111111111111, \"#46039f\"], [0.2222222222222222, \"#7201a8\"], [0.3333333333333333, \"#9c179e\"], [0.4444444444444444, \"#bd3786\"], [0.5555555555555556, \"#d8576b\"], [0.6666666666666666, \"#ed7953\"], [0.7777777777777778, \"#fb9f3a\"], [0.8888888888888888, \"#fdca26\"], [1.0, \"#f0f921\"]], \"sequentialminus\": [[0.0, \"#0d0887\"], [0.1111111111111111, \"#46039f\"], [0.2222222222222222, \"#7201a8\"], [0.3333333333333333, \"#9c179e\"], [0.4444444444444444, \"#bd3786\"], [0.5555555555555556, \"#d8576b\"], [0.6666666666666666, \"#ed7953\"], [0.7777777777777778, \"#fb9f3a\"], [0.8888888888888888, \"#fdca26\"], [1.0, \"#f0f921\"]]}, \"colorway\": [\"#636efa\", \"#EF553B\", \"#00cc96\", \"#ab63fa\", \"#FFA15A\", \"#19d3f3\", \"#FF6692\", \"#B6E880\", \"#FF97FF\", \"#FECB52\"], \"font\": {\"color\": \"#2a3f5f\"}, \"geo\": {\"bgcolor\": \"white\", \"lakecolor\": \"white\", \"landcolor\": \"#E5ECF6\", \"showlakes\": true, \"showland\": true, \"subunitcolor\": \"white\"}, \"hoverlabel\": {\"align\": \"left\"}, \"hovermode\": \"closest\", \"mapbox\": {\"style\": \"light\"}, \"paper_bgcolor\": \"white\", \"plot_bgcolor\": \"#E5ECF6\", \"polar\": {\"angularaxis\": {\"gridcolor\": \"white\", \"linecolor\": \"white\", \"ticks\": \"\"}, \"bgcolor\": \"#E5ECF6\", \"radialaxis\": {\"gridcolor\": \"white\", \"linecolor\": \"white\", \"ticks\": \"\"}}, \"scene\": {\"xaxis\": {\"backgroundcolor\": \"#E5ECF6\", \"gridcolor\": \"white\", \"gridwidth\": 2, \"linecolor\": \"white\", \"showbackground\": true, \"ticks\": \"\", \"zerolinecolor\": \"white\"}, \"yaxis\": {\"backgroundcolor\": \"#E5ECF6\", \"gridcolor\": \"white\", \"gridwidth\": 2, \"linecolor\": \"white\", \"showbackground\": true, \"ticks\": \"\", \"zerolinecolor\": \"white\"}, \"zaxis\": {\"backgroundcolor\": \"#E5ECF6\", \"gridcolor\": \"white\", \"gridwidth\": 2, \"linecolor\": \"white\", \"showbackground\": true, \"ticks\": \"\", \"zerolinecolor\": \"white\"}}, \"shapedefaults\": {\"line\": {\"color\": \"#2a3f5f\"}}, \"ternary\": {\"aaxis\": {\"gridcolor\": \"white\", \"linecolor\": \"white\", \"ticks\": \"\"}, \"baxis\": {\"gridcolor\": \"white\", \"linecolor\": \"white\", \"ticks\": \"\"}, \"bgcolor\": \"#E5ECF6\", \"caxis\": {\"gridcolor\": \"white\", \"linecolor\": \"white\", \"ticks\": \"\"}}, \"title\": {\"x\": 0.05}, \"xaxis\": {\"automargin\": true, \"gridcolor\": \"white\", \"linecolor\": \"white\", \"ticks\": \"\", \"title\": {\"standoff\": 15}, \"zerolinecolor\": \"white\", \"zerolinewidth\": 2}, \"yaxis\": {\"automargin\": true, \"gridcolor\": \"white\", \"linecolor\": \"white\", \"ticks\": \"\", \"title\": {\"standoff\": 15}, \"zerolinecolor\": \"white\", \"zerolinewidth\": 2}}}, \"title\": {\"text\": \"Taiexs@2019-07-29\"}, \"xaxis\": {\"tickformat\": \"%Y-%m-%d\"}, \"yaxis\": {\"tickformat\": \".2f\"}},\n                        {\"responsive\": true}\n                    ).then(function(){\n                            \nvar gd = document.getElementById('110d1d9b-0cf2-4d1e-b3a4-01163dd2c079');\nvar x = new MutationObserver(function (mutations, observer) {{\n        var display = window.getComputedStyle(gd).display;\n        if (!display || display === 'none') {{\n            console.log([gd, 'removed!']);\n            Plotly.purge(gd);\n            observer.disconnect();\n        }}\n}});\n\n// Listen for the removal of the full notebook cells\nvar notebookContainer = gd.closest('#notebook-container');\nif (notebookContainer) {{\n    x.observe(notebookContainer, {childList: true});\n}}\n\n// Listen for the clearing of the current output cell\nvar outputEl = gd.closest('.output');\nif (outputEl) {{\n    x.observe(outputEl, {childList: true});\n}}\n\n                        })\n                };\n                });\n            </script>\n        </div>"
     },
     "metadata": {}
    }
   ],
   "source": [
    "figTaiexs = go.Figure()\n",
    "\n",
    "figTaiexs.add_trace(\n",
    "    go.Scatter(\n",
    "            x=dfTaiexsRecent[\"Date\"],\n",
    "            y=dfTaiexsRecent[\"ClosePrice\"],\n",
    "            name = f\"ClosePrice\",\n",
    "            mode='lines'\n",
    "        ))\n",
    "figTaiexs.add_trace(go.Scatter(\n",
    "    x=[datetime.datetime(YEAR, MONTH, DAY)],\n",
    "    y=[TAIEX_VALUE],\n",
    "    mode=\"markers\",\n",
    "    name = f\"Taiexs@{YEAR}-{MONTH:02}-{DAY:02}\"\n",
    "    # hovertext=[\"Text A\"]\n",
    "))\n",
    "figTaiexs.update_layout(\n",
    "    title=f\"Taiexs@{YEAR}-{MONTH:02}-{DAY:02}\",\n",
    "    xaxis_title=\"x Axis Title\",\n",
    "    yaxis_title=\"y Axis Title\",\n",
    "    font=dict(\n",
    "        family=\"Courier New, monospace\",\n",
    "        size=12,\n",
    "        color=\"#7f7f7f\"\n",
    "    ),\n",
    "    xaxis=plotly.graph_objects.layout.XAxis(\n",
    "        tickformat='%Y-%m-%d'\n",
    "    ),\n",
    "    yaxis=plotly.graph_objects.layout.YAxis(\n",
    "        tickformat='.2f'\n",
    "    )\n",
    ")\n",
    "figTaiexs.show()"
   ]
  },
  {
   "cell_type": "markdown",
   "metadata": {},
   "source": [
    "### 匯入Date那天選擇權交易資料"
   ]
  },
  {
   "cell_type": "code",
   "execution_count": 11,
   "metadata": {},
   "outputs": [
    {
     "output_type": "execute_result",
     "data": {
      "text/plain": "    ContractMonthWeek  StrikePrice CallPut Open High  Low Close  Volume  \\\n0            201907W5      10100.0    Call    -    -    -     -       0   \n1            201907W5      10100.0    Call    -    -    -     -       0   \n2            201907W5      10100.0     Put  0.3  0.3  0.2   0.2     713   \n3            201907W5      10100.0     Put    -    -    -     -       0   \n4            201907W5      10200.0    Call    -    -    -     -       0   \n..                ...          ...     ...  ...  ...  ...   ...     ...   \n803          202003        13000.0     Put    -    -    -     -       0   \n804          202003        13200.0    Call    -    -    -     -       0   \n805          202003        13200.0    Call    -    -    -     -       0   \n806          202003        13200.0     Put    -    -    -     -       0   \n807          202003        13200.0     Put    -    -    -     -       0   \n\n    OpenInterest BestBid BestAsk HistoricalHigh HistoricalLow     Session  \n0              4       -       -              -             -     Regular  \n1              -       -       -              -             -  AfterHours  \n2           1002     0.1     0.3            0.9           0.2     Regular  \n3              -       -       -              -             -  AfterHours  \n4              3       -       -              -             -     Regular  \n..           ...     ...     ...            ...           ...         ...  \n803            -       -       -              -             -  AfterHours  \n804           52       -       -              -             -     Regular  \n805            -       -       -              -             -  AfterHours  \n806            0       -       -              -             -     Regular  \n807            -       -       -              -             -  AfterHours  \n\n[808 rows x 14 columns]",
      "text/html": "<div>\n<style scoped>\n    .dataframe tbody tr th:only-of-type {\n        vertical-align: middle;\n    }\n\n    .dataframe tbody tr th {\n        vertical-align: top;\n    }\n\n    .dataframe thead th {\n        text-align: right;\n    }\n</style>\n<table border=\"1\" class=\"dataframe\">\n  <thead>\n    <tr style=\"text-align: right;\">\n      <th></th>\n      <th>ContractMonthWeek</th>\n      <th>StrikePrice</th>\n      <th>CallPut</th>\n      <th>Open</th>\n      <th>High</th>\n      <th>Low</th>\n      <th>Close</th>\n      <th>Volume</th>\n      <th>OpenInterest</th>\n      <th>BestBid</th>\n      <th>BestAsk</th>\n      <th>HistoricalHigh</th>\n      <th>HistoricalLow</th>\n      <th>Session</th>\n    </tr>\n  </thead>\n  <tbody>\n    <tr>\n      <th>0</th>\n      <td>201907W5</td>\n      <td>10100.0</td>\n      <td>Call</td>\n      <td>-</td>\n      <td>-</td>\n      <td>-</td>\n      <td>-</td>\n      <td>0</td>\n      <td>4</td>\n      <td>-</td>\n      <td>-</td>\n      <td>-</td>\n      <td>-</td>\n      <td>Regular</td>\n    </tr>\n    <tr>\n      <th>1</th>\n      <td>201907W5</td>\n      <td>10100.0</td>\n      <td>Call</td>\n      <td>-</td>\n      <td>-</td>\n      <td>-</td>\n      <td>-</td>\n      <td>0</td>\n      <td>-</td>\n      <td>-</td>\n      <td>-</td>\n      <td>-</td>\n      <td>-</td>\n      <td>AfterHours</td>\n    </tr>\n    <tr>\n      <th>2</th>\n      <td>201907W5</td>\n      <td>10100.0</td>\n      <td>Put</td>\n      <td>0.3</td>\n      <td>0.3</td>\n      <td>0.2</td>\n      <td>0.2</td>\n      <td>713</td>\n      <td>1002</td>\n      <td>0.1</td>\n      <td>0.3</td>\n      <td>0.9</td>\n      <td>0.2</td>\n      <td>Regular</td>\n    </tr>\n    <tr>\n      <th>3</th>\n      <td>201907W5</td>\n      <td>10100.0</td>\n      <td>Put</td>\n      <td>-</td>\n      <td>-</td>\n      <td>-</td>\n      <td>-</td>\n      <td>0</td>\n      <td>-</td>\n      <td>-</td>\n      <td>-</td>\n      <td>-</td>\n      <td>-</td>\n      <td>AfterHours</td>\n    </tr>\n    <tr>\n      <th>4</th>\n      <td>201907W5</td>\n      <td>10200.0</td>\n      <td>Call</td>\n      <td>-</td>\n      <td>-</td>\n      <td>-</td>\n      <td>-</td>\n      <td>0</td>\n      <td>3</td>\n      <td>-</td>\n      <td>-</td>\n      <td>-</td>\n      <td>-</td>\n      <td>Regular</td>\n    </tr>\n    <tr>\n      <th>...</th>\n      <td>...</td>\n      <td>...</td>\n      <td>...</td>\n      <td>...</td>\n      <td>...</td>\n      <td>...</td>\n      <td>...</td>\n      <td>...</td>\n      <td>...</td>\n      <td>...</td>\n      <td>...</td>\n      <td>...</td>\n      <td>...</td>\n      <td>...</td>\n    </tr>\n    <tr>\n      <th>803</th>\n      <td>202003</td>\n      <td>13000.0</td>\n      <td>Put</td>\n      <td>-</td>\n      <td>-</td>\n      <td>-</td>\n      <td>-</td>\n      <td>0</td>\n      <td>-</td>\n      <td>-</td>\n      <td>-</td>\n      <td>-</td>\n      <td>-</td>\n      <td>AfterHours</td>\n    </tr>\n    <tr>\n      <th>804</th>\n      <td>202003</td>\n      <td>13200.0</td>\n      <td>Call</td>\n      <td>-</td>\n      <td>-</td>\n      <td>-</td>\n      <td>-</td>\n      <td>0</td>\n      <td>52</td>\n      <td>-</td>\n      <td>-</td>\n      <td>-</td>\n      <td>-</td>\n      <td>Regular</td>\n    </tr>\n    <tr>\n      <th>805</th>\n      <td>202003</td>\n      <td>13200.0</td>\n      <td>Call</td>\n      <td>-</td>\n      <td>-</td>\n      <td>-</td>\n      <td>-</td>\n      <td>0</td>\n      <td>-</td>\n      <td>-</td>\n      <td>-</td>\n      <td>-</td>\n      <td>-</td>\n      <td>AfterHours</td>\n    </tr>\n    <tr>\n      <th>806</th>\n      <td>202003</td>\n      <td>13200.0</td>\n      <td>Put</td>\n      <td>-</td>\n      <td>-</td>\n      <td>-</td>\n      <td>-</td>\n      <td>0</td>\n      <td>0</td>\n      <td>-</td>\n      <td>-</td>\n      <td>-</td>\n      <td>-</td>\n      <td>Regular</td>\n    </tr>\n    <tr>\n      <th>807</th>\n      <td>202003</td>\n      <td>13200.0</td>\n      <td>Put</td>\n      <td>-</td>\n      <td>-</td>\n      <td>-</td>\n      <td>-</td>\n      <td>0</td>\n      <td>-</td>\n      <td>-</td>\n      <td>-</td>\n      <td>-</td>\n      <td>-</td>\n      <td>AfterHours</td>\n    </tr>\n  </tbody>\n</table>\n<p>808 rows × 14 columns</p>\n</div>"
     },
     "metadata": {},
     "execution_count": 11
    }
   ],
   "source": [
    "\n",
    "filename = f'optionsDailyInfo-{YEAR}{MONTH:02}{DAY:02}.csv'\n",
    "filepath = f'/Users/singularity/Aaron/coding/fintech/OptionsDailyInfoData/{filename}'\n",
    "df = pandas.read_csv(filepath)\n",
    "df"
   ]
  },
  {
   "cell_type": "code",
   "execution_count": 12,
   "metadata": {},
   "outputs": [
    {
     "output_type": "execute_result",
     "data": {
      "text/plain": "ContractMonthWeek     object\nStrikePrice          float64\nCallPut               object\nOpen                  object\nHigh                  object\nLow                   object\nClose                 object\nVolume                 int64\nOpenInterest          object\nBestBid               object\nBestAsk               object\nHistoricalHigh        object\nHistoricalLow         object\nSession               object\ndtype: object"
     },
     "metadata": {},
     "execution_count": 12
    }
   ],
   "source": [
    "df.astype({\n",
    "    \"ContractMonthWeek\": \"str\"}).dtypes"
   ]
  },
  {
   "cell_type": "markdown",
   "metadata": {},
   "source": [
    "### 篩選出靠近Date那天加權股價指數 $\\pm 300$"
   ]
  },
  {
   "cell_type": "code",
   "execution_count": 13,
   "metadata": {},
   "outputs": [],
   "source": [
    "\n",
    "# df.head(200)\n",
    "ContractMonthWeek = df[\"ContractMonthWeek\"][0]\n",
    "# ContractMonthWeek = \"201807\"\n",
    "\n",
    "StrikePriceLimite = df[\"StrikePrice\"].apply(lambda d: True if int(d)>=TAIEX_VALUE-300 and int(d) <=TAIEX_VALUE+300 else False)\n",
    "dfCall = df[(df[\"CallPut\"]==\"Call\") & (df[\"Session\"]==\"Regular\") & (df[\"ContractMonthWeek\"]==ContractMonthWeek) & StrikePriceLimite][['ContractMonthWeek', 'StrikePrice','CallPut', 'Close']]\n",
    "dfPut = df[(df[\"CallPut\"]==\"Put\") & (df[\"Session\"]==\"Regular\") & (df[\"ContractMonthWeek\"]==ContractMonthWeek) & StrikePriceLimite][['ContractMonthWeek', 'StrikePrice','CallPut', 'Close']]\n",
    "# df.loc[StrikePriceLimite]"
   ]
  },
  {
   "cell_type": "code",
   "execution_count": 14,
   "metadata": {},
   "outputs": [
    {
     "output_type": "execute_result",
     "data": {
      "text/plain": "   ContractMonthWeek  StrikePrice CallPut Close\n20          201907W5      10600.0    Call   285\n24          201907W5      10650.0    Call   220\n28          201907W5      10700.0    Call   174\n32          201907W5      10750.0    Call   126\n36          201907W5      10800.0    Call    82",
      "text/html": "<div>\n<style scoped>\n    .dataframe tbody tr th:only-of-type {\n        vertical-align: middle;\n    }\n\n    .dataframe tbody tr th {\n        vertical-align: top;\n    }\n\n    .dataframe thead th {\n        text-align: right;\n    }\n</style>\n<table border=\"1\" class=\"dataframe\">\n  <thead>\n    <tr style=\"text-align: right;\">\n      <th></th>\n      <th>ContractMonthWeek</th>\n      <th>StrikePrice</th>\n      <th>CallPut</th>\n      <th>Close</th>\n    </tr>\n  </thead>\n  <tbody>\n    <tr>\n      <th>20</th>\n      <td>201907W5</td>\n      <td>10600.0</td>\n      <td>Call</td>\n      <td>285</td>\n    </tr>\n    <tr>\n      <th>24</th>\n      <td>201907W5</td>\n      <td>10650.0</td>\n      <td>Call</td>\n      <td>220</td>\n    </tr>\n    <tr>\n      <th>28</th>\n      <td>201907W5</td>\n      <td>10700.0</td>\n      <td>Call</td>\n      <td>174</td>\n    </tr>\n    <tr>\n      <th>32</th>\n      <td>201907W5</td>\n      <td>10750.0</td>\n      <td>Call</td>\n      <td>126</td>\n    </tr>\n    <tr>\n      <th>36</th>\n      <td>201907W5</td>\n      <td>10800.0</td>\n      <td>Call</td>\n      <td>82</td>\n    </tr>\n  </tbody>\n</table>\n</div>"
     },
     "metadata": {},
     "execution_count": 14
    }
   ],
   "source": [
    "dfCall.head()"
   ]
  },
  {
   "cell_type": "code",
   "execution_count": 15,
   "metadata": {
    "tags": []
   },
   "outputs": [
    {
     "output_type": "stream",
     "name": "stdout",
     "text": "TAIEX_VALUE: 10885.73\nTAIEX_VALUE_BOTTOM: 10850\nTAIEX_VALUE_TOP: 10900\n\n"
    },
    {
     "output_type": "execute_result",
     "data": {
      "text/plain": "   Close_Call CallPut_Call  StrikePrice CallPut_Put Close_Put\n0         285         Call      10600.0         Put       1.5\n1         220         Call      10650.0         Put       2.1\n2         174         Call      10700.0         Put       3.6\n3         126         Call      10750.0         Put       6.6\n4          82         Call      10800.0         Put        14\n5          46         Call      10850.0         Put      26.5\n6        20.5         Call      10900.0         Put        50\n7           7         Call      10950.0         Put        87\n8         2.5         Call      11000.0         Put       133\n9         0.8         Call      11050.0         Put       182\n10        0.3         Call      11100.0         Put       231\n11        0.2         Call      11150.0         Put       269",
      "text/html": "<div>\n<style scoped>\n    .dataframe tbody tr th:only-of-type {\n        vertical-align: middle;\n    }\n\n    .dataframe tbody tr th {\n        vertical-align: top;\n    }\n\n    .dataframe thead th {\n        text-align: right;\n    }\n</style>\n<table border=\"1\" class=\"dataframe\">\n  <thead>\n    <tr style=\"text-align: right;\">\n      <th></th>\n      <th>Close_Call</th>\n      <th>CallPut_Call</th>\n      <th>StrikePrice</th>\n      <th>CallPut_Put</th>\n      <th>Close_Put</th>\n    </tr>\n  </thead>\n  <tbody>\n    <tr>\n      <th>0</th>\n      <td>285</td>\n      <td>Call</td>\n      <td>10600.0</td>\n      <td>Put</td>\n      <td>1.5</td>\n    </tr>\n    <tr>\n      <th>1</th>\n      <td>220</td>\n      <td>Call</td>\n      <td>10650.0</td>\n      <td>Put</td>\n      <td>2.1</td>\n    </tr>\n    <tr>\n      <th>2</th>\n      <td>174</td>\n      <td>Call</td>\n      <td>10700.0</td>\n      <td>Put</td>\n      <td>3.6</td>\n    </tr>\n    <tr>\n      <th>3</th>\n      <td>126</td>\n      <td>Call</td>\n      <td>10750.0</td>\n      <td>Put</td>\n      <td>6.6</td>\n    </tr>\n    <tr>\n      <th>4</th>\n      <td>82</td>\n      <td>Call</td>\n      <td>10800.0</td>\n      <td>Put</td>\n      <td>14</td>\n    </tr>\n    <tr>\n      <th>5</th>\n      <td>46</td>\n      <td>Call</td>\n      <td>10850.0</td>\n      <td>Put</td>\n      <td>26.5</td>\n    </tr>\n    <tr>\n      <th>6</th>\n      <td>20.5</td>\n      <td>Call</td>\n      <td>10900.0</td>\n      <td>Put</td>\n      <td>50</td>\n    </tr>\n    <tr>\n      <th>7</th>\n      <td>7</td>\n      <td>Call</td>\n      <td>10950.0</td>\n      <td>Put</td>\n      <td>87</td>\n    </tr>\n    <tr>\n      <th>8</th>\n      <td>2.5</td>\n      <td>Call</td>\n      <td>11000.0</td>\n      <td>Put</td>\n      <td>133</td>\n    </tr>\n    <tr>\n      <th>9</th>\n      <td>0.8</td>\n      <td>Call</td>\n      <td>11050.0</td>\n      <td>Put</td>\n      <td>182</td>\n    </tr>\n    <tr>\n      <th>10</th>\n      <td>0.3</td>\n      <td>Call</td>\n      <td>11100.0</td>\n      <td>Put</td>\n      <td>231</td>\n    </tr>\n    <tr>\n      <th>11</th>\n      <td>0.2</td>\n      <td>Call</td>\n      <td>11150.0</td>\n      <td>Put</td>\n      <td>269</td>\n    </tr>\n  </tbody>\n</table>\n</div>"
     },
     "metadata": {},
     "execution_count": 15
    }
   ],
   "source": [
    "print(f'TAIEX_VALUE: {TAIEX_VALUE}')\n",
    "print(f'TAIEX_VALUE_BOTTOM: {TAIEX_VALUE_BOTTOM}')\n",
    "print(f'TAIEX_VALUE_TOP: {TAIEX_VALUE_TOP}\\n')\n",
    "optionsDF = pandas.merge(dfCall, dfPut, left_on=[\"StrikePrice\", 'ContractMonthWeek'], right_on=[\"StrikePrice\",      'ContractMonthWeek']\\\n",
    "            , suffixes=('_Call','_Put'))[['Close_Call', 'CallPut_Call', 'StrikePrice', 'CallPut_Put', 'Close_Put']]\n",
    "optionsDF"
   ]
  },
  {
   "cell_type": "code",
   "execution_count": 16,
   "metadata": {},
   "outputs": [
    {
     "output_type": "execute_result",
     "data": {
      "text/plain": "Close_Call      float64\nCallPut_Call     string\nStrikePrice       int64\nCallPut_Put      string\nClose_Put       float64\ndtype: object"
     },
     "metadata": {},
     "execution_count": 16
    }
   ],
   "source": [
    "optionsDF.dtypes\n",
    "optionsDF.astype({\n",
    "    \"Close_Call\": \"float64\",\n",
    "    \"CallPut_Call\": \"string\",\n",
    "    \"StrikePrice\": \"int64\",\n",
    "    \"CallPut_Put\": \"string\",\n",
    "    \"Close_Put\": \"float64\"}, errors='ignore').dtypes"
   ]
  },
  {
   "cell_type": "markdown",
   "metadata": {},
   "source": [
    "#### 建立一個選擇權買賣結構，方便後面多種選擇組合使用"
   ]
  },
  {
   "cell_type": "code",
   "execution_count": 17,
   "metadata": {},
   "outputs": [],
   "source": [
    "class options:\n",
    "    def __init__(\n",
    "        self,\n",
    "        strikePrice,\n",
    "        optionsDF,\n",
    "        PutCall,\n",
    "        BuySell\n",
    "        ):\n",
    "        self.strikePrice = strikePrice\n",
    "        self.optionsDF = optionsDF\n",
    "        self.PutCall = PutCall\n",
    "        self.BuySell = BuySell\n",
    "        # print(f'{self.BuySell}{self.PutCall}@{self.strikePrice}') ##\n",
    "    def optionsProfit(self, x):\n",
    "        Exchange_Fee = -1\n",
    "        y = [0 for _ in range(len(x))]\n",
    "        \n",
    "        t = -1 if self.BuySell == \"buy\" else 1\n",
    "        s = -50*t\n",
    "        er = False\n",
    "        if len(self.optionsDF[self.optionsDF[\"StrikePrice\"] == self.strikePrice]) == 0:\n",
    "            print(f'{self.BuySell}{self.PutCall}@{self.strikePrice} NOT EXISTS!')\n",
    "            #  if self.PutCall == \"call\" else self.strikePrice += 50\n",
    "            er = True\n",
    "        if self.PutCall == \"call\":\n",
    "            # print(f'@@@@optionsDF\\n{self.optionsDF}')\n",
    "            # print(f'@@@@{self.BuySell}{self.PutCall}@{self.strikePrice}')\n",
    "            # print(f'@@@@price\\n{self.optionsDF[self.optionsDF[\"StrikePrice\"] == self.strikePrice][\"Close_Call\"]}')\n",
    "            if er: self.strikePrice -= 50; print(f'Change to {self.BuySell}{self.PutCall}@{self.strikePrice}')\n",
    "            price = float(self.optionsDF[self.optionsDF[\"StrikePrice\"] == self.strikePrice][\"Close_Call\"])*t\n",
    "            self.price = price\n",
    "            for i in range(len(x)):\n",
    "                if x[i] <= self.strikePrice:\n",
    "                    y[i] = price\n",
    "                else:\n",
    "                    price += s\n",
    "                    y[i] = price\n",
    "        else:\n",
    "            if er: self.strikePrice += 50; print(f'Change to {self.BuySell}{self.PutCall}@{self.strikePrice}')\n",
    "            price = float(self.optionsDF[self.optionsDF[\"StrikePrice\"] == self.strikePrice][\"Close_Put\"])*t\n",
    "            self.price = price\n",
    "            for i in range(len(x)-1,-1,-1):\n",
    "                if x[i] >= self.strikePrice:\n",
    "                    y[i] = price\n",
    "                else:\n",
    "                    price += s\n",
    "                    y[i] = price\n",
    "        # return y\n",
    "        return np.add(y, np.array([Exchange_Fee for _ in range(len(x))]))\n",
    "    def optionsScatter(self, x):\n",
    "        return go.Scatter(\n",
    "            x=x,\n",
    "            y=self.optionsProfit(x),\n",
    "            name = f\"{self.BuySell}{self.PutCall}@{self.strikePrice}\",\n",
    "            visible = \"legendonly\",\n",
    "            mode='lines',\n",
    "            # line=go.scatter.Line(color='#6B99E5')\n",
    "            opacity=0.4\n",
    "        )\n",
    "    def __repr__(self):\n",
    "        return(f'{self.BuySell}{self.PutCall}@{self.strikePrice}')\n"
   ]
  },
  {
   "cell_type": "markdown",
   "metadata": {},
   "source": [
    "#### 計算某價位都收益函數"
   ]
  },
  {
   "cell_type": "code",
   "execution_count": 18,
   "metadata": {},
   "outputs": [],
   "source": [
    "def profit(price, x, y):\n",
    "    i = 0\n",
    "    while i < len(y):\n",
    "        if price < x[i]:\n",
    "            break\n",
    "        i += 1\n",
    "    j = i - 1\n",
    "    if i == 0:\n",
    "        return y[i]\n",
    "    elif i == len(y) or y[i]-y[j] == 0:\n",
    "        return y[j]\n",
    "    elif y[i]-y[j] > 0:\n",
    "        return y[j]+(price-x[j])\n",
    "    else:\n",
    "        return y[j]-(price-x[j])"
   ]
  },
  {
   "cell_type": "markdown",
   "metadata": {},
   "source": [
    "#### 依照某日期找出相關的選擇權資料函數"
   ]
  },
  {
   "cell_type": "code",
   "execution_count": 19,
   "metadata": {},
   "outputs": [],
   "source": [
    "def optionsDF_fun(date, TAIEX_VALUE):\n",
    "    filename = f'optionsDailyInfo-{date}.csv'\n",
    "    filepath = f'/Users/singularity/Aaron/coding/fintech/OptionsDailyInfoData/{filename}'\n",
    "    df = pandas.read_csv(filepath)\n",
    "    ContractMonthWeek = df['ContractMonthWeek'][0]\n",
    "    StrikePriceLimite = df[\"StrikePrice\"].apply(lambda d: True if int(d)>=TAIEX_VALUE-200 and int(d) <=TAIEX_VALUE+200 else False)\n",
    "    dfCall = df[(df[\"CallPut\"]==\"Call\") & (df[\"Session\"]==\"Regular\") & (df[\"ContractMonthWeek\"]==ContractMonthWeek) & StrikePriceLimite][['ContractMonthWeek', 'StrikePrice','CallPut', 'Close']]\n",
    "    dfPut = df[(df[\"CallPut\"]==\"Put\") & (df[\"Session\"]==\"Regular\") & (df[\"ContractMonthWeek\"]==ContractMonthWeek) & StrikePriceLimite][['ContractMonthWeek', 'StrikePrice','CallPut', 'Close']]\n",
    "    optionsDF = pandas.merge(dfCall, dfPut, left_on=[\"StrikePrice\", 'ContractMonthWeek'], right_on=[\"StrikePrice\",      'ContractMonthWeek']\\\n",
    "            , suffixes=('_Call','_Put'))[['Close_Call', 'CallPut_Call', 'StrikePrice', 'CallPut_Put', 'Close_Put']]\n",
    "    return optionsDF"
   ]
  },
  {
   "cell_type": "markdown",
   "metadata": {},
   "source": [
    "# strategy1\n",
    "> ### 策略\n",
    ">> 判斷**Bull Call Spread**最大收益是否小於4且**Buy Call @ TAIEX_VALUE_BOTTOM-50**最大損失不大於150，假如是則**Buy Call @ TAIEX_VALUE_BOTTOM-50**<br/><br/>\n",
    ">> 判斷**Bear Put Spready**最大收益是否小於4且**Buy Sell @ TAIEX_VALUE_TOP+50**最大損失不大於150，假如是則**Buy Sell @ TAIEX_VALUE_TOP+50**<br/><br/>\n",
    ">> 判斷**Bull Call Spread**最大收益和**Bear Put Spready**最大收益是否小於5，假如是則都不要買<br/><br/>\n",
    ">> 假如都不是上面的條件且最大收益不為負，則買入**Iron Condor**區間100"
   ]
  },
  {
   "cell_type": "code",
   "execution_count": 20,
   "metadata": {},
   "outputs": [],
   "source": [
    "def strategy(dftt):\n",
    "    # try:\n",
    "        TAIEX_VALUE = float(dftt['ClosePrice'])\n",
    "        TAIEX_VALUE_BOTTOM = int(TAIEX_VALUE - (TAIEX_VALUE % 50))\n",
    "        TAIEX_VALUE_TOP = TAIEX_VALUE_BOTTOM + 50\n",
    "\n",
    "        TX = float(dftt['TX/MTX'])\n",
    "        \n",
    "\n",
    "        DATE = dftt['Date']\n",
    "        year = f'{DATE:%Y}'\n",
    "        month = f'{DATE:%m}'\n",
    "        day = f'{DATE:%d}'\n",
    "        \n",
    "        print(f'{year}/{month}/{day}') ##\n",
    "\n",
    "        optionsDF = optionsDF_fun(f'{year}{month}{day}', TAIEX_VALUE)\n",
    "        \n",
    "        SPREAD = 100\n",
    "        x = np.arange(TAIEX_VALUE_BOTTOM-(150+SPREAD), TAIEX_VALUE_TOP+(150+SPREAD), 50)\n",
    "        y = [0 for _ in range(len(x))]\n",
    "        yc = [0 for _ in range(len(x))]\n",
    "        yp = [0 for _ in range(len(x))]\n",
    "\n",
    "        totalOtions = []\n",
    "        sc = options(TAIEX_VALUE_BOTTOM-(SPREAD-50), optionsDF, \"call\", \"sell\")\n",
    "        bc = options(sc.strikePrice-50, optionsDF, \"call\", \"buy\")\n",
    "    \n",
    "        sp = options(TAIEX_VALUE_TOP+(SPREAD-50), optionsDF, \"put\", \"sell\")\n",
    "        bp =options(sp.strikePrice+50, optionsDF, \"put\", \"buy\")\n",
    "\n",
    "        totalOtions.append(sc)\n",
    "        totalOtions.append(bc)\n",
    "        totalOtions.append(sp)\n",
    "        totalOtions.append(bp)\n",
    "        \n",
    "        for op in totalOtions:\n",
    "            if op.PutCall == \"call\":\n",
    "                yc = np.add(yc, op.optionsProfit(x))\n",
    "            else:\n",
    "                yp = np.add(yp, op.optionsProfit(x))\n",
    "            y = np.add(y, op.optionsProfit(x))\n",
    "\n",
    "      \n",
    "        \n",
    "        special = False\n",
    "        ySP = [0 for _ in range(len(x))]\n",
    "        specialOP = []\n",
    "        if yc.max() < 4 and abs(bc.price) < 150:\n",
    "            specialOP.append(bc)\n",
    "            special = True\n",
    "        elif yp.max() < 4 and abs(bp.price) < 150:\n",
    "            specialOP.append(bp)\n",
    "            special = True\n",
    "        elif abs(yc.max() - yp.max()) < 5:\n",
    "            return TX, x, [0 for _ in range(len(x))], []\n",
    "        if special:\n",
    "            ySP = np.sum([op.optionsProfit(x) for op in specialOP], axis=0)\n",
    "            if ySP.max() < 0:\n",
    "                return TX, x, [0 for _ in range(len(x))], []\n",
    "            print(specialOP)\n",
    "            # print(x, ySP)\n",
    "            return TX, x, ySP, specialOP\n",
    "        if y.max() < 0:\n",
    "                return TX, x, [0 for _ in range(len(x))], []\n",
    "        return TX, x, y, totalOtions\n",
    "    # except Exception as e:\n",
    "    #     print(e)\n",
    "        # return None"
   ]
  },
  {
   "cell_type": "markdown",
   "metadata": {},
   "source": [
    "# strategy2\n",
    "> ### 策略\n",
    ">> 利用購買日的前七天平均變動，和標準差判斷：<br/><br/>\n",
    ">> 如果**前七天平均變動**大於**所有資料的平均變動**且**前七天變動標準差**大於**所有資料的變動標準差**，則買入**Long Strangle @區間50**<br/><br/>\n",
    ">> 假如都不是上面的條件且最大收益不為負，則買入**Iron Condor**區間50"
   ]
  },
  {
   "cell_type": "code",
   "execution_count": 21,
   "metadata": {},
   "outputs": [],
   "source": [
    "def strategy2(dftt):# strategy\n",
    "        global taiexDiff\n",
    "    # try:\n",
    "        TAIEX_VALUE = float(dftt['ClosePrice'])\n",
    "        TAIEX_VALUE_BOTTOM = int(TAIEX_VALUE - (TAIEX_VALUE % 50))\n",
    "        TAIEX_VALUE_TOP = TAIEX_VALUE_BOTTOM + 50\n",
    "\n",
    "        TX = float(dftt['TX/MTX'])\n",
    "        \n",
    "\n",
    "        DATE = dftt['Date']\n",
    "        year = f'{DATE:%Y}'\n",
    "        month = f'{DATE:%m}'\n",
    "        day = f'{DATE:%d}'\n",
    "        \n",
    "        print(f'{year}/{month}/{day}')\n",
    "#         date = f'{year}-{month}-{day}'\n",
    "        trainTaiexDiff = taiexDiff[:DATE]\n",
    "        trainTaiexDiffPass7_mean = trainTaiexDiff[DATE-datetime.timedelta(days= 7):DATE-datetime.timedelta(days= 1):].abs().mean()\n",
    "        trainTaiexDiffPass7_std = trainTaiexDiff[DATE-datetime.timedelta(days= 7):DATE-datetime.timedelta(days= 1):].abs().std()\n",
    "        \n",
    "        # Time Series\n",
    "#         pred = timeSeries(date)\n",
    "        \n",
    "        optionsDF = optionsDF_fun(f'{year}{month}{day}', TAIEX_VALUE)\n",
    "    \n",
    "        SPREAD = 50\n",
    "        x = np.arange(TAIEX_VALUE_BOTTOM-(200+SPREAD), TAIEX_VALUE_TOP+(200+SPREAD), 50)\n",
    "        y = [0 for _ in range(len(x))]\n",
    "        yc = [0 for _ in range(len(x))]\n",
    "        yp = [0 for _ in range(len(x))]\n",
    "\n",
    "        totalOtions = []\n",
    "        sc = options(TAIEX_VALUE_BOTTOM-(SPREAD-50), optionsDF, \"call\", \"sell\")\n",
    "        bc = options(sc.strikePrice-50, optionsDF, \"call\", \"buy\")\n",
    "    \n",
    "        sp = options(TAIEX_VALUE_TOP+(SPREAD-50), optionsDF, \"put\", \"sell\")\n",
    "        bp =options(sp.strikePrice+50, optionsDF, \"put\", \"buy\")\n",
    "\n",
    "        totalOtions.append(sc)\n",
    "        totalOtions.append(bc)\n",
    "        totalOtions.append(sp)\n",
    "        totalOtions.append(bp)\n",
    "        \n",
    "        for op in totalOtions:\n",
    "            if op.PutCall == \"call\":\n",
    "                yc = np.add(yc, op.optionsProfit(x))\n",
    "            else:\n",
    "                yp = np.add(yp, op.optionsProfit(x))\n",
    "            y = np.add(y, op.optionsProfit(x))\n",
    "\n",
    "        # y = np.sum([op.optionsProfit(x) for op in totalOtions], axis=0)\n",
    "        # print(f'yc = {yc.max()}\\nyp = {yp.max()}')\n",
    "        # or abs(yc.max() - yp.max()) < 5\n",
    "        \n",
    "        special = False\n",
    "        ySP = [0 for _ in range(len(x))]\n",
    "        specialOP = []\n",
    "        \n",
    "        if trainTaiexDiffPass7_mean > taiexDiff_MEAN and trainTaiexDiffPass7_std > taiexDiff_STD:\n",
    "            specialOP.append(options(TAIEX_VALUE_BOTTOM, optionsDF, \"call\", \"buy\"))\n",
    "            specialOP.append(options(TAIEX_VALUE_TOP, optionsDF, \"put\", \"buy\"))\n",
    "            special = True\n",
    "        if special:\n",
    "            ySP = np.sum([op.optionsProfit(x) for op in specialOP], axis=0)\n",
    "            if ySP.max() < 0:\n",
    "                return TX, x, [0 for _ in range(len(x))], []\n",
    "            print(specialOP)\n",
    "            # print(x, ySP)\n",
    "            return TX, x, ySP, specialOP\n",
    "        if y.max() < 0:\n",
    "                return TX, x, [0 for _ in range(len(x))], []\n",
    "        return TX, x, y, totalOtions\n",
    "    # except Exception as e:\n",
    "    #     print(e)\n",
    "        # return None"
   ]
  },
  {
   "cell_type": "markdown",
   "metadata": {},
   "source": [
    "# strategy3\n",
    "> ### 策略\n",
    ">> 利用時間序列預測購買日兩天後的價格變動：<br/><br/>\n",
    ">> 如果**預測結果**大於**所有資料的平均變動**，則買入**Buy Call @ TAIEX_VALUE_BOTTOM**<br/><br/>\n",
    ">> 如果**預測結果**小於**負的所有資料的平均變動**，則買入**Sell Call @ TAIEX_VALUE_TOP**<br/><br/>\n",
    ">> 假如都不是上面的條件且最大收益不為負，則買入**Iron Condor**區間50"
   ]
  },
  {
   "cell_type": "code",
   "execution_count": 22,
   "metadata": {},
   "outputs": [],
   "source": [
    "def strategy3(dftt):# strategy\n",
    "    # try:\n",
    "        TAIEX_VALUE = float(dftt['ClosePrice'])\n",
    "        TAIEX_VALUE_BOTTOM = int(TAIEX_VALUE - (TAIEX_VALUE % 50))\n",
    "        TAIEX_VALUE_TOP = TAIEX_VALUE_BOTTOM + 50\n",
    "\n",
    "        TX = float(dftt['TX/MTX'])\n",
    "        \n",
    "\n",
    "        DATE = dftt['Date']\n",
    "        year = f'{DATE:%Y}'\n",
    "        month = f'{DATE:%m}'\n",
    "        day = f'{DATE:%d}'\n",
    "        \n",
    "        print(f'{year}/{month}/{day}')\n",
    "        date = f'{year}-{month}-{day}'\n",
    "        \n",
    "        trainTaiexDiff = taiexDiff[:DATE]\n",
    "        trainTaiexDiffPass7_mean = trainTaiexDiff[DATE-datetime.timedelta(days= 7):DATE-datetime.timedelta(days= 1):].abs().mean()\n",
    "        trainTaiexDiffPass7_std = trainTaiexDiff[DATE-datetime.timedelta(days= 7):DATE-datetime.timedelta(days= 1):].abs().std()\n",
    "        \n",
    "        # Time Series\n",
    "        pred = timeSeries(DATE)\n",
    "#         pred_ci = pred.conf_int(alpha=0.25)\n",
    "        \n",
    "\n",
    "        optionsDF = optionsDF_fun(f'{year}{month}{day}', TAIEX_VALUE)\n",
    "        \n",
    "        SPREAD = 50\n",
    "        x = np.arange(TAIEX_VALUE_BOTTOM-(200+SPREAD), TAIEX_VALUE_TOP+(200+SPREAD), 50)\n",
    "        y = [0 for _ in range(len(x))]\n",
    "        yc = [0 for _ in range(len(x))]\n",
    "        yp = [0 for _ in range(len(x))]\n",
    "\n",
    "        totalOtions = []\n",
    "        sc = options(TAIEX_VALUE_BOTTOM-(SPREAD-50), optionsDF, \"call\", \"sell\")\n",
    "        bc = options(sc.strikePrice-50, optionsDF, \"call\", \"buy\")\n",
    "    \n",
    "        sp = options(TAIEX_VALUE_TOP+(SPREAD-50), optionsDF, \"put\", \"sell\")\n",
    "        bp =options(sp.strikePrice+50, optionsDF, \"put\", \"buy\")\n",
    "\n",
    "        totalOtions.append(sc)\n",
    "        totalOtions.append(bc)\n",
    "        totalOtions.append(sp)\n",
    "        totalOtions.append(bp)\n",
    "        \n",
    "        for op in totalOtions:\n",
    "            if op.PutCall == \"call\":\n",
    "                yc = np.add(yc, op.optionsProfit(x))\n",
    "            else:\n",
    "                yp = np.add(yp, op.optionsProfit(x))\n",
    "            y = np.add(y, op.optionsProfit(x))\n",
    "\n",
    "        # y = np.sum([op.optionsProfit(x) for op in totalOtions], axis=0)\n",
    "        # print(f'yc = {yc.max()}\\nyp = {yp.max()}')\n",
    "        # or abs(yc.max() - yp.max()) < 5\n",
    "        \n",
    "        special = False\n",
    "        ySP = [0 for _ in range(len(x))]\n",
    "        specialOP = []\n",
    "        if  pred.iloc[1] > taiexDiff_MEAN:\n",
    "            specialOP.append(bc)\n",
    "            special = True\n",
    "        elif pred.iloc[1] < -taiexDiff_MEAN:\n",
    "            specialOP.append(bp)\n",
    "            special = True\n",
    "#         else:\n",
    "#             return TX, x, y, totalOtions\n",
    "        if special:\n",
    "            ySP = np.sum([op.optionsProfit(x) for op in specialOP], axis=0)\n",
    "            if ySP.max() < 0:\n",
    "                return TX, x, [0 for _ in range(len(x))], []\n",
    "            print(specialOP)\n",
    "            # print(x, ySP)\n",
    "            return TX, x, ySP, specialOP\n",
    "        if y.max() < 0:\n",
    "                return TX, x, [0 for _ in range(len(x))], []\n",
    "        return TX, x, y, totalOtions\n",
    "    # except Exception as e:\n",
    "    #     print(e)\n",
    "        # return None"
   ]
  },
  {
   "cell_type": "markdown",
   "metadata": {},
   "source": [
    "# strategy4\n",
    "> ### 策略\n",
    ">> 利用時間序列預測購買日兩天後的價格變動：<br/><br/>\n",
    ">> 如果**前七天平均變動**大於**1.5倍所有資料的平均變動** ***且*** **前七天變動標準差**大於**1.5倍所有資料的變動標準差**，則買入**Long Strangle @區間50**<br/><br/>\n",
    ">> 如果**預測結果**大於**0** ***且*** **Buy Call @ TAIEX_VALUE_BOTTOM**最大損失不大於150***且*** **前七天平均變動**大於**所有資料的平均變動** ***且*** **前七天變動標準差**大於**所有資料的變動標準差**，則買入**Buy Call @ TAIEX_VALUE_BOTTOM**<br/><br/>\n",
    ">> 如果**預測結果**小於**0** ***且*** **Sell Call @ TAIEX_VALUE_TOP**最大損失不大於150***且*** **前七天平均變動**大於**所有資料的平均變動** ***且*** **前七天變動標準差**大於**所有資料的變動標準差**，則買入**Sell Call @ TAIEX_VALUE_TOP**<br/><br/>\n",
    ">> 假如都不是上面的條件且最大收益不為負，則買入**Iron Condor**區間50"
   ]
  },
  {
   "cell_type": "code",
   "execution_count": 23,
   "metadata": {},
   "outputs": [],
   "source": [
    "def strategy4(dftt):# strategy\n",
    "        global taiexDiff\n",
    "    # try:\n",
    "        TAIEX_VALUE = float(dftt['ClosePrice'])\n",
    "        TAIEX_VALUE_BOTTOM = int(TAIEX_VALUE - (TAIEX_VALUE % 50))\n",
    "        TAIEX_VALUE_TOP = TAIEX_VALUE_BOTTOM + 50\n",
    "\n",
    "        TX = float(dftt['TX/MTX'])\n",
    "        \n",
    "\n",
    "        DATE = dftt['Date']\n",
    "        year = f'{DATE:%Y}'\n",
    "        month = f'{DATE:%m}'\n",
    "        day = f'{DATE:%d}'\n",
    "        \n",
    "        print(f'{year}/{month}/{day}')\n",
    "        \n",
    "        trainTaiexDiff = taiexDiff[:DATE]\n",
    "        trainTaiexDiffPass7_mean = trainTaiexDiff[DATE-datetime.timedelta(days= 7):DATE-datetime.timedelta(days= 1):].abs().mean()\n",
    "        trainTaiexDiffPass7_std = trainTaiexDiff[DATE-datetime.timedelta(days= 7):DATE-datetime.timedelta(days= 1):].abs().std()\n",
    "        \n",
    "#         Time Series\n",
    "        pred = timeSeries(DATE)\n",
    "        \n",
    "\n",
    "        optionsDF = optionsDF_fun(f'{year}{month}{day}', TAIEX_VALUE)\n",
    "        \n",
    "        SPREAD = 50\n",
    "        x = np.arange(TAIEX_VALUE_BOTTOM-(200+SPREAD), TAIEX_VALUE_TOP+(200+SPREAD), 50)\n",
    "        y = [0 for _ in range(len(x))]\n",
    "        yc = [0 for _ in range(len(x))]\n",
    "        yp = [0 for _ in range(len(x))]\n",
    "\n",
    "        totalOtions = []\n",
    "        sc = options(TAIEX_VALUE_BOTTOM-(SPREAD-50), optionsDF, \"call\", \"sell\")\n",
    "        bc = options(sc.strikePrice-50, optionsDF, \"call\", \"buy\")\n",
    "    \n",
    "        sp = options(TAIEX_VALUE_TOP+(SPREAD-50), optionsDF, \"put\", \"sell\")\n",
    "        bp =options(sp.strikePrice+50, optionsDF, \"put\", \"buy\")\n",
    "\n",
    "        totalOtions.append(sc)\n",
    "        totalOtions.append(bc)\n",
    "        totalOtions.append(sp)\n",
    "        totalOtions.append(bp)\n",
    "        \n",
    "        for op in totalOtions:\n",
    "            if op.PutCall == \"call\":\n",
    "                yc = np.add(yc, op.optionsProfit(x))\n",
    "            else:\n",
    "                yp = np.add(yp, op.optionsProfit(x))\n",
    "            y = np.add(y, op.optionsProfit(x))\n",
    "\n",
    "        # y = np.sum([op.optionsProfit(x) for op in totalOtions], axis=0)\n",
    "        # print(f'yc = {yc.max()}\\nyp = {yp.max()}')\n",
    "        # or abs(yc.max() - yp.max()) < 5\n",
    "        \n",
    "        special = False\n",
    "        ySP = [0 for _ in range(len(x))]\n",
    "        specialOP = []\n",
    "#         \n",
    "        if trainTaiexDiffPass7_mean > 1.5*taiexDiff_MEAN or trainTaiexDiffPass7_std > 1.5*taiexDiff_STD:\n",
    "            specialOP.append(options(TAIEX_VALUE_BOTTOM, optionsDF, \"call\", \"buy\"))\n",
    "            specialOP.append(options(TAIEX_VALUE_TOP, optionsDF, \"put\", \"buy\"))\n",
    "            special = True\n",
    "        elif  pred.iloc[1] > 0 and abs(bc.price) < 150 and (trainTaiexDiffPass7_mean > taiexDiff_MEAN or\\\n",
    "                                                            trainTaiexDiffPass7_std > taiexDiff_STD):\n",
    "            specialOP.append(bc)\n",
    "            special = True\n",
    "        elif pred.iloc[1] < 0 and abs(bp.price) < 150 and (trainTaiexDiffPass7_mean > taiexDiff_MEAN or\\\n",
    "                                                            trainTaiexDiffPass7_std > taiexDiff_STD):\n",
    "            specialOP.append(bp)\n",
    "            special = True\n",
    "        if special:\n",
    "            ySP = np.sum([op.optionsProfit(x) for op in specialOP], axis=0)\n",
    "            if ySP.max() < 0:\n",
    "                return TX, x, [0 for _ in range(len(x))], []\n",
    "            print(specialOP)\n",
    "            # print(x, ySP)\n",
    "            return TX, x, ySP, specialOP\n",
    "        if y.max() < 0:\n",
    "                return TX, x, [0 for _ in range(len(x))], []\n",
    "        return TX, x, y, totalOtions\n",
    "    # except Exception as e:\n",
    "    #     print(e)\n",
    "        # return None"
   ]
  },
  {
   "cell_type": "markdown",
   "metadata": {},
   "source": [
    "#### 計算利用某策略的收益函數"
   ]
  },
  {
   "cell_type": "code",
   "execution_count": 24,
   "metadata": {},
   "outputs": [],
   "source": [
    "def WinLoss(dftt, f):\n",
    "    TX, x, y, _ = f(dftt)\n",
    "    return profit(TX, x, y)"
   ]
  },
  {
   "cell_type": "markdown",
   "metadata": {},
   "source": [
    "## 計算Date那天用strategy2策略的收益"
   ]
  },
  {
   "cell_type": "code",
   "execution_count": 25,
   "metadata": {
    "tags": []
   },
   "outputs": [
    {
     "output_type": "stream",
     "name": "stdout",
     "text": "Date                 2019-07-29 00:00:00\nClosePrice                       10885.7\nTX/MTX                             10814\nContractMonthWeek               201907W5\nName: 56, dtype: object\n2019/07/29\n"
    }
   ],
   "source": [
    "k = dftt['Date'] == f'{YEAR}-{MONTH:02}-{DAY:02}'\n",
    "print(dftt.loc[k].iloc[0])\n",
    "# WinLoss(dftt.loc[k].iloc[0])\n",
    "TX, x, y, totalOtions = strategy2(dftt.loc[k].iloc[0])\n",
    "p = profit(TX, x, y)"
   ]
  },
  {
   "cell_type": "markdown",
   "metadata": {},
   "source": [
    "## Date那天用strategy2策略的收益圖"
   ]
  },
  {
   "cell_type": "code",
   "execution_count": 26,
   "metadata": {
    "tags": []
   },
   "outputs": [
    {
     "output_type": "display_data",
     "data": {
      "image/svg+xml": "<svg class=\"main-svg\" xmlns=\"http://www.w3.org/2000/svg\" xmlns:xlink=\"http://www.w3.org/1999/xlink\" width=\"800\" height=\"500\" viewBox=\"0 0 800 500\"><rect x=\"0\" y=\"0\" width=\"800\" height=\"500\" style=\"fill: rgb(255, 255, 255); fill-opacity: 1;\"/><defs id=\"defs-0f3123\"><g class=\"clips\"><clipPath id=\"clip0f3123xyplot\" class=\"plotclip\"><rect width=\"516\" height=\"371\"/></clipPath><clipPath class=\"axesclip\" id=\"clip0f3123x\"><rect x=\"51\" y=\"0\" width=\"516\" height=\"500\"/></clipPath><clipPath class=\"axesclip\" id=\"clip0f3123y\"><rect x=\"0\" y=\"50\" width=\"800\" height=\"371\"/></clipPath><clipPath class=\"axesclip\" id=\"clip0f3123xy\"><rect x=\"51\" y=\"50\" width=\"516\" height=\"371\"/></clipPath></g><g class=\"gradients\"/></defs><g class=\"bglayer\"><rect class=\"bg\" x=\"49\" y=\"48\" width=\"520\" height=\"375\" style=\"fill: rgb(229, 236, 246); fill-opacity: 1; stroke-width: 0;\"/></g><g class=\"layer-below\"><g class=\"imagelayer\"/><g class=\"shapelayer\"/></g><g class=\"cartesianlayer\"><g class=\"subplot xy\"><g class=\"layer-subplot\"><g class=\"shapelayer\"/><g class=\"imagelayer\"/></g><g class=\"gridlayer\"><g class=\"x\"><path class=\"xgrid crisp\" transform=\"translate(102.6,0)\" d=\"M0,50v371\" style=\"stroke: rgb(255, 255, 255); stroke-opacity: 1; stroke-width: 1px;\"/><path class=\"xgrid crisp\" transform=\"translate(154.2,0)\" d=\"M0,50v371\" style=\"stroke: rgb(255, 255, 255); stroke-opacity: 1; stroke-width: 1px;\"/><path class=\"xgrid crisp\" transform=\"translate(205.8,0)\" d=\"M0,50v371\" style=\"stroke: rgb(255, 255, 255); stroke-opacity: 1; stroke-width: 1px;\"/><path class=\"xgrid crisp\" transform=\"translate(257.4,0)\" d=\"M0,50v371\" style=\"stroke: rgb(255, 255, 255); stroke-opacity: 1; stroke-width: 1px;\"/><path class=\"xgrid crisp\" transform=\"translate(309,0)\" d=\"M0,50v371\" style=\"stroke: rgb(255, 255, 255); stroke-opacity: 1; stroke-width: 1px;\"/><path class=\"xgrid crisp\" transform=\"translate(360.6,0)\" d=\"M0,50v371\" style=\"stroke: rgb(255, 255, 255); stroke-opacity: 1; stroke-width: 1px;\"/><path class=\"xgrid crisp\" transform=\"translate(412.2,0)\" d=\"M0,50v371\" style=\"stroke: rgb(255, 255, 255); stroke-opacity: 1; stroke-width: 1px;\"/><path class=\"xgrid crisp\" transform=\"translate(463.8,0)\" d=\"M0,50v371\" style=\"stroke: rgb(255, 255, 255); stroke-opacity: 1; stroke-width: 1px;\"/><path class=\"xgrid crisp\" transform=\"translate(515.4,0)\" d=\"M0,50v371\" style=\"stroke: rgb(255, 255, 255); stroke-opacity: 1; stroke-width: 1px;\"/></g><g class=\"y\"><path class=\"ygrid crisp\" transform=\"translate(0,356.23)\" d=\"M51,0h516\" style=\"stroke: rgb(255, 255, 255); stroke-opacity: 1; stroke-width: 1px;\"/><path class=\"ygrid crisp\" transform=\"translate(0,290.2)\" d=\"M51,0h516\" style=\"stroke: rgb(255, 255, 255); stroke-opacity: 1; stroke-width: 1px;\"/><path class=\"ygrid crisp\" transform=\"translate(0,158.14)\" d=\"M51,0h516\" style=\"stroke: rgb(255, 255, 255); stroke-opacity: 1; stroke-width: 1px;\"/><path class=\"ygrid crisp\" transform=\"translate(0,92.11)\" d=\"M51,0h516\" style=\"stroke: rgb(255, 255, 255); stroke-opacity: 1; stroke-width: 1px;\"/></g></g><g class=\"zerolinelayer\"><path class=\"yzl zl crisp\" transform=\"translate(0,224.17)\" d=\"M51,0h516\" style=\"stroke: rgb(255, 255, 255); stroke-opacity: 1; stroke-width: 2px;\"/></g><path class=\"xlines-below\"/><path class=\"ylines-below\"/><g class=\"overlines-below\"/><g class=\"xaxislayer-below\"/><g class=\"yaxislayer-below\"/><g class=\"overaxes-below\"/><g class=\"plot\" transform=\"translate(51, 50)\" clip-path=\"url('#clip0f3123xyplot')\"><g class=\"scatterlayer mlayer\"><g class=\"trace scatter trace60775e\" style=\"stroke-miterlimit: 2; opacity: 1;\"><g class=\"fills\"/><g class=\"errorbars\"/><g class=\"lines\"><path class=\"js-line\" d=\"M0,352.45L206.4,352.45L258,22.3L309.6,22.3L361.2,352.45L516,352.45\" style=\"vector-effect: non-scaling-stroke; fill: none; stroke: rgb(99, 110, 250); stroke-opacity: 1; stroke-width: 2px; opacity: 1;\"/></g><g class=\"points\"/><g class=\"text\"/></g><g class=\"trace scatter trace590114\" style=\"stroke-miterlimit: 2; opacity: 1;\"><g class=\"fills\"/><g class=\"errorbars\"/><g class=\"lines\"/><g class=\"points\"><path class=\"point\" transform=\"translate(294.87,22.3)\" d=\"M3,0A3,3 0 1,1 0,-3A3,3 0 0,1 3,0Z\" style=\"opacity: 1; stroke-width: 0px; fill: rgb(25, 211, 243); fill-opacity: 1;\"/></g><g class=\"text\"/></g><g class=\"trace scatter trace6bec77\" style=\"stroke-miterlimit: 2; opacity: 1;\"><g class=\"fills\"/><g class=\"errorbars\"/><g class=\"lines\"/><g class=\"points\"><path class=\"point\" transform=\"translate(220.85,260.01)\" d=\"M3,0A3,3 0 1,1 0,-3A3,3 0 0,1 3,0Z\" style=\"opacity: 1; stroke-width: 0px; fill: rgb(255, 102, 146); fill-opacity: 1;\"/></g><g class=\"text\"/></g></g></g><g class=\"overplot\"/><path class=\"xlines-above crisp\" d=\"M0,0\" style=\"fill: none;\"/><path class=\"ylines-above crisp\" d=\"M0,0\" style=\"fill: none;\"/><g class=\"overlines-above\"/><g class=\"xaxislayer-above\"><g class=\"xtick\"><text text-anchor=\"start\" x=\"0\" y=\"436\" transform=\"translate(51,0) rotate(30,0,430)\" style=\"font-family: 'Courier New', monospace; font-size: 12px; fill: rgb(127, 127, 127); fill-opacity: 1; white-space: pre;\">10600.0</text></g><g class=\"xtick\"><text text-anchor=\"start\" x=\"0\" y=\"436\" transform=\"translate(102.6,0) rotate(30,0,430)\" style=\"font-family: 'Courier New', monospace; font-size: 12px; fill: rgb(127, 127, 127); fill-opacity: 1; white-space: pre;\">10650.0</text></g><g class=\"xtick\"><text text-anchor=\"start\" x=\"0\" y=\"436\" transform=\"translate(154.2,0) rotate(30,0,430)\" style=\"font-family: 'Courier New', monospace; font-size: 12px; fill: rgb(127, 127, 127); fill-opacity: 1; white-space: pre;\">10700.0</text></g><g class=\"xtick\"><text text-anchor=\"start\" x=\"0\" y=\"436\" transform=\"translate(205.8,0) rotate(30,0,430)\" style=\"font-family: 'Courier New', monospace; font-size: 12px; fill: rgb(127, 127, 127); fill-opacity: 1; white-space: pre;\">10750.0</text></g><g class=\"xtick\"><text text-anchor=\"start\" x=\"0\" y=\"436\" transform=\"translate(257.4,0) rotate(30,0,430)\" style=\"font-family: 'Courier New', monospace; font-size: 12px; fill: rgb(127, 127, 127); fill-opacity: 1; white-space: pre;\">10800.0</text></g><g class=\"xtick\"><text text-anchor=\"start\" x=\"0\" y=\"436\" transform=\"translate(309,0) rotate(30,0,430)\" style=\"font-family: 'Courier New', monospace; font-size: 12px; fill: rgb(127, 127, 127); fill-opacity: 1; white-space: pre;\">10850.0</text></g><g class=\"xtick\"><text text-anchor=\"start\" x=\"0\" y=\"436\" transform=\"translate(360.6,0) rotate(30,0,430)\" style=\"font-family: 'Courier New', monospace; font-size: 12px; fill: rgb(127, 127, 127); fill-opacity: 1; white-space: pre;\">10900.0</text></g><g class=\"xtick\"><text text-anchor=\"start\" x=\"0\" y=\"436\" transform=\"translate(412.2,0) rotate(30,0,430)\" style=\"font-family: 'Courier New', monospace; font-size: 12px; fill: rgb(127, 127, 127); fill-opacity: 1; white-space: pre;\">10950.0</text></g><g class=\"xtick\"><text text-anchor=\"start\" x=\"0\" y=\"436\" transform=\"translate(463.8,0) rotate(30,0,430)\" style=\"font-family: 'Courier New', monospace; font-size: 12px; fill: rgb(127, 127, 127); fill-opacity: 1; white-space: pre;\">11000.0</text></g><g class=\"xtick\"><text text-anchor=\"start\" x=\"0\" y=\"436\" transform=\"translate(515.4,0) rotate(30,0,430)\" style=\"font-family: 'Courier New', monospace; font-size: 12px; fill: rgb(127, 127, 127); fill-opacity: 1; white-space: pre;\">11050.0</text></g><g class=\"xtick\"><text text-anchor=\"start\" x=\"0\" y=\"436\" transform=\"translate(567,0) rotate(30,0,430)\" style=\"font-family: 'Courier New', monospace; font-size: 12px; fill: rgb(127, 127, 127); fill-opacity: 1; white-space: pre;\">11100.0</text></g></g><g class=\"yaxislayer-above\"><g class=\"ytick\"><text text-anchor=\"end\" x=\"48\" y=\"4.199999999999999\" transform=\"translate(0,356.23)\" style=\"font-family: 'Courier New', monospace; font-size: 12px; fill: rgb(127, 127, 127); fill-opacity: 1; white-space: pre;\">−20.0</text></g><g class=\"ytick\"><text text-anchor=\"end\" x=\"48\" y=\"4.199999999999999\" transform=\"translate(0,290.2)\" style=\"font-family: 'Courier New', monospace; font-size: 12px; fill: rgb(127, 127, 127); fill-opacity: 1; white-space: pre;\">−10.0</text></g><g class=\"ytick\"><text text-anchor=\"end\" x=\"48\" y=\"4.199999999999999\" transform=\"translate(0,224.17)\" style=\"font-family: 'Courier New', monospace; font-size: 12px; fill: rgb(127, 127, 127); fill-opacity: 1; white-space: pre;\">0.0</text></g><g class=\"ytick\"><text text-anchor=\"end\" x=\"48\" y=\"4.199999999999999\" transform=\"translate(0,158.14)\" style=\"font-family: 'Courier New', monospace; font-size: 12px; fill: rgb(127, 127, 127); fill-opacity: 1; white-space: pre;\">10.0</text></g><g class=\"ytick\"><text text-anchor=\"end\" x=\"48\" y=\"4.199999999999999\" transform=\"translate(0,92.11)\" style=\"font-family: 'Courier New', monospace; font-size: 12px; fill: rgb(127, 127, 127); fill-opacity: 1; white-space: pre;\">20.0</text></g></g><g class=\"overaxes-above\"/></g></g><g class=\"polarlayer\"/><g class=\"ternarylayer\"/><g class=\"geolayer\"/><g class=\"funnelarealayer\"/><g class=\"pielayer\"/><g class=\"treemaplayer\"/><g class=\"sunburstlayer\"/><g class=\"glimages\"/><defs id=\"topdefs-0f3123\"><g class=\"clips\"/><clipPath id=\"legend0f3123\"><rect width=\"211\" height=\"143\" x=\"0\" y=\"0\"/></clipPath></defs><g class=\"layer-above\"><g class=\"imagelayer\"/><g class=\"shapelayer\"/></g><g class=\"infolayer\"><g class=\"legend\" pointer-events=\"all\" transform=\"translate(577.32, 50)\"><rect class=\"bg\" shape-rendering=\"crispEdges\" style=\"stroke: rgb(68, 68, 68); stroke-opacity: 1; fill: rgb(255, 255, 255); fill-opacity: 1; stroke-width: 0px;\" width=\"211\" height=\"143\" x=\"0\" y=\"0\"/><g class=\"scrollbox\" transform=\"translate(0, 0)\" clip-path=\"url('#legend0f3123')\"><g class=\"groups\"><g class=\"traces\" transform=\"translate(0, 14.5)\" style=\"opacity: 1;\"><text class=\"legendtext user-select-none\" text-anchor=\"start\" x=\"40\" y=\"4.680000000000001\" style=\"font-family: 'Courier New', monospace; font-size: 12px; fill: rgb(127, 127, 127); fill-opacity: 1; white-space: pre;\">Profit</text><g class=\"layers\" style=\"opacity: 1;\"><g class=\"legendfill\"/><g class=\"legendlines\"><path class=\"js-line\" d=\"M5,0h30\" style=\"fill: none; stroke: rgb(99, 110, 250); stroke-opacity: 1; stroke-width: 2px;\"/></g><g class=\"legendsymbols\"><g class=\"legendpoints\"/></g></g><rect class=\"legendtoggle\" pointer-events=\"all\" x=\"0\" y=\"-9.5\" width=\"205.625\" height=\"19\" style=\"cursor: pointer; fill: rgb(0, 0, 0); fill-opacity: 0;\"/></g><g class=\"traces\" transform=\"translate(0, 33.5)\" style=\"opacity: 0.5;\"><text class=\"legendtext user-select-none\" text-anchor=\"start\" x=\"40\" y=\"4.680000000000001\" style=\"font-family: 'Courier New', monospace; font-size: 12px; fill: rgb(127, 127, 127); fill-opacity: 1; white-space: pre;\">sellcall@10850</text><g class=\"layers\" style=\"opacity: 0.4;\"><g class=\"legendfill\"/><g class=\"legendlines\"><path class=\"js-line\" d=\"M5,0h30\" style=\"fill: none; stroke: rgb(239, 85, 59); stroke-opacity: 1; stroke-width: 2px;\"/></g><g class=\"legendsymbols\"><g class=\"legendpoints\"/></g></g><rect class=\"legendtoggle\" pointer-events=\"all\" x=\"0\" y=\"-9.5\" width=\"205.625\" height=\"19\" style=\"cursor: pointer; fill: rgb(0, 0, 0); fill-opacity: 0;\"/></g><g class=\"traces\" transform=\"translate(0, 52.5)\" style=\"opacity: 0.5;\"><text class=\"legendtext user-select-none\" text-anchor=\"start\" x=\"40\" y=\"4.680000000000001\" style=\"font-family: 'Courier New', monospace; font-size: 12px; fill: rgb(127, 127, 127); fill-opacity: 1; white-space: pre;\">buycall@10800</text><g class=\"layers\" style=\"opacity: 0.4;\"><g class=\"legendfill\"/><g class=\"legendlines\"><path class=\"js-line\" d=\"M5,0h30\" style=\"fill: none; stroke: rgb(0, 204, 150); stroke-opacity: 1; stroke-width: 2px;\"/></g><g class=\"legendsymbols\"><g class=\"legendpoints\"/></g></g><rect class=\"legendtoggle\" pointer-events=\"all\" x=\"0\" y=\"-9.5\" width=\"205.625\" height=\"19\" style=\"cursor: pointer; fill: rgb(0, 0, 0); fill-opacity: 0;\"/></g><g class=\"traces\" transform=\"translate(0, 71.5)\" style=\"opacity: 0.5;\"><text class=\"legendtext user-select-none\" text-anchor=\"start\" x=\"40\" y=\"4.680000000000001\" style=\"font-family: 'Courier New', monospace; font-size: 12px; fill: rgb(127, 127, 127); fill-opacity: 1; white-space: pre;\">sellput@10900</text><g class=\"layers\" style=\"opacity: 0.4;\"><g class=\"legendfill\"/><g class=\"legendlines\"><path class=\"js-line\" d=\"M5,0h30\" style=\"fill: none; stroke: rgb(171, 99, 250); stroke-opacity: 1; stroke-width: 2px;\"/></g><g class=\"legendsymbols\"><g class=\"legendpoints\"/></g></g><rect class=\"legendtoggle\" pointer-events=\"all\" x=\"0\" y=\"-9.5\" width=\"205.625\" height=\"19\" style=\"cursor: pointer; fill: rgb(0, 0, 0); fill-opacity: 0;\"/></g><g class=\"traces\" transform=\"translate(0, 90.5)\" style=\"opacity: 0.5;\"><text class=\"legendtext user-select-none\" text-anchor=\"start\" x=\"40\" y=\"4.680000000000001\" style=\"font-family: 'Courier New', monospace; font-size: 12px; fill: rgb(127, 127, 127); fill-opacity: 1; white-space: pre;\">buyput@10950</text><g class=\"layers\" style=\"opacity: 0.4;\"><g class=\"legendfill\"/><g class=\"legendlines\"><path class=\"js-line\" d=\"M5,0h30\" style=\"fill: none; stroke: rgb(255, 161, 90); stroke-opacity: 1; stroke-width: 2px;\"/></g><g class=\"legendsymbols\"><g class=\"legendpoints\"/></g></g><rect class=\"legendtoggle\" pointer-events=\"all\" x=\"0\" y=\"-9.5\" width=\"205.625\" height=\"19\" style=\"cursor: pointer; fill: rgb(0, 0, 0); fill-opacity: 0;\"/></g><g class=\"traces\" transform=\"translate(0, 109.5)\" style=\"opacity: 1;\"><text class=\"legendtext user-select-none\" text-anchor=\"start\" x=\"40\" y=\"4.680000000000001\" style=\"font-family: 'Courier New', monospace; font-size: 12px; fill: rgb(127, 127, 127); fill-opacity: 1; white-space: pre;\">Profit@TAIEX_VALUE=23.0</text><g class=\"layers\" style=\"opacity: 1;\"><g class=\"legendfill\"/><g class=\"legendlines\"/><g class=\"legendsymbols\"><g class=\"legendpoints\"><path class=\"scatterpts\" transform=\"translate(20,0)\" d=\"M3,0A3,3 0 1,1 0,-3A3,3 0 0,1 3,0Z\" style=\"opacity: 1; stroke-width: 0px; fill: rgb(25, 211, 243); fill-opacity: 1;\"/></g></g></g><rect class=\"legendtoggle\" pointer-events=\"all\" x=\"0\" y=\"-9.5\" width=\"205.625\" height=\"19\" style=\"cursor: pointer; fill: rgb(0, 0, 0); fill-opacity: 0;\"/></g><g class=\"traces\" transform=\"translate(0, 128.5)\" style=\"opacity: 1;\"><text class=\"legendtext user-select-none\" text-anchor=\"start\" x=\"40\" y=\"4.680000000000001\" style=\"font-family: 'Courier New', monospace; font-size: 12px; fill: rgb(127, 127, 127); fill-opacity: 1; white-space: pre;\">Profit@TX=-13.0</text><g class=\"layers\" style=\"opacity: 1;\"><g class=\"legendfill\"/><g class=\"legendlines\"/><g class=\"legendsymbols\"><g class=\"legendpoints\"><path class=\"scatterpts\" transform=\"translate(20,0)\" d=\"M3,0A3,3 0 1,1 0,-3A3,3 0 0,1 3,0Z\" style=\"opacity: 1; stroke-width: 0px; fill: rgb(255, 102, 146); fill-opacity: 1;\"/></g></g></g><rect class=\"legendtoggle\" pointer-events=\"all\" x=\"0\" y=\"-9.5\" width=\"205.625\" height=\"19\" style=\"cursor: pointer; fill: rgb(0, 0, 0); fill-opacity: 0;\"/></g></g></g><rect class=\"scrollbar\" rx=\"20\" ry=\"3\" width=\"0\" height=\"0\" style=\"fill: rgb(128, 139, 164); fill-opacity: 1;\" x=\"0\" y=\"0\"/></g><g class=\"g-gtitle\"><text class=\"gtitle\" x=\"40\" y=\"25\" text-anchor=\"start\" dy=\"0em\" style=\"font-family: 'Courier New', monospace; font-size: 17px; fill: rgb(127, 127, 127); opacity: 1; font-weight: normal; white-space: pre;\">Profit Graph Taiexs@10885.73  #2019-07-29</text></g><g class=\"g-xtitle\"><text class=\"xtitle\" x=\"309\" y=\"488.2306640625\" text-anchor=\"middle\" style=\"font-family: 'Courier New', monospace; font-size: 14px; fill: rgb(127, 127, 127); opacity: 1; font-weight: normal; white-space: pre;\">x Axis Title</text></g><g class=\"g-ytitle\"/></g></svg>"
     },
     "metadata": {}
    }
   ],
   "source": [
    "# x = np.arange(TAIEX_VALUE_BOTTOM-300, TAIEX_VALUE_TOP+200, 50)\n",
    "# y = [0 for _ in range(len(x))]\n",
    "\n",
    "# totalOtions = []\n",
    "\n",
    "# sc = options(TAIEX_VALUE_BOTTOM-50, optionsDF, \"call\", \"sell\")\n",
    "# bc = options(sc.strikePrice-50, optionsDF, \"call\", \"buy\")\n",
    "# sp = options(TAIEX_VALUE_TOP+50, optionsDF, \"put\", \"sell\")\n",
    "# bp =options(sp.strikePrice+50, optionsDF, \"put\", \"buy\")\n",
    "\n",
    "# totalOtions.append(sc)\n",
    "# totalOtions.append(bc)\n",
    "# totalOtions.append(sp)\n",
    "# totalOtions.append(bp)\n",
    "\n",
    "# y = np.sum([op.optionsProfit(x) for op in totalOtions], axis=0)\n",
    "\n",
    "\n",
    "\n",
    "fig = go.Figure()\n",
    "fig.add_trace(\n",
    "    go.Scatter(\n",
    "            x=x,\n",
    "            y=y,\n",
    "            name = f\"Profit\",\n",
    "            mode='lines'\n",
    "))\n",
    "\n",
    "for op in totalOtions:\n",
    "    fig.add_trace(op.optionsScatter(x))\n",
    "\n",
    "fig.add_trace(go.Scatter(\n",
    "    x=[TAIEX_VALUE],\n",
    "    y=[profit(TAIEX_VALUE, x, y)],\n",
    "    mode=\"markers\",\n",
    "    name = f\"Profit@TAIEX_VALUE={profit(TAIEX_VALUE, x, y)}\"\n",
    "    # hovertext=[\"Text A\"]\n",
    "))\n",
    "fig.add_trace(go.Scatter(\n",
    "    x=[dftt.loc[k].iloc[0]['TX/MTX']],\n",
    "    y=[p],\n",
    "    mode=\"markers\",\n",
    "    name = f\"Profit@TX={profit(dftt.loc[k].iloc[0]['TX/MTX'], x, y)}\"\n",
    "    # hovertext=[\"Text A\"]\n",
    "))\n",
    "\n",
    "fig.update_layout(\n",
    "    title=f\"Profit Graph Taiexs@{TAIEX_VALUE}  #{YEAR}-{MONTH:02}-{DAY:02}\",\n",
    "    xaxis_title=\"x Axis Title\",\n",
    "    yaxis_title=\"y Axis Title\",\n",
    "    font=dict(\n",
    "        family=\"Courier New, monospace\",\n",
    "        size=12,\n",
    "        color=\"#7f7f7f\"\n",
    "    ),\n",
    "    width=900,\n",
    "    height=500,\n",
    "    margin=dict(\n",
    "        l=20,\n",
    "        r=20,\n",
    "        b=20,\n",
    "        t=50,\n",
    "        pad=2\n",
    "    ),\n",
    "    xaxis = dict(\n",
    "        tickmode = 'linear',\n",
    "        # tick0 = 0.5,\n",
    "        dtick = 50,\n",
    "        tickformat='.1f'\n",
    "    ),\n",
    "    yaxis=plotly.graph_objects.layout.YAxis(\n",
    "        tickformat='.1f'\n",
    "    )\n",
    ")\n",
    "fig.show(renderer=\"svg\", width=800, height=500)"
   ]
  },
  {
   "cell_type": "markdown",
   "metadata": {},
   "source": [
    "# strategy1"
   ]
  },
  {
   "cell_type": "code",
   "execution_count": 27,
   "metadata": {
    "tags": []
   },
   "outputs": [
    {
     "output_type": "stream",
     "name": "stdout",
     "text": "2018/06/04\n2018/06/11\n2018/06/25\n2018/07/02\n2018/07/09\n2018/07/16\n2018/07/23\n[buyput@11050]\n2018/07/30\n2018/08/06\n[buyput@11150]\n2018/08/13\nsellcall@10650 NOT EXISTS!\nChange to sellcall@10600\n2018/08/20\n2018/08/27\n2018/09/03\n2018/09/10\n2018/09/17\n2018/10/01\n2018/10/09\n2018/10/15\n2018/10/22\n2018/10/29\n2018/11/05\n2018/11/12\n2018/11/19\n2018/11/26\n2018/12/03\nbuyput@10250 NOT EXISTS!\nChange to buyput@10300\n2018/12/10\n2018/12/17\n2018/12/24\n2019/01/07\n2019/01/14\n2019/01/21\n2019/01/28\n2019/02/11\n[buycall@9900]\n2019/02/18\n[buycall@10000]\n2019/02/25\n[buycall@10250]\n2019/03/04\n2019/03/11\n2019/03/18\n2019/03/25\n2019/04/01\n2019/04/08\n2019/04/15\n2019/04/22\n[buycall@10850]\n2019/04/30\n[buyput@11100]\n2019/05/06\n2019/05/13\n2019/05/20\n2019/05/27\n2019/06/03\n2019/06/10\n2019/06/17\n2019/06/24\n2019/07/01\n[buyput@11000]\n2019/07/08\n2019/07/15\n2019/07/22\n2019/07/29\n[buyput@11000]\n2019/08/05\n2019/08/12\n[buyput@10600]\n2019/08/19\n2019/08/26\n2019/09/02\n2019/09/09\n2019/09/16\n2019/09/23\n[buyput@11050]\n2019/10/07\n[buycall@10800]\n2019/10/14\n[buyput@11200]\n2019/10/21\n[buycall@11050]\n2019/10/28\n2019/11/04\n2019/11/11\n[buycall@11300]\n2019/11/18\n2019/11/25\n2019/12/02\n[buyput@11650]\n2019/12/09\n[buyput@11800]\n2019/12/16\n2019/12/23\n[buyput@12150]\n2019/12/31\n[buycall@11850]\n2020/01/06\n2020/01/13\n2020/02/03\n2020/02/10\n2020/02/17\n2020/02/24\n2020/03/02\n2020/03/09\nbuycall@10850 NOT EXISTS!\nChange to buycall@10800\n2020/03/16\nsellcall@9650 NOT EXISTS!\nChange to sellcall@9600\n2020/03/23\n2020/03/30\n2020/04/06\n2020/04/13\n2020/04/20\n2020/04/27\n2020/05/04\n2020/05/11\n2020/05/18\n2020/05/25\n2020/06/01\n2020/06/08\n2020/06/15\n2020/06/22\n[buycall@11450]\n"
    }
   ],
   "source": [
    "dftt[\"WinLoss1\"] = dftt.apply(lambda x: WinLoss(x, strategy), axis=1)"
   ]
  },
  {
   "cell_type": "code",
   "execution_count": 28,
   "metadata": {},
   "outputs": [
    {
     "output_type": "execute_result",
     "data": {
      "text/plain": "count    101.000000\nmean       4.386139\nstd       30.934760\nmin      -76.000000\n25%        0.000000\n50%        0.000000\n75%       11.000000\nmax      136.000000\nName: WinLoss1, dtype: float64"
     },
     "metadata": {},
     "execution_count": 28
    }
   ],
   "source": [
    "dftt[\"WinLoss1\"].describe()"
   ]
  },
  {
   "cell_type": "markdown",
   "metadata": {},
   "source": [
    "### 收益圖"
   ]
  },
  {
   "cell_type": "code",
   "execution_count": 29,
   "metadata": {},
   "outputs": [
    {
     "output_type": "display_data",
     "data": {
      "image/svg+xml": "<svg class=\"main-svg\" xmlns=\"http://www.w3.org/2000/svg\" xmlns:xlink=\"http://www.w3.org/1999/xlink\" width=\"900\" height=\"500\" viewBox=\"0 0 900 500\"><rect x=\"0\" y=\"0\" width=\"900\" height=\"500\" style=\"fill: rgb(255, 255, 255); fill-opacity: 1;\"/><defs id=\"defs-5ea4ce\"><g class=\"clips\"><clipPath id=\"clip5ea4cexyplot\" class=\"plotclip\"><rect width=\"740\" height=\"320\"/></clipPath><clipPath class=\"axesclip\" id=\"clip5ea4cex\"><rect x=\"80\" y=\"0\" width=\"740\" height=\"500\"/></clipPath><clipPath class=\"axesclip\" id=\"clip5ea4cey\"><rect x=\"0\" y=\"100\" width=\"900\" height=\"320\"/></clipPath><clipPath class=\"axesclip\" id=\"clip5ea4cexy\"><rect x=\"80\" y=\"100\" width=\"740\" height=\"320\"/></clipPath></g><g class=\"gradients\"/></defs><g class=\"bglayer\"><rect class=\"bg\" x=\"80\" y=\"100\" width=\"740\" height=\"320\" style=\"fill: rgb(229, 236, 246); fill-opacity: 1; stroke-width: 0;\"/></g><g class=\"layer-below\"><g class=\"imagelayer\"/><g class=\"shapelayer\"/></g><g class=\"cartesianlayer\"><g class=\"subplot xy\"><g class=\"layer-subplot\"><g class=\"shapelayer\"/><g class=\"imagelayer\"/></g><g class=\"gridlayer\"><g class=\"x\"><path class=\"xgrid crisp\" transform=\"translate(106.68,0)\" d=\"M0,100v320\" style=\"stroke: rgb(255, 255, 255); stroke-opacity: 1; stroke-width: 1px;\"/><path class=\"xgrid crisp\" transform=\"translate(197.57,0)\" d=\"M0,100v320\" style=\"stroke: rgb(255, 255, 255); stroke-opacity: 1; stroke-width: 1px;\"/><path class=\"xgrid crisp\" transform=\"translate(288.46000000000004,0)\" d=\"M0,100v320\" style=\"stroke: rgb(255, 255, 255); stroke-opacity: 1; stroke-width: 1px;\"/><path class=\"xgrid crisp\" transform=\"translate(377.38,0)\" d=\"M0,100v320\" style=\"stroke: rgb(255, 255, 255); stroke-opacity: 1; stroke-width: 1px;\"/><path class=\"xgrid crisp\" transform=\"translate(467.29,0)\" d=\"M0,100v320\" style=\"stroke: rgb(255, 255, 255); stroke-opacity: 1; stroke-width: 1px;\"/><path class=\"xgrid crisp\" transform=\"translate(558.1800000000001,0)\" d=\"M0,100v320\" style=\"stroke: rgb(255, 255, 255); stroke-opacity: 1; stroke-width: 1px;\"/><path class=\"xgrid crisp\" transform=\"translate(649.08,0)\" d=\"M0,100v320\" style=\"stroke: rgb(255, 255, 255); stroke-opacity: 1; stroke-width: 1px;\"/><path class=\"xgrid crisp\" transform=\"translate(738.99,0)\" d=\"M0,100v320\" style=\"stroke: rgb(255, 255, 255); stroke-opacity: 1; stroke-width: 1px;\"/></g><g class=\"y\"><path class=\"ygrid crisp\" transform=\"translate(0,368.68)\" d=\"M80,0h740\" style=\"stroke: rgb(255, 255, 255); stroke-opacity: 1; stroke-width: 1px;\"/><path class=\"ygrid crisp\" transform=\"translate(0,232.83)\" d=\"M80,0h740\" style=\"stroke: rgb(255, 255, 255); stroke-opacity: 1; stroke-width: 1px;\"/><path class=\"ygrid crisp\" transform=\"translate(0,164.91)\" d=\"M80,0h740\" style=\"stroke: rgb(255, 255, 255); stroke-opacity: 1; stroke-width: 1px;\"/></g></g><g class=\"zerolinelayer\"><path class=\"yzl zl crisp\" transform=\"translate(0,300.75)\" d=\"M80,0h740\" style=\"stroke: rgb(255, 255, 255); stroke-opacity: 1; stroke-width: 2px;\"/></g><path class=\"xlines-below\"/><path class=\"ylines-below\"/><g class=\"overlines-below\"/><g class=\"xaxislayer-below\"/><g class=\"yaxislayer-below\"/><g class=\"overaxes-below\"/><g class=\"plot\" transform=\"translate(80, 100)\" clip-path=\"url('#clip5ea4cexyplot')\"><g class=\"scatterlayer mlayer\"><g class=\"trace scatter trace9aecb4\" style=\"stroke-miterlimit: 2; opacity: 1;\"><g class=\"fills\"/><g class=\"errorbars\"/><g class=\"lines\"><path class=\"js-line\" d=\"M0,200.75L6.92,200.75L20.75,180.38L27.66,200.75L34.58,179.02L41.5,200.75L48.41,279.55L55.33,181.74L62.24,271.4L69.16,185.81L76.07,200.75L82.99,259.17L89.91,200.75L103.74,200.75L117.57,251.02L125.47,200.75L131.4,200.75L145.23,200.75L152.15,174.94L159.07,177.66L165.98,200.75L172.9,211.62L179.81,244.23L186.73,232L193.64,176.3L200.56,248.3L214.39,200.75L221.31,176.3L228.22,200.75L235.14,215.7L248.97,93.43L255.89,49.96L262.8,214.34L269.72,181.74L276.64,208.91L283.55,187.17L290.47,200.75L297.38,218.42L304.3,185.81L311.21,200.75L318.13,198.04L326.03,246.94L331.96,174.94L338.88,170.87L345.79,198.04L352.71,200.75L359.63,196.68L366.54,188.53L373.46,256.45L380.37,200.75L387.29,16L394.21,184.45L401.12,188.53L408.04,200.75L414.95,130.11L421.87,200.75L428.79,181.74L435.7,200.75L442.62,181.74L449.53,200.75L456.45,193.96L463.36,200.75L470.28,104.3L491.03,304L497.94,154.57L504.86,200.75L511.78,196.68L518.69,165.43L525.61,200.75L532.52,200.75L539.44,164.08L546.36,221.13L553.27,248.3L560.19,200.75L568.09,62.19L574.02,200.75L580.93,200.75L615.51,200.75L622.43,188.53L629.35,200.75L636.26,200.75L643.18,97.51L650.09,217.06L657.01,153.21L663.93,200.75L670.84,200.75L677.76,232L684.67,229.28L691.59,200.75L698.5,200.75L705.42,234.72L712.34,200.75L719.25,200.75L726.17,188.53L733.08,230.64L740,124.68\" style=\"vector-effect: non-scaling-stroke; fill: none; stroke: rgb(99, 110, 250); stroke-opacity: 1; stroke-width: 2px; opacity: 1;\"/></g><g class=\"points\"/><g class=\"text\"/></g></g></g><g class=\"overplot\"/><path class=\"xlines-above crisp\" d=\"M0,0\" style=\"fill: none;\"/><path class=\"ylines-above crisp\" d=\"M0,0\" style=\"fill: none;\"/><g class=\"overlines-above\"/><g class=\"xaxislayer-above\"><g class=\"xtick\"><text text-anchor=\"middle\" x=\"0\" y=\"433\" transform=\"translate(106.68,0)\" style=\"font-family: 'Courier New', monospace; font-size: 12px; fill: rgb(127, 127, 127); fill-opacity: 1; white-space: pre;\">2018-07-01</text></g><g class=\"xtick\"><text text-anchor=\"middle\" x=\"0\" y=\"433\" transform=\"translate(197.57,0)\" style=\"font-family: 'Courier New', monospace; font-size: 12px; fill: rgb(127, 127, 127); fill-opacity: 1; white-space: pre;\">2018-10-01</text></g><g class=\"xtick\"><text text-anchor=\"middle\" x=\"0\" y=\"433\" transform=\"translate(288.46000000000004,0)\" style=\"font-family: 'Courier New', monospace; font-size: 12px; fill: rgb(127, 127, 127); fill-opacity: 1; white-space: pre;\">2019-01-01</text></g><g class=\"xtick\"><text text-anchor=\"middle\" x=\"0\" y=\"433\" transform=\"translate(377.38,0)\" style=\"font-family: 'Courier New', monospace; font-size: 12px; fill: rgb(127, 127, 127); fill-opacity: 1; white-space: pre;\">2019-04-01</text></g><g class=\"xtick\"><text text-anchor=\"middle\" x=\"0\" y=\"433\" transform=\"translate(467.29,0)\" style=\"font-family: 'Courier New', monospace; font-size: 12px; fill: rgb(127, 127, 127); fill-opacity: 1; white-space: pre;\">2019-07-01</text></g><g class=\"xtick\"><text text-anchor=\"middle\" x=\"0\" y=\"433\" transform=\"translate(558.1800000000001,0)\" style=\"font-family: 'Courier New', monospace; font-size: 12px; fill: rgb(127, 127, 127); fill-opacity: 1; white-space: pre;\">2019-10-01</text></g><g class=\"xtick\"><text text-anchor=\"middle\" x=\"0\" y=\"433\" transform=\"translate(649.08,0)\" style=\"font-family: 'Courier New', monospace; font-size: 12px; fill: rgb(127, 127, 127); fill-opacity: 1; white-space: pre;\">2020-01-01</text></g><g class=\"xtick\"><text text-anchor=\"middle\" x=\"0\" y=\"433\" transform=\"translate(738.99,0)\" style=\"font-family: 'Courier New', monospace; font-size: 12px; fill: rgb(127, 127, 127); fill-opacity: 1; white-space: pre;\">2020-04-01</text></g></g><g class=\"yaxislayer-above\"><g class=\"ytick\"><text text-anchor=\"end\" x=\"79\" y=\"4.199999999999999\" transform=\"translate(0,368.68)\" style=\"font-family: 'Courier New', monospace; font-size: 12px; fill: rgb(127, 127, 127); fill-opacity: 1; white-space: pre;\">−50.00</text></g><g class=\"ytick\"><text text-anchor=\"end\" x=\"79\" y=\"4.199999999999999\" transform=\"translate(0,300.75)\" style=\"font-family: 'Courier New', monospace; font-size: 12px; fill: rgb(127, 127, 127); fill-opacity: 1; white-space: pre;\">0.00</text></g><g class=\"ytick\"><text text-anchor=\"end\" x=\"79\" y=\"4.199999999999999\" transform=\"translate(0,232.83)\" style=\"font-family: 'Courier New', monospace; font-size: 12px; fill: rgb(127, 127, 127); fill-opacity: 1; white-space: pre;\">50.00</text></g><g class=\"ytick\"><text text-anchor=\"end\" x=\"79\" y=\"4.199999999999999\" transform=\"translate(0,164.91)\" style=\"font-family: 'Courier New', monospace; font-size: 12px; fill: rgb(127, 127, 127); fill-opacity: 1; white-space: pre;\">100.00</text></g></g><g class=\"overaxes-above\"/></g></g><g class=\"polarlayer\"/><g class=\"ternarylayer\"/><g class=\"geolayer\"/><g class=\"funnelarealayer\"/><g class=\"pielayer\"/><g class=\"treemaplayer\"/><g class=\"sunburstlayer\"/><g class=\"glimages\"/><defs id=\"topdefs-5ea4ce\"><g class=\"clips\"/></defs><g class=\"layer-above\"><g class=\"imagelayer\"/><g class=\"shapelayer\"/></g><g class=\"infolayer\"><g class=\"g-gtitle\"><text class=\"gtitle\" x=\"45\" y=\"50\" text-anchor=\"start\" dy=\"0em\" style=\"font-family: 'Courier New', monospace; font-size: 17px; fill: rgb(127, 127, 127); opacity: 1; font-weight: normal; white-space: pre;\">Profit Plot</text></g><g class=\"g-xtitle\"/><g class=\"g-ytitle\"/></g></svg>"
     },
     "metadata": {}
    }
   ],
   "source": [
    "fig = go.Figure()\n",
    "\n",
    "fig.add_trace(\n",
    "    go.Scatter(\n",
    "            x=dftt[\"Date\"],\n",
    "            y=dftt[\"WinLoss1\"],\n",
    "            name = f\"Profit\",\n",
    "            mode='lines'\n",
    "        ))\n",
    "\n",
    "fig.update_layout(\n",
    "    title=f\"Profit Plot\",\n",
    "    xaxis_title=\"x Axis Title\",\n",
    "    yaxis_title=\"y Axis Title\",\n",
    "    font=dict(\n",
    "        family=\"Courier New, monospace\",\n",
    "        size=12,\n",
    "        color=\"#7f7f7f\"\n",
    "    ),\n",
    "    xaxis=plotly.graph_objects.layout.XAxis(\n",
    "        tickformat='%Y-%m-%d'\n",
    "    ),\n",
    "    yaxis=plotly.graph_objects.layout.YAxis(\n",
    "        tickformat='.2f'\n",
    "    )\n",
    ")\n",
    "fig.show(renderer=\"svg\", width=900, height=500)"
   ]
  },
  {
   "cell_type": "markdown",
   "metadata": {},
   "source": [
    "# strategy2"
   ]
  },
  {
   "cell_type": "code",
   "execution_count": 30,
   "metadata": {
    "tags": []
   },
   "outputs": [
    {
     "output_type": "stream",
     "name": "stdout",
     "text": "2018/06/04\n2018/06/11\n2018/06/25\n2018/07/02\n2018/07/09\n2018/07/16\n2018/07/23\n2018/07/30\n2018/08/06\n2018/08/13\nbuycall@10650 NOT EXISTS!\nChange to buycall@10600\n2018/08/20\n[buycall@10650, buyput@10700]\n2018/08/27\n2018/09/03\n2018/09/10\n2018/09/17\n2018/10/01\n2018/10/09\n2018/10/15\n[buycall@9900, buyput@9950]\n2018/10/22\n2018/10/29\n[buycall@9500, buyput@9550]\n2018/11/05\n[buycall@9850, buyput@9900]\n2018/11/12\n2018/11/19\n2018/11/26\n2018/12/03\n2018/12/10\n[buycall@9600, buyput@9650]\n2018/12/17\n2018/12/24\n2019/01/07\n2019/01/14\n[buycall@9700, buyput@9750]\n2019/01/21\n2019/01/28\n2019/02/11\n2019/02/18\n2019/02/25\n2019/03/04\n2019/03/11\n2019/03/18\n2019/03/25\n2019/04/01\n2019/04/08\n2019/04/15\n2019/04/22\n2019/04/30\n2019/05/06\n2019/05/13\n2019/05/20\n2019/05/27\n2019/06/03\n2019/06/10\n2019/06/17\n2019/06/24\n2019/07/01\n2019/07/08\n2019/07/15\n2019/07/22\n2019/07/29\n2019/08/05\n2019/08/12\n2019/08/19\n2019/08/26\n2019/09/02\n2019/09/09\n2019/09/16\n2019/09/23\n2019/10/07\n2019/10/14\n2019/10/21\n2019/10/28\n2019/11/04\n2019/11/11\n2019/11/18\n2019/11/25\n2019/12/02\n2019/12/09\n2019/12/16\n2019/12/23\n2019/12/31\n2020/01/06\n2020/01/13\n2020/02/03\n[buycall@11350, buyput@11400]\n2020/02/10\n2020/02/17\n2020/02/24\n2020/03/02\n2020/03/09\nsellcall@10950 NOT EXISTS!\nChange to sellcall@10900\n2020/03/16\nbuycall@9650 NOT EXISTS!\nChange to buycall@9600\nsellput@9750 NOT EXISTS!\nChange to sellput@9800\nbuyput@9750 NOT EXISTS!\nChange to buyput@9800\n2020/03/23\n2020/03/30\n2020/04/06\n2020/04/13\n2020/04/20\n2020/04/27\n[buycall@10550, buyput@10600]\n2020/05/04\n2020/05/11\n[buycall@11000, buyput@11050]\n2020/05/18\n2020/05/25\n2020/06/01\n2020/06/08\n2020/06/15\n2020/06/22\n[buycall@11550, buyput@11600]\n"
    }
   ],
   "source": [
    "dftt[\"WinLoss2\"] = dftt.apply(lambda x: WinLoss(x, strategy2), axis=1)"
   ]
  },
  {
   "cell_type": "code",
   "execution_count": 31,
   "metadata": {},
   "outputs": [
    {
     "output_type": "execute_result",
     "data": {
      "text/plain": "count    101.000000\nmean      -4.168317\nstd       27.070212\nmin     -124.000000\n25%      -19.500000\n50%       -5.000000\n75%       18.500000\nmax       44.000000\nName: WinLoss2, dtype: float64"
     },
     "metadata": {},
     "execution_count": 31
    }
   ],
   "source": [
    "dftt[\"WinLoss2\"].describe()"
   ]
  },
  {
   "cell_type": "markdown",
   "metadata": {},
   "source": [
    "### 收益圖"
   ]
  },
  {
   "cell_type": "code",
   "execution_count": 32,
   "metadata": {},
   "outputs": [
    {
     "output_type": "display_data",
     "data": {
      "image/svg+xml": "<svg class=\"main-svg\" xmlns=\"http://www.w3.org/2000/svg\" xmlns:xlink=\"http://www.w3.org/1999/xlink\" width=\"900\" height=\"500\" viewBox=\"0 0 900 500\"><rect x=\"0\" y=\"0\" width=\"900\" height=\"500\" style=\"fill: rgb(255, 255, 255); fill-opacity: 1;\"/><defs id=\"defs-a6afeb\"><g class=\"clips\"><clipPath id=\"clipa6afebxyplot\" class=\"plotclip\"><rect width=\"740\" height=\"320\"/></clipPath><clipPath class=\"axesclip\" id=\"clipa6afebx\"><rect x=\"80\" y=\"0\" width=\"740\" height=\"500\"/></clipPath><clipPath class=\"axesclip\" id=\"clipa6afeby\"><rect x=\"0\" y=\"100\" width=\"900\" height=\"320\"/></clipPath><clipPath class=\"axesclip\" id=\"clipa6afebxy\"><rect x=\"80\" y=\"100\" width=\"740\" height=\"320\"/></clipPath></g><g class=\"gradients\"/></defs><g class=\"bglayer\"><rect class=\"bg\" x=\"80\" y=\"100\" width=\"740\" height=\"320\" style=\"fill: rgb(229, 236, 246); fill-opacity: 1; stroke-width: 0;\"/></g><g class=\"layer-below\"><g class=\"imagelayer\"/><g class=\"shapelayer\"/></g><g class=\"cartesianlayer\"><g class=\"subplot xy\"><g class=\"layer-subplot\"><g class=\"shapelayer\"/><g class=\"imagelayer\"/></g><g class=\"gridlayer\"><g class=\"x\"><path class=\"xgrid crisp\" transform=\"translate(106.68,0)\" d=\"M0,100v320\" style=\"stroke: rgb(255, 255, 255); stroke-opacity: 1; stroke-width: 1px;\"/><path class=\"xgrid crisp\" transform=\"translate(197.57,0)\" d=\"M0,100v320\" style=\"stroke: rgb(255, 255, 255); stroke-opacity: 1; stroke-width: 1px;\"/><path class=\"xgrid crisp\" transform=\"translate(288.46000000000004,0)\" d=\"M0,100v320\" style=\"stroke: rgb(255, 255, 255); stroke-opacity: 1; stroke-width: 1px;\"/><path class=\"xgrid crisp\" transform=\"translate(377.38,0)\" d=\"M0,100v320\" style=\"stroke: rgb(255, 255, 255); stroke-opacity: 1; stroke-width: 1px;\"/><path class=\"xgrid crisp\" transform=\"translate(467.29,0)\" d=\"M0,100v320\" style=\"stroke: rgb(255, 255, 255); stroke-opacity: 1; stroke-width: 1px;\"/><path class=\"xgrid crisp\" transform=\"translate(558.1800000000001,0)\" d=\"M0,100v320\" style=\"stroke: rgb(255, 255, 255); stroke-opacity: 1; stroke-width: 1px;\"/><path class=\"xgrid crisp\" transform=\"translate(649.08,0)\" d=\"M0,100v320\" style=\"stroke: rgb(255, 255, 255); stroke-opacity: 1; stroke-width: 1px;\"/><path class=\"xgrid crisp\" transform=\"translate(738.99,0)\" d=\"M0,100v320\" style=\"stroke: rgb(255, 255, 255); stroke-opacity: 1; stroke-width: 1px;\"/></g><g class=\"y\"><path class=\"ygrid crisp\" transform=\"translate(0,362.86)\" d=\"M80,0h740\" style=\"stroke: rgb(255, 255, 255); stroke-opacity: 1; stroke-width: 1px;\"/><path class=\"ygrid crisp\" transform=\"translate(0,277.14)\" d=\"M80,0h740\" style=\"stroke: rgb(255, 255, 255); stroke-opacity: 1; stroke-width: 1px;\"/><path class=\"ygrid crisp\" transform=\"translate(0,105.71)\" d=\"M80,0h740\" style=\"stroke: rgb(255, 255, 255); stroke-opacity: 1; stroke-width: 1px;\"/></g></g><g class=\"zerolinelayer\"><path class=\"yzl zl crisp\" transform=\"translate(0,191.43)\" d=\"M80,0h740\" style=\"stroke: rgb(255, 255, 255); stroke-opacity: 1; stroke-width: 2px;\"/></g><path class=\"xlines-below\"/><path class=\"ylines-below\"/><g class=\"overlines-below\"/><g class=\"xaxislayer-below\"/><g class=\"yaxislayer-below\"/><g class=\"overaxes-below\"/><g class=\"plot\" transform=\"translate(80, 100)\" clip-path=\"url('#clipa6afebxyplot')\"><g class=\"scatterlayer mlayer\"><g class=\"trace scatter tracec2df50\" style=\"stroke-miterlimit: 2; opacity: 1;\"><g class=\"fills\"/><g class=\"errorbars\"/><g class=\"lines\"><path class=\"js-line\" d=\"M0,131.71L6.92,74.29L20.75,77.71L27.66,76.86L34.58,118.86L41.5,41.71L48.41,77.71L55.33,103.43L62.24,59.71L69.16,19.43L76.07,53.71L82.99,136L89.91,47.71L96.82,36.57L103.74,82.86L117.57,133.43L125.47,125.71L131.4,274.86L138.32,118.86L145.23,26.29L152.15,304L159.07,53.71L165.98,122.29L172.9,120.57L179.81,122.29L186.73,16L193.64,38.29L200.56,120.57L214.39,124L221.31,186.57L228.22,69.14L235.14,133.43L248.97,91.43L255.89,135.14L262.8,54.57L269.72,45.14L276.64,135.14L283.55,50.29L290.47,115.43L297.38,129.14L304.3,74.29L311.21,138.57L318.13,52L326.03,60.57L331.96,100L338.88,34.86L345.79,124.86L352.71,55.43L359.63,111.14L366.54,82.86L373.46,136L380.37,141.14L387.29,132.57L394.21,40L401.12,84.57L408.04,56.29L414.95,113.71L421.87,64L428.79,58.86L435.7,86.29L442.62,80.29L449.53,71.71L456.45,139.43L463.36,136L470.28,142L484.11,52L491.03,135.14L497.94,82L504.86,88.86L511.78,136.86L518.69,90.57L525.61,65.71L532.52,123.14L539.44,98.29L546.36,56.29L553.27,134.29L560.19,52L568.09,144.57L574.02,133.43L580.93,107.71L601.68,88L608.6,122.29L615.51,46.86L622.43,118.86L629.35,108.57L636.26,53.71L643.18,91.43L657.01,91.43L663.93,117.14L670.84,118.86L677.76,115.43L684.67,33.14L691.59,36.57L698.5,142.86L705.42,113.71L712.34,124L719.25,124L733.08,113.71L740,182.29\" style=\"vector-effect: non-scaling-stroke; fill: none; stroke: rgb(99, 110, 250); stroke-opacity: 1; stroke-width: 2px; opacity: 1;\"/></g><g class=\"points\"/><g class=\"text\"/></g></g></g><g class=\"overplot\"/><path class=\"xlines-above crisp\" d=\"M0,0\" style=\"fill: none;\"/><path class=\"ylines-above crisp\" d=\"M0,0\" style=\"fill: none;\"/><g class=\"overlines-above\"/><g class=\"xaxislayer-above\"><g class=\"xtick\"><text text-anchor=\"middle\" x=\"0\" y=\"433\" transform=\"translate(106.68,0)\" style=\"font-family: 'Courier New', monospace; font-size: 12px; fill: rgb(127, 127, 127); fill-opacity: 1; white-space: pre;\">2018-07-01</text></g><g class=\"xtick\"><text text-anchor=\"middle\" x=\"0\" y=\"433\" transform=\"translate(197.57,0)\" style=\"font-family: 'Courier New', monospace; font-size: 12px; fill: rgb(127, 127, 127); fill-opacity: 1; white-space: pre;\">2018-10-01</text></g><g class=\"xtick\"><text text-anchor=\"middle\" x=\"0\" y=\"433\" transform=\"translate(288.46000000000004,0)\" style=\"font-family: 'Courier New', monospace; font-size: 12px; fill: rgb(127, 127, 127); fill-opacity: 1; white-space: pre;\">2019-01-01</text></g><g class=\"xtick\"><text text-anchor=\"middle\" x=\"0\" y=\"433\" transform=\"translate(377.38,0)\" style=\"font-family: 'Courier New', monospace; font-size: 12px; fill: rgb(127, 127, 127); fill-opacity: 1; white-space: pre;\">2019-04-01</text></g><g class=\"xtick\"><text text-anchor=\"middle\" x=\"0\" y=\"433\" transform=\"translate(467.29,0)\" style=\"font-family: 'Courier New', monospace; font-size: 12px; fill: rgb(127, 127, 127); fill-opacity: 1; white-space: pre;\">2019-07-01</text></g><g class=\"xtick\"><text text-anchor=\"middle\" x=\"0\" y=\"433\" transform=\"translate(558.1800000000001,0)\" style=\"font-family: 'Courier New', monospace; font-size: 12px; fill: rgb(127, 127, 127); fill-opacity: 1; white-space: pre;\">2019-10-01</text></g><g class=\"xtick\"><text text-anchor=\"middle\" x=\"0\" y=\"433\" transform=\"translate(649.08,0)\" style=\"font-family: 'Courier New', monospace; font-size: 12px; fill: rgb(127, 127, 127); fill-opacity: 1; white-space: pre;\">2020-01-01</text></g><g class=\"xtick\"><text text-anchor=\"middle\" x=\"0\" y=\"433\" transform=\"translate(738.99,0)\" style=\"font-family: 'Courier New', monospace; font-size: 12px; fill: rgb(127, 127, 127); fill-opacity: 1; white-space: pre;\">2020-04-01</text></g></g><g class=\"yaxislayer-above\"><g class=\"ytick\"><text text-anchor=\"end\" x=\"79\" y=\"4.199999999999999\" transform=\"translate(0,362.86)\" style=\"font-family: 'Courier New', monospace; font-size: 12px; fill: rgb(127, 127, 127); fill-opacity: 1; white-space: pre;\">−100.00</text></g><g class=\"ytick\"><text text-anchor=\"end\" x=\"79\" y=\"4.199999999999999\" transform=\"translate(0,277.14)\" style=\"font-family: 'Courier New', monospace; font-size: 12px; fill: rgb(127, 127, 127); fill-opacity: 1; white-space: pre;\">−50.00</text></g><g class=\"ytick\"><text text-anchor=\"end\" x=\"79\" y=\"4.199999999999999\" transform=\"translate(0,191.43)\" style=\"font-family: 'Courier New', monospace; font-size: 12px; fill: rgb(127, 127, 127); fill-opacity: 1; white-space: pre;\">0.00</text></g><g class=\"ytick\"><text text-anchor=\"end\" x=\"79\" y=\"4.199999999999999\" transform=\"translate(0,105.71)\" style=\"font-family: 'Courier New', monospace; font-size: 12px; fill: rgb(127, 127, 127); fill-opacity: 1; white-space: pre;\">50.00</text></g></g><g class=\"overaxes-above\"/></g></g><g class=\"polarlayer\"/><g class=\"ternarylayer\"/><g class=\"geolayer\"/><g class=\"funnelarealayer\"/><g class=\"pielayer\"/><g class=\"treemaplayer\"/><g class=\"sunburstlayer\"/><g class=\"glimages\"/><defs id=\"topdefs-a6afeb\"><g class=\"clips\"/></defs><g class=\"layer-above\"><g class=\"imagelayer\"/><g class=\"shapelayer\"/></g><g class=\"infolayer\"><g class=\"g-gtitle\"><text class=\"gtitle\" x=\"45\" y=\"50\" text-anchor=\"start\" dy=\"0em\" style=\"font-family: 'Courier New', monospace; font-size: 17px; fill: rgb(127, 127, 127); opacity: 1; font-weight: normal; white-space: pre;\">Profit Plot</text></g><g class=\"g-xtitle\"/><g class=\"g-ytitle\"/></g></svg>"
     },
     "metadata": {}
    }
   ],
   "source": [
    "fig = go.Figure()\n",
    "\n",
    "fig.add_trace(\n",
    "    go.Scatter(\n",
    "            x=dftt[\"Date\"],\n",
    "            y=dftt[\"WinLoss2\"],\n",
    "            name = f\"Profit\",\n",
    "            mode='lines'\n",
    "        ))\n",
    "\n",
    "fig.update_layout(\n",
    "    title=f\"Profit Plot\",\n",
    "    xaxis_title=\"x Axis Title\",\n",
    "    yaxis_title=\"y Axis Title\",\n",
    "    font=dict(\n",
    "        family=\"Courier New, monospace\",\n",
    "        size=12,\n",
    "        color=\"#7f7f7f\"\n",
    "    ),\n",
    "    xaxis=plotly.graph_objects.layout.XAxis(\n",
    "        tickformat='%Y-%m-%d'\n",
    "    ),\n",
    "    yaxis=plotly.graph_objects.layout.YAxis(\n",
    "        tickformat='.2f'\n",
    "    )\n",
    ")\n",
    "fig.show(renderer=\"svg\", width=900, height=500)"
   ]
  },
  {
   "cell_type": "markdown",
   "metadata": {},
   "source": [
    "# strategy3"
   ]
  },
  {
   "cell_type": "code",
   "execution_count": 33,
   "metadata": {
    "tags": []
   },
   "outputs": [
    {
     "output_type": "stream",
     "name": "stdout",
     "text": "2018/06/04\n[buyput@11200]\n2018/06/11\n[buyput@11200]\n2018/06/25\n[buycall@10700]\n2018/07/02\n[buycall@10700]\n2018/07/09\n[buyput@10800]\n2018/07/16\n[buycall@10750]\n2018/07/23\n[buyput@11000]\n2018/07/30\n[buycall@10950]\n2018/08/06\n2018/08/13\nbuycall@10650 NOT EXISTS!\nChange to buycall@10600\n[buycall@10600]\n2018/08/20\n[buycall@10600]\n2018/08/27\n[buycall@10850]\n2018/09/03\n[buycall@10900]\n2018/09/10\n2018/09/17\n[buycall@10750]\n2018/10/01\n[buyput@11150]\n2018/10/09\n2018/10/15\n[buycall@9850]\n2018/10/22\n[buycall@9900]\n2018/10/29\n[buycall@9450]\n2018/11/05\n[buyput@9950]\n2018/11/12\n2018/11/19\n2018/11/26\n[buycall@9700]\n2018/12/03\n[buycall@10050]\n2018/12/10\n[buycall@9550]\n2018/12/17\n[buyput@9850]\n2018/12/24\n2019/01/07\n[buycall@9500]\n2019/01/14\n2019/01/21\n[buyput@9950]\n2019/01/28\n[buycall@9950]\n2019/02/11\n[buyput@10100]\n2019/02/18\n2019/02/25\n[buyput@10450]\n2019/03/04\n[buycall@10250]\n2019/03/11\n[buyput@10350]\n2019/03/18\n[buycall@10450]\n2019/03/25\n[buycall@10400]\n2019/04/01\n2019/04/08\n[buycall@10750]\n2019/04/15\n[buycall@10800]\n2019/04/22\n[buyput@11050]\n2019/04/30\n2019/05/06\n2019/05/13\n[buycall@10500]\n2019/05/20\n[buycall@10300]\n2019/05/27\n[buycall@10250]\n2019/06/03\n[buycall@10450]\n2019/06/10\n[buyput@10650]\n2019/06/17\n[buyput@10600]\n2019/06/24\n[buyput@10850]\n2019/07/01\n2019/07/08\n[buyput@10850]\n2019/07/15\n[buyput@10950]\n2019/07/22\n2019/07/29\n[buyput@10950]\n2019/08/05\n2019/08/12\n2019/08/19\n[buycall@10400]\n2019/08/26\n[buyput@10450]\n2019/09/02\n2019/09/09\n[buycall@10750]\n2019/09/16\n[buyput@10950]\n2019/09/23\n[buyput@11000]\n2019/10/07\n2019/10/14\n2019/10/21\n[buycall@11100]\n2019/10/28\n[buyput@11400]\n2019/11/04\n[buyput@11650]\n2019/11/11\n2019/11/18\n[buyput@11650]\n2019/11/25\n2019/12/02\n[buyput@11600]\n2019/12/09\n[buyput@11750]\n2019/12/16\n[buyput@12000]\n2019/12/23\n[buyput@12100]\n2019/12/31\n[buyput@12050]\n2020/01/06\n2020/01/13\n[buyput@12200]\n2020/02/03\n[buyput@11450]\n2020/02/10\n[buycall@11500]\n2020/02/17\n[buycall@11700]\n2020/02/24\n[buyput@11600]\n2020/03/02\n[buyput@11250]\n2020/03/09\nsellcall@10950 NOT EXISTS!\nChange to sellcall@10900\n[buyput@11050]\n2020/03/16\nbuycall@9650 NOT EXISTS!\nChange to buycall@9600\nsellput@9750 NOT EXISTS!\nChange to sellput@9800\n[buyput@9800]\n2020/03/23\n[buycall@8800]\n2020/03/30\n2020/04/06\n[buycall@9750]\n2020/04/13\n[buyput@10150]\n2020/04/20\n[buycall@10500]\n2020/04/27\n[buycall@10500]\n2020/05/04\n[buyput@10800]\n2020/05/11\n[buycall@10950]\n2020/05/18\n[buycall@10650]\n2020/05/25\n[buyput@10950]\n2020/06/01\n[buycall@11000]\n2020/06/08\n[buycall@11550]\n2020/06/15\n[buyput@11400]\n2020/06/22\n[buyput@11650]\n"
    }
   ],
   "source": [
    "dftt[\"WinLoss3\"] = dftt.apply(lambda x: WinLoss(x, strategy3), axis=1)"
   ]
  },
  {
   "cell_type": "code",
   "execution_count": 34,
   "metadata": {},
   "outputs": [
    {
     "output_type": "execute_result",
     "data": {
      "text/plain": "count    101.000000\nmean      -4.004950\nstd       79.203867\nmin     -202.000000\n25%      -62.000000\n50%       -5.000000\n75%       40.000000\nmax      187.000000\nName: WinLoss3, dtype: float64"
     },
     "metadata": {},
     "execution_count": 34
    }
   ],
   "source": [
    "dftt[\"WinLoss3\"].describe()"
   ]
  },
  {
   "cell_type": "markdown",
   "metadata": {},
   "source": [
    "### 收益圖"
   ]
  },
  {
   "cell_type": "code",
   "execution_count": 35,
   "metadata": {},
   "outputs": [
    {
     "output_type": "display_data",
     "data": {
      "image/svg+xml": "<svg class=\"main-svg\" xmlns=\"http://www.w3.org/2000/svg\" xmlns:xlink=\"http://www.w3.org/1999/xlink\" width=\"900\" height=\"500\" viewBox=\"0 0 900 500\"><rect x=\"0\" y=\"0\" width=\"900\" height=\"500\" style=\"fill: rgb(255, 255, 255); fill-opacity: 1;\"/><defs id=\"defs-512ec0\"><g class=\"clips\"><clipPath id=\"clip512ec0xyplot\" class=\"plotclip\"><rect width=\"740\" height=\"320\"/></clipPath><clipPath class=\"axesclip\" id=\"clip512ec0x\"><rect x=\"80\" y=\"0\" width=\"740\" height=\"500\"/></clipPath><clipPath class=\"axesclip\" id=\"clip512ec0y\"><rect x=\"0\" y=\"100\" width=\"900\" height=\"320\"/></clipPath><clipPath class=\"axesclip\" id=\"clip512ec0xy\"><rect x=\"80\" y=\"100\" width=\"740\" height=\"320\"/></clipPath></g><g class=\"gradients\"/></defs><g class=\"bglayer\"><rect class=\"bg\" x=\"80\" y=\"100\" width=\"740\" height=\"320\" style=\"fill: rgb(229, 236, 246); fill-opacity: 1; stroke-width: 0;\"/></g><g class=\"layer-below\"><g class=\"imagelayer\"/><g class=\"shapelayer\"/></g><g class=\"cartesianlayer\"><g class=\"subplot xy\"><g class=\"layer-subplot\"><g class=\"shapelayer\"/><g class=\"imagelayer\"/></g><g class=\"gridlayer\"><g class=\"x\"><path class=\"xgrid crisp\" transform=\"translate(106.68,0)\" d=\"M0,100v320\" style=\"stroke: rgb(255, 255, 255); stroke-opacity: 1; stroke-width: 1px;\"/><path class=\"xgrid crisp\" transform=\"translate(197.57,0)\" d=\"M0,100v320\" style=\"stroke: rgb(255, 255, 255); stroke-opacity: 1; stroke-width: 1px;\"/><path class=\"xgrid crisp\" transform=\"translate(288.46000000000004,0)\" d=\"M0,100v320\" style=\"stroke: rgb(255, 255, 255); stroke-opacity: 1; stroke-width: 1px;\"/><path class=\"xgrid crisp\" transform=\"translate(377.38,0)\" d=\"M0,100v320\" style=\"stroke: rgb(255, 255, 255); stroke-opacity: 1; stroke-width: 1px;\"/><path class=\"xgrid crisp\" transform=\"translate(467.29,0)\" d=\"M0,100v320\" style=\"stroke: rgb(255, 255, 255); stroke-opacity: 1; stroke-width: 1px;\"/><path class=\"xgrid crisp\" transform=\"translate(558.1800000000001,0)\" d=\"M0,100v320\" style=\"stroke: rgb(255, 255, 255); stroke-opacity: 1; stroke-width: 1px;\"/><path class=\"xgrid crisp\" transform=\"translate(649.08,0)\" d=\"M0,100v320\" style=\"stroke: rgb(255, 255, 255); stroke-opacity: 1; stroke-width: 1px;\"/><path class=\"xgrid crisp\" transform=\"translate(738.99,0)\" d=\"M0,100v320\" style=\"stroke: rgb(255, 255, 255); stroke-opacity: 1; stroke-width: 1px;\"/></g><g class=\"y\"><path class=\"ygrid crisp\" transform=\"translate(0,402.52)\" d=\"M80,0h740\" style=\"stroke: rgb(255, 255, 255); stroke-opacity: 1; stroke-width: 1px;\"/><path class=\"ygrid crisp\" transform=\"translate(0,365.5)\" d=\"M80,0h740\" style=\"stroke: rgb(255, 255, 255); stroke-opacity: 1; stroke-width: 1px;\"/><path class=\"ygrid crisp\" transform=\"translate(0,328.48)\" d=\"M80,0h740\" style=\"stroke: rgb(255, 255, 255); stroke-opacity: 1; stroke-width: 1px;\"/><path class=\"ygrid crisp\" transform=\"translate(0,291.47)\" d=\"M80,0h740\" style=\"stroke: rgb(255, 255, 255); stroke-opacity: 1; stroke-width: 1px;\"/><path class=\"ygrid crisp\" transform=\"translate(0,217.43)\" d=\"M80,0h740\" style=\"stroke: rgb(255, 255, 255); stroke-opacity: 1; stroke-width: 1px;\"/><path class=\"ygrid crisp\" transform=\"translate(0,180.41)\" d=\"M80,0h740\" style=\"stroke: rgb(255, 255, 255); stroke-opacity: 1; stroke-width: 1px;\"/><path class=\"ygrid crisp\" transform=\"translate(0,143.39)\" d=\"M80,0h740\" style=\"stroke: rgb(255, 255, 255); stroke-opacity: 1; stroke-width: 1px;\"/><path class=\"ygrid crisp\" transform=\"translate(0,106.38)\" d=\"M80,0h740\" style=\"stroke: rgb(255, 255, 255); stroke-opacity: 1; stroke-width: 1px;\"/></g></g><g class=\"zerolinelayer\"><path class=\"yzl zl crisp\" transform=\"translate(0,254.45)\" d=\"M80,0h740\" style=\"stroke: rgb(255, 255, 255); stroke-opacity: 1; stroke-width: 2px;\"/></g><path class=\"xlines-below\"/><path class=\"ylines-below\"/><g class=\"overlines-below\"/><g class=\"xaxislayer-below\"/><g class=\"yaxislayer-below\"/><g class=\"overaxes-below\"/><g class=\"plot\" transform=\"translate(80, 100)\" clip-path=\"url('#clip512ec0xyplot')\"><g class=\"scatterlayer mlayer\"><g class=\"trace scatter trace6f80e3\" style=\"stroke-miterlimit: 2; opacity: 1;\"><g class=\"fills\"/><g class=\"errorbars\"/><g class=\"lines\"><path class=\"js-line\" d=\"M0,232.19L6.92,191.47L20.75,195.17L27.66,184.8L34.58,134.46L41.5,147.04L48.41,201.09L55.33,103.36L62.24,140.75L69.16,180.36L76.07,89.3L82.99,50.06L89.91,139.64L96.82,130.76L103.74,130.76L117.57,25.62L125.47,169.25L131.4,117.43L138.32,233.67L145.23,28.59L152.15,211.46L159.07,138.16L165.98,167.77L172.9,107.06L179.81,235.89L186.73,51.54L193.64,157.41L200.56,167.03L214.39,59.68L221.31,157.78L228.22,135.94L235.14,207.01L248.97,213.68L255.89,173.33L262.8,158.89L269.72,161.85L276.64,238.11L283.55,124.83L290.47,112.25L297.38,170.74L304.3,114.47L311.21,69.31L318.13,173.7L326.03,141.12L331.96,158.15L338.88,178.88L345.79,132.24L352.71,204.05L359.63,199.61L366.54,211.46L373.46,206.27L380.37,84.11L387.29,172.22L394.21,218.12L401.12,145.56L408.04,139.27L414.95,118.91L421.87,142.6L428.79,140.38L435.7,135.2L442.62,232.93L449.53,145.93L456.45,199.61L463.36,215.16L470.28,104.1L484.11,137.42L491.03,173.33L497.94,132.98L504.86,194.43L511.78,235.15L518.69,154.08L525.61,175.92L532.52,168.14L539.44,137.42L546.36,168.51L553.27,200.35L560.19,157.41L568.09,200.35L574.02,172.59L580.93,122.61L601.68,266.24L608.6,31.55L615.51,182.58L622.43,116.69L629.35,247.73L643.18,96.7L650.09,73.75L657.01,148.52L663.93,55.98L670.84,254.4L677.76,235.15L684.67,61.16L691.59,247.73L698.5,228.48L705.42,94.48L712.34,236.63L719.25,16L726.17,98.92L733.08,304L740,236.63\" style=\"vector-effect: non-scaling-stroke; fill: none; stroke: rgb(99, 110, 250); stroke-opacity: 1; stroke-width: 2px; opacity: 1;\"/></g><g class=\"points\"/><g class=\"text\"/></g></g></g><g class=\"overplot\"/><path class=\"xlines-above crisp\" d=\"M0,0\" style=\"fill: none;\"/><path class=\"ylines-above crisp\" d=\"M0,0\" style=\"fill: none;\"/><g class=\"overlines-above\"/><g class=\"xaxislayer-above\"><g class=\"xtick\"><text text-anchor=\"middle\" x=\"0\" y=\"433\" transform=\"translate(106.68,0)\" style=\"font-family: 'Courier New', monospace; font-size: 12px; fill: rgb(127, 127, 127); fill-opacity: 1; white-space: pre;\">2018-07-01</text></g><g class=\"xtick\"><text text-anchor=\"middle\" x=\"0\" y=\"433\" transform=\"translate(197.57,0)\" style=\"font-family: 'Courier New', monospace; font-size: 12px; fill: rgb(127, 127, 127); fill-opacity: 1; white-space: pre;\">2018-10-01</text></g><g class=\"xtick\"><text text-anchor=\"middle\" x=\"0\" y=\"433\" transform=\"translate(288.46000000000004,0)\" style=\"font-family: 'Courier New', monospace; font-size: 12px; fill: rgb(127, 127, 127); fill-opacity: 1; white-space: pre;\">2019-01-01</text></g><g class=\"xtick\"><text text-anchor=\"middle\" x=\"0\" y=\"433\" transform=\"translate(377.38,0)\" style=\"font-family: 'Courier New', monospace; font-size: 12px; fill: rgb(127, 127, 127); fill-opacity: 1; white-space: pre;\">2019-04-01</text></g><g class=\"xtick\"><text text-anchor=\"middle\" x=\"0\" y=\"433\" transform=\"translate(467.29,0)\" style=\"font-family: 'Courier New', monospace; font-size: 12px; fill: rgb(127, 127, 127); fill-opacity: 1; white-space: pre;\">2019-07-01</text></g><g class=\"xtick\"><text text-anchor=\"middle\" x=\"0\" y=\"433\" transform=\"translate(558.1800000000001,0)\" style=\"font-family: 'Courier New', monospace; font-size: 12px; fill: rgb(127, 127, 127); fill-opacity: 1; white-space: pre;\">2019-10-01</text></g><g class=\"xtick\"><text text-anchor=\"middle\" x=\"0\" y=\"433\" transform=\"translate(649.08,0)\" style=\"font-family: 'Courier New', monospace; font-size: 12px; fill: rgb(127, 127, 127); fill-opacity: 1; white-space: pre;\">2020-01-01</text></g><g class=\"xtick\"><text text-anchor=\"middle\" x=\"0\" y=\"433\" transform=\"translate(738.99,0)\" style=\"font-family: 'Courier New', monospace; font-size: 12px; fill: rgb(127, 127, 127); fill-opacity: 1; white-space: pre;\">2020-04-01</text></g></g><g class=\"yaxislayer-above\"><g class=\"ytick\"><text text-anchor=\"end\" x=\"79\" y=\"4.199999999999999\" transform=\"translate(0,402.52)\" style=\"font-family: 'Courier New', monospace; font-size: 12px; fill: rgb(127, 127, 127); fill-opacity: 1; white-space: pre;\">−200.00</text></g><g class=\"ytick\"><text text-anchor=\"end\" x=\"79\" y=\"4.199999999999999\" transform=\"translate(0,365.5)\" style=\"font-family: 'Courier New', monospace; font-size: 12px; fill: rgb(127, 127, 127); fill-opacity: 1; white-space: pre;\">−150.00</text></g><g class=\"ytick\"><text text-anchor=\"end\" x=\"79\" y=\"4.199999999999999\" transform=\"translate(0,328.48)\" style=\"font-family: 'Courier New', monospace; font-size: 12px; fill: rgb(127, 127, 127); fill-opacity: 1; white-space: pre;\">−100.00</text></g><g class=\"ytick\"><text text-anchor=\"end\" x=\"79\" y=\"4.199999999999999\" transform=\"translate(0,291.47)\" style=\"font-family: 'Courier New', monospace; font-size: 12px; fill: rgb(127, 127, 127); fill-opacity: 1; white-space: pre;\">−50.00</text></g><g class=\"ytick\"><text text-anchor=\"end\" x=\"79\" y=\"4.199999999999999\" transform=\"translate(0,254.45)\" style=\"font-family: 'Courier New', monospace; font-size: 12px; fill: rgb(127, 127, 127); fill-opacity: 1; white-space: pre;\">0.00</text></g><g class=\"ytick\"><text text-anchor=\"end\" x=\"79\" y=\"4.199999999999999\" transform=\"translate(0,217.43)\" style=\"font-family: 'Courier New', monospace; font-size: 12px; fill: rgb(127, 127, 127); fill-opacity: 1; white-space: pre;\">50.00</text></g><g class=\"ytick\"><text text-anchor=\"end\" x=\"79\" y=\"4.199999999999999\" transform=\"translate(0,180.41)\" style=\"font-family: 'Courier New', monospace; font-size: 12px; fill: rgb(127, 127, 127); fill-opacity: 1; white-space: pre;\">100.00</text></g><g class=\"ytick\"><text text-anchor=\"end\" x=\"79\" y=\"4.199999999999999\" transform=\"translate(0,143.39)\" style=\"font-family: 'Courier New', monospace; font-size: 12px; fill: rgb(127, 127, 127); fill-opacity: 1; white-space: pre;\">150.00</text></g><g class=\"ytick\"><text text-anchor=\"end\" x=\"79\" y=\"4.199999999999999\" transform=\"translate(0,106.38)\" style=\"font-family: 'Courier New', monospace; font-size: 12px; fill: rgb(127, 127, 127); fill-opacity: 1; white-space: pre;\">200.00</text></g></g><g class=\"overaxes-above\"/></g></g><g class=\"polarlayer\"/><g class=\"ternarylayer\"/><g class=\"geolayer\"/><g class=\"funnelarealayer\"/><g class=\"pielayer\"/><g class=\"treemaplayer\"/><g class=\"sunburstlayer\"/><g class=\"glimages\"/><defs id=\"topdefs-512ec0\"><g class=\"clips\"/></defs><g class=\"layer-above\"><g class=\"imagelayer\"/><g class=\"shapelayer\"/></g><g class=\"infolayer\"><g class=\"g-gtitle\"><text class=\"gtitle\" x=\"45\" y=\"50\" text-anchor=\"start\" dy=\"0em\" style=\"font-family: 'Courier New', monospace; font-size: 17px; fill: rgb(127, 127, 127); opacity: 1; font-weight: normal; white-space: pre;\">Profit Plot</text></g><g class=\"g-xtitle\"/><g class=\"g-ytitle\"/></g></svg>"
     },
     "metadata": {}
    }
   ],
   "source": [
    "fig = go.Figure()\n",
    "\n",
    "fig.add_trace(\n",
    "    go.Scatter(\n",
    "            x=dftt[\"Date\"],\n",
    "            y=dftt[\"WinLoss3\"],\n",
    "            name = f\"Profit\",\n",
    "            mode='lines'\n",
    "        ))\n",
    "\n",
    "fig.update_layout(\n",
    "    title=f\"Profit Plot\",\n",
    "    xaxis_title=\"x Axis Title\",\n",
    "    yaxis_title=\"y Axis Title\",\n",
    "    font=dict(\n",
    "        family=\"Courier New, monospace\",\n",
    "        size=12,\n",
    "        color=\"#7f7f7f\"\n",
    "    ),\n",
    "    xaxis=plotly.graph_objects.layout.XAxis(\n",
    "        tickformat='%Y-%m-%d'\n",
    "    ),\n",
    "    yaxis=plotly.graph_objects.layout.YAxis(\n",
    "        tickformat='.2f'\n",
    "    )\n",
    ")\n",
    "fig.show(renderer=\"svg\", width=900, height=500)"
   ]
  },
  {
   "cell_type": "markdown",
   "metadata": {},
   "source": [
    "# strategy4"
   ]
  },
  {
   "cell_type": "code",
   "execution_count": 36,
   "metadata": {
    "tags": []
   },
   "outputs": [
    {
     "output_type": "stream",
     "name": "stdout",
     "text": "2018/06/04\n[buycall@11100, buyput@11150]\n2018/06/11\n[buycall@11100, buyput@11150]\n2018/06/25\n[buycall@10750, buyput@10800]\n2018/07/02\n[buycall@10750, buyput@10800]\n2018/07/09\n[buycall@10700, buyput@10750]\n2018/07/16\n[buycall@10800, buyput@10850]\n2018/07/23\n[buycall@10900, buyput@10950]\n2018/07/30\n[buycall@11000, buyput@11050]\n2018/08/06\n[buycall@11000, buyput@11050]\n2018/08/13\nbuycall@10650 NOT EXISTS!\nChange to buycall@10600\n[buycall@10700, buyput@10750]\n2018/08/20\n[buycall@10650, buyput@10700]\n2018/08/27\n[buycall@10900, buyput@10950]\n2018/09/03\n[buycall@10950, buyput@11000]\n2018/09/10\n[buycall@10700, buyput@10750]\n2018/09/17\n[buycall@10800, buyput@10850]\n2018/10/01\n[buycall@11050, buyput@11100]\n2018/10/09\n[buycall@10450, buyput@10500]\n2018/10/15\n[buycall@9900, buyput@9950]\n2018/10/22\n[buycall@9950, buyput@10000]\n2018/10/29\n[buycall@9500, buyput@9550]\n2018/11/05\n[buycall@9850, buyput@9900]\n2018/11/12\n[buycall@9800, buyput@9850]\n2018/11/19\n[buycall@9800, buyput@9850]\n2018/11/26\n[buycall@9750, buyput@9800]\n2018/12/03\n[buycall@10100, buyput@10150]\n2018/12/10\n[buycall@9600, buyput@9650]\n2018/12/17\n[buycall@9750, buyput@9800]\n2018/12/24\n[buycall@9600, buyput@9650]\n2019/01/07\n[buycall@9550, buyput@9600]\n2019/01/14\n[buycall@9700, buyput@9750]\n2019/01/21\n[buycall@9850, buyput@9900]\n2019/01/28\n[buycall@10000, buyput@10050]\n2019/02/11\n2019/02/18\n[buycall@10100, buyput@10150]\n2019/02/25\n[buycall@10350, buyput@10400]\n2019/03/04\n[buycall@10300, buyput@10350]\n2019/03/11\n[buycall@10250, buyput@10300]\n2019/03/18\n[buycall@10500, buyput@10550]\n2019/03/25\n[buycall@10450, buyput@10500]\n2019/04/01\n[buycall@10600, buyput@10650]\n2019/04/08\n[buycall@10800, buyput@10850]\n2019/04/15\n[buycall@10850, buyput@10900]\n2019/04/22\n[buycall@10950, buyput@11000]\n2019/04/30\n[buycall@10950, buyput@11000]\n2019/05/06\n[buycall@10850, buyput@10900]\n2019/05/13\n[buycall@10550, buyput@10600]\n2019/05/20\n[buycall@10350, buyput@10400]\n2019/05/27\n[buycall@10300, buyput@10350]\n2019/06/03\n[buycall@10500, buyput@10550]\n2019/06/10\n[buycall@10550, buyput@10600]\n2019/06/17\n[buycall@10500, buyput@10550]\n2019/06/24\n[buycall@10750, buyput@10800]\n2019/07/01\n[buycall@10850, buyput@10900]\n2019/07/08\n[buycall@10750, buyput@10800]\n2019/07/15\n[buycall@10850, buyput@10900]\n2019/07/22\n[buycall@10900, buyput@10950]\n2019/07/29\n[buycall@10850, buyput@10900]\n2019/08/05\n[buycall@10400, buyput@10450]\n2019/08/12\n[buycall@10450, buyput@10500]\n2019/08/19\n[buycall@10450, buyput@10500]\n2019/08/26\n[buycall@10350, buyput@10400]\n2019/09/02\n[buycall@10600, buyput@10650]\n2019/09/09\n[buycall@10800, buyput@10850]\n2019/09/16\n[buycall@10850, buyput@10900]\n2019/09/23\n[buycall@10900, buyput@10950]\n2019/10/07\n[buycall@10900, buyput@10950]\n2019/10/14\n[buycall@11050, buyput@11100]\n2019/10/21\n[buycall@11150, buyput@11200]\n2019/10/28\n[buycall@11300, buyput@11350]\n2019/11/04\n[buycall@11550, buyput@11600]\n2019/11/11\n[buycall@11400, buyput@11450]\n2019/11/18\n[buycall@11550, buyput@11600]\n2019/11/25\n[buycall@11550, buyput@11600]\n2019/12/02\n[buycall@11500, buyput@11550]\n2019/12/09\n[buycall@11650, buyput@11700]\n2019/12/16\n[buycall@11900, buyput@11950]\n2019/12/23\n[buycall@12000, buyput@12050]\n2019/12/31\n[buycall@11950, buyput@12000]\n2020/01/06\n[buycall@11950, buyput@12000]\n2020/01/13\n[buycall@12100, buyput@12150]\n2020/02/03\n[buycall@11350, buyput@11400]\n2020/02/10\n[buycall@11550, buyput@11600]\n2020/02/17\n[buycall@11750, buyput@11800]\n2020/02/24\n[buycall@11500, buyput@11550]\n2020/03/02\n[buycall@11150, buyput@11200]\n2020/03/09\nsellcall@10950 NOT EXISTS!\nChange to sellcall@10900\nbuycall@10950 NOT EXISTS!\nChange to buycall@10900\n2020/03/16\nbuycall@9650 NOT EXISTS!\nChange to buycall@9600\nsellput@9750 NOT EXISTS!\nChange to sellput@9800\nbuyput@9750 NOT EXISTS!\nChange to buyput@9800\n2020/03/23\n2020/03/30\n2020/04/06\n[buycall@9800, buyput@9850]\n2020/04/13\n[buycall@10050, buyput@10100]\n2020/04/20\n[buycall@10550, buyput@10600]\n2020/04/27\n[buycall@10550, buyput@10600]\n2020/05/04\n[buycall@10700, buyput@10750]\n2020/05/11\n[buycall@11000, buyput@11050]\n2020/05/18\n[buycall@10700, buyput@10750]\n2020/05/25\n[buycall@10850, buyput@10900]\n2020/06/01\n[buycall@11050, buyput@11100]\n2020/06/08\n[buycall@11600, buyput@11650]\n2020/06/15\n[buycall@11300, buyput@11350]\n2020/06/22\n[buycall@11550, buyput@11600]\n"
    }
   ],
   "source": [
    "dftt[\"WinLoss4\"] = dftt.apply(lambda x: WinLoss(x, strategy4), axis=1)"
   ]
  },
  {
   "cell_type": "code",
   "execution_count": 37,
   "metadata": {},
   "outputs": [
    {
     "output_type": "execute_result",
     "data": {
      "text/plain": "count    101.000000\nmean     -14.009901\nstd       59.131759\nmin     -168.000000\n25%      -52.000000\n50%      -28.000000\n75%       14.000000\nmax      184.000000\nName: WinLoss4, dtype: float64"
     },
     "metadata": {},
     "execution_count": 37
    }
   ],
   "source": [
    "dftt[\"WinLoss4\"].describe()"
   ]
  },
  {
   "cell_type": "markdown",
   "metadata": {},
   "source": [
    "### 收益圖"
   ]
  },
  {
   "cell_type": "code",
   "execution_count": 38,
   "metadata": {},
   "outputs": [
    {
     "output_type": "display_data",
     "data": {
      "image/svg+xml": "<svg class=\"main-svg\" xmlns=\"http://www.w3.org/2000/svg\" xmlns:xlink=\"http://www.w3.org/1999/xlink\" width=\"900\" height=\"500\" viewBox=\"0 0 900 500\"><rect x=\"0\" y=\"0\" width=\"900\" height=\"500\" style=\"fill: rgb(255, 255, 255); fill-opacity: 1;\"/><defs id=\"defs-bf7dc2\"><g class=\"clips\"><clipPath id=\"clipbf7dc2xyplot\" class=\"plotclip\"><rect width=\"740\" height=\"320\"/></clipPath><clipPath class=\"axesclip\" id=\"clipbf7dc2x\"><rect x=\"80\" y=\"0\" width=\"740\" height=\"500\"/></clipPath><clipPath class=\"axesclip\" id=\"clipbf7dc2y\"><rect x=\"0\" y=\"100\" width=\"900\" height=\"320\"/></clipPath><clipPath class=\"axesclip\" id=\"clipbf7dc2xy\"><rect x=\"80\" y=\"100\" width=\"740\" height=\"320\"/></clipPath></g><g class=\"gradients\"/></defs><g class=\"bglayer\"><rect class=\"bg\" x=\"80\" y=\"100\" width=\"740\" height=\"320\" style=\"fill: rgb(229, 236, 246); fill-opacity: 1; stroke-width: 0;\"/></g><g class=\"layer-below\"><g class=\"imagelayer\"/><g class=\"shapelayer\"/></g><g class=\"cartesianlayer\"><g class=\"subplot xy\"><g class=\"layer-subplot\"><g class=\"shapelayer\"/><g class=\"imagelayer\"/></g><g class=\"gridlayer\"><g class=\"x\"><path class=\"xgrid crisp\" transform=\"translate(106.68,0)\" d=\"M0,100v320\" style=\"stroke: rgb(255, 255, 255); stroke-opacity: 1; stroke-width: 1px;\"/><path class=\"xgrid crisp\" transform=\"translate(197.57,0)\" d=\"M0,100v320\" style=\"stroke: rgb(255, 255, 255); stroke-opacity: 1; stroke-width: 1px;\"/><path class=\"xgrid crisp\" transform=\"translate(288.46000000000004,0)\" d=\"M0,100v320\" style=\"stroke: rgb(255, 255, 255); stroke-opacity: 1; stroke-width: 1px;\"/><path class=\"xgrid crisp\" transform=\"translate(377.38,0)\" d=\"M0,100v320\" style=\"stroke: rgb(255, 255, 255); stroke-opacity: 1; stroke-width: 1px;\"/><path class=\"xgrid crisp\" transform=\"translate(467.29,0)\" d=\"M0,100v320\" style=\"stroke: rgb(255, 255, 255); stroke-opacity: 1; stroke-width: 1px;\"/><path class=\"xgrid crisp\" transform=\"translate(558.1800000000001,0)\" d=\"M0,100v320\" style=\"stroke: rgb(255, 255, 255); stroke-opacity: 1; stroke-width: 1px;\"/><path class=\"xgrid crisp\" transform=\"translate(649.08,0)\" d=\"M0,100v320\" style=\"stroke: rgb(255, 255, 255); stroke-opacity: 1; stroke-width: 1px;\"/><path class=\"xgrid crisp\" transform=\"translate(738.99,0)\" d=\"M0,100v320\" style=\"stroke: rgb(255, 255, 255); stroke-opacity: 1; stroke-width: 1px;\"/></g><g class=\"y\"><path class=\"ygrid crisp\" transform=\"translate(0,389.27)\" d=\"M80,0h740\" style=\"stroke: rgb(255, 255, 255); stroke-opacity: 1; stroke-width: 1px;\"/><path class=\"ygrid crisp\" transform=\"translate(0,348.36)\" d=\"M80,0h740\" style=\"stroke: rgb(255, 255, 255); stroke-opacity: 1; stroke-width: 1px;\"/><path class=\"ygrid crisp\" transform=\"translate(0,307.45)\" d=\"M80,0h740\" style=\"stroke: rgb(255, 255, 255); stroke-opacity: 1; stroke-width: 1px;\"/><path class=\"ygrid crisp\" transform=\"translate(0,225.64)\" d=\"M80,0h740\" style=\"stroke: rgb(255, 255, 255); stroke-opacity: 1; stroke-width: 1px;\"/><path class=\"ygrid crisp\" transform=\"translate(0,184.73000000000002)\" d=\"M80,0h740\" style=\"stroke: rgb(255, 255, 255); stroke-opacity: 1; stroke-width: 1px;\"/><path class=\"ygrid crisp\" transform=\"translate(0,143.82)\" d=\"M80,0h740\" style=\"stroke: rgb(255, 255, 255); stroke-opacity: 1; stroke-width: 1px;\"/><path class=\"ygrid crisp\" transform=\"translate(0,102.91)\" d=\"M80,0h740\" style=\"stroke: rgb(255, 255, 255); stroke-opacity: 1; stroke-width: 1px;\"/></g></g><g class=\"zerolinelayer\"><path class=\"yzl zl crisp\" transform=\"translate(0,266.55)\" d=\"M80,0h740\" style=\"stroke: rgb(255, 255, 255); stroke-opacity: 1; stroke-width: 2px;\"/></g><path class=\"xlines-below\"/><path class=\"ylines-below\"/><g class=\"overlines-below\"/><g class=\"xaxislayer-below\"/><g class=\"yaxislayer-below\"/><g class=\"overaxes-below\"/><g class=\"plot\" transform=\"translate(80, 100)\" clip-path=\"url('#clipbf7dc2xyplot')\"><g class=\"scatterlayer mlayer\"><g class=\"trace scatter trace5362f3\" style=\"stroke-miterlimit: 2; opacity: 1;\"><g class=\"fills\"/><g class=\"errorbars\"/><g class=\"lines\"><path class=\"js-line\" d=\"M0,181.68L6.92,215.64L20.75,214.82L27.66,213.59L34.58,195.18L41.5,220.55L48.41,200.91L55.33,189.45L62.24,205.41L69.16,243.45L76.07,148.55L82.99,119.09L89.91,218.5L96.82,232L103.74,196.82L117.57,56.5L125.47,16L131.4,254.09L138.32,110.91L145.23,135.45L152.15,268L159.07,235.27L165.98,198.45L172.9,177.18L179.81,76.55L186.73,130.55L193.64,238.55L200.56,143.64L214.39,126.45L221.31,211.95L228.22,206.64L235.14,158.77L248.97,166.55L255.89,122.77L262.8,204.59L269.72,218.91L276.64,158.77L283.55,215.64L290.47,193.55L297.38,155.09L304.3,206.64L311.21,121.95L318.13,212.36L326.03,200.09L331.96,218.09L338.88,251.64L345.79,181.68L352.71,214L359.63,195.59L366.54,196.82L373.46,47.09L380.37,137.91L387.29,117.45L394.21,225.45L401.12,192.73L408.04,206.23L414.95,176.36L421.87,226.27L428.79,209.09L435.7,200.91L442.62,225.05L456.45,164.09L463.36,163.27L470.28,157.14L484.11,205.82L491.03,167.77L497.94,191.5L504.86,185.77L511.78,167.77L518.69,199.68L525.61,203.36L532.52,176.77L539.44,188.64L546.36,202.95L553.27,79.82L560.19,208.27L568.09,114.18L574.02,130.95L580.93,184.95L601.68,164.91L608.6,109.27L615.51,229.55L622.43,214.82L629.35,164.91L636.26,166.55L657.01,166.55L663.93,137.09L670.84,142L677.76,86.36L684.67,138.73L691.59,304L698.5,191.09L705.42,175.55L712.34,150.18L719.25,83.91L726.17,207.45L733.08,174.73L740,209.91\" style=\"vector-effect: non-scaling-stroke; fill: none; stroke: rgb(99, 110, 250); stroke-opacity: 1; stroke-width: 2px; opacity: 1;\"/></g><g class=\"points\"/><g class=\"text\"/></g></g></g><g class=\"overplot\"/><path class=\"xlines-above crisp\" d=\"M0,0\" style=\"fill: none;\"/><path class=\"ylines-above crisp\" d=\"M0,0\" style=\"fill: none;\"/><g class=\"overlines-above\"/><g class=\"xaxislayer-above\"><g class=\"xtick\"><text text-anchor=\"middle\" x=\"0\" y=\"433\" transform=\"translate(106.68,0)\" style=\"font-family: 'Courier New', monospace; font-size: 12px; fill: rgb(127, 127, 127); fill-opacity: 1; white-space: pre;\">2018-07-01</text></g><g class=\"xtick\"><text text-anchor=\"middle\" x=\"0\" y=\"433\" transform=\"translate(197.57,0)\" style=\"font-family: 'Courier New', monospace; font-size: 12px; fill: rgb(127, 127, 127); fill-opacity: 1; white-space: pre;\">2018-10-01</text></g><g class=\"xtick\"><text text-anchor=\"middle\" x=\"0\" y=\"433\" transform=\"translate(288.46000000000004,0)\" style=\"font-family: 'Courier New', monospace; font-size: 12px; fill: rgb(127, 127, 127); fill-opacity: 1; white-space: pre;\">2019-01-01</text></g><g class=\"xtick\"><text text-anchor=\"middle\" x=\"0\" y=\"433\" transform=\"translate(377.38,0)\" style=\"font-family: 'Courier New', monospace; font-size: 12px; fill: rgb(127, 127, 127); fill-opacity: 1; white-space: pre;\">2019-04-01</text></g><g class=\"xtick\"><text text-anchor=\"middle\" x=\"0\" y=\"433\" transform=\"translate(467.29,0)\" style=\"font-family: 'Courier New', monospace; font-size: 12px; fill: rgb(127, 127, 127); fill-opacity: 1; white-space: pre;\">2019-07-01</text></g><g class=\"xtick\"><text text-anchor=\"middle\" x=\"0\" y=\"433\" transform=\"translate(558.1800000000001,0)\" style=\"font-family: 'Courier New', monospace; font-size: 12px; fill: rgb(127, 127, 127); fill-opacity: 1; white-space: pre;\">2019-10-01</text></g><g class=\"xtick\"><text text-anchor=\"middle\" x=\"0\" y=\"433\" transform=\"translate(649.08,0)\" style=\"font-family: 'Courier New', monospace; font-size: 12px; fill: rgb(127, 127, 127); fill-opacity: 1; white-space: pre;\">2020-01-01</text></g><g class=\"xtick\"><text text-anchor=\"middle\" x=\"0\" y=\"433\" transform=\"translate(738.99,0)\" style=\"font-family: 'Courier New', monospace; font-size: 12px; fill: rgb(127, 127, 127); fill-opacity: 1; white-space: pre;\">2020-04-01</text></g></g><g class=\"yaxislayer-above\"><g class=\"ytick\"><text text-anchor=\"end\" x=\"79\" y=\"4.199999999999999\" transform=\"translate(0,389.27)\" style=\"font-family: 'Courier New', monospace; font-size: 12px; fill: rgb(127, 127, 127); fill-opacity: 1; white-space: pre;\">−150.00</text></g><g class=\"ytick\"><text text-anchor=\"end\" x=\"79\" y=\"4.199999999999999\" transform=\"translate(0,348.36)\" style=\"font-family: 'Courier New', monospace; font-size: 12px; fill: rgb(127, 127, 127); fill-opacity: 1; white-space: pre;\">−100.00</text></g><g class=\"ytick\"><text text-anchor=\"end\" x=\"79\" y=\"4.199999999999999\" transform=\"translate(0,307.45)\" style=\"font-family: 'Courier New', monospace; font-size: 12px; fill: rgb(127, 127, 127); fill-opacity: 1; white-space: pre;\">−50.00</text></g><g class=\"ytick\"><text text-anchor=\"end\" x=\"79\" y=\"4.199999999999999\" transform=\"translate(0,266.55)\" style=\"font-family: 'Courier New', monospace; font-size: 12px; fill: rgb(127, 127, 127); fill-opacity: 1; white-space: pre;\">0.00</text></g><g class=\"ytick\"><text text-anchor=\"end\" x=\"79\" y=\"4.199999999999999\" transform=\"translate(0,225.64)\" style=\"font-family: 'Courier New', monospace; font-size: 12px; fill: rgb(127, 127, 127); fill-opacity: 1; white-space: pre;\">50.00</text></g><g class=\"ytick\"><text text-anchor=\"end\" x=\"79\" y=\"4.199999999999999\" transform=\"translate(0,184.73000000000002)\" style=\"font-family: 'Courier New', monospace; font-size: 12px; fill: rgb(127, 127, 127); fill-opacity: 1; white-space: pre;\">100.00</text></g><g class=\"ytick\"><text text-anchor=\"end\" x=\"79\" y=\"4.199999999999999\" transform=\"translate(0,143.82)\" style=\"font-family: 'Courier New', monospace; font-size: 12px; fill: rgb(127, 127, 127); fill-opacity: 1; white-space: pre;\">150.00</text></g><g class=\"ytick\"><text text-anchor=\"end\" x=\"79\" y=\"4.199999999999999\" transform=\"translate(0,102.91)\" style=\"font-family: 'Courier New', monospace; font-size: 12px; fill: rgb(127, 127, 127); fill-opacity: 1; white-space: pre;\">200.00</text></g></g><g class=\"overaxes-above\"/></g></g><g class=\"polarlayer\"/><g class=\"ternarylayer\"/><g class=\"geolayer\"/><g class=\"funnelarealayer\"/><g class=\"pielayer\"/><g class=\"treemaplayer\"/><g class=\"sunburstlayer\"/><g class=\"glimages\"/><defs id=\"topdefs-bf7dc2\"><g class=\"clips\"/></defs><g class=\"layer-above\"><g class=\"imagelayer\"/><g class=\"shapelayer\"/></g><g class=\"infolayer\"><g class=\"g-gtitle\"><text class=\"gtitle\" x=\"45\" y=\"50\" text-anchor=\"start\" dy=\"0em\" style=\"font-family: 'Courier New', monospace; font-size: 17px; fill: rgb(127, 127, 127); opacity: 1; font-weight: normal; white-space: pre;\">Profit Plot</text></g><g class=\"g-xtitle\"/><g class=\"g-ytitle\"/></g></svg>"
     },
     "metadata": {}
    }
   ],
   "source": [
    "fig = go.Figure()\n",
    "\n",
    "fig.add_trace(\n",
    "    go.Scatter(\n",
    "            x=dftt[\"Date\"],\n",
    "            y=dftt[\"WinLoss4\"],\n",
    "            name = f\"Profit\",\n",
    "            mode='lines'\n",
    "        ))\n",
    "\n",
    "fig.update_layout(\n",
    "    title=f\"Profit Plot\",\n",
    "    xaxis_title=\"x Axis Title\",\n",
    "    yaxis_title=\"y Axis Title\",\n",
    "    font=dict(\n",
    "        family=\"Courier New, monospace\",\n",
    "        size=12,\n",
    "        color=\"#7f7f7f\"\n",
    "    ),\n",
    "    xaxis=plotly.graph_objects.layout.XAxis(\n",
    "        tickformat='%Y-%m-%d'\n",
    "    ),\n",
    "    yaxis=plotly.graph_objects.layout.YAxis(\n",
    "        tickformat='.2f'\n",
    "    )\n",
    ")\n",
    "fig.show(renderer=\"svg\", width=900, height=500)"
   ]
  },
  {
   "cell_type": "code",
   "execution_count": null,
   "metadata": {},
   "outputs": [],
   "source": []
  }
 ],
 "metadata": {
  "kernelspec": {
   "display_name": "Python 3.6.8 64-bit ('fintech': conda)",
   "language": "python",
   "name": "python36864bitfintechcondaaec198d6563148a9861a030389da6ac8"
  },
  "language_info": {
   "codemirror_mode": {
    "name": "ipython",
    "version": 3
   },
   "file_extension": ".py",
   "mimetype": "text/x-python",
   "name": "python",
   "nbconvert_exporter": "python",
   "pygments_lexer": "ipython3",
   "version": "3.6.8-final"
  }
 },
 "nbformat": 4,
 "nbformat_minor": 2
}