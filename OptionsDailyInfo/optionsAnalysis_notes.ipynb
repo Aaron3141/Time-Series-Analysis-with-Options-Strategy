{
 "cells": [
  {
   "cell_type": "code",
   "execution_count": 563,
   "metadata": {},
   "outputs": [
    {
     "output_type": "display_data",
     "data": {
      "text/html": "        <script type=\"text/javascript\">\n        window.PlotlyConfig = {MathJaxConfig: 'local'};\n        if (window.MathJax) {MathJax.Hub.Config({SVG: {font: \"STIX-Web\"}});}\n        if (typeof require !== 'undefined') {\n        require.undef(\"plotly\");\n        requirejs.config({\n            paths: {\n                'plotly': ['https://cdn.plot.ly/plotly-latest.min']\n            }\n        });\n        require(['plotly'], function(Plotly) {\n            window._Plotly = Plotly;\n        });\n        }\n        </script>\n        "
     },
     "metadata": {}
    }
   ],
   "source": [
    "\n",
    "import plotly.graph_objects\n",
    "import seaborn as sns\n",
    "import matplotlib.pyplot as plt\n",
    "from scipy import stats\n",
    "import numpy as np\n",
    "# from pandas.tseries.offsets import *\n",
    "\n",
    "\n",
    "from plotly.offline import init_notebook_mode, iplot\n",
    "init_notebook_mode(connected=True) \n",
    "import plotly.express as px\n",
    "import plotly.graph_objects as go\n",
    "\n",
    "import loguru\n",
    "import requests\n",
    "\n",
    "pandas.set_option('display.max_rows', 500)\n",
    "# import sys\n",
    "# sys.path.insert(1, '/Users/singularity/Aaron/coding/fintech/OptionsDailyInfoData')"
   ]
  },
  {
   "cell_type": "code",
   "execution_count": 564,
   "metadata": {},
   "outputs": [],
   "source": [
    "TAIEX_VALUE = 0\n",
    "\n",
    "year = 2018\n",
    "month = 8\n",
    "day = 13"
   ]
  },
  {
   "cell_type": "code",
   "execution_count": 565,
   "metadata": {
    "tags": []
   },
   "outputs": [
    {
     "output_type": "stream",
     "name": "stdout",
     "text": "TAIEX_VALUE: 10748.92\nTAIEX_VALUE_BOTTOM: 10700\nTAIEX_VALUE_TOP: 10750\n"
    }
   ],
   "source": [
    "filenameTaiexs = f'taiexs-2019.csv'\n",
    "filepathTaiexs = f'/Users/singularity/Aaron/coding/fintech/{filenameTaiexs}'\n",
    "\n",
    "dfTaiexs = pandas.read_csv(filepathTaiexs)\n",
    "dfTaiexs['Date'] = pandas.to_datetime(dfTaiexs['Date'], format='%Y%m%d')\n",
    "\n",
    "TAIEX_VALUE = float(dfTaiexs[dfTaiexs['Date'] == f'{year}-{month:02}-{day:02}']['ClosePrice'])\n",
    "TAIEX_VALUE_BOTTOM = int(TAIEX_VALUE - (TAIEX_VALUE % 50))\n",
    "TAIEX_VALUE_TOP = TAIEX_VALUE_BOTTOM + 50\n",
    "\n",
    "print(f'TAIEX_VALUE: {TAIEX_VALUE}')\n",
    "print(f'TAIEX_VALUE_BOTTOM: {TAIEX_VALUE_BOTTOM}')\n",
    "print(f'TAIEX_VALUE_TOP: {TAIEX_VALUE_TOP}')"
   ]
  },
  {
   "cell_type": "code",
   "execution_count": 566,
   "metadata": {
    "tags": []
   },
   "outputs": [
    {
     "output_type": "stream",
     "name": "stdout",
     "text": "2018-08-13\n"
    },
    {
     "output_type": "execute_result",
     "data": {
      "text/plain": "         Date  OpenPrice  HighestPrice  LowestPrice  ClosePrice\n47 2018-08-08   11026.07      11095.50     11026.07    11075.25\n48 2018-08-09   11063.62      11063.62     11001.96    11028.07\n49 2018-08-10   11009.96      11033.89     10972.25    10983.68\n50 2018-08-13   10939.68      10939.68     10693.73    10748.92\n51 2018-08-14   10797.95      10829.85     10755.53    10824.23\n52 2018-08-15   10827.28      10827.28     10688.59    10716.75\n53 2018-08-16   10663.57      10725.71     10606.26    10683.90\n54 2018-08-17   10702.60      10757.01     10688.55    10690.96",
      "text/html": "<div>\n<style scoped>\n    .dataframe tbody tr th:only-of-type {\n        vertical-align: middle;\n    }\n\n    .dataframe tbody tr th {\n        vertical-align: top;\n    }\n\n    .dataframe thead th {\n        text-align: right;\n    }\n</style>\n<table border=\"1\" class=\"dataframe\">\n  <thead>\n    <tr style=\"text-align: right;\">\n      <th></th>\n      <th>Date</th>\n      <th>OpenPrice</th>\n      <th>HighestPrice</th>\n      <th>LowestPrice</th>\n      <th>ClosePrice</th>\n    </tr>\n  </thead>\n  <tbody>\n    <tr>\n      <th>47</th>\n      <td>2018-08-08</td>\n      <td>11026.07</td>\n      <td>11095.50</td>\n      <td>11026.07</td>\n      <td>11075.25</td>\n    </tr>\n    <tr>\n      <th>48</th>\n      <td>2018-08-09</td>\n      <td>11063.62</td>\n      <td>11063.62</td>\n      <td>11001.96</td>\n      <td>11028.07</td>\n    </tr>\n    <tr>\n      <th>49</th>\n      <td>2018-08-10</td>\n      <td>11009.96</td>\n      <td>11033.89</td>\n      <td>10972.25</td>\n      <td>10983.68</td>\n    </tr>\n    <tr>\n      <th>50</th>\n      <td>2018-08-13</td>\n      <td>10939.68</td>\n      <td>10939.68</td>\n      <td>10693.73</td>\n      <td>10748.92</td>\n    </tr>\n    <tr>\n      <th>51</th>\n      <td>2018-08-14</td>\n      <td>10797.95</td>\n      <td>10829.85</td>\n      <td>10755.53</td>\n      <td>10824.23</td>\n    </tr>\n    <tr>\n      <th>52</th>\n      <td>2018-08-15</td>\n      <td>10827.28</td>\n      <td>10827.28</td>\n      <td>10688.59</td>\n      <td>10716.75</td>\n    </tr>\n    <tr>\n      <th>53</th>\n      <td>2018-08-16</td>\n      <td>10663.57</td>\n      <td>10725.71</td>\n      <td>10606.26</td>\n      <td>10683.90</td>\n    </tr>\n    <tr>\n      <th>54</th>\n      <td>2018-08-17</td>\n      <td>10702.60</td>\n      <td>10757.01</td>\n      <td>10688.55</td>\n      <td>10690.96</td>\n    </tr>\n  </tbody>\n</table>\n</div>"
     },
     "metadata": {},
     "execution_count": 566
    }
   ],
   "source": [
    "print(f'{year}-{month:02}-{day:02}')\n",
    "dfTaiexs[(dfTaiexs['Date'] >= (datetime.datetime(year, month, day)-datetime.timedelta(days=5)))& (dfTaiexs['Date'] <= datetime.datetime(year, month, day)+datetime.timedelta(days=5))]\n",
    "# dfTaiexs[dfTaiexs['Date'] >= datetime(year, month, day-7)]['ClosePrice']"
   ]
  },
  {
   "cell_type": "code",
   "execution_count": 567,
   "metadata": {},
   "outputs": [
    {
     "output_type": "execute_result",
     "data": {
      "text/plain": "     ContractMonthWeek  StrikePrice CallPut Open High  Low Close  Volume  \\\n0               201808       9000.0    Call    -    -    -     -       0   \n1               201808       9000.0    Call    -    -    -     -       0   \n2               201808       9000.0     Put  0.2  0.2  0.2   0.2       2   \n3               201808       9000.0     Put  0.2  0.2  0.2   0.2       4   \n4               201808       9100.0    Call    -    -    -     -       0   \n..                 ...          ...     ...  ...  ...  ...   ...     ...   \n771             201903      13200.0     Put    -    -    -     -       0   \n772             201903      13400.0    Call  5.7  5.7  5.7   5.7       1   \n773             201903      13400.0    Call    -    -    -     -       0   \n774             201903      13400.0     Put    -    -    -     -       0   \n775             201903      13400.0     Put    -    -    -     -       0   \n\n    OpenInterest BestBid BestAsk HistoricalHigh HistoricalLow     Session  \n0              5       -       -              -             -     Regular  \n1              -       -       -              -             -  AfterHours  \n2           4770     0.1     0.2             20           0.1     Regular  \n3              -     0.1     1.1             20           0.1  AfterHours  \n4              0       -       -              -             -     Regular  \n..           ...     ...     ...            ...           ...         ...  \n771            -       -       -              -             -  AfterHours  \n772          803     1.6      54            5.7           5.1     Regular  \n773            -       -       -              -             -  AfterHours  \n774            0       -       -              -             -     Regular  \n775            -       -       -              -             -  AfterHours  \n\n[776 rows x 14 columns]",
      "text/html": "<div>\n<style scoped>\n    .dataframe tbody tr th:only-of-type {\n        vertical-align: middle;\n    }\n\n    .dataframe tbody tr th {\n        vertical-align: top;\n    }\n\n    .dataframe thead th {\n        text-align: right;\n    }\n</style>\n<table border=\"1\" class=\"dataframe\">\n  <thead>\n    <tr style=\"text-align: right;\">\n      <th></th>\n      <th>ContractMonthWeek</th>\n      <th>StrikePrice</th>\n      <th>CallPut</th>\n      <th>Open</th>\n      <th>High</th>\n      <th>Low</th>\n      <th>Close</th>\n      <th>Volume</th>\n      <th>OpenInterest</th>\n      <th>BestBid</th>\n      <th>BestAsk</th>\n      <th>HistoricalHigh</th>\n      <th>HistoricalLow</th>\n      <th>Session</th>\n    </tr>\n  </thead>\n  <tbody>\n    <tr>\n      <th>0</th>\n      <td>201808</td>\n      <td>9000.0</td>\n      <td>Call</td>\n      <td>-</td>\n      <td>-</td>\n      <td>-</td>\n      <td>-</td>\n      <td>0</td>\n      <td>5</td>\n      <td>-</td>\n      <td>-</td>\n      <td>-</td>\n      <td>-</td>\n      <td>Regular</td>\n    </tr>\n    <tr>\n      <th>1</th>\n      <td>201808</td>\n      <td>9000.0</td>\n      <td>Call</td>\n      <td>-</td>\n      <td>-</td>\n      <td>-</td>\n      <td>-</td>\n      <td>0</td>\n      <td>-</td>\n      <td>-</td>\n      <td>-</td>\n      <td>-</td>\n      <td>-</td>\n      <td>AfterHours</td>\n    </tr>\n    <tr>\n      <th>2</th>\n      <td>201808</td>\n      <td>9000.0</td>\n      <td>Put</td>\n      <td>0.2</td>\n      <td>0.2</td>\n      <td>0.2</td>\n      <td>0.2</td>\n      <td>2</td>\n      <td>4770</td>\n      <td>0.1</td>\n      <td>0.2</td>\n      <td>20</td>\n      <td>0.1</td>\n      <td>Regular</td>\n    </tr>\n    <tr>\n      <th>3</th>\n      <td>201808</td>\n      <td>9000.0</td>\n      <td>Put</td>\n      <td>0.2</td>\n      <td>0.2</td>\n      <td>0.2</td>\n      <td>0.2</td>\n      <td>4</td>\n      <td>-</td>\n      <td>0.1</td>\n      <td>1.1</td>\n      <td>20</td>\n      <td>0.1</td>\n      <td>AfterHours</td>\n    </tr>\n    <tr>\n      <th>4</th>\n      <td>201808</td>\n      <td>9100.0</td>\n      <td>Call</td>\n      <td>-</td>\n      <td>-</td>\n      <td>-</td>\n      <td>-</td>\n      <td>0</td>\n      <td>0</td>\n      <td>-</td>\n      <td>-</td>\n      <td>-</td>\n      <td>-</td>\n      <td>Regular</td>\n    </tr>\n    <tr>\n      <th>...</th>\n      <td>...</td>\n      <td>...</td>\n      <td>...</td>\n      <td>...</td>\n      <td>...</td>\n      <td>...</td>\n      <td>...</td>\n      <td>...</td>\n      <td>...</td>\n      <td>...</td>\n      <td>...</td>\n      <td>...</td>\n      <td>...</td>\n      <td>...</td>\n    </tr>\n    <tr>\n      <th>771</th>\n      <td>201903</td>\n      <td>13200.0</td>\n      <td>Put</td>\n      <td>-</td>\n      <td>-</td>\n      <td>-</td>\n      <td>-</td>\n      <td>0</td>\n      <td>-</td>\n      <td>-</td>\n      <td>-</td>\n      <td>-</td>\n      <td>-</td>\n      <td>AfterHours</td>\n    </tr>\n    <tr>\n      <th>772</th>\n      <td>201903</td>\n      <td>13400.0</td>\n      <td>Call</td>\n      <td>5.7</td>\n      <td>5.7</td>\n      <td>5.7</td>\n      <td>5.7</td>\n      <td>1</td>\n      <td>803</td>\n      <td>1.6</td>\n      <td>54</td>\n      <td>5.7</td>\n      <td>5.1</td>\n      <td>Regular</td>\n    </tr>\n    <tr>\n      <th>773</th>\n      <td>201903</td>\n      <td>13400.0</td>\n      <td>Call</td>\n      <td>-</td>\n      <td>-</td>\n      <td>-</td>\n      <td>-</td>\n      <td>0</td>\n      <td>-</td>\n      <td>-</td>\n      <td>-</td>\n      <td>-</td>\n      <td>-</td>\n      <td>AfterHours</td>\n    </tr>\n    <tr>\n      <th>774</th>\n      <td>201903</td>\n      <td>13400.0</td>\n      <td>Put</td>\n      <td>-</td>\n      <td>-</td>\n      <td>-</td>\n      <td>-</td>\n      <td>0</td>\n      <td>0</td>\n      <td>-</td>\n      <td>-</td>\n      <td>-</td>\n      <td>-</td>\n      <td>Regular</td>\n    </tr>\n    <tr>\n      <th>775</th>\n      <td>201903</td>\n      <td>13400.0</td>\n      <td>Put</td>\n      <td>-</td>\n      <td>-</td>\n      <td>-</td>\n      <td>-</td>\n      <td>0</td>\n      <td>-</td>\n      <td>-</td>\n      <td>-</td>\n      <td>-</td>\n      <td>-</td>\n      <td>AfterHours</td>\n    </tr>\n  </tbody>\n</table>\n<p>776 rows × 14 columns</p>\n</div>"
     },
     "metadata": {},
     "execution_count": 567
    }
   ],
   "source": [
    "\n",
    "filename = f'optionsDailyInfo-{year}{month:02}{day:02}.csv'\n",
    "filepath = f'/Users/singularity/Aaron/coding/fintech/OptionsDailyInfoData/{filename}'\n",
    "df = pandas.read_csv(filepath)\n",
    "df"
   ]
  },
  {
   "cell_type": "code",
   "execution_count": 568,
   "metadata": {},
   "outputs": [
    {
     "output_type": "execute_result",
     "data": {
      "text/plain": "ContractMonthWeek     object\nStrikePrice          float64\nCallPut               object\nOpen                  object\nHigh                  object\nLow                   object\nClose                 object\nVolume                 int64\nOpenInterest          object\nBestBid               object\nBestAsk               object\nHistoricalHigh        object\nHistoricalLow         object\nSession               object\ndtype: object"
     },
     "metadata": {},
     "execution_count": 568
    }
   ],
   "source": [
    "df.astype({\n",
    "    \"ContractMonthWeek\": \"str\"}).dtypes\n",
    "# df.astype({\n",
    "#     \"ContractMonthWeek\": \"string\",\n",
    "#     \"StrikePrice\": \"int64\",\n",
    "#     \"Open\": \"float64\",\n",
    "#     \"High\": \"float64\",\n",
    "#     \"Low\": \"float64\",\n",
    "#     \"Close\": \"float64\",\n",
    "#     \"Volume\": \"int64\",\n",
    "#     \"OpenInterest\": \"int64\",\n",
    "#     \"BestBid\": \"float64\",\n",
    "#     \"BestAsk\": \"float64\",\n",
    "#     \"HistoricalHigh\": \"float64\",\n",
    "#     \"HistoricalLow\": \"float64\"}, errors='ignore').dtypes"
   ]
  },
  {
   "cell_type": "code",
   "execution_count": 569,
   "metadata": {},
   "outputs": [],
   "source": [
    "\n",
    "# df.head(200)\n",
    "ContractMonthWeek = df[\"ContractMonthWeek\"][0]\n",
    "# ContractMonthWeek = \"201807\"\n",
    "\n",
    "StrikePriceLimite = df[\"StrikePrice\"].apply(lambda d: True if int(d)>=TAIEX_VALUE-150 and int(d) <=TAIEX_VALUE+150 else False)\n",
    "dfCall = df[(df[\"CallPut\"]==\"Call\") & (df[\"Session\"]==\"Regular\") & (df[\"ContractMonthWeek\"]==ContractMonthWeek) & StrikePriceLimite][['ContractMonthWeek', 'StrikePrice','CallPut', 'Close']]\n",
    "dfPut = df[(df[\"CallPut\"]==\"Put\") & (df[\"Session\"]==\"Regular\") & (df[\"ContractMonthWeek\"]==ContractMonthWeek) & StrikePriceLimite][['ContractMonthWeek', 'StrikePrice','CallPut', 'Close']]\n",
    "# df.loc[StrikePriceLimite]"
   ]
  },
  {
   "cell_type": "code",
   "execution_count": 570,
   "metadata": {},
   "outputs": [
    {
     "output_type": "execute_result",
     "data": {
      "text/plain": "    ContractMonthWeek  StrikePrice CallPut Close\n64             201808      10600.0    Call   171\n68             201808      10700.0    Call    91\n72             201808      10750.0    Call    56\n76             201808      10800.0    Call    31\n80             201808      10850.0    Call    14",
      "text/html": "<div>\n<style scoped>\n    .dataframe tbody tr th:only-of-type {\n        vertical-align: middle;\n    }\n\n    .dataframe tbody tr th {\n        vertical-align: top;\n    }\n\n    .dataframe thead th {\n        text-align: right;\n    }\n</style>\n<table border=\"1\" class=\"dataframe\">\n  <thead>\n    <tr style=\"text-align: right;\">\n      <th></th>\n      <th>ContractMonthWeek</th>\n      <th>StrikePrice</th>\n      <th>CallPut</th>\n      <th>Close</th>\n    </tr>\n  </thead>\n  <tbody>\n    <tr>\n      <th>64</th>\n      <td>201808</td>\n      <td>10600.0</td>\n      <td>Call</td>\n      <td>171</td>\n    </tr>\n    <tr>\n      <th>68</th>\n      <td>201808</td>\n      <td>10700.0</td>\n      <td>Call</td>\n      <td>91</td>\n    </tr>\n    <tr>\n      <th>72</th>\n      <td>201808</td>\n      <td>10750.0</td>\n      <td>Call</td>\n      <td>56</td>\n    </tr>\n    <tr>\n      <th>76</th>\n      <td>201808</td>\n      <td>10800.0</td>\n      <td>Call</td>\n      <td>31</td>\n    </tr>\n    <tr>\n      <th>80</th>\n      <td>201808</td>\n      <td>10850.0</td>\n      <td>Call</td>\n      <td>14</td>\n    </tr>\n  </tbody>\n</table>\n</div>"
     },
     "metadata": {},
     "execution_count": 570
    }
   ],
   "source": [
    "dfCall.head()"
   ]
  },
  {
   "cell_type": "code",
   "execution_count": 571,
   "metadata": {
    "tags": []
   },
   "outputs": [
    {
     "output_type": "stream",
     "name": "stdout",
     "text": "TAIEX_VALUE: 10748.92\nTAIEX_VALUE_BOTTOM: 10700\nTAIEX_VALUE_TOP: 10750\n\n"
    },
    {
     "output_type": "execute_result",
     "data": {
      "text/plain": "  Close_Call CallPut_Call  StrikePrice CallPut_Put Close_Put\n0        171         Call      10600.0         Put        17\n1         91         Call      10700.0         Put      35.5\n2         56         Call      10750.0         Put        51\n3         31         Call      10800.0         Put        75\n4         14         Call      10850.0         Put       110",
      "text/html": "<div>\n<style scoped>\n    .dataframe tbody tr th:only-of-type {\n        vertical-align: middle;\n    }\n\n    .dataframe tbody tr th {\n        vertical-align: top;\n    }\n\n    .dataframe thead th {\n        text-align: right;\n    }\n</style>\n<table border=\"1\" class=\"dataframe\">\n  <thead>\n    <tr style=\"text-align: right;\">\n      <th></th>\n      <th>Close_Call</th>\n      <th>CallPut_Call</th>\n      <th>StrikePrice</th>\n      <th>CallPut_Put</th>\n      <th>Close_Put</th>\n    </tr>\n  </thead>\n  <tbody>\n    <tr>\n      <th>0</th>\n      <td>171</td>\n      <td>Call</td>\n      <td>10600.0</td>\n      <td>Put</td>\n      <td>17</td>\n    </tr>\n    <tr>\n      <th>1</th>\n      <td>91</td>\n      <td>Call</td>\n      <td>10700.0</td>\n      <td>Put</td>\n      <td>35.5</td>\n    </tr>\n    <tr>\n      <th>2</th>\n      <td>56</td>\n      <td>Call</td>\n      <td>10750.0</td>\n      <td>Put</td>\n      <td>51</td>\n    </tr>\n    <tr>\n      <th>3</th>\n      <td>31</td>\n      <td>Call</td>\n      <td>10800.0</td>\n      <td>Put</td>\n      <td>75</td>\n    </tr>\n    <tr>\n      <th>4</th>\n      <td>14</td>\n      <td>Call</td>\n      <td>10850.0</td>\n      <td>Put</td>\n      <td>110</td>\n    </tr>\n  </tbody>\n</table>\n</div>"
     },
     "metadata": {},
     "execution_count": 571
    }
   ],
   "source": [
    "print(f'TAIEX_VALUE: {TAIEX_VALUE}')\n",
    "print(f'TAIEX_VALUE_BOTTOM: {TAIEX_VALUE_BOTTOM}')\n",
    "print(f'TAIEX_VALUE_TOP: {TAIEX_VALUE_TOP}\\n')\n",
    "optionsDF = pandas.merge(dfCall, dfPut, left_on=[\"StrikePrice\", 'ContractMonthWeek'], right_on=[\"StrikePrice\",      'ContractMonthWeek']\\\n",
    "            , suffixes=('_Call','_Put'))[['Close_Call', 'CallPut_Call', 'StrikePrice', 'CallPut_Put', 'Close_Put']]\n",
    "optionsDF"
   ]
  },
  {
   "cell_type": "code",
   "execution_count": 572,
   "metadata": {},
   "outputs": [
    {
     "output_type": "execute_result",
     "data": {
      "text/plain": "Close_Call      float64\nCallPut_Call     string\nStrikePrice       int64\nCallPut_Put      string\nClose_Put       float64\ndtype: object"
     },
     "metadata": {},
     "execution_count": 572
    }
   ],
   "source": [
    "optionsDF.dtypes\n",
    "optionsDF.astype({\n",
    "    \"Close_Call\": \"float64\",\n",
    "    \"CallPut_Call\": \"string\",\n",
    "    \"StrikePrice\": \"int64\",\n",
    "    \"CallPut_Put\": \"string\",\n",
    "    \"Close_Put\": \"float64\"}, errors='ignore').dtypes"
   ]
  },
  {
   "cell_type": "code",
   "execution_count": 573,
   "metadata": {},
   "outputs": [],
   "source": [
    "# buyCallStrikePrice = 11500\n",
    "# sellCallStrikePrice = 0\n",
    "\n",
    "# buyCall = float(optionsDF[optionsDF[\"StrikePrice\"] == buyCallStrikePrice][\"Close_Call\"])\n",
    "# sellCall = optionsDF[optionsDF[\"StrikePrice\"] == sellCallStrikePrice][\"Close_Call\"]\n",
    "\n",
    "# buyPutStrikePrice = 11500.0\n",
    "# sellPutStrikePrice = 0\n",
    "\n",
    "# buyPut = optionsDF[optionsDF[\"StrikePrice\"] == buyPutStrikePrice][\"Close_Put\"]\n",
    "# sellPut = optionsDF[optionsDF[\"StrikePrice\"] == sellPutStrikePrice][\"Close_Put\"]\n",
    "# buyCall"
   ]
  },
  {
   "cell_type": "code",
   "execution_count": 574,
   "metadata": {},
   "outputs": [],
   "source": [
    "def optionsProfit(x, strikePrice, optionsDF, PutCall, BuySell):\n",
    "    # y = np.array([0 for _ in range(len(x))])\n",
    "    y = [0 for _ in range(len(x))]\n",
    "    \n",
    "    t = -1 if BuySell == \"buy\" else 1\n",
    "    s = -50*t\n",
    "    if PutCall == \"call\":\n",
    "        price = float(optionsDF[optionsDF[\"StrikePrice\"] == strikePrice][\"Close_Call\"])*t\n",
    "        for i in range(len(x)):\n",
    "            if x[i] <= strikePrice:\n",
    "                y[i] = price\n",
    "            else:\n",
    "                price += s\n",
    "                y[i] = price\n",
    "    else:\n",
    "        price = float(optionsDF[optionsDF[\"StrikePrice\"] == strikePrice][\"Close_Put\"])*t\n",
    "        for i in range(len(x)-1,-1,-1):\n",
    "            if x[i] >= strikePrice:\n",
    "                y[i] = price\n",
    "            else:\n",
    "                price += s\n",
    "                y[i] = price\n",
    "    return y"
   ]
  },
  {
   "cell_type": "code",
   "execution_count": 583,
   "metadata": {},
   "outputs": [],
   "source": [
    "class options:\n",
    "    def __init__(\n",
    "        self,\n",
    "        strikePrice,\n",
    "        optionsDF,\n",
    "        PutCall,\n",
    "        BuySell\n",
    "        ):\n",
    "        self.strikePrice = strikePrice\n",
    "        self.optionsDF = optionsDF\n",
    "        self.PutCall = PutCall\n",
    "        self.BuySell = BuySell\n",
    "    def optionsProfit(self, x):\n",
    "        Exchange_Fee = -1\n",
    "        y = [0 for _ in range(len(x))]\n",
    "        \n",
    "        t = -1 if self.BuySell == \"buy\" else 1\n",
    "        s = -50*t\n",
    "        if self.PutCall == \"call\":\n",
    "            print(f'@@@@optionsDF\\n{self.optionsDF}')\n",
    "            print(f'@@@@StrikePrice\\n{self.strikePrice}')\n",
    "            print(f'@@@@price\\n{self.self.optionsDF[self.optionsDF[\"StrikePrice\"] == self.strikePrice][\"Close_Call\"]}')\n",
    "            price = float(self.optionsDF[self.optionsDF[\"StrikePrice\"] == self.strikePrice][\"Close_Call\"])*t\n",
    "            for i in range(len(x)):\n",
    "                if x[i] <= self.strikePrice:\n",
    "                    y[i] = price\n",
    "                else:\n",
    "                    price += s\n",
    "                    y[i] = price\n",
    "        else:\n",
    "            price = float(self.optionsDF[self.optionsDF[\"StrikePrice\"] == self.strikePrice][\"Close_Put\"])*t\n",
    "            for i in range(len(x)-1,-1,-1):\n",
    "                if x[i] >= self.strikePrice:\n",
    "                    y[i] = price\n",
    "                else:\n",
    "                    price += s\n",
    "                    y[i] = price\n",
    "        # return y\n",
    "        return np.add(y, np.array([Exchange_Fee for _ in range(len(x))]))\n",
    "    def optionsScatter(self, x):\n",
    "        return go.Scatter(\n",
    "            x=x,\n",
    "            y=self.optionsProfit(x),\n",
    "            name = f\"{self.BuySell}{self.PutCall}@{self.strikePrice}\",\n",
    "            visible = \"legendonly\",\n",
    "            mode='lines',\n",
    "            # line=go.scatter.Line(color='#6B99E5')\n",
    "            opacity=0.4\n",
    "        )\n"
   ]
  },
  {
   "cell_type": "code",
   "execution_count": 584,
   "metadata": {},
   "outputs": [],
   "source": [
    "# x = np.arange(TAIEX_VALUE_BOTTOM-100, TAIEX_VALUE_TOP+200, 50)\n",
    "# y = [0 for _ in range(len(x))]\n",
    "\n",
    "# yc = np.add(optionsProfit(x, 11500, optionsDF, \"call\", \"buy\"), optionsProfit(x, 11550, optionsDF, \"call\", \"sell\"))\n",
    "# yc = optionsProfit(x, 11550, optionsDF, \"call\", \"buy\")\n",
    "# yp = np.add(optionsProfit(x, 11650, optionsDF, \"put\", \"sell\"), optionsProfit(x, 11700, optionsDF, \"put\", \"buy\"))\n",
    "\n",
    "# fig = go.Figure(\n",
    "#     data=[\n",
    "#         go.Scatter(\n",
    "#             x=x,\n",
    "#             y=np.add(np.add(yc, yp), np.array([-4 for _ in range(len(x))])),\n",
    "#             name = \"Profit\",\n",
    "#             mode='lines',\n",
    "#             # line=go.scatter.Line(color='#6B99E5')\n",
    "#         ),\n",
    "#         go.Scatter(\n",
    "#             x=x,\n",
    "#             y=yp,\n",
    "#             name = \"BuyCall@11500\",\n",
    "#             mode='lines',\n",
    "#             line=go.scatter.Line(color='#ff79ff')\n",
    "#         ),\n",
    "#         # go.Scatter(\n",
    "#         #     x=x,\n",
    "#         #     y=optionsProfit(x, 11550, optionsDF, \"call\", \"sell\"),\n",
    "#         #     name = \"SellCall@11550\",\n",
    "#         #     mode='lines',\n",
    "#         #     line=go.scatter.Line(color='#ffe500')\n",
    "#         # )\n",
    "#     ],\n",
    "#     layout=go.Layout(\n",
    "#         xaxis=plotly.graph_objects.layout.XAxis(\n",
    "#             tickformat='d'\n",
    "#         ),\n",
    "#         yaxis=plotly.graph_objects.layout.YAxis(\n",
    "#             tickformat='d'\n",
    "#         )\n",
    "#     )\n",
    "#     )\n",
    "# fig.show()"
   ]
  },
  {
   "cell_type": "code",
   "execution_count": 585,
   "metadata": {
    "tags": []
   },
   "outputs": [],
   "source": [
    "# x = np.arange(TAIEX_VALUE_BOTTOM-100, TAIEX_VALUE_TOP+200, 50)\n",
    "# y = [0 for _ in range(len(x))]\n",
    "\n",
    "# totalOtions = []\n",
    "# totalOtions.append(options(11500, optionsDF, \"call\", \"buy\"))\n",
    "# totalOtions.append(options(11550, optionsDF, \"call\", \"sell\"))\n",
    "# # totalOtions.append(options(11700, optionsDF, \"put\", \"buy\"))\n",
    "# # totalOtions.append(options(11650, optionsDF, \"put\", \"sell\"))\n",
    "# # bc = options(11500, optionsDF, \"call\", \"buy\")\n",
    "# # sc = options(11550, optionsDF, \"call\", \"sell\")\n",
    "# # bp = options(11700, optionsDF, \"put\", \"buy\")\n",
    "# # sp = options(11650, optionsDF, \"put\", \"sell\")\n",
    "\n",
    "# fig = go.Figure()\n",
    "\n",
    "# fig.add_trace(\n",
    "#     go.Scatter(\n",
    "#             x=x,\n",
    "#             y=np.sum([op.optionsProfit(x) for op in totalOtions], axis=0),\n",
    "#             name = f\"Profit\",\n",
    "#             mode='lines'\n",
    "#         ))\n",
    "# # fig.add_trace(\n",
    "# #     go.Scatter(\n",
    "# #             x=x,\n",
    "# #             y=np.sum([bc.optionsProfit(x), sc.optionsProfit(x), bp.optionsProfit(x), sp.optionsProfit(x)], axis=0),\n",
    "# #             name = f\"Profit\",\n",
    "# #             mode='lines'\n",
    "# #         ))\n",
    "# for op in totalOtions:\n",
    "#     fig.add_trace(op.optionsScatter(x))    \n",
    "# # fig.add_trace(bc.optionsScatter(x))\n",
    "# # fig.add_trace(sc.optionsScatter(x))\n",
    "# # fig.add_trace(bp.optionsScatter(x))\n",
    "# # fig.add_trace(sp.optionsScatter(x))\n",
    "\n",
    "# fig.update_layout(\n",
    "#     title=\"Profit graph\",\n",
    "#     xaxis_title=\"x Axis Title\",\n",
    "#     yaxis_title=\"y Axis Title\",\n",
    "#     font=dict(\n",
    "#         family=\"Courier New, monospace\",\n",
    "#         size=12,\n",
    "#         color=\"#7f7f7f\"\n",
    "#     ),\n",
    "#     xaxis=plotly.graph_objects.layout.XAxis(\n",
    "#         tickformat='d'\n",
    "#     ),\n",
    "#     yaxis=plotly.graph_objects.layout.YAxis(\n",
    "#         tickformat='d'\n",
    "#     )\n",
    "# )\n",
    "# fig.show()"
   ]
  },
  {
   "cell_type": "code",
   "execution_count": 586,
   "metadata": {
    "tags": []
   },
   "outputs": [
    {
     "output_type": "stream",
     "name": "stdout",
     "text": "@@@@optionsDF\n  Close_Call CallPut_Call  StrikePrice CallPut_Put Close_Put\n0        171         Call      10600.0         Put        17\n1         91         Call      10700.0         Put      35.5\n2         56         Call      10750.0         Put        51\n3         31         Call      10800.0         Put        75\n4         14         Call      10850.0         Put       110\n@@@@StrikePrice\n10650\n"
    },
    {
     "output_type": "error",
     "ename": "AttributeError",
     "evalue": "'options' object has no attribute 'self'",
     "traceback": [
      "\u001b[0;31m---------------------------------------------------------------------------\u001b[0m",
      "\u001b[0;31mAttributeError\u001b[0m                            Traceback (most recent call last)",
      "\u001b[0;32m<ipython-input-586-fcc399ea10bb>\u001b[0m in \u001b[0;36m<module>\u001b[0;34m\u001b[0m\n\u001b[1;32m     14\u001b[0m     go.Scatter(\n\u001b[1;32m     15\u001b[0m             \u001b[0mx\u001b[0m\u001b[0;34m=\u001b[0m\u001b[0mx\u001b[0m\u001b[0;34m,\u001b[0m\u001b[0;34m\u001b[0m\u001b[0;34m\u001b[0m\u001b[0m\n\u001b[0;32m---> 16\u001b[0;31m             \u001b[0my\u001b[0m\u001b[0;34m=\u001b[0m\u001b[0mnp\u001b[0m\u001b[0;34m.\u001b[0m\u001b[0msum\u001b[0m\u001b[0;34m(\u001b[0m\u001b[0;34m[\u001b[0m\u001b[0mop\u001b[0m\u001b[0;34m.\u001b[0m\u001b[0moptionsProfit\u001b[0m\u001b[0;34m(\u001b[0m\u001b[0mx\u001b[0m\u001b[0;34m)\u001b[0m \u001b[0;32mfor\u001b[0m \u001b[0mop\u001b[0m \u001b[0;32min\u001b[0m \u001b[0mtotalOtions\u001b[0m\u001b[0;34m]\u001b[0m\u001b[0;34m,\u001b[0m \u001b[0maxis\u001b[0m\u001b[0;34m=\u001b[0m\u001b[0;36m0\u001b[0m\u001b[0;34m)\u001b[0m\u001b[0;34m,\u001b[0m\u001b[0;34m\u001b[0m\u001b[0;34m\u001b[0m\u001b[0m\n\u001b[0m\u001b[1;32m     17\u001b[0m             \u001b[0mname\u001b[0m \u001b[0;34m=\u001b[0m \u001b[0;34mf\"Profit\"\u001b[0m\u001b[0;34m,\u001b[0m\u001b[0;34m\u001b[0m\u001b[0;34m\u001b[0m\u001b[0m\n\u001b[1;32m     18\u001b[0m             \u001b[0mmode\u001b[0m\u001b[0;34m=\u001b[0m\u001b[0;34m'lines'\u001b[0m\u001b[0;34m\u001b[0m\u001b[0;34m\u001b[0m\u001b[0m\n",
      "\u001b[0;32m<ipython-input-586-fcc399ea10bb>\u001b[0m in \u001b[0;36m<listcomp>\u001b[0;34m(.0)\u001b[0m\n\u001b[1;32m     14\u001b[0m     go.Scatter(\n\u001b[1;32m     15\u001b[0m             \u001b[0mx\u001b[0m\u001b[0;34m=\u001b[0m\u001b[0mx\u001b[0m\u001b[0;34m,\u001b[0m\u001b[0;34m\u001b[0m\u001b[0;34m\u001b[0m\u001b[0m\n\u001b[0;32m---> 16\u001b[0;31m             \u001b[0my\u001b[0m\u001b[0;34m=\u001b[0m\u001b[0mnp\u001b[0m\u001b[0;34m.\u001b[0m\u001b[0msum\u001b[0m\u001b[0;34m(\u001b[0m\u001b[0;34m[\u001b[0m\u001b[0mop\u001b[0m\u001b[0;34m.\u001b[0m\u001b[0moptionsProfit\u001b[0m\u001b[0;34m(\u001b[0m\u001b[0mx\u001b[0m\u001b[0;34m)\u001b[0m \u001b[0;32mfor\u001b[0m \u001b[0mop\u001b[0m \u001b[0;32min\u001b[0m \u001b[0mtotalOtions\u001b[0m\u001b[0;34m]\u001b[0m\u001b[0;34m,\u001b[0m \u001b[0maxis\u001b[0m\u001b[0;34m=\u001b[0m\u001b[0;36m0\u001b[0m\u001b[0;34m)\u001b[0m\u001b[0;34m,\u001b[0m\u001b[0;34m\u001b[0m\u001b[0;34m\u001b[0m\u001b[0m\n\u001b[0m\u001b[1;32m     17\u001b[0m             \u001b[0mname\u001b[0m \u001b[0;34m=\u001b[0m \u001b[0;34mf\"Profit\"\u001b[0m\u001b[0;34m,\u001b[0m\u001b[0;34m\u001b[0m\u001b[0;34m\u001b[0m\u001b[0m\n\u001b[1;32m     18\u001b[0m             \u001b[0mmode\u001b[0m\u001b[0;34m=\u001b[0m\u001b[0;34m'lines'\u001b[0m\u001b[0;34m\u001b[0m\u001b[0;34m\u001b[0m\u001b[0m\n",
      "\u001b[0;32m<ipython-input-583-9f9556b861d9>\u001b[0m in \u001b[0;36moptionsProfit\u001b[0;34m(self, x)\u001b[0m\n\u001b[1;32m     20\u001b[0m             \u001b[0mprint\u001b[0m\u001b[0;34m(\u001b[0m\u001b[0;34mf'@@@@optionsDF\\n{self.optionsDF}'\u001b[0m\u001b[0;34m)\u001b[0m\u001b[0;34m\u001b[0m\u001b[0;34m\u001b[0m\u001b[0m\n\u001b[1;32m     21\u001b[0m             \u001b[0mprint\u001b[0m\u001b[0;34m(\u001b[0m\u001b[0;34mf'@@@@StrikePrice\\n{self.strikePrice}'\u001b[0m\u001b[0;34m)\u001b[0m\u001b[0;34m\u001b[0m\u001b[0;34m\u001b[0m\u001b[0m\n\u001b[0;32m---> 22\u001b[0;31m             \u001b[0mprint\u001b[0m\u001b[0;34m(\u001b[0m\u001b[0;34mf'@@@@price\\n{self.self.optionsDF[self.optionsDF[\"StrikePrice\"] == self.strikePrice][\"Close_Call\"]}'\u001b[0m\u001b[0;34m)\u001b[0m\u001b[0;34m\u001b[0m\u001b[0;34m\u001b[0m\u001b[0m\n\u001b[0m\u001b[1;32m     23\u001b[0m             \u001b[0mprice\u001b[0m \u001b[0;34m=\u001b[0m \u001b[0mfloat\u001b[0m\u001b[0;34m(\u001b[0m\u001b[0mself\u001b[0m\u001b[0;34m.\u001b[0m\u001b[0moptionsDF\u001b[0m\u001b[0;34m[\u001b[0m\u001b[0mself\u001b[0m\u001b[0;34m.\u001b[0m\u001b[0moptionsDF\u001b[0m\u001b[0;34m[\u001b[0m\u001b[0;34m\"StrikePrice\"\u001b[0m\u001b[0;34m]\u001b[0m \u001b[0;34m==\u001b[0m \u001b[0mself\u001b[0m\u001b[0;34m.\u001b[0m\u001b[0mstrikePrice\u001b[0m\u001b[0;34m]\u001b[0m\u001b[0;34m[\u001b[0m\u001b[0;34m\"Close_Call\"\u001b[0m\u001b[0;34m]\u001b[0m\u001b[0;34m)\u001b[0m\u001b[0;34m*\u001b[0m\u001b[0mt\u001b[0m\u001b[0;34m\u001b[0m\u001b[0;34m\u001b[0m\u001b[0m\n\u001b[1;32m     24\u001b[0m             \u001b[0;32mfor\u001b[0m \u001b[0mi\u001b[0m \u001b[0;32min\u001b[0m \u001b[0mrange\u001b[0m\u001b[0;34m(\u001b[0m\u001b[0mlen\u001b[0m\u001b[0;34m(\u001b[0m\u001b[0mx\u001b[0m\u001b[0;34m)\u001b[0m\u001b[0;34m)\u001b[0m\u001b[0;34m:\u001b[0m\u001b[0;34m\u001b[0m\u001b[0;34m\u001b[0m\u001b[0m\n",
      "\u001b[0;31mAttributeError\u001b[0m: 'options' object has no attribute 'self'"
     ]
    }
   ],
   "source": [
    "x = np.arange(TAIEX_VALUE_BOTTOM-100, TAIEX_VALUE_TOP+200, 50)\n",
    "y = [0 for _ in range(len(x))]\n",
    "\n",
    "totalOtions = []\n",
    "totalOtions.append(options(TAIEX_VALUE_BOTTOM-50, optionsDF, \"call\", \"buy\"))\n",
    "totalOtions.append(options(TAIEX_VALUE_BOTTOM, optionsDF, \"call\", \"sell\"))\n",
    "# totalOtions.append(options(TAIEX_VALUE_TOP, optionsDF, \"put\", \"sell\"))\n",
    "# totalOtions.append(options(TAIEX_VALUE_TOP+50, optionsDF, \"put\", \"buy\"))\n",
    "\n",
    "\n",
    "fig = go.Figure()\n",
    "\n",
    "fig.add_trace(\n",
    "    go.Scatter(\n",
    "            x=x,\n",
    "            y=np.sum([op.optionsProfit(x) for op in totalOtions], axis=0),\n",
    "            name = f\"Profit\",\n",
    "            mode='lines'\n",
    "        ))\n",
    "\n",
    "for op in totalOtions:\n",
    "    fig.add_trace(op.optionsScatter(x))\n",
    "\n",
    "fig.update_layout(\n",
    "    title=f\"Profit Graph Taiexs@{TAIEX_VALUE}\",\n",
    "    xaxis_title=\"x Axis Title\",\n",
    "    yaxis_title=\"y Axis Title\",\n",
    "    font=dict(\n",
    "        family=\"Courier New, monospace\",\n",
    "        size=12,\n",
    "        color=\"#7f7f7f\"\n",
    "    ),\n",
    "    xaxis=plotly.graph_objects.layout.XAxis(\n",
    "        tickformat='d'\n",
    "    ),\n",
    "    yaxis=plotly.graph_objects.layout.YAxis(\n",
    "        tickformat='d'\n",
    "    )\n",
    ")\n",
    "fig.show()"
   ]
  },
  {
   "cell_type": "code",
   "execution_count": null,
   "metadata": {},
   "outputs": [],
   "source": [
    "fileNameSettlementPrice = f'finalSettlementPrice.csv'\n",
    "filePathSettlementPrice = f'/Users/singularity/Aaron/coding/fintech/{fileNameSettlementPrice}'\n",
    "\n",
    "dfSettlementPrice = pandas.read_csv(filePathSettlementPrice)\n",
    "dfSettlementPrice['Date'] = pandas.to_datetime(dfSettlementPrice['Date'], format='%Y/%m/%d')\n",
    "dfSettlementPrice.sort_values(by='Date', inplace=True)\n",
    "# dfSettlementPrice[\"Date\"] = dfSettlementPrice[\"Date\"].apply(lambda d:  d-datetime.timedelta(days=2))\n",
    "dfSettlementPrice[\"Date\"] = dfSettlementPrice.apply(lambda d:  d[\"Date\"]-datetime.timedelta(days=2), axis=1)\n",
    "dftt = pandas.merge(dfTaiexs, dfSettlementPrice, left_on=[\"Date\"], right_on=[\"Date\"]\\\n",
    "            , suffixes=('_Call','_Put'))[['Date', 'ClosePrice', 'TX/MTX', 'ContractMonthWeek']]\n",
    "# , how=\"outer\"\n",
    "# dftt['Day_of_Week'] = dftt['Date'].dt.day_name()\n",
    "# dftt\n",
    "dftt.iloc[0]"
   ]
  },
  {
   "cell_type": "code",
   "execution_count": null,
   "metadata": {},
   "outputs": [],
   "source": [
    "def WinLoss(dftt):\n",
    "    # try:\n",
    "        TAIEX_VALUE = float(dftt['ClosePrice'])\n",
    "        TAIEX_VALUE_BOTTOM = int(TAIEX_VALUE - (TAIEX_VALUE % 50))\n",
    "        TAIEX_VALUE_TOP = TAIEX_VALUE_BOTTOM + 50\n",
    "\n",
    "        TX = float(dftt['TX/MTX'])\n",
    "        \n",
    "\n",
    "        DATE = dftt['Date']\n",
    "        year = f'{DATE:%Y}'\n",
    "        month = f'{DATE:%m}'\n",
    "        day = f'{DATE:%d}'\n",
    "        \n",
    "        print(f'{year}/{month}/{day}')\n",
    "\n",
    "        filename = f'optionsDailyInfo-{year}{month}{day}.csv'\n",
    "        filepath = f'/Users/singularity/Aaron/coding/fintech/OptionsDailyInfoData/{filename}'\n",
    "        df = pandas.read_csv(filepath)\n",
    "        ContractMonthWeek = df['ContractMonthWeek'][0]\n",
    "        StrikePriceLimite = df[\"StrikePrice\"].apply(lambda d: True if int(d)>=TAIEX_VALUE-150 and int(d) <=TAIEX_VALUE+150 else False)\n",
    "        dfCall = df[(df[\"CallPut\"]==\"Call\") & (df[\"Session\"]==\"Regular\") & (df[\"ContractMonthWeek\"]==ContractMonthWeek) & StrikePriceLimite][['ContractMonthWeek', 'StrikePrice','CallPut', 'Close']]\n",
    "        dfPut = df[(df[\"CallPut\"]==\"Put\") & (df[\"Session\"]==\"Regular\") & (df[\"ContractMonthWeek\"]==ContractMonthWeek) & StrikePriceLimite][['ContractMonthWeek', 'StrikePrice','CallPut', 'Close']]\n",
    "        optionsDF = pandas.merge(dfCall, dfPut, left_on=[\"StrikePrice\", 'ContractMonthWeek'], right_on=[\"StrikePrice\",      'ContractMonthWeek']\\\n",
    "                , suffixes=('_Call','_Put'))[['Close_Call', 'CallPut_Call', 'StrikePrice', 'CallPut_Put', 'Close_Put']]\n",
    "        # optionsDF.astype({\n",
    "        #     \"Close_Call\": \"float64\",\n",
    "        #     \"CallPut_Call\": \"string\",\n",
    "        #     \"StrikePrice\": \"int64\",\n",
    "        #     \"CallPut_Put\": \"string\",\n",
    "        #     \"Close_Put\": \"float64\"}, errors='ignore')\n",
    "        x = np.arange(TAIEX_VALUE_BOTTOM-100, TAIEX_VALUE_TOP+200, 50)\n",
    "        y = [0 for _ in range(len(x))]\n",
    "        yc = [0 for _ in range(len(x))]\n",
    "        yp = [0 for _ in range(len(x))]\n",
    "\n",
    "        totalOtions = []\n",
    "        totalOtions.append(options(TAIEX_VALUE_BOTTOM-50, optionsDF, \"call\", \"buy\"))\n",
    "        totalOtions.append(options(TAIEX_VALUE_BOTTOM, optionsDF, \"call\", \"sell\"))\n",
    "        totalOtions.append(options(TAIEX_VALUE_TOP, optionsDF, \"put\", \"sell\"))\n",
    "        totalOtions.append(options(TAIEX_VALUE_TOP+50, optionsDF, \"put\", \"buy\"))\n",
    "        \n",
    "        for op in totalOtions:\n",
    "            if op.PutCall == \"call\":\n",
    "                yc = np.add(yc, op.optionsProfit(x))\n",
    "            else:\n",
    "                yp = np.add(yc, op.optionsProfit(x))\n",
    "            y = np.add(y, op.optionsProfit(x))\n",
    "\n",
    "        # y = np.sum([op.optionsProfit(x) for op in totalOtions], axis=0)\n",
    "        # fig = go.Figure()\n",
    "\n",
    "        # fig.add_trace(\n",
    "        #     go.Scatter(\n",
    "        #             x=x,\n",
    "        #             y=np.sum([op.optionsProfit(x) for op in totalOtions], axis=0),\n",
    "        #             name = f\"Profit\",\n",
    "        #             mode='lines'\n",
    "        #         ))\n",
    "\n",
    "        # for op in totalOtions:\n",
    "        #     fig.add_trace(op.optionsScatter(x))\n",
    "\n",
    "        # fig.update_layout(\n",
    "        #     title=f\"Profit Graph Taiexs@{TAIEX_VALUE}\",\n",
    "        #     xaxis_title=\"x Axis Title\",\n",
    "        #     yaxis_title=\"y Axis Title\",\n",
    "        #     font=dict(\n",
    "        #         family=\"Courier New, monospace\",\n",
    "        #         size=12,\n",
    "        #         color=\"#7f7f7f\"\n",
    "        #     ),\n",
    "        #     xaxis=plotly.graph_objects.layout.XAxis(\n",
    "        #         tickformat='d'\n",
    "        #     ),\n",
    "        #     yaxis=plotly.graph_objects.layout.YAxis(\n",
    "        #         tickformat='d'\n",
    "        #     )\n",
    "        # )\n",
    "        # fig.show()\n",
    "\n",
    "        if y.max() < 0 or yc.max() < 5 or yp.max() < 5:\n",
    "            return 0\n",
    "        i = 0\n",
    "        while i <= len(y):\n",
    "            if TX < x[i]:\n",
    "                break\n",
    "            i += 1\n",
    "        j = i - 1\n",
    "        if y[i]-y[j] == 0:\n",
    "            return y[j]\n",
    "        elif y[i]-y[j] > 0:\n",
    "            return y[j]+(TX-x[j])\n",
    "        else:\n",
    "            return y[j]-(TX-x[j])\n",
    "    # except Exception as e:\n",
    "    #     print(e)\n",
    "        # return None"
   ]
  },
  {
   "cell_type": "code",
   "execution_count": null,
   "metadata": {
    "tags": []
   },
   "outputs": [],
   "source": [
    "print(dftt.iloc[9])\n",
    "WinLoss(dftt.iloc[9])"
   ]
  },
  {
   "cell_type": "code",
   "execution_count": null,
   "metadata": {
    "tags": []
   },
   "outputs": [],
   "source": [
    "dftt[\"WinLoss\"] = dftt.apply(WinLoss, axis=1)"
   ]
  },
  {
   "cell_type": "code",
   "execution_count": null,
   "metadata": {},
   "outputs": [],
   "source": [
    "dftt[\"WinLoss\"].describe()"
   ]
  },
  {
   "cell_type": "code",
   "execution_count": null,
   "metadata": {},
   "outputs": [],
   "source": [
    "fig = go.Figure()\n",
    "\n",
    "fig.add_trace(\n",
    "    go.Scatter(\n",
    "            x=dftt[\"Date\"],\n",
    "            y=dftt[\"WinLoss\"],\n",
    "            name = f\"WinLoss\",\n",
    "            mode='lines'\n",
    "        ))\n",
    "\n",
    "fig.update_layout(\n",
    "    title=f\"Profit Graph Taiexs@{TAIEX_VALUE}\",\n",
    "    xaxis_title=\"x Axis Title\",\n",
    "    yaxis_title=\"y Axis Title\",\n",
    "    font=dict(\n",
    "        family=\"Courier New, monospace\",\n",
    "        size=12,\n",
    "        color=\"#7f7f7f\"\n",
    "    ),\n",
    "    xaxis=plotly.graph_objects.layout.XAxis(\n",
    "        tickformat='%Y-%m-%d'\n",
    "    ),\n",
    "    yaxis=plotly.graph_objects.layout.YAxis(\n",
    "        tickformat='.2f'\n",
    "    )\n",
    ")\n",
    "fig.show()"
   ]
  },
  {
   "cell_type": "code",
   "execution_count": null,
   "metadata": {},
   "outputs": [],
   "source": []
  },
  {
   "cell_type": "code",
   "execution_count": null,
   "metadata": {},
   "outputs": [],
   "source": []
  }
 ],
 "metadata": {
  "language_info": {
   "codemirror_mode": {
    "name": "ipython",
    "version": 3
   },
   "file_extension": ".py",
   "mimetype": "text/x-python",
   "name": "python",
   "nbconvert_exporter": "python",
   "pygments_lexer": "ipython3",
   "version": 3
  },
  "orig_nbformat": 2,
  "kernelspec": {
   "name": "python_defaultSpec_1593335345782",
   "display_name": "Python 3.6.8 64-bit ('fintech': conda)"
  }
 },
 "nbformat": 4,
 "nbformat_minor": 2
}